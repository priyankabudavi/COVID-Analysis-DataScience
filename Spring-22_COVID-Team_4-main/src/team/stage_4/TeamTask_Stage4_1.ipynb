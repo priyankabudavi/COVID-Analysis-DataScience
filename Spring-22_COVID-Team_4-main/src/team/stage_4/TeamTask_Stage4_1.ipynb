{
 "cells": [
  {
   "cell_type": "markdown",
   "id": "47f82ed5",
   "metadata": {},
   "source": [
    "## Stage 4\n",
    "### Develop Linear and Non-Linear (polynomial) regression models for predicting cases and deaths in US\n",
    "* Start your data from the first day of infections in US. X-Axis - number of days since the first case, Y-Axis - number of new cases and deaths.\n",
    "* Calculate and report Root Mean Square Error (RMSE) for your models (linear and non-linear). Discuss bias versus variance tradeoff.\n",
    "* Plot trend line along for the data along with the forecast of 1 week ahead."
   ]
  },
  {
   "cell_type": "markdown",
   "id": "593366b0",
   "metadata": {},
   "source": [
    "### The following team task is present in the separate other notebook\n",
    "* Describe the trends as compared to other countries."
   ]
  },
  {
   "cell_type": "code",
   "execution_count": 1,
   "id": "b9021518",
   "metadata": {},
   "outputs": [
    {
     "name": "stderr",
     "output_type": "stream",
     "text": [
      "C:\\Users\\Manish\\anaconda\\anaconda3\\lib\\site-packages\\statsmodels\\tsa\\base\\tsa_model.py:7: FutureWarning: pandas.Int64Index is deprecated and will be removed from pandas in a future version. Use pandas.Index with the appropriate dtype instead.\n",
      "  from pandas import (to_datetime, Int64Index, DatetimeIndex, Period,\n",
      "C:\\Users\\Manish\\anaconda\\anaconda3\\lib\\site-packages\\statsmodels\\tsa\\base\\tsa_model.py:7: FutureWarning: pandas.Float64Index is deprecated and will be removed from pandas in a future version. Use pandas.Index with the appropriate dtype instead.\n",
      "  from pandas import (to_datetime, Int64Index, DatetimeIndex, Period,\n"
     ]
    }
   ],
   "source": [
    "import pandas as pd\n",
    "from datetime import datetime\n",
    "import matplotlib.pyplot as plt\n",
    "import numpy as np\n",
    "import statsmodels.formula.api as sf\n",
    "import plotly.express as px\n",
    "\n",
    "import statsmodels.api as smf\n",
    "from statsmodels.tools.eval_measures import rmse\n",
    "from sklearn.preprocessing import PolynomialFeatures\n",
    "from IPython.display import Image\n",
    "from sklearn.metrics import mean_squared_error\n",
    "import warnings\n",
    "from sklearn.model_selection import train_test_split\n",
    "warnings.filterwarnings(\"ignore\")"
   ]
  },
  {
   "cell_type": "markdown",
   "id": "052eb73d",
   "metadata": {},
   "source": [
    "#### Loading the super dataset generated in stage1 for this task"
   ]
  },
  {
   "cell_type": "code",
   "execution_count": 4,
   "id": "47d22a05",
   "metadata": {},
   "outputs": [
    {
     "data": {
      "text/html": [
       "<div>\n",
       "<style scoped>\n",
       "    .dataframe tbody tr th:only-of-type {\n",
       "        vertical-align: middle;\n",
       "    }\n",
       "\n",
       "    .dataframe tbody tr th {\n",
       "        vertical-align: top;\n",
       "    }\n",
       "\n",
       "    .dataframe thead th {\n",
       "        text-align: right;\n",
       "    }\n",
       "</style>\n",
       "<table border=\"1\" class=\"dataframe\">\n",
       "  <thead>\n",
       "    <tr style=\"text-align: right;\">\n",
       "      <th></th>\n",
       "      <th>countyFIPS</th>\n",
       "      <th>County_Name</th>\n",
       "      <th>State</th>\n",
       "      <th>Date</th>\n",
       "      <th>Confirmed</th>\n",
       "      <th>Deaths</th>\n",
       "      <th>population</th>\n",
       "    </tr>\n",
       "  </thead>\n",
       "  <tbody>\n",
       "    <tr>\n",
       "      <th>0</th>\n",
       "      <td>0</td>\n",
       "      <td>statewide unallocated</td>\n",
       "      <td>AL</td>\n",
       "      <td>2020-01-22</td>\n",
       "      <td>0</td>\n",
       "      <td>0</td>\n",
       "      <td>0</td>\n",
       "    </tr>\n",
       "    <tr>\n",
       "      <th>1</th>\n",
       "      <td>0</td>\n",
       "      <td>statewide unallocated</td>\n",
       "      <td>AL</td>\n",
       "      <td>2020-01-23</td>\n",
       "      <td>0</td>\n",
       "      <td>0</td>\n",
       "      <td>0</td>\n",
       "    </tr>\n",
       "    <tr>\n",
       "      <th>2</th>\n",
       "      <td>0</td>\n",
       "      <td>statewide unallocated</td>\n",
       "      <td>AL</td>\n",
       "      <td>2020-01-24</td>\n",
       "      <td>0</td>\n",
       "      <td>0</td>\n",
       "      <td>0</td>\n",
       "    </tr>\n",
       "    <tr>\n",
       "      <th>3</th>\n",
       "      <td>0</td>\n",
       "      <td>statewide unallocated</td>\n",
       "      <td>AL</td>\n",
       "      <td>2020-01-25</td>\n",
       "      <td>0</td>\n",
       "      <td>0</td>\n",
       "      <td>0</td>\n",
       "    </tr>\n",
       "    <tr>\n",
       "      <th>4</th>\n",
       "      <td>0</td>\n",
       "      <td>statewide unallocated</td>\n",
       "      <td>AL</td>\n",
       "      <td>2020-01-26</td>\n",
       "      <td>0</td>\n",
       "      <td>0</td>\n",
       "      <td>0</td>\n",
       "    </tr>\n",
       "    <tr>\n",
       "      <th>...</th>\n",
       "      <td>...</td>\n",
       "      <td>...</td>\n",
       "      <td>...</td>\n",
       "      <td>...</td>\n",
       "      <td>...</td>\n",
       "      <td>...</td>\n",
       "      <td>...</td>\n",
       "    </tr>\n",
       "    <tr>\n",
       "      <th>2346471</th>\n",
       "      <td>56045</td>\n",
       "      <td>weston county</td>\n",
       "      <td>WY</td>\n",
       "      <td>2022-02-03</td>\n",
       "      <td>1491</td>\n",
       "      <td>17</td>\n",
       "      <td>6927</td>\n",
       "    </tr>\n",
       "    <tr>\n",
       "      <th>2346472</th>\n",
       "      <td>56045</td>\n",
       "      <td>weston county</td>\n",
       "      <td>WY</td>\n",
       "      <td>2022-02-04</td>\n",
       "      <td>1496</td>\n",
       "      <td>17</td>\n",
       "      <td>6927</td>\n",
       "    </tr>\n",
       "    <tr>\n",
       "      <th>2346473</th>\n",
       "      <td>56045</td>\n",
       "      <td>weston county</td>\n",
       "      <td>WY</td>\n",
       "      <td>2022-02-05</td>\n",
       "      <td>1496</td>\n",
       "      <td>17</td>\n",
       "      <td>6927</td>\n",
       "    </tr>\n",
       "    <tr>\n",
       "      <th>2346474</th>\n",
       "      <td>56045</td>\n",
       "      <td>weston county</td>\n",
       "      <td>WY</td>\n",
       "      <td>2022-02-06</td>\n",
       "      <td>1496</td>\n",
       "      <td>17</td>\n",
       "      <td>6927</td>\n",
       "    </tr>\n",
       "    <tr>\n",
       "      <th>2346475</th>\n",
       "      <td>56045</td>\n",
       "      <td>weston county</td>\n",
       "      <td>WY</td>\n",
       "      <td>2022-02-07</td>\n",
       "      <td>1508</td>\n",
       "      <td>17</td>\n",
       "      <td>6927</td>\n",
       "    </tr>\n",
       "  </tbody>\n",
       "</table>\n",
       "<p>2346476 rows × 7 columns</p>\n",
       "</div>"
      ],
      "text/plain": [
       "         countyFIPS            County_Name State        Date  Confirmed  \\\n",
       "0                 0  statewide unallocated    AL  2020-01-22          0   \n",
       "1                 0  statewide unallocated    AL  2020-01-23          0   \n",
       "2                 0  statewide unallocated    AL  2020-01-24          0   \n",
       "3                 0  statewide unallocated    AL  2020-01-25          0   \n",
       "4                 0  statewide unallocated    AL  2020-01-26          0   \n",
       "...             ...                    ...   ...         ...        ...   \n",
       "2346471       56045          weston county    WY  2022-02-03       1491   \n",
       "2346472       56045          weston county    WY  2022-02-04       1496   \n",
       "2346473       56045          weston county    WY  2022-02-05       1496   \n",
       "2346474       56045          weston county    WY  2022-02-06       1496   \n",
       "2346475       56045          weston county    WY  2022-02-07       1508   \n",
       "\n",
       "         Deaths  population  \n",
       "0             0           0  \n",
       "1             0           0  \n",
       "2             0           0  \n",
       "3             0           0  \n",
       "4             0           0  \n",
       "...         ...         ...  \n",
       "2346471      17        6927  \n",
       "2346472      17        6927  \n",
       "2346473      17        6927  \n",
       "2346474      17        6927  \n",
       "2346475      17        6927  \n",
       "\n",
       "[2346476 rows x 7 columns]"
      ]
     },
     "execution_count": 4,
     "metadata": {},
     "output_type": "execute_result"
    }
   ],
   "source": [
    "#Read the dataset \n",
    "covid_supermerged_data = pd.read_csv('../../../data/stage_1/superdataset.csv')\n",
    "#covid_supermerged_data = pd.read_csv('superdataset.csv')\n",
    "covid_supermerged_data"
   ]
  },
  {
   "cell_type": "markdown",
   "id": "b3037e51",
   "metadata": {},
   "source": [
    "#### Adding two new columns of daily cases and daily deaths using diff() function"
   ]
  },
  {
   "cell_type": "code",
   "execution_count": 5,
   "id": "cab00d5c",
   "metadata": {},
   "outputs": [
    {
     "data": {
      "text/html": [
       "<div>\n",
       "<style scoped>\n",
       "    .dataframe tbody tr th:only-of-type {\n",
       "        vertical-align: middle;\n",
       "    }\n",
       "\n",
       "    .dataframe tbody tr th {\n",
       "        vertical-align: top;\n",
       "    }\n",
       "\n",
       "    .dataframe thead th {\n",
       "        text-align: right;\n",
       "    }\n",
       "</style>\n",
       "<table border=\"1\" class=\"dataframe\">\n",
       "  <thead>\n",
       "    <tr style=\"text-align: right;\">\n",
       "      <th></th>\n",
       "      <th>countyFIPS</th>\n",
       "      <th>County_Name</th>\n",
       "      <th>State</th>\n",
       "      <th>Date</th>\n",
       "      <th>Confirmed</th>\n",
       "      <th>Deaths</th>\n",
       "      <th>population</th>\n",
       "      <th>Num of Cases per day</th>\n",
       "      <th>Num of Deaths per day</th>\n",
       "    </tr>\n",
       "  </thead>\n",
       "  <tbody>\n",
       "    <tr>\n",
       "      <th>0</th>\n",
       "      <td>0</td>\n",
       "      <td>statewide unallocated</td>\n",
       "      <td>AL</td>\n",
       "      <td>2020-01-22</td>\n",
       "      <td>0</td>\n",
       "      <td>0</td>\n",
       "      <td>0</td>\n",
       "      <td>NaN</td>\n",
       "      <td>NaN</td>\n",
       "    </tr>\n",
       "    <tr>\n",
       "      <th>1</th>\n",
       "      <td>0</td>\n",
       "      <td>statewide unallocated</td>\n",
       "      <td>AL</td>\n",
       "      <td>2020-01-23</td>\n",
       "      <td>0</td>\n",
       "      <td>0</td>\n",
       "      <td>0</td>\n",
       "      <td>0.0</td>\n",
       "      <td>0.0</td>\n",
       "    </tr>\n",
       "    <tr>\n",
       "      <th>2</th>\n",
       "      <td>0</td>\n",
       "      <td>statewide unallocated</td>\n",
       "      <td>AL</td>\n",
       "      <td>2020-01-24</td>\n",
       "      <td>0</td>\n",
       "      <td>0</td>\n",
       "      <td>0</td>\n",
       "      <td>0.0</td>\n",
       "      <td>0.0</td>\n",
       "    </tr>\n",
       "    <tr>\n",
       "      <th>3</th>\n",
       "      <td>0</td>\n",
       "      <td>statewide unallocated</td>\n",
       "      <td>AL</td>\n",
       "      <td>2020-01-25</td>\n",
       "      <td>0</td>\n",
       "      <td>0</td>\n",
       "      <td>0</td>\n",
       "      <td>0.0</td>\n",
       "      <td>0.0</td>\n",
       "    </tr>\n",
       "    <tr>\n",
       "      <th>4</th>\n",
       "      <td>0</td>\n",
       "      <td>statewide unallocated</td>\n",
       "      <td>AL</td>\n",
       "      <td>2020-01-26</td>\n",
       "      <td>0</td>\n",
       "      <td>0</td>\n",
       "      <td>0</td>\n",
       "      <td>0.0</td>\n",
       "      <td>0.0</td>\n",
       "    </tr>\n",
       "    <tr>\n",
       "      <th>...</th>\n",
       "      <td>...</td>\n",
       "      <td>...</td>\n",
       "      <td>...</td>\n",
       "      <td>...</td>\n",
       "      <td>...</td>\n",
       "      <td>...</td>\n",
       "      <td>...</td>\n",
       "      <td>...</td>\n",
       "      <td>...</td>\n",
       "    </tr>\n",
       "    <tr>\n",
       "      <th>2346471</th>\n",
       "      <td>56045</td>\n",
       "      <td>weston county</td>\n",
       "      <td>WY</td>\n",
       "      <td>2022-02-03</td>\n",
       "      <td>1491</td>\n",
       "      <td>17</td>\n",
       "      <td>6927</td>\n",
       "      <td>6.0</td>\n",
       "      <td>0.0</td>\n",
       "    </tr>\n",
       "    <tr>\n",
       "      <th>2346472</th>\n",
       "      <td>56045</td>\n",
       "      <td>weston county</td>\n",
       "      <td>WY</td>\n",
       "      <td>2022-02-04</td>\n",
       "      <td>1496</td>\n",
       "      <td>17</td>\n",
       "      <td>6927</td>\n",
       "      <td>5.0</td>\n",
       "      <td>0.0</td>\n",
       "    </tr>\n",
       "    <tr>\n",
       "      <th>2346473</th>\n",
       "      <td>56045</td>\n",
       "      <td>weston county</td>\n",
       "      <td>WY</td>\n",
       "      <td>2022-02-05</td>\n",
       "      <td>1496</td>\n",
       "      <td>17</td>\n",
       "      <td>6927</td>\n",
       "      <td>0.0</td>\n",
       "      <td>0.0</td>\n",
       "    </tr>\n",
       "    <tr>\n",
       "      <th>2346474</th>\n",
       "      <td>56045</td>\n",
       "      <td>weston county</td>\n",
       "      <td>WY</td>\n",
       "      <td>2022-02-06</td>\n",
       "      <td>1496</td>\n",
       "      <td>17</td>\n",
       "      <td>6927</td>\n",
       "      <td>0.0</td>\n",
       "      <td>0.0</td>\n",
       "    </tr>\n",
       "    <tr>\n",
       "      <th>2346475</th>\n",
       "      <td>56045</td>\n",
       "      <td>weston county</td>\n",
       "      <td>WY</td>\n",
       "      <td>2022-02-07</td>\n",
       "      <td>1508</td>\n",
       "      <td>17</td>\n",
       "      <td>6927</td>\n",
       "      <td>12.0</td>\n",
       "      <td>0.0</td>\n",
       "    </tr>\n",
       "  </tbody>\n",
       "</table>\n",
       "<p>2346476 rows × 9 columns</p>\n",
       "</div>"
      ],
      "text/plain": [
       "         countyFIPS            County_Name State        Date  Confirmed  \\\n",
       "0                 0  statewide unallocated    AL  2020-01-22          0   \n",
       "1                 0  statewide unallocated    AL  2020-01-23          0   \n",
       "2                 0  statewide unallocated    AL  2020-01-24          0   \n",
       "3                 0  statewide unallocated    AL  2020-01-25          0   \n",
       "4                 0  statewide unallocated    AL  2020-01-26          0   \n",
       "...             ...                    ...   ...         ...        ...   \n",
       "2346471       56045          weston county    WY  2022-02-03       1491   \n",
       "2346472       56045          weston county    WY  2022-02-04       1496   \n",
       "2346473       56045          weston county    WY  2022-02-05       1496   \n",
       "2346474       56045          weston county    WY  2022-02-06       1496   \n",
       "2346475       56045          weston county    WY  2022-02-07       1508   \n",
       "\n",
       "         Deaths  population  Num of Cases per day  Num of Deaths per day  \n",
       "0             0           0                   NaN                    NaN  \n",
       "1             0           0                   0.0                    0.0  \n",
       "2             0           0                   0.0                    0.0  \n",
       "3             0           0                   0.0                    0.0  \n",
       "4             0           0                   0.0                    0.0  \n",
       "...         ...         ...                   ...                    ...  \n",
       "2346471      17        6927                   6.0                    0.0  \n",
       "2346472      17        6927                   5.0                    0.0  \n",
       "2346473      17        6927                   0.0                    0.0  \n",
       "2346474      17        6927                   0.0                    0.0  \n",
       "2346475      17        6927                  12.0                    0.0  \n",
       "\n",
       "[2346476 rows x 9 columns]"
      ]
     },
     "execution_count": 5,
     "metadata": {},
     "output_type": "execute_result"
    }
   ],
   "source": [
    "#Find the difference of the two columns Confirmed and Deaths\n",
    "covid_supermerged_data['Num of Cases per day'] = covid_supermerged_data['Confirmed'].diff()\n",
    "covid_supermerged_data['Num of Deaths per day'] = covid_supermerged_data['Deaths'].diff()\n",
    "covid_supermerged_data"
   ]
  },
  {
   "cell_type": "code",
   "execution_count": 6,
   "id": "095315e6",
   "metadata": {},
   "outputs": [],
   "source": [
    "#Remove the unallocated county from the dataset\n",
    "covid_supermerged_data = covid_supermerged_data[covid_supermerged_data['County_Name']!='statewide unallocated']"
   ]
  },
  {
   "cell_type": "markdown",
   "id": "495580ab",
   "metadata": {},
   "source": [
    "#### Converting the date to datetime datatype from object dtype"
   ]
  },
  {
   "cell_type": "code",
   "execution_count": 7,
   "id": "24d600d8",
   "metadata": {},
   "outputs": [],
   "source": [
    "covid_supermerged_data['Date'] = covid_supermerged_data.Date.apply(lambda d: datetime.strptime(d, '%Y-%m-%d'))"
   ]
  },
  {
   "cell_type": "markdown",
   "id": "b35b463f",
   "metadata": {},
   "source": [
    "#### Grouping the data by Date so we will have 747 rows; one for each day."
   ]
  },
  {
   "cell_type": "code",
   "execution_count": 8,
   "id": "38f255e0",
   "metadata": {},
   "outputs": [
    {
     "data": {
      "text/html": [
       "<div>\n",
       "<style scoped>\n",
       "    .dataframe tbody tr th:only-of-type {\n",
       "        vertical-align: middle;\n",
       "    }\n",
       "\n",
       "    .dataframe tbody tr th {\n",
       "        vertical-align: top;\n",
       "    }\n",
       "\n",
       "    .dataframe thead th {\n",
       "        text-align: right;\n",
       "    }\n",
       "</style>\n",
       "<table border=\"1\" class=\"dataframe\">\n",
       "  <thead>\n",
       "    <tr style=\"text-align: right;\">\n",
       "      <th></th>\n",
       "      <th>Date</th>\n",
       "      <th>countyFIPS</th>\n",
       "      <th>Confirmed</th>\n",
       "      <th>Deaths</th>\n",
       "      <th>population</th>\n",
       "      <th>Num of Cases per day</th>\n",
       "      <th>Num of Deaths per day</th>\n",
       "    </tr>\n",
       "  </thead>\n",
       "  <tbody>\n",
       "    <tr>\n",
       "      <th>0</th>\n",
       "      <td>2020-01-22</td>\n",
       "      <td>93245330</td>\n",
       "      <td>712</td>\n",
       "      <td>1</td>\n",
       "      <td>321279906</td>\n",
       "      <td>-72214186.0</td>\n",
       "      <td>-870408.0</td>\n",
       "    </tr>\n",
       "    <tr>\n",
       "      <th>1</th>\n",
       "      <td>2020-01-23</td>\n",
       "      <td>93245330</td>\n",
       "      <td>723</td>\n",
       "      <td>1</td>\n",
       "      <td>321279906</td>\n",
       "      <td>11.0</td>\n",
       "      <td>0.0</td>\n",
       "    </tr>\n",
       "    <tr>\n",
       "      <th>2</th>\n",
       "      <td>2020-01-24</td>\n",
       "      <td>93245330</td>\n",
       "      <td>730</td>\n",
       "      <td>1</td>\n",
       "      <td>321279906</td>\n",
       "      <td>7.0</td>\n",
       "      <td>0.0</td>\n",
       "    </tr>\n",
       "    <tr>\n",
       "      <th>3</th>\n",
       "      <td>2020-01-25</td>\n",
       "      <td>93245330</td>\n",
       "      <td>740</td>\n",
       "      <td>1</td>\n",
       "      <td>321279906</td>\n",
       "      <td>10.0</td>\n",
       "      <td>0.0</td>\n",
       "    </tr>\n",
       "    <tr>\n",
       "      <th>4</th>\n",
       "      <td>2020-01-26</td>\n",
       "      <td>93245330</td>\n",
       "      <td>748</td>\n",
       "      <td>1</td>\n",
       "      <td>321279906</td>\n",
       "      <td>8.0</td>\n",
       "      <td>0.0</td>\n",
       "    </tr>\n",
       "  </tbody>\n",
       "</table>\n",
       "</div>"
      ],
      "text/plain": [
       "        Date  countyFIPS  Confirmed  Deaths  population  Num of Cases per day  \\\n",
       "0 2020-01-22    93245330        712       1   321279906           -72214186.0   \n",
       "1 2020-01-23    93245330        723       1   321279906                  11.0   \n",
       "2 2020-01-24    93245330        730       1   321279906                   7.0   \n",
       "3 2020-01-25    93245330        740       1   321279906                  10.0   \n",
       "4 2020-01-26    93245330        748       1   321279906                   8.0   \n",
       "\n",
       "   Num of Deaths per day  \n",
       "0              -870408.0  \n",
       "1                    0.0  \n",
       "2                    0.0  \n",
       "3                    0.0  \n",
       "4                    0.0  "
      ]
     },
     "execution_count": 8,
     "metadata": {},
     "output_type": "execute_result"
    }
   ],
   "source": [
    "#group the data by date \n",
    "covid_supermerged_data = covid_supermerged_data.groupby(\"Date\").sum().reset_index()\n",
    "covid_supermerged_data.head()"
   ]
  },
  {
   "cell_type": "code",
   "execution_count": 9,
   "id": "c1e45b49",
   "metadata": {},
   "outputs": [],
   "source": [
    "#Removing the first row of the dataset\n",
    "covid_supermerged_data = covid_supermerged_data.drop([0])"
   ]
  },
  {
   "cell_type": "code",
   "execution_count": 10,
   "id": "61d5b07c",
   "metadata": {},
   "outputs": [
    {
     "data": {
      "text/html": [
       "<div>\n",
       "<style scoped>\n",
       "    .dataframe tbody tr th:only-of-type {\n",
       "        vertical-align: middle;\n",
       "    }\n",
       "\n",
       "    .dataframe tbody tr th {\n",
       "        vertical-align: top;\n",
       "    }\n",
       "\n",
       "    .dataframe thead th {\n",
       "        text-align: right;\n",
       "    }\n",
       "</style>\n",
       "<table border=\"1\" class=\"dataframe\">\n",
       "  <thead>\n",
       "    <tr style=\"text-align: right;\">\n",
       "      <th></th>\n",
       "      <th>Date</th>\n",
       "      <th>countyFIPS</th>\n",
       "      <th>Confirmed</th>\n",
       "      <th>Deaths</th>\n",
       "      <th>population</th>\n",
       "      <th>Num of Cases per day</th>\n",
       "      <th>Num of Deaths per day</th>\n",
       "    </tr>\n",
       "  </thead>\n",
       "  <tbody>\n",
       "    <tr>\n",
       "      <th>1</th>\n",
       "      <td>2020-01-23</td>\n",
       "      <td>93245330</td>\n",
       "      <td>723</td>\n",
       "      <td>1</td>\n",
       "      <td>321279906</td>\n",
       "      <td>11.0</td>\n",
       "      <td>0.0</td>\n",
       "    </tr>\n",
       "    <tr>\n",
       "      <th>2</th>\n",
       "      <td>2020-01-24</td>\n",
       "      <td>93245330</td>\n",
       "      <td>730</td>\n",
       "      <td>1</td>\n",
       "      <td>321279906</td>\n",
       "      <td>7.0</td>\n",
       "      <td>0.0</td>\n",
       "    </tr>\n",
       "    <tr>\n",
       "      <th>3</th>\n",
       "      <td>2020-01-25</td>\n",
       "      <td>93245330</td>\n",
       "      <td>740</td>\n",
       "      <td>1</td>\n",
       "      <td>321279906</td>\n",
       "      <td>10.0</td>\n",
       "      <td>0.0</td>\n",
       "    </tr>\n",
       "    <tr>\n",
       "      <th>4</th>\n",
       "      <td>2020-01-26</td>\n",
       "      <td>93245330</td>\n",
       "      <td>748</td>\n",
       "      <td>1</td>\n",
       "      <td>321279906</td>\n",
       "      <td>8.0</td>\n",
       "      <td>0.0</td>\n",
       "    </tr>\n",
       "    <tr>\n",
       "      <th>5</th>\n",
       "      <td>2020-01-27</td>\n",
       "      <td>93245330</td>\n",
       "      <td>758</td>\n",
       "      <td>1</td>\n",
       "      <td>321279906</td>\n",
       "      <td>10.0</td>\n",
       "      <td>0.0</td>\n",
       "    </tr>\n",
       "    <tr>\n",
       "      <th>...</th>\n",
       "      <td>...</td>\n",
       "      <td>...</td>\n",
       "      <td>...</td>\n",
       "      <td>...</td>\n",
       "      <td>...</td>\n",
       "      <td>...</td>\n",
       "      <td>...</td>\n",
       "    </tr>\n",
       "    <tr>\n",
       "      <th>743</th>\n",
       "      <td>2022-02-03</td>\n",
       "      <td>93245330</td>\n",
       "      <td>72283911</td>\n",
       "      <td>841597</td>\n",
       "      <td>321279906</td>\n",
       "      <td>274783.0</td>\n",
       "      <td>2073.0</td>\n",
       "    </tr>\n",
       "    <tr>\n",
       "      <th>744</th>\n",
       "      <td>2022-02-04</td>\n",
       "      <td>93245330</td>\n",
       "      <td>72684661</td>\n",
       "      <td>845515</td>\n",
       "      <td>321279906</td>\n",
       "      <td>400750.0</td>\n",
       "      <td>3918.0</td>\n",
       "    </tr>\n",
       "    <tr>\n",
       "      <th>745</th>\n",
       "      <td>2022-02-05</td>\n",
       "      <td>93245330</td>\n",
       "      <td>72733724</td>\n",
       "      <td>845746</td>\n",
       "      <td>321279906</td>\n",
       "      <td>49063.0</td>\n",
       "      <td>231.0</td>\n",
       "    </tr>\n",
       "    <tr>\n",
       "      <th>746</th>\n",
       "      <td>2022-02-06</td>\n",
       "      <td>93245330</td>\n",
       "      <td>72777948</td>\n",
       "      <td>846024</td>\n",
       "      <td>321279906</td>\n",
       "      <td>44224.0</td>\n",
       "      <td>278.0</td>\n",
       "    </tr>\n",
       "    <tr>\n",
       "      <th>747</th>\n",
       "      <td>2022-02-07</td>\n",
       "      <td>93245330</td>\n",
       "      <td>73033896</td>\n",
       "      <td>848136</td>\n",
       "      <td>321279906</td>\n",
       "      <td>255948.0</td>\n",
       "      <td>2112.0</td>\n",
       "    </tr>\n",
       "  </tbody>\n",
       "</table>\n",
       "<p>747 rows × 7 columns</p>\n",
       "</div>"
      ],
      "text/plain": [
       "          Date  countyFIPS  Confirmed  Deaths  population  \\\n",
       "1   2020-01-23    93245330        723       1   321279906   \n",
       "2   2020-01-24    93245330        730       1   321279906   \n",
       "3   2020-01-25    93245330        740       1   321279906   \n",
       "4   2020-01-26    93245330        748       1   321279906   \n",
       "5   2020-01-27    93245330        758       1   321279906   \n",
       "..         ...         ...        ...     ...         ...   \n",
       "743 2022-02-03    93245330   72283911  841597   321279906   \n",
       "744 2022-02-04    93245330   72684661  845515   321279906   \n",
       "745 2022-02-05    93245330   72733724  845746   321279906   \n",
       "746 2022-02-06    93245330   72777948  846024   321279906   \n",
       "747 2022-02-07    93245330   73033896  848136   321279906   \n",
       "\n",
       "     Num of Cases per day  Num of Deaths per day  \n",
       "1                    11.0                    0.0  \n",
       "2                     7.0                    0.0  \n",
       "3                    10.0                    0.0  \n",
       "4                     8.0                    0.0  \n",
       "5                    10.0                    0.0  \n",
       "..                    ...                    ...  \n",
       "743              274783.0                 2073.0  \n",
       "744              400750.0                 3918.0  \n",
       "745               49063.0                  231.0  \n",
       "746               44224.0                  278.0  \n",
       "747              255948.0                 2112.0  \n",
       "\n",
       "[747 rows x 7 columns]"
      ]
     },
     "execution_count": 10,
     "metadata": {},
     "output_type": "execute_result"
    }
   ],
   "source": [
    "covid_supermerged_data"
   ]
  },
  {
   "cell_type": "markdown",
   "id": "e0430841",
   "metadata": {},
   "source": [
    "#### Generate first occurence of days  in the dataframe.\n",
    "\n",
    "* https://stackoverflow.com/questions/38862293/how-to-add-incremental-numbers-to-a-new-column-using-pandas"
   ]
  },
  {
   "cell_type": "markdown",
   "id": "8199a4b5",
   "metadata": {},
   "source": [
    "#### Adding one extra column of Days which corresponds to the first occurence of cases"
   ]
  },
  {
   "cell_type": "code",
   "execution_count": 11,
   "id": "8695d71f",
   "metadata": {},
   "outputs": [
    {
     "data": {
      "text/html": [
       "<div>\n",
       "<style scoped>\n",
       "    .dataframe tbody tr th:only-of-type {\n",
       "        vertical-align: middle;\n",
       "    }\n",
       "\n",
       "    .dataframe tbody tr th {\n",
       "        vertical-align: top;\n",
       "    }\n",
       "\n",
       "    .dataframe thead th {\n",
       "        text-align: right;\n",
       "    }\n",
       "</style>\n",
       "<table border=\"1\" class=\"dataframe\">\n",
       "  <thead>\n",
       "    <tr style=\"text-align: right;\">\n",
       "      <th></th>\n",
       "      <th>Days</th>\n",
       "      <th>Date</th>\n",
       "      <th>countyFIPS</th>\n",
       "      <th>Confirmed</th>\n",
       "      <th>Deaths</th>\n",
       "      <th>population</th>\n",
       "      <th>Num of Cases per day</th>\n",
       "      <th>Num of Deaths per day</th>\n",
       "    </tr>\n",
       "  </thead>\n",
       "  <tbody>\n",
       "    <tr>\n",
       "      <th>1</th>\n",
       "      <td>1</td>\n",
       "      <td>2020-01-23</td>\n",
       "      <td>93245330</td>\n",
       "      <td>723</td>\n",
       "      <td>1</td>\n",
       "      <td>321279906</td>\n",
       "      <td>11.0</td>\n",
       "      <td>0.0</td>\n",
       "    </tr>\n",
       "    <tr>\n",
       "      <th>2</th>\n",
       "      <td>2</td>\n",
       "      <td>2020-01-24</td>\n",
       "      <td>93245330</td>\n",
       "      <td>730</td>\n",
       "      <td>1</td>\n",
       "      <td>321279906</td>\n",
       "      <td>7.0</td>\n",
       "      <td>0.0</td>\n",
       "    </tr>\n",
       "    <tr>\n",
       "      <th>3</th>\n",
       "      <td>3</td>\n",
       "      <td>2020-01-25</td>\n",
       "      <td>93245330</td>\n",
       "      <td>740</td>\n",
       "      <td>1</td>\n",
       "      <td>321279906</td>\n",
       "      <td>10.0</td>\n",
       "      <td>0.0</td>\n",
       "    </tr>\n",
       "    <tr>\n",
       "      <th>4</th>\n",
       "      <td>4</td>\n",
       "      <td>2020-01-26</td>\n",
       "      <td>93245330</td>\n",
       "      <td>748</td>\n",
       "      <td>1</td>\n",
       "      <td>321279906</td>\n",
       "      <td>8.0</td>\n",
       "      <td>0.0</td>\n",
       "    </tr>\n",
       "    <tr>\n",
       "      <th>5</th>\n",
       "      <td>5</td>\n",
       "      <td>2020-01-27</td>\n",
       "      <td>93245330</td>\n",
       "      <td>758</td>\n",
       "      <td>1</td>\n",
       "      <td>321279906</td>\n",
       "      <td>10.0</td>\n",
       "      <td>0.0</td>\n",
       "    </tr>\n",
       "    <tr>\n",
       "      <th>...</th>\n",
       "      <td>...</td>\n",
       "      <td>...</td>\n",
       "      <td>...</td>\n",
       "      <td>...</td>\n",
       "      <td>...</td>\n",
       "      <td>...</td>\n",
       "      <td>...</td>\n",
       "      <td>...</td>\n",
       "    </tr>\n",
       "    <tr>\n",
       "      <th>743</th>\n",
       "      <td>743</td>\n",
       "      <td>2022-02-03</td>\n",
       "      <td>93245330</td>\n",
       "      <td>72283911</td>\n",
       "      <td>841597</td>\n",
       "      <td>321279906</td>\n",
       "      <td>274783.0</td>\n",
       "      <td>2073.0</td>\n",
       "    </tr>\n",
       "    <tr>\n",
       "      <th>744</th>\n",
       "      <td>744</td>\n",
       "      <td>2022-02-04</td>\n",
       "      <td>93245330</td>\n",
       "      <td>72684661</td>\n",
       "      <td>845515</td>\n",
       "      <td>321279906</td>\n",
       "      <td>400750.0</td>\n",
       "      <td>3918.0</td>\n",
       "    </tr>\n",
       "    <tr>\n",
       "      <th>745</th>\n",
       "      <td>745</td>\n",
       "      <td>2022-02-05</td>\n",
       "      <td>93245330</td>\n",
       "      <td>72733724</td>\n",
       "      <td>845746</td>\n",
       "      <td>321279906</td>\n",
       "      <td>49063.0</td>\n",
       "      <td>231.0</td>\n",
       "    </tr>\n",
       "    <tr>\n",
       "      <th>746</th>\n",
       "      <td>746</td>\n",
       "      <td>2022-02-06</td>\n",
       "      <td>93245330</td>\n",
       "      <td>72777948</td>\n",
       "      <td>846024</td>\n",
       "      <td>321279906</td>\n",
       "      <td>44224.0</td>\n",
       "      <td>278.0</td>\n",
       "    </tr>\n",
       "    <tr>\n",
       "      <th>747</th>\n",
       "      <td>747</td>\n",
       "      <td>2022-02-07</td>\n",
       "      <td>93245330</td>\n",
       "      <td>73033896</td>\n",
       "      <td>848136</td>\n",
       "      <td>321279906</td>\n",
       "      <td>255948.0</td>\n",
       "      <td>2112.0</td>\n",
       "    </tr>\n",
       "  </tbody>\n",
       "</table>\n",
       "<p>747 rows × 8 columns</p>\n",
       "</div>"
      ],
      "text/plain": [
       "     Days       Date  countyFIPS  Confirmed  Deaths  population  \\\n",
       "1       1 2020-01-23    93245330        723       1   321279906   \n",
       "2       2 2020-01-24    93245330        730       1   321279906   \n",
       "3       3 2020-01-25    93245330        740       1   321279906   \n",
       "4       4 2020-01-26    93245330        748       1   321279906   \n",
       "5       5 2020-01-27    93245330        758       1   321279906   \n",
       "..    ...        ...         ...        ...     ...         ...   \n",
       "743   743 2022-02-03    93245330   72283911  841597   321279906   \n",
       "744   744 2022-02-04    93245330   72684661  845515   321279906   \n",
       "745   745 2022-02-05    93245330   72733724  845746   321279906   \n",
       "746   746 2022-02-06    93245330   72777948  846024   321279906   \n",
       "747   747 2022-02-07    93245330   73033896  848136   321279906   \n",
       "\n",
       "     Num of Cases per day  Num of Deaths per day  \n",
       "1                    11.0                    0.0  \n",
       "2                     7.0                    0.0  \n",
       "3                    10.0                    0.0  \n",
       "4                     8.0                    0.0  \n",
       "5                    10.0                    0.0  \n",
       "..                    ...                    ...  \n",
       "743              274783.0                 2073.0  \n",
       "744              400750.0                 3918.0  \n",
       "745               49063.0                  231.0  \n",
       "746               44224.0                  278.0  \n",
       "747              255948.0                 2112.0  \n",
       "\n",
       "[747 rows x 8 columns]"
      ]
     },
     "execution_count": 11,
     "metadata": {},
     "output_type": "execute_result"
    }
   ],
   "source": [
    "df = covid_supermerged_data.assign( Days =[1 + i for i in range(len(covid_supermerged_data))])[['Days'] + covid_supermerged_data.columns.tolist()]\n",
    "df"
   ]
  },
  {
   "cell_type": "markdown",
   "id": "a46d2f8a",
   "metadata": {},
   "source": [
    "#### Selecting the required columns from the dataframe"
   ]
  },
  {
   "cell_type": "code",
   "execution_count": 12,
   "id": "ba75840f",
   "metadata": {},
   "outputs": [
    {
     "data": {
      "text/html": [
       "<div>\n",
       "<style scoped>\n",
       "    .dataframe tbody tr th:only-of-type {\n",
       "        vertical-align: middle;\n",
       "    }\n",
       "\n",
       "    .dataframe tbody tr th {\n",
       "        vertical-align: top;\n",
       "    }\n",
       "\n",
       "    .dataframe thead th {\n",
       "        text-align: right;\n",
       "    }\n",
       "</style>\n",
       "<table border=\"1\" class=\"dataframe\">\n",
       "  <thead>\n",
       "    <tr style=\"text-align: right;\">\n",
       "      <th></th>\n",
       "      <th>Days</th>\n",
       "      <th>Date</th>\n",
       "      <th>Num of Cases per day</th>\n",
       "      <th>Num of Deaths per day</th>\n",
       "    </tr>\n",
       "  </thead>\n",
       "  <tbody>\n",
       "    <tr>\n",
       "      <th>1</th>\n",
       "      <td>1</td>\n",
       "      <td>2020-01-23</td>\n",
       "      <td>11.0</td>\n",
       "      <td>0.0</td>\n",
       "    </tr>\n",
       "    <tr>\n",
       "      <th>2</th>\n",
       "      <td>2</td>\n",
       "      <td>2020-01-24</td>\n",
       "      <td>7.0</td>\n",
       "      <td>0.0</td>\n",
       "    </tr>\n",
       "    <tr>\n",
       "      <th>3</th>\n",
       "      <td>3</td>\n",
       "      <td>2020-01-25</td>\n",
       "      <td>10.0</td>\n",
       "      <td>0.0</td>\n",
       "    </tr>\n",
       "    <tr>\n",
       "      <th>4</th>\n",
       "      <td>4</td>\n",
       "      <td>2020-01-26</td>\n",
       "      <td>8.0</td>\n",
       "      <td>0.0</td>\n",
       "    </tr>\n",
       "    <tr>\n",
       "      <th>5</th>\n",
       "      <td>5</td>\n",
       "      <td>2020-01-27</td>\n",
       "      <td>10.0</td>\n",
       "      <td>0.0</td>\n",
       "    </tr>\n",
       "    <tr>\n",
       "      <th>...</th>\n",
       "      <td>...</td>\n",
       "      <td>...</td>\n",
       "      <td>...</td>\n",
       "      <td>...</td>\n",
       "    </tr>\n",
       "    <tr>\n",
       "      <th>743</th>\n",
       "      <td>743</td>\n",
       "      <td>2022-02-03</td>\n",
       "      <td>274783.0</td>\n",
       "      <td>2073.0</td>\n",
       "    </tr>\n",
       "    <tr>\n",
       "      <th>744</th>\n",
       "      <td>744</td>\n",
       "      <td>2022-02-04</td>\n",
       "      <td>400750.0</td>\n",
       "      <td>3918.0</td>\n",
       "    </tr>\n",
       "    <tr>\n",
       "      <th>745</th>\n",
       "      <td>745</td>\n",
       "      <td>2022-02-05</td>\n",
       "      <td>49063.0</td>\n",
       "      <td>231.0</td>\n",
       "    </tr>\n",
       "    <tr>\n",
       "      <th>746</th>\n",
       "      <td>746</td>\n",
       "      <td>2022-02-06</td>\n",
       "      <td>44224.0</td>\n",
       "      <td>278.0</td>\n",
       "    </tr>\n",
       "    <tr>\n",
       "      <th>747</th>\n",
       "      <td>747</td>\n",
       "      <td>2022-02-07</td>\n",
       "      <td>255948.0</td>\n",
       "      <td>2112.0</td>\n",
       "    </tr>\n",
       "  </tbody>\n",
       "</table>\n",
       "<p>747 rows × 4 columns</p>\n",
       "</div>"
      ],
      "text/plain": [
       "     Days       Date  Num of Cases per day  Num of Deaths per day\n",
       "1       1 2020-01-23                  11.0                    0.0\n",
       "2       2 2020-01-24                   7.0                    0.0\n",
       "3       3 2020-01-25                  10.0                    0.0\n",
       "4       4 2020-01-26                   8.0                    0.0\n",
       "5       5 2020-01-27                  10.0                    0.0\n",
       "..    ...        ...                   ...                    ...\n",
       "743   743 2022-02-03              274783.0                 2073.0\n",
       "744   744 2022-02-04              400750.0                 3918.0\n",
       "745   745 2022-02-05               49063.0                  231.0\n",
       "746   746 2022-02-06               44224.0                  278.0\n",
       "747   747 2022-02-07              255948.0                 2112.0\n",
       "\n",
       "[747 rows x 4 columns]"
      ]
     },
     "execution_count": 12,
     "metadata": {},
     "output_type": "execute_result"
    }
   ],
   "source": [
    "df = df.drop(columns=[\"countyFIPS\" , \"population\" ,\"Confirmed\" , \"Deaths\"])\n",
    "df"
   ]
  },
  {
   "cell_type": "markdown",
   "id": "6d4de51d",
   "metadata": {},
   "source": [
    "####  Adding the days column towards the end of the dataframe\n",
    "\n",
    "* https://stackoverflow.com/questions/58228837/best-way-to-move-a-column-in-pandas-dataframe-to-last-column-in-large-dataframe"
   ]
  },
  {
   "cell_type": "markdown",
   "id": "d1f9dce4",
   "metadata": {},
   "source": [
    "Popping the Day column from the front and adding it to the end of the dataframe"
   ]
  },
  {
   "cell_type": "code",
   "execution_count": 13,
   "id": "b58beeb8",
   "metadata": {},
   "outputs": [
    {
     "data": {
      "text/html": [
       "<div>\n",
       "<style scoped>\n",
       "    .dataframe tbody tr th:only-of-type {\n",
       "        vertical-align: middle;\n",
       "    }\n",
       "\n",
       "    .dataframe tbody tr th {\n",
       "        vertical-align: top;\n",
       "    }\n",
       "\n",
       "    .dataframe thead th {\n",
       "        text-align: right;\n",
       "    }\n",
       "</style>\n",
       "<table border=\"1\" class=\"dataframe\">\n",
       "  <thead>\n",
       "    <tr style=\"text-align: right;\">\n",
       "      <th></th>\n",
       "      <th>Date</th>\n",
       "      <th>Num of Cases per day</th>\n",
       "      <th>Num of Deaths per day</th>\n",
       "      <th>Days</th>\n",
       "    </tr>\n",
       "  </thead>\n",
       "  <tbody>\n",
       "    <tr>\n",
       "      <th>1</th>\n",
       "      <td>2020-01-23</td>\n",
       "      <td>11.0</td>\n",
       "      <td>0.0</td>\n",
       "      <td>1</td>\n",
       "    </tr>\n",
       "    <tr>\n",
       "      <th>2</th>\n",
       "      <td>2020-01-24</td>\n",
       "      <td>7.0</td>\n",
       "      <td>0.0</td>\n",
       "      <td>2</td>\n",
       "    </tr>\n",
       "    <tr>\n",
       "      <th>3</th>\n",
       "      <td>2020-01-25</td>\n",
       "      <td>10.0</td>\n",
       "      <td>0.0</td>\n",
       "      <td>3</td>\n",
       "    </tr>\n",
       "    <tr>\n",
       "      <th>4</th>\n",
       "      <td>2020-01-26</td>\n",
       "      <td>8.0</td>\n",
       "      <td>0.0</td>\n",
       "      <td>4</td>\n",
       "    </tr>\n",
       "    <tr>\n",
       "      <th>5</th>\n",
       "      <td>2020-01-27</td>\n",
       "      <td>10.0</td>\n",
       "      <td>0.0</td>\n",
       "      <td>5</td>\n",
       "    </tr>\n",
       "    <tr>\n",
       "      <th>...</th>\n",
       "      <td>...</td>\n",
       "      <td>...</td>\n",
       "      <td>...</td>\n",
       "      <td>...</td>\n",
       "    </tr>\n",
       "    <tr>\n",
       "      <th>743</th>\n",
       "      <td>2022-02-03</td>\n",
       "      <td>274783.0</td>\n",
       "      <td>2073.0</td>\n",
       "      <td>743</td>\n",
       "    </tr>\n",
       "    <tr>\n",
       "      <th>744</th>\n",
       "      <td>2022-02-04</td>\n",
       "      <td>400750.0</td>\n",
       "      <td>3918.0</td>\n",
       "      <td>744</td>\n",
       "    </tr>\n",
       "    <tr>\n",
       "      <th>745</th>\n",
       "      <td>2022-02-05</td>\n",
       "      <td>49063.0</td>\n",
       "      <td>231.0</td>\n",
       "      <td>745</td>\n",
       "    </tr>\n",
       "    <tr>\n",
       "      <th>746</th>\n",
       "      <td>2022-02-06</td>\n",
       "      <td>44224.0</td>\n",
       "      <td>278.0</td>\n",
       "      <td>746</td>\n",
       "    </tr>\n",
       "    <tr>\n",
       "      <th>747</th>\n",
       "      <td>2022-02-07</td>\n",
       "      <td>255948.0</td>\n",
       "      <td>2112.0</td>\n",
       "      <td>747</td>\n",
       "    </tr>\n",
       "  </tbody>\n",
       "</table>\n",
       "<p>747 rows × 4 columns</p>\n",
       "</div>"
      ],
      "text/plain": [
       "          Date  Num of Cases per day  Num of Deaths per day  Days\n",
       "1   2020-01-23                  11.0                    0.0     1\n",
       "2   2020-01-24                   7.0                    0.0     2\n",
       "3   2020-01-25                  10.0                    0.0     3\n",
       "4   2020-01-26                   8.0                    0.0     4\n",
       "5   2020-01-27                  10.0                    0.0     5\n",
       "..         ...                   ...                    ...   ...\n",
       "743 2022-02-03              274783.0                 2073.0   743\n",
       "744 2022-02-04              400750.0                 3918.0   744\n",
       "745 2022-02-05               49063.0                  231.0   745\n",
       "746 2022-02-06               44224.0                  278.0   746\n",
       "747 2022-02-07              255948.0                 2112.0   747\n",
       "\n",
       "[747 rows x 4 columns]"
      ]
     },
     "execution_count": 13,
     "metadata": {},
     "output_type": "execute_result"
    }
   ],
   "source": [
    "s = df.pop('Days')\n",
    "new_df = pd.concat([df, s], 1)\n",
    "new_df"
   ]
  },
  {
   "cell_type": "markdown",
   "id": "32941ece",
   "metadata": {},
   "source": [
    "#### Implement Linear Regression Model\n",
    "\n",
    "* https://towardsdatascience.com/an-introduction-to-linear-regression-for-data-science-9056bbcdf675\n",
    "* https://stackoverflow.com/questions/29934083/linear-regression-on-pandas-dataframe-using-sklearn-indexerror-tuple-index-ou"
   ]
  },
  {
   "cell_type": "markdown",
   "id": "656c9b9b",
   "metadata": {},
   "source": [
    "### Linear Regression Model for New cases"
   ]
  },
  {
   "cell_type": "code",
   "execution_count": 14,
   "id": "63378df8",
   "metadata": {},
   "outputs": [],
   "source": [
    "X1 = new_df[['Days']]\n",
    "y1 = new_df['Num of Cases per day']"
   ]
  },
  {
   "cell_type": "code",
   "execution_count": 15,
   "id": "5cc41728",
   "metadata": {},
   "outputs": [],
   "source": [
    "z1 = X1.to_numpy()"
   ]
  },
  {
   "cell_type": "markdown",
   "id": "78f8aea3",
   "metadata": {},
   "source": [
    "Splitting the data into Test & Train"
   ]
  },
  {
   "cell_type": "code",
   "execution_count": 16,
   "id": "75f4483f",
   "metadata": {},
   "outputs": [],
   "source": [
    "x_train, x_test, y_train, y_test = train_test_split(X1, y1)"
   ]
  },
  {
   "cell_type": "code",
   "execution_count": 17,
   "id": "994e865a",
   "metadata": {},
   "outputs": [],
   "source": [
    "x_train = x_train.to_numpy()"
   ]
  },
  {
   "cell_type": "code",
   "execution_count": 18,
   "id": "e30ba2f4",
   "metadata": {
    "scrolled": false
   },
   "outputs": [
    {
     "data": {
      "image/png": "[encoded data removed]",
      "text/plain": [
       "<Figure size 432x288 with 1 Axes>"
      ]
     },
     "metadata": {
      "needs_background": "light"
     },
     "output_type": "display_data"
    }
   ],
   "source": [
    "from sklearn.linear_model import LinearRegression\n",
    "model = LinearRegression()\n",
    "model.fit(x_train, y_train)\n",
    "plt.scatter(x_train, y_train, color='orange')\n",
    "plt.plot(x_train, model.predict(x_train),color='blue', linewidth=2)\n",
    "plt.xlabel('Days')\n",
    "plt.ticklabel_format(style='plain')\n",
    "plt.ylabel('Num of Cases per day')\n",
    "plt.show()"
   ]
  },
  {
   "cell_type": "code",
   "execution_count": 19,
   "id": "4bc61641",
   "metadata": {},
   "outputs": [],
   "source": [
    "modelPred = model.predict(x_test)"
   ]
  },
  {
   "cell_type": "markdown",
   "id": "ccdbaa7a",
   "metadata": {},
   "source": [
    "#### I refered this code to calculate RMSE value\n",
    "* https://stackoverflow.com/questions/45173451/scikit-learn-how-to-calculate-root-mean-square-error-rmse-in-percentage"
   ]
  },
  {
   "cell_type": "markdown",
   "id": "c721353f",
   "metadata": {},
   "source": [
    "#### Creating a function for RMSE calculation"
   ]
  },
  {
   "cell_type": "code",
   "execution_count": 20,
   "id": "1f36c26a",
   "metadata": {},
   "outputs": [],
   "source": [
    "#Calculating RMSE\n",
    "def cal_rmse(a,b):\n",
    "    meanSquaredError=mean_squared_error(a, b)\n",
    "    print(\"MSE:\", meanSquaredError)\n",
    "    rootMeanSquaredError = np.sqrt(meanSquaredError)\n",
    "    print(\"RMSE:\", rootMeanSquaredError)"
   ]
  },
  {
   "cell_type": "markdown",
   "id": "eaa40162",
   "metadata": {},
   "source": [
    "#### Using the created function to calculate RMSE."
   ]
  },
  {
   "cell_type": "code",
   "execution_count": 21,
   "id": "c8f3502b",
   "metadata": {
    "scrolled": true
   },
   "outputs": [
    {
     "name": "stdout",
     "output_type": "stream",
     "text": [
      "MSE: 19656120993.50401\n",
      "RMSE: 140200.28884957408\n"
     ]
    }
   ],
   "source": [
    "cal_rmse(y_test, modelPred)"
   ]
  },
  {
   "cell_type": "markdown",
   "id": "6b0449ff",
   "metadata": {},
   "source": [
    "### Linear Regression Model for New deaths"
   ]
  },
  {
   "cell_type": "code",
   "execution_count": 22,
   "id": "4f3e3bb8",
   "metadata": {},
   "outputs": [],
   "source": [
    "X2 = new_df[['Days']]\n",
    "y2 = new_df['Num of Deaths per day']"
   ]
  },
  {
   "cell_type": "markdown",
   "id": "61ec259e",
   "metadata": {},
   "source": [
    "#### Splitting data into test/train"
   ]
  },
  {
   "cell_type": "code",
   "execution_count": 23,
   "id": "fe733937",
   "metadata": {},
   "outputs": [],
   "source": [
    "x_train_t, x_test_t, y_train_t, y_test_t = train_test_split(X2, y2)"
   ]
  },
  {
   "cell_type": "code",
   "execution_count": 24,
   "id": "bf94637b",
   "metadata": {},
   "outputs": [],
   "source": [
    "x_train_t = x_train_t.to_numpy()"
   ]
  },
  {
   "cell_type": "code",
   "execution_count": 25,
   "id": "c0a7bd5e",
   "metadata": {
    "scrolled": true
   },
   "outputs": [
    {
     "data": {
      "image/png": "[encoded data removed]",
      "text/plain": [
       "<Figure size 432x288 with 1 Axes>"
      ]
     },
     "metadata": {
      "needs_background": "light"
     },
     "output_type": "display_data"
    }
   ],
   "source": [
    "from sklearn.linear_model import LinearRegression\n",
    "model = LinearRegression()\n",
    "model.fit(x_train_t, y_train_t)\n",
    "plt.scatter(x_train_t, y_train_t,  color='orange')\n",
    "plt.plot(x_train_t, model.predict(x_train_t), color='blue', linewidth=2)\n",
    "plt.xlabel('Days')\n",
    "plt.ticklabel_format(style='plain')\n",
    "plt.ylabel('Num of deaths per day')\n",
    "plt.show()"
   ]
  },
  {
   "cell_type": "code",
   "execution_count": 26,
   "id": "3d0e35b0",
   "metadata": {},
   "outputs": [],
   "source": [
    "modelPred_t = model.predict(x_test_t)"
   ]
  },
  {
   "cell_type": "code",
   "execution_count": 27,
   "id": "9c0af080",
   "metadata": {},
   "outputs": [
    {
     "name": "stdout",
     "output_type": "stream",
     "text": [
      "MSE: 913040.6989835846\n",
      "RMSE: 955.5316315976069\n"
     ]
    }
   ],
   "source": [
    "#calculating RMSE values from the above defined function\n",
    "cal_rmse(y_test_t, modelPred_t)"
   ]
  },
  {
   "cell_type": "markdown",
   "id": "f3b2c331",
   "metadata": {},
   "source": [
    "## Non-Linear (polynomial) regression for cases"
   ]
  },
  {
   "cell_type": "code",
   "execution_count": 28,
   "id": "82fce9fd",
   "metadata": {},
   "outputs": [],
   "source": [
    "#x_train, x_test, y_train, y_test = train_test_split(X1, y1)"
   ]
  },
  {
   "cell_type": "markdown",
   "id": "432ba5cd",
   "metadata": {},
   "source": [
    "I have referred the method for sklearn using this:\n",
    "* https://youtu.be/SSmpyoIdJTc"
   ]
  },
  {
   "cell_type": "markdown",
   "id": "51851d05",
   "metadata": {},
   "source": [
    "#### Creating polynomial features for degree 2, 3 and 4"
   ]
  },
  {
   "cell_type": "code",
   "execution_count": 29,
   "id": "94da681a",
   "metadata": {},
   "outputs": [],
   "source": [
    "poly2 = PolynomialFeatures(degree = 2)\n",
    "poly3 = PolynomialFeatures(degree = 3)\n",
    "poly4 = PolynomialFeatures(degree = 4)"
   ]
  },
  {
   "cell_type": "code",
   "execution_count": 30,
   "id": "1a1cdfc5",
   "metadata": {},
   "outputs": [],
   "source": [
    "X_train_poly2 = poly2.fit_transform(x_train)\n",
    "\n",
    "X_train_poly3 = poly3.fit_transform(x_train)\n",
    "\n",
    "X_train_poly4 = poly4.fit_transform(x_train)"
   ]
  },
  {
   "cell_type": "code",
   "execution_count": 31,
   "id": "b04903b8",
   "metadata": {},
   "outputs": [],
   "source": [
    "y1 = pd.DataFrame(y_train)"
   ]
  },
  {
   "cell_type": "code",
   "execution_count": 32,
   "id": "773c8279",
   "metadata": {
    "scrolled": false
   },
   "outputs": [],
   "source": [
    "X_test_poly = poly2.fit_transform(x_test)"
   ]
  },
  {
   "cell_type": "markdown",
   "id": "b211b43e",
   "metadata": {},
   "source": [
    "#### Fitting the model"
   ]
  },
  {
   "cell_type": "code",
   "execution_count": 33,
   "id": "331df468",
   "metadata": {},
   "outputs": [],
   "source": [
    "from sklearn import linear_model\n",
    "model2 = linear_model.LinearRegression()\n",
    "model3 = linear_model.LinearRegression()\n",
    "model4 = linear_model.LinearRegression()\n",
    "#model = linear_model.LinearRegression()\n",
    "\n",
    "#degree 2\n",
    "model2 = model2.fit(X_train_poly2,y1)\n",
    "\n",
    "#degree 3\n",
    "model3 = model3.fit(X_train_poly3,y1)\n",
    "\n",
    "#degree 4\n",
    "model4 = model4.fit(X_train_poly4,y1)"
   ]
  },
  {
   "cell_type": "markdown",
   "id": "d2a8c567",
   "metadata": {},
   "source": [
    "#### Calculating co-efficient and intercept values for each model degree"
   ]
  },
  {
   "cell_type": "code",
   "execution_count": 34,
   "id": "87abf4b1",
   "metadata": {},
   "outputs": [],
   "source": [
    "coefficient2 = model2.coef_\n",
    "coefficient3 = model3.coef_\n",
    "coefficient4 = model4.coef_\n",
    "intercept2 = model2.intercept_\n",
    "intercept3 = model3.intercept_\n",
    "intercept4 = model4.intercept_"
   ]
  },
  {
   "cell_type": "markdown",
   "id": "8ab1b8fe",
   "metadata": {},
   "source": [
    "#### Flatenning to one dimenstional"
   ]
  },
  {
   "cell_type": "code",
   "execution_count": 36,
   "id": "4eec62f1",
   "metadata": {},
   "outputs": [],
   "source": [
    "coefficient2 = coefficient2.flatten()\n",
    "coefficient3 = coefficient3.flatten()\n",
    "coefficient4 = coefficient4.flatten()"
   ]
  },
  {
   "cell_type": "markdown",
   "id": "57e2e1d1",
   "metadata": {},
   "source": [
    "#### Generating response for each variable using the equations using intercept and co-effiecient for each degree models"
   ]
  },
  {
   "cell_type": "code",
   "execution_count": 37,
   "id": "0ba54575",
   "metadata": {},
   "outputs": [
    {
     "data": {
      "image/png": "[encoded data removed]",
      "text/plain": [
       "<Figure size 432x288 with 1 Axes>"
      ]
     },
     "metadata": {
      "needs_background": "light"
     },
     "output_type": "display_data"
    }
   ],
   "source": [
    "x_axis = np.arange(10,750,0.1)\n",
    "\n",
    "response2  = intercept2 + coefficient2[1]*x_axis + coefficient2[2]*x_axis**2 \n",
    "response3  = intercept3 + coefficient3[1]*x_axis + coefficient3[2]*x_axis**2 + coefficient3[3]*x_axis**3\n",
    "response4  = intercept4 + coefficient4[1]*x_axis + coefficient4[2]*x_axis**2 + coefficient4[3]*x_axis**3 + coefficient4[4]*x_axis**4\n",
    "\n",
    "\n",
    "plt.scatter(x_train,y1,color = 'orange')\n",
    "plt.plot(x_axis,response2, color = 'r') \n",
    "plt.plot(x_axis,response3, color = 'g') \n",
    "plt.plot(x_axis,response4, color = 'b') \n",
    "plt.xlabel('Days')\n",
    "plt.title(\"Polynomial regression for cases\")\n",
    "plt.legend([\"cases per day\", \"degree2\",\"degree3\",\"degree4\"], loc =\"upper left\")\n",
    "plt.ticklabel_format(style='plain')\n",
    "plt.ylabel('Num of cases per day')\n",
    "plt.show()"
   ]
  },
  {
   "cell_type": "code",
   "execution_count": 38,
   "id": "096e8f27",
   "metadata": {},
   "outputs": [],
   "source": [
    "modelPred_nlc = model.predict(x_test)"
   ]
  },
  {
   "cell_type": "code",
   "execution_count": 39,
   "id": "ebac627e",
   "metadata": {},
   "outputs": [
    {
     "name": "stdout",
     "output_type": "stream",
     "text": [
      "MSE: 35026977543.72668\n",
      "RMSE: 187154.95596891543\n"
     ]
    }
   ],
   "source": [
    "# Calculating RMSE using the function defined above\n",
    "cal_rmse(y_test, modelPred_nlc)"
   ]
  },
  {
   "cell_type": "markdown",
   "id": "fc786888",
   "metadata": {},
   "source": [
    "## Non-Linear (polynomial) regression for deaths"
   ]
  },
  {
   "cell_type": "code",
   "execution_count": 40,
   "id": "a4cb6a35",
   "metadata": {},
   "outputs": [],
   "source": [
    "#x_train_t, x_test_t, y_train_t, y_test_t = train_test_split(X2, y2)"
   ]
  },
  {
   "cell_type": "code",
   "execution_count": 41,
   "id": "ae2884f9",
   "metadata": {},
   "outputs": [],
   "source": [
    "X_train_poly2_d = poly2.fit_transform(x_train_t)\n",
    "\n",
    "X_train_poly3_d = poly3.fit_transform(x_train_t)\n",
    "\n",
    "X_train_poly4_d = poly4.fit_transform(x_train_t)"
   ]
  },
  {
   "cell_type": "code",
   "execution_count": 42,
   "id": "1e4e3b0c",
   "metadata": {},
   "outputs": [],
   "source": [
    "y2 = pd.DataFrame(y_train_t)"
   ]
  },
  {
   "cell_type": "markdown",
   "id": "b3515b5e",
   "metadata": {},
   "source": [
    "#### Fitting the model"
   ]
  },
  {
   "cell_type": "code",
   "execution_count": 43,
   "id": "d58828e3",
   "metadata": {},
   "outputs": [],
   "source": [
    "from sklearn import linear_model\n",
    "model2_d = linear_model.LinearRegression()\n",
    "model3_d = linear_model.LinearRegression()\n",
    "model4_d = linear_model.LinearRegression()\n",
    "#model = linear_model.LinearRegression()\n",
    "\n",
    "#degree 2\n",
    "model2_d = model2_d.fit(X_train_poly2_d,y2)\n",
    "\n",
    "#degree 3\n",
    "model3_d = model3_d.fit(X_train_poly3_d,y2)\n",
    "\n",
    "#degree 4\n",
    "model4_d = model4_d.fit(X_train_poly4_d,y2)"
   ]
  },
  {
   "cell_type": "markdown",
   "id": "1681b074",
   "metadata": {},
   "source": [
    "#### Calculating co-efficient and intercept for each model"
   ]
  },
  {
   "cell_type": "code",
   "execution_count": 44,
   "id": "2c57789b",
   "metadata": {},
   "outputs": [],
   "source": [
    "coefficient2_d = model2_d.coef_\n",
    "coefficient3_d = model3_d.coef_\n",
    "coefficient4_d = model4_d.coef_\n",
    "intercept2_d = model2_d.intercept_\n",
    "intercept3_d = model3_d.intercept_\n",
    "intercept4_d = model4_d.intercept_"
   ]
  },
  {
   "cell_type": "markdown",
   "id": "236f8585",
   "metadata": {},
   "source": [
    "#### Flatenning to one dimension"
   ]
  },
  {
   "cell_type": "code",
   "execution_count": 46,
   "id": "e6d53b51",
   "metadata": {},
   "outputs": [],
   "source": [
    "coefficient2_d = coefficient2_d.flatten()\n",
    "coefficient3_d = coefficient3_d.flatten()\n",
    "coefficient4_d = coefficient4_d.flatten()"
   ]
  },
  {
   "cell_type": "code",
   "execution_count": 47,
   "id": "5bacddc5",
   "metadata": {},
   "outputs": [
    {
     "data": {
      "image/png": "[encoded data removed]",
      "text/plain": [
       "<Figure size 432x288 with 1 Axes>"
      ]
     },
     "metadata": {
      "needs_background": "light"
     },
     "output_type": "display_data"
    }
   ],
   "source": [
    "x_axis = np.arange(10,750,0.1)\n",
    "\n",
    "response2_d  = intercept2_d + coefficient2_d[1]*x_axis + coefficient2_d[2]*x_axis**2 \n",
    "response3_d  = intercept3_d + coefficient3_d[1]*x_axis + coefficient3_d[2]*x_axis**2 + coefficient3_d[3]*x_axis**3\n",
    "response4_d  = intercept4_d + coefficient4_d[1]*x_axis + coefficient4_d[2]*x_axis**2 + coefficient4_d[3]*x_axis**3 + coefficient4_d[4]*x_axis**4\n",
    "\n",
    "plt.scatter(x_train_t,y2,color = 'orange')\n",
    "plt.plot(x_axis,response2_d, color = 'r') \n",
    "plt.plot(x_axis,response3_d, color = 'g') \n",
    "plt.plot(x_axis,response4_d, color = 'b') \n",
    "plt.xlabel('Days')\n",
    "plt.title(\"Polynomial regression for Deaths\")\n",
    "plt.legend([\"deaths per day\", \"degree2\",\"degree3\",\"degree4\"], loc =\"upper left\")\n",
    "plt.ticklabel_format(style='plain')\n",
    "plt.ylabel('Num of deaths per day')\n",
    "plt.show()"
   ]
  },
  {
   "cell_type": "code",
   "execution_count": 48,
   "id": "2f5bfb11",
   "metadata": {},
   "outputs": [],
   "source": [
    "modelPred_nld = model.predict(x_test_t)"
   ]
  },
  {
   "cell_type": "markdown",
   "id": "aa09f4f8",
   "metadata": {},
   "source": [
    "#### Calculating RMSE using the function defined above"
   ]
  },
  {
   "cell_type": "code",
   "execution_count": 49,
   "id": "00ec47b9",
   "metadata": {},
   "outputs": [
    {
     "name": "stdout",
     "output_type": "stream",
     "text": [
      "MSE: 913040.6989835846\n",
      "RMSE: 955.5316315976069\n"
     ]
    }
   ],
   "source": [
    "cal_rmse(y_test_t, modelPred_nld)"
   ]
  },
  {
   "cell_type": "markdown",
   "id": "535ade8c",
   "metadata": {},
   "source": [
    "### Plot trend line along for the data along with the forecast of 1 week ahead."
   ]
  },
  {
   "cell_type": "markdown",
   "id": "467e412a",
   "metadata": {},
   "source": [
    "We have referred the below site for generating new dates\n",
    "* https://www.tutorialkart.com/python/python-range/python-range-to-list/#:~:text=To%20convert%20a%20Python%20Range%20to%20Python%20List%2C%20use%20list,item%20of%20range%20to%20list."
   ]
  },
  {
   "cell_type": "markdown",
   "id": "4b452f9a",
   "metadata": {},
   "source": [
    "#### Adding next seven days data and predcting using model.predict()"
   ]
  },
  {
   "cell_type": "code",
   "execution_count": 50,
   "id": "cf9c1d01",
   "metadata": {},
   "outputs": [],
   "source": [
    "# Adding new 7 days dates and data\n",
    "new_dates = range(748, 756, 1)\n",
    "new_dates = list(new_dates)\n",
    "new_dates = np.arange(748,755).reshape(-1,1)\n",
    "\n",
    "m1 = LinearRegression()\n",
    "m1.fit(x_train,y1)\n",
    "\n",
    "m2 = LinearRegression()\n",
    "m2.fit(x_train_t,y_train_t)\n",
    "\n",
    "\n",
    "#new cases forecast for 7 days\n",
    "new_cases = m1.predict(new_dates)\n",
    "new_deaths = m2.predict(new_dates)\n",
    "\n",
    "p = pd.DataFrame(new_cases)\n",
    "r = pd.DataFrame(new_deaths)\n",
    "df_added = new_df\n",
    "frames = [df_added['Num of Cases per day'], p]\n",
    "result = pd.concat(frames)\n",
    "# deaths\n",
    "frames2 = [df_added['Num of Deaths per day'], r]\n",
    "result2 = pd.concat(frames2)\n"
   ]
  },
  {
   "cell_type": "markdown",
   "id": "637605c8",
   "metadata": {},
   "source": [
    "#### Creating a new dataframe for the predicted data"
   ]
  },
  {
   "cell_type": "code",
   "execution_count": 51,
   "id": "2ef90be2",
   "metadata": {},
   "outputs": [],
   "source": [
    "p = pd.DataFrame(new_cases)\n",
    "r = pd.DataFrame(new_deaths)"
   ]
  },
  {
   "cell_type": "code",
   "execution_count": 52,
   "id": "591468e1",
   "metadata": {},
   "outputs": [
    {
     "data": {
      "text/html": [
       "<div>\n",
       "<style scoped>\n",
       "    .dataframe tbody tr th:only-of-type {\n",
       "        vertical-align: middle;\n",
       "    }\n",
       "\n",
       "    .dataframe tbody tr th {\n",
       "        vertical-align: top;\n",
       "    }\n",
       "\n",
       "    .dataframe thead th {\n",
       "        text-align: right;\n",
       "    }\n",
       "</style>\n",
       "<table border=\"1\" class=\"dataframe\">\n",
       "  <thead>\n",
       "    <tr style=\"text-align: right;\">\n",
       "      <th></th>\n",
       "      <th>Date</th>\n",
       "      <th>Num of Cases per day</th>\n",
       "      <th>Num of Deaths per day</th>\n",
       "      <th>Days</th>\n",
       "    </tr>\n",
       "  </thead>\n",
       "  <tbody>\n",
       "    <tr>\n",
       "      <th>1</th>\n",
       "      <td>2020-01-23</td>\n",
       "      <td>11.0</td>\n",
       "      <td>0.0</td>\n",
       "      <td>1</td>\n",
       "    </tr>\n",
       "    <tr>\n",
       "      <th>2</th>\n",
       "      <td>2020-01-24</td>\n",
       "      <td>7.0</td>\n",
       "      <td>0.0</td>\n",
       "      <td>2</td>\n",
       "    </tr>\n",
       "    <tr>\n",
       "      <th>3</th>\n",
       "      <td>2020-01-25</td>\n",
       "      <td>10.0</td>\n",
       "      <td>0.0</td>\n",
       "      <td>3</td>\n",
       "    </tr>\n",
       "    <tr>\n",
       "      <th>4</th>\n",
       "      <td>2020-01-26</td>\n",
       "      <td>8.0</td>\n",
       "      <td>0.0</td>\n",
       "      <td>4</td>\n",
       "    </tr>\n",
       "    <tr>\n",
       "      <th>5</th>\n",
       "      <td>2020-01-27</td>\n",
       "      <td>10.0</td>\n",
       "      <td>0.0</td>\n",
       "      <td>5</td>\n",
       "    </tr>\n",
       "    <tr>\n",
       "      <th>...</th>\n",
       "      <td>...</td>\n",
       "      <td>...</td>\n",
       "      <td>...</td>\n",
       "      <td>...</td>\n",
       "    </tr>\n",
       "    <tr>\n",
       "      <th>743</th>\n",
       "      <td>2022-02-03</td>\n",
       "      <td>274783.0</td>\n",
       "      <td>2073.0</td>\n",
       "      <td>743</td>\n",
       "    </tr>\n",
       "    <tr>\n",
       "      <th>744</th>\n",
       "      <td>2022-02-04</td>\n",
       "      <td>400750.0</td>\n",
       "      <td>3918.0</td>\n",
       "      <td>744</td>\n",
       "    </tr>\n",
       "    <tr>\n",
       "      <th>745</th>\n",
       "      <td>2022-02-05</td>\n",
       "      <td>49063.0</td>\n",
       "      <td>231.0</td>\n",
       "      <td>745</td>\n",
       "    </tr>\n",
       "    <tr>\n",
       "      <th>746</th>\n",
       "      <td>2022-02-06</td>\n",
       "      <td>44224.0</td>\n",
       "      <td>278.0</td>\n",
       "      <td>746</td>\n",
       "    </tr>\n",
       "    <tr>\n",
       "      <th>747</th>\n",
       "      <td>2022-02-07</td>\n",
       "      <td>255948.0</td>\n",
       "      <td>2112.0</td>\n",
       "      <td>747</td>\n",
       "    </tr>\n",
       "  </tbody>\n",
       "</table>\n",
       "<p>747 rows × 4 columns</p>\n",
       "</div>"
      ],
      "text/plain": [
       "          Date  Num of Cases per day  Num of Deaths per day  Days\n",
       "1   2020-01-23                  11.0                    0.0     1\n",
       "2   2020-01-24                   7.0                    0.0     2\n",
       "3   2020-01-25                  10.0                    0.0     3\n",
       "4   2020-01-26                   8.0                    0.0     4\n",
       "5   2020-01-27                  10.0                    0.0     5\n",
       "..         ...                   ...                    ...   ...\n",
       "743 2022-02-03              274783.0                 2073.0   743\n",
       "744 2022-02-04              400750.0                 3918.0   744\n",
       "745 2022-02-05               49063.0                  231.0   745\n",
       "746 2022-02-06               44224.0                  278.0   746\n",
       "747 2022-02-07              255948.0                 2112.0   747\n",
       "\n",
       "[747 rows x 4 columns]"
      ]
     },
     "execution_count": 52,
     "metadata": {},
     "output_type": "execute_result"
    }
   ],
   "source": [
    "df_added = new_df\n",
    "df_added"
   ]
  },
  {
   "cell_type": "markdown",
   "id": "08a7db2b",
   "metadata": {},
   "source": [
    "#### Concate generated data with original data"
   ]
  },
  {
   "cell_type": "code",
   "execution_count": 53,
   "id": "4a542fdb",
   "metadata": {
    "scrolled": false
   },
   "outputs": [],
   "source": [
    "frames = [df_added['Num of Cases per day'], p]\n",
    "result = pd.concat(frames)\n",
    "# deaths\n",
    "frames2 = [df_added['Num of Deaths per day'], r]\n",
    "result2 = pd.concat(frames2)"
   ]
  },
  {
   "cell_type": "markdown",
   "id": "3e474af0",
   "metadata": {},
   "source": [
    "#### Renaming the dataframe columns"
   ]
  },
  {
   "cell_type": "code",
   "execution_count": 54,
   "id": "daf2ff01",
   "metadata": {},
   "outputs": [],
   "source": [
    "result.rename(columns = {0: 'Num of Cases per day'}, inplace = True)\n",
    "result2.rename(columns = {0: 'Num of Deaths per day'}, inplace = True)"
   ]
  },
  {
   "cell_type": "markdown",
   "id": "c57bb9ef",
   "metadata": {},
   "source": [
    "We have referred the dataframe concatenation from here.\n",
    "* https://www.geeksforgeeks.org/how-to-combine-two-dataframe-in-python-pandas/"
   ]
  },
  {
   "cell_type": "code",
   "execution_count": 55,
   "id": "423136b2",
   "metadata": {},
   "outputs": [],
   "source": [
    "q = pd.DataFrame(new_dates)\n",
    "frames1 = [df_added['Days'], q]\n",
    "result1 = pd.concat(frames1)\n",
    "result1.rename(columns = {0: 'Days'}, inplace = True)"
   ]
  },
  {
   "cell_type": "code",
   "execution_count": 56,
   "id": "1f393b42",
   "metadata": {},
   "outputs": [],
   "source": [
    "df1 = pd.concat([result, result1,result2], axis=1)"
   ]
  },
  {
   "cell_type": "code",
   "execution_count": 57,
   "id": "8a3bb0e1",
   "metadata": {},
   "outputs": [
    {
     "data": {
      "text/html": [
       "<div>\n",
       "<style scoped>\n",
       "    .dataframe tbody tr th:only-of-type {\n",
       "        vertical-align: middle;\n",
       "    }\n",
       "\n",
       "    .dataframe tbody tr th {\n",
       "        vertical-align: top;\n",
       "    }\n",
       "\n",
       "    .dataframe thead th {\n",
       "        text-align: right;\n",
       "    }\n",
       "</style>\n",
       "<table border=\"1\" class=\"dataframe\">\n",
       "  <thead>\n",
       "    <tr style=\"text-align: right;\">\n",
       "      <th></th>\n",
       "      <th>Num of Cases per day</th>\n",
       "      <th>Days</th>\n",
       "      <th>Num of Deaths per day</th>\n",
       "    </tr>\n",
       "  </thead>\n",
       "  <tbody>\n",
       "    <tr>\n",
       "      <th>1</th>\n",
       "      <td>11.000000</td>\n",
       "      <td>1</td>\n",
       "      <td>0.000000</td>\n",
       "    </tr>\n",
       "    <tr>\n",
       "      <th>2</th>\n",
       "      <td>7.000000</td>\n",
       "      <td>2</td>\n",
       "      <td>0.000000</td>\n",
       "    </tr>\n",
       "    <tr>\n",
       "      <th>3</th>\n",
       "      <td>10.000000</td>\n",
       "      <td>3</td>\n",
       "      <td>0.000000</td>\n",
       "    </tr>\n",
       "    <tr>\n",
       "      <th>4</th>\n",
       "      <td>8.000000</td>\n",
       "      <td>4</td>\n",
       "      <td>0.000000</td>\n",
       "    </tr>\n",
       "    <tr>\n",
       "      <th>5</th>\n",
       "      <td>10.000000</td>\n",
       "      <td>5</td>\n",
       "      <td>0.000000</td>\n",
       "    </tr>\n",
       "    <tr>\n",
       "      <th>...</th>\n",
       "      <td>...</td>\n",
       "      <td>...</td>\n",
       "      <td>...</td>\n",
       "    </tr>\n",
       "    <tr>\n",
       "      <th>2</th>\n",
       "      <td>203065.158575</td>\n",
       "      <td>750</td>\n",
       "      <td>1391.915035</td>\n",
       "    </tr>\n",
       "    <tr>\n",
       "      <th>3</th>\n",
       "      <td>203353.389131</td>\n",
       "      <td>751</td>\n",
       "      <td>1392.550191</td>\n",
       "    </tr>\n",
       "    <tr>\n",
       "      <th>4</th>\n",
       "      <td>203641.619688</td>\n",
       "      <td>752</td>\n",
       "      <td>1393.185347</td>\n",
       "    </tr>\n",
       "    <tr>\n",
       "      <th>5</th>\n",
       "      <td>203929.850244</td>\n",
       "      <td>753</td>\n",
       "      <td>1393.820503</td>\n",
       "    </tr>\n",
       "    <tr>\n",
       "      <th>6</th>\n",
       "      <td>204218.080801</td>\n",
       "      <td>754</td>\n",
       "      <td>1394.455659</td>\n",
       "    </tr>\n",
       "  </tbody>\n",
       "</table>\n",
       "<p>754 rows × 3 columns</p>\n",
       "</div>"
      ],
      "text/plain": [
       "    Num of Cases per day  Days  Num of Deaths per day\n",
       "1              11.000000     1               0.000000\n",
       "2               7.000000     2               0.000000\n",
       "3              10.000000     3               0.000000\n",
       "4               8.000000     4               0.000000\n",
       "5              10.000000     5               0.000000\n",
       "..                   ...   ...                    ...\n",
       "2          203065.158575   750            1391.915035\n",
       "3          203353.389131   751            1392.550191\n",
       "4          203641.619688   752            1393.185347\n",
       "5          203929.850244   753            1393.820503\n",
       "6          204218.080801   754            1394.455659\n",
       "\n",
       "[754 rows x 3 columns]"
      ]
     },
     "execution_count": 57,
     "metadata": {},
     "output_type": "execute_result"
    }
   ],
   "source": [
    "df1"
   ]
  },
  {
   "cell_type": "markdown",
   "id": "956ad387",
   "metadata": {},
   "source": [
    "We have referred plotly plots from the below link to create trendline:\n",
    "* https://plotly.com/python/ml-regression/"
   ]
  },
  {
   "cell_type": "markdown",
   "id": "4fa8fc05",
   "metadata": {},
   "source": [
    "#### Creating trendline for daily cases based on the available data"
   ]
  },
  {
   "cell_type": "code",
   "execution_count": 62,
   "id": "959bcd88",
   "metadata": {},
   "outputs": [
    {
     "data": {
      "image/png": "[encoded data removed]",
      "text/plain": [
       "<IPython.core.display.Image object>"
      ]
     },
     "execution_count": 62,
     "metadata": {},
     "output_type": "execute_result"
    }
   ],
   "source": [
    "#original 747 columns\n",
    "df = new_df\n",
    "\n",
    "fig = px.scatter(new_df, x=\"Days\", y=\"Num of Cases per day\", trendline=\"ols\",trendline_color_override=\"red\")\n",
    "#fig.show()\n",
    "fig.write_image(\"1.png\")\n",
    "Image(filename=\"1.png\")"
   ]
  },
  {
   "cell_type": "markdown",
   "id": "12bbc959",
   "metadata": {},
   "source": [
    "#### Creating trendline for daily cases based on the added seven days data"
   ]
  },
  {
   "cell_type": "code",
   "execution_count": 63,
   "id": "636384d9",
   "metadata": {
    "scrolled": false
   },
   "outputs": [
    {
     "data": {
      "image/png": "[encoded data removed]",
      "text/plain": [
       "<IPython.core.display.Image object>"
      ]
     },
     "execution_count": 63,
     "metadata": {},
     "output_type": "execute_result"
    }
   ],
   "source": [
    "#UPdated forecast for 7 days\n",
    "fig = px.scatter(df1, x=\"Days\", y=\"Num of Cases per day\", trendline=\"ols\",trendline_color_override=\"red\")\n",
    "#fig.show()\n",
    "fig.write_image(\"2.png\")\n",
    "Image(filename=\"2.png\")"
   ]
  },
  {
   "cell_type": "markdown",
   "id": "60645316",
   "metadata": {},
   "source": [
    "## Inferences:\n",
    "\n",
    "* From the above graphs where  we try to compare with the original dataset, the new datapoints generated lie in range beyond 747   where 747 is the last data point in the original dataset. \n",
    "* After modelling and predicting the new values we see the there was a rise in datapoints from 747 to 754. This range of days on   the X-axis prove that the values have been predicted for a week data based on the model trained on the original dataset.\n",
    "  The no. of cases on 754th day is 212.6448K.\n"
   ]
  },
  {
   "cell_type": "markdown",
   "id": "a465552a",
   "metadata": {},
   "source": [
    "#### Creating trendline for daily deaths based on the available data"
   ]
  },
  {
   "cell_type": "code",
   "execution_count": 64,
   "id": "9fb07e59",
   "metadata": {},
   "outputs": [
    {
     "data": {
      "image/png": "[encoded data removed]",
      "text/plain": [
       "<IPython.core.display.Image object>"
      ]
     },
     "execution_count": 64,
     "metadata": {},
     "output_type": "execute_result"
    }
   ],
   "source": [
    "#Orignal Death Trend line\n",
    "df = new_df\n",
    "\n",
    "fig = px.scatter(new_df, x=\"Days\", y=\"Num of Deaths per day\", trendline=\"ols\",trendline_color_override=\"red\")\n",
    "#fig.show()\n",
    "\n",
    "fig.write_image(\"3.png\")\n",
    "Image(filename=\"3.png\")"
   ]
  },
  {
   "cell_type": "markdown",
   "id": "6930820c",
   "metadata": {},
   "source": [
    "#### Creating trendline for daily deaths based on added seven days data"
   ]
  },
  {
   "cell_type": "code",
   "execution_count": 65,
   "id": "384dd1f8",
   "metadata": {},
   "outputs": [
    {
     "data": {
      "image/png": "[encoded data removed]",
      "text/plain": [
       "<IPython.core.display.Image object>"
      ]
     },
     "execution_count": 65,
     "metadata": {},
     "output_type": "execute_result"
    }
   ],
   "source": [
    "#Updated forecast for 7 days\n",
    "fig = px.scatter(df1, x=\"Days\", y=\"Num of Deaths per day\", trendline=\"ols\",trendline_color_override=\"red\")\n",
    "#fig.show()\n",
    "\n",
    "fig.write_image(\"4.png\")\n",
    "Image(filename=\"4.png\")"
   ]
  },
  {
   "cell_type": "markdown",
   "id": "0e6afb22",
   "metadata": {},
   "source": [
    " ## Inferences:\n",
    "\n",
    "* From the above graphs where  we try to compare with the original dataset, the new datapoints generated lie in range beyond 747   where 747 is the last data point in the original dataset. \n",
    "* After modelling and predicting the new values we see the there was a rise in datapoints from 747 to 754. This range of days on   the X-axis prove that the values have been predicted for a week data based on the model trained on the original dataset. The     no. of cases on 754th day is 1406.975"
   ]
  }
 ],
 "metadata": {
  "kernelspec": {
   "display_name": "Python 3 (ipykernel)",
   "language": "python",
   "name": "python3"
  },
  "language_info": {
   "codemirror_mode": {
    "name": "ipython",
    "version": 3
   },
   "file_extension": ".py",
   "mimetype": "text/x-python",
   "name": "python",
   "nbconvert_exporter": "python",
   "pygments_lexer": "ipython3",
   "version": "3.8.8"
  }
 },
 "nbformat": 4,
 "nbformat_minor": 5
}
