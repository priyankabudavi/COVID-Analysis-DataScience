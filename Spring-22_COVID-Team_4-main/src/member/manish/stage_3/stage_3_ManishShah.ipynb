{
 "cells": [
  {
   "cell_type": "markdown",
   "id": "7b790320",
   "metadata": {},
   "source": [
    "# Project Stage - III \n",
    "# (Distributions and Hypothesis Testing)\n",
    "\n",
    "## Goals\n",
    "* The goal of Stage III is to develop distributions and formal hypothesis tests for the intuitions you had in Stage I and II and utilize statistical modeling to prove/disprove them."
   ]
  },
  {
   "cell_type": "code",
   "execution_count": 3,
   "id": "f236f272",
   "metadata": {},
   "outputs": [],
   "source": [
    "import pandas as pd\n",
    "from datetime import datetime\n",
    "import plotly.express as px\n",
    "import plotly.graph_objs as go\n",
    "import numpy as np\n",
    "from IPython.display import Image\n",
    "import scipy.stats as stats\n",
    "import matplotlib.pyplot as plt\n",
    "\n",
    "from plotly.subplots import make_subplots\n",
    "import seaborn as sns\n",
    "\n",
    "\n",
    "#import exception handling\n",
    "import warnings\n",
    "warnings.filterwarnings('ignore')"
   ]
  },
  {
   "cell_type": "code",
   "execution_count": 4,
   "id": "b42db58f",
   "metadata": {},
   "outputs": [],
   "source": [
    "#importing super dataset\n",
    "data = pd.read_csv('../../../../data/stage_3/superdataset.csv')\n",
    "#data = pd.read_csv('superdataset.csv')\n",
    "#data = pd.read_csv('superdataset.csv')"
   ]
  },
  {
   "cell_type": "code",
   "execution_count": 5,
   "id": "db9837fa",
   "metadata": {},
   "outputs": [],
   "source": [
    "data['confirmed_daily'] = data['Confirmed'].diff()\n",
    "data['deaths_daily'] = data['Deaths'].diff()"
   ]
  },
  {
   "cell_type": "code",
   "execution_count": 6,
   "id": "31e4e880",
   "metadata": {},
   "outputs": [
    {
     "data": {
      "text/html": [
       "<div>\n",
       "<style scoped>\n",
       "    .dataframe tbody tr th:only-of-type {\n",
       "        vertical-align: middle;\n",
       "    }\n",
       "\n",
       "    .dataframe tbody tr th {\n",
       "        vertical-align: top;\n",
       "    }\n",
       "\n",
       "    .dataframe thead th {\n",
       "        text-align: right;\n",
       "    }\n",
       "</style>\n",
       "<table border=\"1\" class=\"dataframe\">\n",
       "  <thead>\n",
       "    <tr style=\"text-align: right;\">\n",
       "      <th></th>\n",
       "      <th>countyFIPS</th>\n",
       "      <th>County_Name</th>\n",
       "      <th>State</th>\n",
       "      <th>Date</th>\n",
       "      <th>Confirmed</th>\n",
       "      <th>Deaths</th>\n",
       "      <th>population</th>\n",
       "      <th>confirmed_daily</th>\n",
       "      <th>deaths_daily</th>\n",
       "    </tr>\n",
       "  </thead>\n",
       "  <tbody>\n",
       "    <tr>\n",
       "      <th>1</th>\n",
       "      <td>0</td>\n",
       "      <td>statewide unallocated</td>\n",
       "      <td>AL</td>\n",
       "      <td>2020-01-23</td>\n",
       "      <td>0</td>\n",
       "      <td>0</td>\n",
       "      <td>0</td>\n",
       "      <td>0.0</td>\n",
       "      <td>0.0</td>\n",
       "    </tr>\n",
       "    <tr>\n",
       "      <th>2</th>\n",
       "      <td>0</td>\n",
       "      <td>statewide unallocated</td>\n",
       "      <td>AL</td>\n",
       "      <td>2020-01-24</td>\n",
       "      <td>0</td>\n",
       "      <td>0</td>\n",
       "      <td>0</td>\n",
       "      <td>0.0</td>\n",
       "      <td>0.0</td>\n",
       "    </tr>\n",
       "    <tr>\n",
       "      <th>3</th>\n",
       "      <td>0</td>\n",
       "      <td>statewide unallocated</td>\n",
       "      <td>AL</td>\n",
       "      <td>2020-01-25</td>\n",
       "      <td>0</td>\n",
       "      <td>0</td>\n",
       "      <td>0</td>\n",
       "      <td>0.0</td>\n",
       "      <td>0.0</td>\n",
       "    </tr>\n",
       "    <tr>\n",
       "      <th>4</th>\n",
       "      <td>0</td>\n",
       "      <td>statewide unallocated</td>\n",
       "      <td>AL</td>\n",
       "      <td>2020-01-26</td>\n",
       "      <td>0</td>\n",
       "      <td>0</td>\n",
       "      <td>0</td>\n",
       "      <td>0.0</td>\n",
       "      <td>0.0</td>\n",
       "    </tr>\n",
       "    <tr>\n",
       "      <th>5</th>\n",
       "      <td>0</td>\n",
       "      <td>statewide unallocated</td>\n",
       "      <td>AL</td>\n",
       "      <td>2020-01-27</td>\n",
       "      <td>0</td>\n",
       "      <td>0</td>\n",
       "      <td>0</td>\n",
       "      <td>0.0</td>\n",
       "      <td>0.0</td>\n",
       "    </tr>\n",
       "  </tbody>\n",
       "</table>\n",
       "</div>"
      ],
      "text/plain": [
       "   countyFIPS            County_Name State        Date  Confirmed  Deaths  \\\n",
       "1           0  statewide unallocated    AL  2020-01-23          0       0   \n",
       "2           0  statewide unallocated    AL  2020-01-24          0       0   \n",
       "3           0  statewide unallocated    AL  2020-01-25          0       0   \n",
       "4           0  statewide unallocated    AL  2020-01-26          0       0   \n",
       "5           0  statewide unallocated    AL  2020-01-27          0       0   \n",
       "\n",
       "   population  confirmed_daily  deaths_daily  \n",
       "1           0              0.0           0.0  \n",
       "2           0              0.0           0.0  \n",
       "3           0              0.0           0.0  \n",
       "4           0              0.0           0.0  \n",
       "5           0              0.0           0.0  "
      ]
     },
     "execution_count": 6,
     "metadata": {},
     "output_type": "execute_result"
    }
   ],
   "source": [
    "# drop the messed up values from 2020-01-22\n",
    "data.drop(data[(data['Date'] == '2020-01-22')].index, inplace=True)\n",
    "data.head()"
   ]
  },
  {
   "cell_type": "code",
   "execution_count": 7,
   "id": "a77a03f8",
   "metadata": {},
   "outputs": [],
   "source": [
    "data['Date'] = data.Date.apply(lambda d: datetime.strptime(d, '%Y-%m-%d'))\n",
    "data = data[data.countyFIPS != 0]"
   ]
  },
  {
   "cell_type": "code",
   "execution_count": 8,
   "id": "288baa23",
   "metadata": {},
   "outputs": [
    {
     "data": {
      "text/html": [
       "<div>\n",
       "<style scoped>\n",
       "    .dataframe tbody tr th:only-of-type {\n",
       "        vertical-align: middle;\n",
       "    }\n",
       "\n",
       "    .dataframe tbody tr th {\n",
       "        vertical-align: top;\n",
       "    }\n",
       "\n",
       "    .dataframe thead th {\n",
       "        text-align: right;\n",
       "    }\n",
       "</style>\n",
       "<table border=\"1\" class=\"dataframe\">\n",
       "  <thead>\n",
       "    <tr style=\"text-align: right;\">\n",
       "      <th></th>\n",
       "      <th>State</th>\n",
       "      <th>Date</th>\n",
       "      <th>Confirmed</th>\n",
       "      <th>Deaths</th>\n",
       "      <th>population</th>\n",
       "      <th>confirmed_daily</th>\n",
       "      <th>deaths_daily</th>\n",
       "    </tr>\n",
       "  </thead>\n",
       "  <tbody>\n",
       "    <tr>\n",
       "      <th>1426437</th>\n",
       "      <td>NC</td>\n",
       "      <td>2020-01-23</td>\n",
       "      <td>0</td>\n",
       "      <td>0</td>\n",
       "      <td>169509</td>\n",
       "      <td>0.0</td>\n",
       "      <td>0.0</td>\n",
       "    </tr>\n",
       "    <tr>\n",
       "      <th>1426438</th>\n",
       "      <td>NC</td>\n",
       "      <td>2020-01-24</td>\n",
       "      <td>0</td>\n",
       "      <td>0</td>\n",
       "      <td>169509</td>\n",
       "      <td>0.0</td>\n",
       "      <td>0.0</td>\n",
       "    </tr>\n",
       "    <tr>\n",
       "      <th>1426439</th>\n",
       "      <td>NC</td>\n",
       "      <td>2020-01-25</td>\n",
       "      <td>0</td>\n",
       "      <td>0</td>\n",
       "      <td>169509</td>\n",
       "      <td>0.0</td>\n",
       "      <td>0.0</td>\n",
       "    </tr>\n",
       "    <tr>\n",
       "      <th>1426440</th>\n",
       "      <td>NC</td>\n",
       "      <td>2020-01-26</td>\n",
       "      <td>0</td>\n",
       "      <td>0</td>\n",
       "      <td>169509</td>\n",
       "      <td>0.0</td>\n",
       "      <td>0.0</td>\n",
       "    </tr>\n",
       "    <tr>\n",
       "      <th>1426441</th>\n",
       "      <td>NC</td>\n",
       "      <td>2020-01-27</td>\n",
       "      <td>0</td>\n",
       "      <td>0</td>\n",
       "      <td>169509</td>\n",
       "      <td>0.0</td>\n",
       "      <td>0.0</td>\n",
       "    </tr>\n",
       "  </tbody>\n",
       "</table>\n",
       "</div>"
      ],
      "text/plain": [
       "        State       Date  Confirmed  Deaths  population  confirmed_daily  \\\n",
       "1426437    NC 2020-01-23          0       0      169509              0.0   \n",
       "1426438    NC 2020-01-24          0       0      169509              0.0   \n",
       "1426439    NC 2020-01-25          0       0      169509              0.0   \n",
       "1426440    NC 2020-01-26          0       0      169509              0.0   \n",
       "1426441    NC 2020-01-27          0       0      169509              0.0   \n",
       "\n",
       "         deaths_daily  \n",
       "1426437           0.0  \n",
       "1426438           0.0  \n",
       "1426439           0.0  \n",
       "1426440           0.0  \n",
       "1426441           0.0  "
      ]
     },
     "execution_count": 8,
     "metadata": {},
     "output_type": "execute_result"
    }
   ],
   "source": [
    "# Simplify the data to the state and relevant column\n",
    "# County name will not be included because we're just looking at the state trends overall\n",
    "\n",
    "nc = data[data['State'] == 'NC']\n",
    "nc = nc[['State', 'Date', 'Confirmed', 'Deaths', 'population', 'confirmed_daily', 'deaths_daily']]\n",
    "nc.head()"
   ]
  },
  {
   "cell_type": "code",
   "execution_count": 9,
   "id": "6a80002e",
   "metadata": {},
   "outputs": [
    {
     "data": {
      "text/html": [
       "<div>\n",
       "<style scoped>\n",
       "    .dataframe tbody tr th:only-of-type {\n",
       "        vertical-align: middle;\n",
       "    }\n",
       "\n",
       "    .dataframe tbody tr th {\n",
       "        vertical-align: top;\n",
       "    }\n",
       "\n",
       "    .dataframe thead th {\n",
       "        text-align: right;\n",
       "    }\n",
       "</style>\n",
       "<table border=\"1\" class=\"dataframe\">\n",
       "  <thead>\n",
       "    <tr style=\"text-align: right;\">\n",
       "      <th></th>\n",
       "      <th>State</th>\n",
       "      <th>Date</th>\n",
       "      <th>Confirmed</th>\n",
       "      <th>Deaths</th>\n",
       "      <th>population</th>\n",
       "      <th>confirmed_daily</th>\n",
       "      <th>deaths_daily</th>\n",
       "      <th>confirmed_daily_normalized</th>\n",
       "      <th>deaths_daily_normalized</th>\n",
       "    </tr>\n",
       "  </thead>\n",
       "  <tbody>\n",
       "    <tr>\n",
       "      <th>1426437</th>\n",
       "      <td>NC</td>\n",
       "      <td>2020-01-23</td>\n",
       "      <td>0</td>\n",
       "      <td>0</td>\n",
       "      <td>169509</td>\n",
       "      <td>0.0</td>\n",
       "      <td>0.0</td>\n",
       "      <td>0.000000</td>\n",
       "      <td>0.000000</td>\n",
       "    </tr>\n",
       "    <tr>\n",
       "      <th>1426438</th>\n",
       "      <td>NC</td>\n",
       "      <td>2020-01-24</td>\n",
       "      <td>0</td>\n",
       "      <td>0</td>\n",
       "      <td>169509</td>\n",
       "      <td>0.0</td>\n",
       "      <td>0.0</td>\n",
       "      <td>0.000000</td>\n",
       "      <td>0.000000</td>\n",
       "    </tr>\n",
       "    <tr>\n",
       "      <th>1426439</th>\n",
       "      <td>NC</td>\n",
       "      <td>2020-01-25</td>\n",
       "      <td>0</td>\n",
       "      <td>0</td>\n",
       "      <td>169509</td>\n",
       "      <td>0.0</td>\n",
       "      <td>0.0</td>\n",
       "      <td>0.000000</td>\n",
       "      <td>0.000000</td>\n",
       "    </tr>\n",
       "    <tr>\n",
       "      <th>1426440</th>\n",
       "      <td>NC</td>\n",
       "      <td>2020-01-26</td>\n",
       "      <td>0</td>\n",
       "      <td>0</td>\n",
       "      <td>169509</td>\n",
       "      <td>0.0</td>\n",
       "      <td>0.0</td>\n",
       "      <td>0.000000</td>\n",
       "      <td>0.000000</td>\n",
       "    </tr>\n",
       "    <tr>\n",
       "      <th>1426441</th>\n",
       "      <td>NC</td>\n",
       "      <td>2020-01-27</td>\n",
       "      <td>0</td>\n",
       "      <td>0</td>\n",
       "      <td>169509</td>\n",
       "      <td>0.0</td>\n",
       "      <td>0.0</td>\n",
       "      <td>0.000000</td>\n",
       "      <td>0.000000</td>\n",
       "    </tr>\n",
       "    <tr>\n",
       "      <th>...</th>\n",
       "      <td>...</td>\n",
       "      <td>...</td>\n",
       "      <td>...</td>\n",
       "      <td>...</td>\n",
       "      <td>...</td>\n",
       "      <td>...</td>\n",
       "      <td>...</td>\n",
       "      <td>...</td>\n",
       "      <td>...</td>\n",
       "    </tr>\n",
       "    <tr>\n",
       "      <th>1501231</th>\n",
       "      <td>NC</td>\n",
       "      <td>2022-02-03</td>\n",
       "      <td>4425</td>\n",
       "      <td>46</td>\n",
       "      <td>18069</td>\n",
       "      <td>18.0</td>\n",
       "      <td>1.0</td>\n",
       "      <td>99.618130</td>\n",
       "      <td>5.534341</td>\n",
       "    </tr>\n",
       "    <tr>\n",
       "      <th>1501232</th>\n",
       "      <td>NC</td>\n",
       "      <td>2022-02-04</td>\n",
       "      <td>4439</td>\n",
       "      <td>48</td>\n",
       "      <td>18069</td>\n",
       "      <td>14.0</td>\n",
       "      <td>2.0</td>\n",
       "      <td>77.480768</td>\n",
       "      <td>11.068681</td>\n",
       "    </tr>\n",
       "    <tr>\n",
       "      <th>1501233</th>\n",
       "      <td>NC</td>\n",
       "      <td>2022-02-05</td>\n",
       "      <td>4439</td>\n",
       "      <td>48</td>\n",
       "      <td>18069</td>\n",
       "      <td>0.0</td>\n",
       "      <td>0.0</td>\n",
       "      <td>0.000000</td>\n",
       "      <td>0.000000</td>\n",
       "    </tr>\n",
       "    <tr>\n",
       "      <th>1501234</th>\n",
       "      <td>NC</td>\n",
       "      <td>2022-02-06</td>\n",
       "      <td>4439</td>\n",
       "      <td>48</td>\n",
       "      <td>18069</td>\n",
       "      <td>0.0</td>\n",
       "      <td>0.0</td>\n",
       "      <td>0.000000</td>\n",
       "      <td>0.000000</td>\n",
       "    </tr>\n",
       "    <tr>\n",
       "      <th>1501235</th>\n",
       "      <td>NC</td>\n",
       "      <td>2022-02-07</td>\n",
       "      <td>4491</td>\n",
       "      <td>49</td>\n",
       "      <td>18069</td>\n",
       "      <td>52.0</td>\n",
       "      <td>1.0</td>\n",
       "      <td>287.785710</td>\n",
       "      <td>5.534341</td>\n",
       "    </tr>\n",
       "  </tbody>\n",
       "</table>\n",
       "<p>74700 rows × 9 columns</p>\n",
       "</div>"
      ],
      "text/plain": [
       "        State       Date  Confirmed  Deaths  population  confirmed_daily  \\\n",
       "1426437    NC 2020-01-23          0       0      169509              0.0   \n",
       "1426438    NC 2020-01-24          0       0      169509              0.0   \n",
       "1426439    NC 2020-01-25          0       0      169509              0.0   \n",
       "1426440    NC 2020-01-26          0       0      169509              0.0   \n",
       "1426441    NC 2020-01-27          0       0      169509              0.0   \n",
       "...       ...        ...        ...     ...         ...              ...   \n",
       "1501231    NC 2022-02-03       4425      46       18069             18.0   \n",
       "1501232    NC 2022-02-04       4439      48       18069             14.0   \n",
       "1501233    NC 2022-02-05       4439      48       18069              0.0   \n",
       "1501234    NC 2022-02-06       4439      48       18069              0.0   \n",
       "1501235    NC 2022-02-07       4491      49       18069             52.0   \n",
       "\n",
       "         deaths_daily  confirmed_daily_normalized  deaths_daily_normalized  \n",
       "1426437           0.0                    0.000000                 0.000000  \n",
       "1426438           0.0                    0.000000                 0.000000  \n",
       "1426439           0.0                    0.000000                 0.000000  \n",
       "1426440           0.0                    0.000000                 0.000000  \n",
       "1426441           0.0                    0.000000                 0.000000  \n",
       "...               ...                         ...                      ...  \n",
       "1501231           1.0                   99.618130                 5.534341  \n",
       "1501232           2.0                   77.480768                11.068681  \n",
       "1501233           0.0                    0.000000                 0.000000  \n",
       "1501234           0.0                    0.000000                 0.000000  \n",
       "1501235           1.0                  287.785710                 5.534341  \n",
       "\n",
       "[74700 rows x 9 columns]"
      ]
     },
     "execution_count": 9,
     "metadata": {},
     "output_type": "execute_result"
    }
   ],
   "source": [
    "nc['confirmed_daily_normalized'] = (nc['confirmed_daily']/nc['population'])*100000\n",
    "nc['deaths_daily_normalized'] = (nc['deaths_daily']/nc['population'])*100000\n",
    "#nc['Date'] =  pd.to_datetime(nc['Date'], format='%Y-%m-%d')\n",
    "nc"
   ]
  },
  {
   "cell_type": "code",
   "execution_count": 10,
   "id": "c6ec1831",
   "metadata": {},
   "outputs": [],
   "source": [
    "nc1 = nc.groupby(\"Date\").sum().reset_index()"
   ]
  },
  {
   "cell_type": "code",
   "execution_count": 11,
   "id": "8a9692cc",
   "metadata": {},
   "outputs": [
    {
     "data": {
      "text/html": [
       "<div>\n",
       "<style scoped>\n",
       "    .dataframe tbody tr th:only-of-type {\n",
       "        vertical-align: middle;\n",
       "    }\n",
       "\n",
       "    .dataframe tbody tr th {\n",
       "        vertical-align: top;\n",
       "    }\n",
       "\n",
       "    .dataframe thead th {\n",
       "        text-align: right;\n",
       "    }\n",
       "</style>\n",
       "<table border=\"1\" class=\"dataframe\">\n",
       "  <thead>\n",
       "    <tr style=\"text-align: right;\">\n",
       "      <th></th>\n",
       "      <th>Date</th>\n",
       "      <th>Confirmed</th>\n",
       "      <th>Deaths</th>\n",
       "      <th>population</th>\n",
       "      <th>confirmed_daily</th>\n",
       "      <th>deaths_daily</th>\n",
       "      <th>confirmed_daily_normalized</th>\n",
       "      <th>deaths_daily_normalized</th>\n",
       "    </tr>\n",
       "  </thead>\n",
       "  <tbody>\n",
       "    <tr>\n",
       "      <th>0</th>\n",
       "      <td>2020-01-23</td>\n",
       "      <td>0</td>\n",
       "      <td>0</td>\n",
       "      <td>10488084</td>\n",
       "      <td>0.0</td>\n",
       "      <td>0.0</td>\n",
       "      <td>0.000000</td>\n",
       "      <td>0.000000</td>\n",
       "    </tr>\n",
       "    <tr>\n",
       "      <th>1</th>\n",
       "      <td>2020-01-24</td>\n",
       "      <td>0</td>\n",
       "      <td>0</td>\n",
       "      <td>10488084</td>\n",
       "      <td>0.0</td>\n",
       "      <td>0.0</td>\n",
       "      <td>0.000000</td>\n",
       "      <td>0.000000</td>\n",
       "    </tr>\n",
       "    <tr>\n",
       "      <th>2</th>\n",
       "      <td>2020-01-25</td>\n",
       "      <td>0</td>\n",
       "      <td>0</td>\n",
       "      <td>10488084</td>\n",
       "      <td>0.0</td>\n",
       "      <td>0.0</td>\n",
       "      <td>0.000000</td>\n",
       "      <td>0.000000</td>\n",
       "    </tr>\n",
       "    <tr>\n",
       "      <th>3</th>\n",
       "      <td>2020-01-26</td>\n",
       "      <td>0</td>\n",
       "      <td>0</td>\n",
       "      <td>10488084</td>\n",
       "      <td>0.0</td>\n",
       "      <td>0.0</td>\n",
       "      <td>0.000000</td>\n",
       "      <td>0.000000</td>\n",
       "    </tr>\n",
       "    <tr>\n",
       "      <th>4</th>\n",
       "      <td>2020-01-27</td>\n",
       "      <td>0</td>\n",
       "      <td>0</td>\n",
       "      <td>10488084</td>\n",
       "      <td>0.0</td>\n",
       "      <td>0.0</td>\n",
       "      <td>0.000000</td>\n",
       "      <td>0.000000</td>\n",
       "    </tr>\n",
       "    <tr>\n",
       "      <th>...</th>\n",
       "      <td>...</td>\n",
       "      <td>...</td>\n",
       "      <td>...</td>\n",
       "      <td>...</td>\n",
       "      <td>...</td>\n",
       "      <td>...</td>\n",
       "      <td>...</td>\n",
       "      <td>...</td>\n",
       "    </tr>\n",
       "    <tr>\n",
       "      <th>742</th>\n",
       "      <td>2022-02-03</td>\n",
       "      <td>2456386</td>\n",
       "      <td>21027</td>\n",
       "      <td>10488084</td>\n",
       "      <td>14980.0</td>\n",
       "      <td>123.0</td>\n",
       "      <td>14656.596771</td>\n",
       "      <td>113.076679</td>\n",
       "    </tr>\n",
       "    <tr>\n",
       "      <th>743</th>\n",
       "      <td>2022-02-04</td>\n",
       "      <td>2468806</td>\n",
       "      <td>21097</td>\n",
       "      <td>10488084</td>\n",
       "      <td>12420.0</td>\n",
       "      <td>70.0</td>\n",
       "      <td>11780.131964</td>\n",
       "      <td>104.769690</td>\n",
       "    </tr>\n",
       "    <tr>\n",
       "      <th>744</th>\n",
       "      <td>2022-02-05</td>\n",
       "      <td>2468806</td>\n",
       "      <td>21097</td>\n",
       "      <td>10488084</td>\n",
       "      <td>0.0</td>\n",
       "      <td>0.0</td>\n",
       "      <td>0.000000</td>\n",
       "      <td>0.000000</td>\n",
       "    </tr>\n",
       "    <tr>\n",
       "      <th>745</th>\n",
       "      <td>2022-02-06</td>\n",
       "      <td>2468806</td>\n",
       "      <td>21097</td>\n",
       "      <td>10488084</td>\n",
       "      <td>0.0</td>\n",
       "      <td>0.0</td>\n",
       "      <td>0.000000</td>\n",
       "      <td>0.000000</td>\n",
       "    </tr>\n",
       "    <tr>\n",
       "      <th>746</th>\n",
       "      <td>2022-02-07</td>\n",
       "      <td>2493003</td>\n",
       "      <td>21249</td>\n",
       "      <td>10488084</td>\n",
       "      <td>24197.0</td>\n",
       "      <td>152.0</td>\n",
       "      <td>23556.077942</td>\n",
       "      <td>202.230979</td>\n",
       "    </tr>\n",
       "  </tbody>\n",
       "</table>\n",
       "<p>747 rows × 8 columns</p>\n",
       "</div>"
      ],
      "text/plain": [
       "          Date  Confirmed  Deaths  population  confirmed_daily  deaths_daily  \\\n",
       "0   2020-01-23          0       0    10488084              0.0           0.0   \n",
       "1   2020-01-24          0       0    10488084              0.0           0.0   \n",
       "2   2020-01-25          0       0    10488084              0.0           0.0   \n",
       "3   2020-01-26          0       0    10488084              0.0           0.0   \n",
       "4   2020-01-27          0       0    10488084              0.0           0.0   \n",
       "..         ...        ...     ...         ...              ...           ...   \n",
       "742 2022-02-03    2456386   21027    10488084          14980.0         123.0   \n",
       "743 2022-02-04    2468806   21097    10488084          12420.0          70.0   \n",
       "744 2022-02-05    2468806   21097    10488084              0.0           0.0   \n",
       "745 2022-02-06    2468806   21097    10488084              0.0           0.0   \n",
       "746 2022-02-07    2493003   21249    10488084          24197.0         152.0   \n",
       "\n",
       "     confirmed_daily_normalized  deaths_daily_normalized  \n",
       "0                      0.000000                 0.000000  \n",
       "1                      0.000000                 0.000000  \n",
       "2                      0.000000                 0.000000  \n",
       "3                      0.000000                 0.000000  \n",
       "4                      0.000000                 0.000000  \n",
       "..                          ...                      ...  \n",
       "742                14656.596771               113.076679  \n",
       "743                11780.131964               104.769690  \n",
       "744                    0.000000                 0.000000  \n",
       "745                    0.000000                 0.000000  \n",
       "746                23556.077942               202.230979  \n",
       "\n",
       "[747 rows x 8 columns]"
      ]
     },
     "execution_count": 11,
     "metadata": {},
     "output_type": "execute_result"
    }
   ],
   "source": [
    "nc1"
   ]
  },
  {
   "cell_type": "code",
   "execution_count": 12,
   "id": "3f468ef3",
   "metadata": {},
   "outputs": [
    {
     "data": {
      "text/plain": [
       "3147.9706579249228"
      ]
     },
     "execution_count": 12,
     "metadata": {},
     "output_type": "execute_result"
    }
   ],
   "source": [
    "d_m = nc1['confirmed_daily_normalized'].mean()\n",
    "d_m"
   ]
  },
  {
   "cell_type": "code",
   "execution_count": 13,
   "id": "8c271f00",
   "metadata": {
    "scrolled": false
   },
   "outputs": [
    {
     "data": {
      "text/html": [
       "<div>\n",
       "<style scoped>\n",
       "    .dataframe tbody tr th:only-of-type {\n",
       "        vertical-align: middle;\n",
       "    }\n",
       "\n",
       "    .dataframe tbody tr th {\n",
       "        vertical-align: top;\n",
       "    }\n",
       "\n",
       "    .dataframe thead th {\n",
       "        text-align: right;\n",
       "    }\n",
       "</style>\n",
       "<table border=\"1\" class=\"dataframe\">\n",
       "  <thead>\n",
       "    <tr style=\"text-align: right;\">\n",
       "      <th></th>\n",
       "      <th>Date</th>\n",
       "      <th>Confirmed</th>\n",
       "      <th>Deaths</th>\n",
       "      <th>population</th>\n",
       "      <th>confirmed_daily</th>\n",
       "      <th>deaths_daily</th>\n",
       "      <th>confirmed_daily_normalized</th>\n",
       "      <th>deaths_daily_normalized</th>\n",
       "      <th>PMF</th>\n",
       "    </tr>\n",
       "  </thead>\n",
       "  <tbody>\n",
       "    <tr>\n",
       "      <th>0</th>\n",
       "      <td>2020-01-23</td>\n",
       "      <td>0</td>\n",
       "      <td>0</td>\n",
       "      <td>10488084</td>\n",
       "      <td>0.0</td>\n",
       "      <td>0.0</td>\n",
       "      <td>0.000000</td>\n",
       "      <td>0.000000</td>\n",
       "      <td>0.0</td>\n",
       "    </tr>\n",
       "    <tr>\n",
       "      <th>1</th>\n",
       "      <td>2020-01-24</td>\n",
       "      <td>0</td>\n",
       "      <td>0</td>\n",
       "      <td>10488084</td>\n",
       "      <td>0.0</td>\n",
       "      <td>0.0</td>\n",
       "      <td>0.000000</td>\n",
       "      <td>0.000000</td>\n",
       "      <td>0.0</td>\n",
       "    </tr>\n",
       "    <tr>\n",
       "      <th>2</th>\n",
       "      <td>2020-01-25</td>\n",
       "      <td>0</td>\n",
       "      <td>0</td>\n",
       "      <td>10488084</td>\n",
       "      <td>0.0</td>\n",
       "      <td>0.0</td>\n",
       "      <td>0.000000</td>\n",
       "      <td>0.000000</td>\n",
       "      <td>0.0</td>\n",
       "    </tr>\n",
       "    <tr>\n",
       "      <th>3</th>\n",
       "      <td>2020-01-26</td>\n",
       "      <td>0</td>\n",
       "      <td>0</td>\n",
       "      <td>10488084</td>\n",
       "      <td>0.0</td>\n",
       "      <td>0.0</td>\n",
       "      <td>0.000000</td>\n",
       "      <td>0.000000</td>\n",
       "      <td>0.0</td>\n",
       "    </tr>\n",
       "    <tr>\n",
       "      <th>4</th>\n",
       "      <td>2020-01-27</td>\n",
       "      <td>0</td>\n",
       "      <td>0</td>\n",
       "      <td>10488084</td>\n",
       "      <td>0.0</td>\n",
       "      <td>0.0</td>\n",
       "      <td>0.000000</td>\n",
       "      <td>0.000000</td>\n",
       "      <td>0.0</td>\n",
       "    </tr>\n",
       "    <tr>\n",
       "      <th>...</th>\n",
       "      <td>...</td>\n",
       "      <td>...</td>\n",
       "      <td>...</td>\n",
       "      <td>...</td>\n",
       "      <td>...</td>\n",
       "      <td>...</td>\n",
       "      <td>...</td>\n",
       "      <td>...</td>\n",
       "      <td>...</td>\n",
       "    </tr>\n",
       "    <tr>\n",
       "      <th>742</th>\n",
       "      <td>2022-02-03</td>\n",
       "      <td>2456386</td>\n",
       "      <td>21027</td>\n",
       "      <td>10488084</td>\n",
       "      <td>14980.0</td>\n",
       "      <td>123.0</td>\n",
       "      <td>14656.596771</td>\n",
       "      <td>113.076679</td>\n",
       "      <td>0.0</td>\n",
       "    </tr>\n",
       "    <tr>\n",
       "      <th>743</th>\n",
       "      <td>2022-02-04</td>\n",
       "      <td>2468806</td>\n",
       "      <td>21097</td>\n",
       "      <td>10488084</td>\n",
       "      <td>12420.0</td>\n",
       "      <td>70.0</td>\n",
       "      <td>11780.131964</td>\n",
       "      <td>104.769690</td>\n",
       "      <td>0.0</td>\n",
       "    </tr>\n",
       "    <tr>\n",
       "      <th>744</th>\n",
       "      <td>2022-02-05</td>\n",
       "      <td>2468806</td>\n",
       "      <td>21097</td>\n",
       "      <td>10488084</td>\n",
       "      <td>0.0</td>\n",
       "      <td>0.0</td>\n",
       "      <td>0.000000</td>\n",
       "      <td>0.000000</td>\n",
       "      <td>0.0</td>\n",
       "    </tr>\n",
       "    <tr>\n",
       "      <th>745</th>\n",
       "      <td>2022-02-06</td>\n",
       "      <td>2468806</td>\n",
       "      <td>21097</td>\n",
       "      <td>10488084</td>\n",
       "      <td>0.0</td>\n",
       "      <td>0.0</td>\n",
       "      <td>0.000000</td>\n",
       "      <td>0.000000</td>\n",
       "      <td>0.0</td>\n",
       "    </tr>\n",
       "    <tr>\n",
       "      <th>746</th>\n",
       "      <td>2022-02-07</td>\n",
       "      <td>2493003</td>\n",
       "      <td>21249</td>\n",
       "      <td>10488084</td>\n",
       "      <td>24197.0</td>\n",
       "      <td>152.0</td>\n",
       "      <td>23556.077942</td>\n",
       "      <td>202.230979</td>\n",
       "      <td>0.0</td>\n",
       "    </tr>\n",
       "  </tbody>\n",
       "</table>\n",
       "<p>747 rows × 9 columns</p>\n",
       "</div>"
      ],
      "text/plain": [
       "          Date  Confirmed  Deaths  population  confirmed_daily  deaths_daily  \\\n",
       "0   2020-01-23          0       0    10488084              0.0           0.0   \n",
       "1   2020-01-24          0       0    10488084              0.0           0.0   \n",
       "2   2020-01-25          0       0    10488084              0.0           0.0   \n",
       "3   2020-01-26          0       0    10488084              0.0           0.0   \n",
       "4   2020-01-27          0       0    10488084              0.0           0.0   \n",
       "..         ...        ...     ...         ...              ...           ...   \n",
       "742 2022-02-03    2456386   21027    10488084          14980.0         123.0   \n",
       "743 2022-02-04    2468806   21097    10488084          12420.0          70.0   \n",
       "744 2022-02-05    2468806   21097    10488084              0.0           0.0   \n",
       "745 2022-02-06    2468806   21097    10488084              0.0           0.0   \n",
       "746 2022-02-07    2493003   21249    10488084          24197.0         152.0   \n",
       "\n",
       "     confirmed_daily_normalized  deaths_daily_normalized  PMF  \n",
       "0                      0.000000                 0.000000  0.0  \n",
       "1                      0.000000                 0.000000  0.0  \n",
       "2                      0.000000                 0.000000  0.0  \n",
       "3                      0.000000                 0.000000  0.0  \n",
       "4                      0.000000                 0.000000  0.0  \n",
       "..                          ...                      ...  ...  \n",
       "742                14656.596771               113.076679  0.0  \n",
       "743                11780.131964               104.769690  0.0  \n",
       "744                    0.000000                 0.000000  0.0  \n",
       "745                    0.000000                 0.000000  0.0  \n",
       "746                23556.077942               202.230979  0.0  \n",
       "\n",
       "[747 rows x 9 columns]"
      ]
     },
     "execution_count": 13,
     "metadata": {},
     "output_type": "execute_result"
    }
   ],
   "source": [
    "nc1['PMF'] = stats.poisson.pmf(k=nc1['confirmed_daily_normalized'].round(decimals=0), mu=d_m)\n",
    "nc1"
   ]
  },
  {
   "cell_type": "code",
   "execution_count": 14,
   "id": "a1bfd8bc",
   "metadata": {
    "scrolled": false
   },
   "outputs": [],
   "source": [
    "nc1['confirmed_daily_normalized']=nc1['confirmed_daily_normalized'].round(decimals=0)"
   ]
  },
  {
   "cell_type": "code",
   "execution_count": 15,
   "id": "34aa072e",
   "metadata": {},
   "outputs": [
    {
     "data": {
      "text/html": [
       "<div>\n",
       "<style scoped>\n",
       "    .dataframe tbody tr th:only-of-type {\n",
       "        vertical-align: middle;\n",
       "    }\n",
       "\n",
       "    .dataframe tbody tr th {\n",
       "        vertical-align: top;\n",
       "    }\n",
       "\n",
       "    .dataframe thead th {\n",
       "        text-align: right;\n",
       "    }\n",
       "</style>\n",
       "<table border=\"1\" class=\"dataframe\">\n",
       "  <thead>\n",
       "    <tr style=\"text-align: right;\">\n",
       "      <th></th>\n",
       "      <th>Date</th>\n",
       "      <th>Confirmed</th>\n",
       "      <th>Deaths</th>\n",
       "      <th>population</th>\n",
       "      <th>confirmed_daily</th>\n",
       "      <th>deaths_daily</th>\n",
       "      <th>confirmed_daily_normalized</th>\n",
       "      <th>deaths_daily_normalized</th>\n",
       "      <th>PMF</th>\n",
       "    </tr>\n",
       "  </thead>\n",
       "  <tbody>\n",
       "    <tr>\n",
       "      <th>0</th>\n",
       "      <td>2020-01-23</td>\n",
       "      <td>0</td>\n",
       "      <td>0</td>\n",
       "      <td>10488084</td>\n",
       "      <td>0.0</td>\n",
       "      <td>0.0</td>\n",
       "      <td>0.0</td>\n",
       "      <td>0.000000</td>\n",
       "      <td>0.0</td>\n",
       "    </tr>\n",
       "    <tr>\n",
       "      <th>1</th>\n",
       "      <td>2020-01-24</td>\n",
       "      <td>0</td>\n",
       "      <td>0</td>\n",
       "      <td>10488084</td>\n",
       "      <td>0.0</td>\n",
       "      <td>0.0</td>\n",
       "      <td>0.0</td>\n",
       "      <td>0.000000</td>\n",
       "      <td>0.0</td>\n",
       "    </tr>\n",
       "    <tr>\n",
       "      <th>2</th>\n",
       "      <td>2020-01-25</td>\n",
       "      <td>0</td>\n",
       "      <td>0</td>\n",
       "      <td>10488084</td>\n",
       "      <td>0.0</td>\n",
       "      <td>0.0</td>\n",
       "      <td>0.0</td>\n",
       "      <td>0.000000</td>\n",
       "      <td>0.0</td>\n",
       "    </tr>\n",
       "    <tr>\n",
       "      <th>3</th>\n",
       "      <td>2020-01-26</td>\n",
       "      <td>0</td>\n",
       "      <td>0</td>\n",
       "      <td>10488084</td>\n",
       "      <td>0.0</td>\n",
       "      <td>0.0</td>\n",
       "      <td>0.0</td>\n",
       "      <td>0.000000</td>\n",
       "      <td>0.0</td>\n",
       "    </tr>\n",
       "    <tr>\n",
       "      <th>4</th>\n",
       "      <td>2020-01-27</td>\n",
       "      <td>0</td>\n",
       "      <td>0</td>\n",
       "      <td>10488084</td>\n",
       "      <td>0.0</td>\n",
       "      <td>0.0</td>\n",
       "      <td>0.0</td>\n",
       "      <td>0.000000</td>\n",
       "      <td>0.0</td>\n",
       "    </tr>\n",
       "    <tr>\n",
       "      <th>...</th>\n",
       "      <td>...</td>\n",
       "      <td>...</td>\n",
       "      <td>...</td>\n",
       "      <td>...</td>\n",
       "      <td>...</td>\n",
       "      <td>...</td>\n",
       "      <td>...</td>\n",
       "      <td>...</td>\n",
       "      <td>...</td>\n",
       "    </tr>\n",
       "    <tr>\n",
       "      <th>742</th>\n",
       "      <td>2022-02-03</td>\n",
       "      <td>2456386</td>\n",
       "      <td>21027</td>\n",
       "      <td>10488084</td>\n",
       "      <td>14980.0</td>\n",
       "      <td>123.0</td>\n",
       "      <td>14657.0</td>\n",
       "      <td>113.076679</td>\n",
       "      <td>0.0</td>\n",
       "    </tr>\n",
       "    <tr>\n",
       "      <th>743</th>\n",
       "      <td>2022-02-04</td>\n",
       "      <td>2468806</td>\n",
       "      <td>21097</td>\n",
       "      <td>10488084</td>\n",
       "      <td>12420.0</td>\n",
       "      <td>70.0</td>\n",
       "      <td>11780.0</td>\n",
       "      <td>104.769690</td>\n",
       "      <td>0.0</td>\n",
       "    </tr>\n",
       "    <tr>\n",
       "      <th>744</th>\n",
       "      <td>2022-02-05</td>\n",
       "      <td>2468806</td>\n",
       "      <td>21097</td>\n",
       "      <td>10488084</td>\n",
       "      <td>0.0</td>\n",
       "      <td>0.0</td>\n",
       "      <td>0.0</td>\n",
       "      <td>0.000000</td>\n",
       "      <td>0.0</td>\n",
       "    </tr>\n",
       "    <tr>\n",
       "      <th>745</th>\n",
       "      <td>2022-02-06</td>\n",
       "      <td>2468806</td>\n",
       "      <td>21097</td>\n",
       "      <td>10488084</td>\n",
       "      <td>0.0</td>\n",
       "      <td>0.0</td>\n",
       "      <td>0.0</td>\n",
       "      <td>0.000000</td>\n",
       "      <td>0.0</td>\n",
       "    </tr>\n",
       "    <tr>\n",
       "      <th>746</th>\n",
       "      <td>2022-02-07</td>\n",
       "      <td>2493003</td>\n",
       "      <td>21249</td>\n",
       "      <td>10488084</td>\n",
       "      <td>24197.0</td>\n",
       "      <td>152.0</td>\n",
       "      <td>23556.0</td>\n",
       "      <td>202.230979</td>\n",
       "      <td>0.0</td>\n",
       "    </tr>\n",
       "  </tbody>\n",
       "</table>\n",
       "<p>747 rows × 9 columns</p>\n",
       "</div>"
      ],
      "text/plain": [
       "          Date  Confirmed  Deaths  population  confirmed_daily  deaths_daily  \\\n",
       "0   2020-01-23          0       0    10488084              0.0           0.0   \n",
       "1   2020-01-24          0       0    10488084              0.0           0.0   \n",
       "2   2020-01-25          0       0    10488084              0.0           0.0   \n",
       "3   2020-01-26          0       0    10488084              0.0           0.0   \n",
       "4   2020-01-27          0       0    10488084              0.0           0.0   \n",
       "..         ...        ...     ...         ...              ...           ...   \n",
       "742 2022-02-03    2456386   21027    10488084          14980.0         123.0   \n",
       "743 2022-02-04    2468806   21097    10488084          12420.0          70.0   \n",
       "744 2022-02-05    2468806   21097    10488084              0.0           0.0   \n",
       "745 2022-02-06    2468806   21097    10488084              0.0           0.0   \n",
       "746 2022-02-07    2493003   21249    10488084          24197.0         152.0   \n",
       "\n",
       "     confirmed_daily_normalized  deaths_daily_normalized  PMF  \n",
       "0                           0.0                 0.000000  0.0  \n",
       "1                           0.0                 0.000000  0.0  \n",
       "2                           0.0                 0.000000  0.0  \n",
       "3                           0.0                 0.000000  0.0  \n",
       "4                           0.0                 0.000000  0.0  \n",
       "..                          ...                      ...  ...  \n",
       "742                     14657.0               113.076679  0.0  \n",
       "743                     11780.0               104.769690  0.0  \n",
       "744                         0.0                 0.000000  0.0  \n",
       "745                         0.0                 0.000000  0.0  \n",
       "746                     23556.0               202.230979  0.0  \n",
       "\n",
       "[747 rows x 9 columns]"
      ]
     },
     "execution_count": 15,
     "metadata": {},
     "output_type": "execute_result"
    }
   ],
   "source": [
    "nc1"
   ]
  },
  {
   "cell_type": "markdown",
   "id": "cbaa5749",
   "metadata": {},
   "source": [
    "## Task1 \n",
    "### Part1:\n",
    "Graphically plot the distribution and describe the distribution statistics. If using discrete values, calculate the Probability Mass Function for the individual values or range (if using histogram) and plot that."
   ]
  },
  {
   "cell_type": "code",
   "execution_count": 16,
   "id": "a557f1b9",
   "metadata": {},
   "outputs": [
    {
     "data": {
      "image/png": "[encoded data removed]",
      "text/plain": [
       "<IPython.core.display.Image object>"
      ]
     },
     "execution_count": 16,
     "metadata": {},
     "output_type": "execute_result"
    }
   ],
   "source": [
    "fig = px.histogram(nc1, x=\"confirmed_daily_normalized\",nbins=50,title='Plot of Normalized daily cases')\n",
    "fig.write_image(\"normalized_cases.png\")\n",
    "Image(filename=\"normalized_cases.png\")\n",
    "#fig.show()"
   ]
  },
  {
   "cell_type": "markdown",
   "id": "1ef9d386",
   "metadata": {},
   "source": [
    "* From this distribution it can be seen that the data is positively skewed.\n",
    "* It has a discrete distribution.\n",
    "* It gives information about number of covid cases occured in a day. \n",
    "* Poisson distribution provides the probability of seeing certain number of success in a given time interval. Let us try to plot poisson distribution on the data."
   ]
  },
  {
   "cell_type": "code",
   "execution_count": 17,
   "id": "13fd64cf",
   "metadata": {},
   "outputs": [
    {
     "data": {
      "image/png": "[encoded data removed]",
      "text/plain": [
       "<IPython.core.display.Image object>"
      ]
     },
     "execution_count": 17,
     "metadata": {},
     "output_type": "execute_result"
    }
   ],
   "source": [
    "# Calculate the pmf values using the poission distribution and plot\n",
    "fig = go.Figure()\n",
    "# Create figure with secondary y-axis\n",
    "fig = make_subplots(specs=[[{\"secondary_y\": True}]])\n",
    "fig.add_trace(go.Histogram(x=nc1[\"confirmed_daily_normalized\"],nbinsx=40,name=\"Plot of Normalized daily cases\"))\n",
    "fig.add_trace(go.Scatter(x=nc1[\"confirmed_daily_normalized\"], y=nc1[\"PMF\"],mode='markers', name=\"Poisson PMF values\"), secondary_y=True)\n",
    "fig.write_image(\"Distribution.png\")\n",
    "Image(filename=\"Distribution.png\")\n",
    "#fig.show()"
   ]
  },
  {
   "cell_type": "markdown",
   "id": "2e90c48e",
   "metadata": {},
   "source": [
    "### From this plot, it can be seen that poisson model fits the distribution approximately, so it can be applied to he distribution to derive instincts from the data."
   ]
  },
  {
   "cell_type": "code",
   "execution_count": 18,
   "id": "79f1c8f0",
   "metadata": {},
   "outputs": [],
   "source": [
    "nc = nc.groupby([pd.Grouper(key='Date', freq='w')])[['confirmed_daily_normalized','deaths_daily_normalized']].agg({'confirmed_daily_normalized':'sum','deaths_daily_normalized' :'sum'}).reset_index()\n",
    "#nc = nc.rename(columns={'normalized cases': 'cases per week', 'normalized deaths': 'deaths per week'})"
   ]
  },
  {
   "cell_type": "code",
   "execution_count": 19,
   "id": "3f791024",
   "metadata": {},
   "outputs": [
    {
     "data": {
      "text/html": [
       "<div>\n",
       "<style scoped>\n",
       "    .dataframe tbody tr th:only-of-type {\n",
       "        vertical-align: middle;\n",
       "    }\n",
       "\n",
       "    .dataframe tbody tr th {\n",
       "        vertical-align: top;\n",
       "    }\n",
       "\n",
       "    .dataframe thead th {\n",
       "        text-align: right;\n",
       "    }\n",
       "</style>\n",
       "<table border=\"1\" class=\"dataframe\">\n",
       "  <thead>\n",
       "    <tr style=\"text-align: right;\">\n",
       "      <th></th>\n",
       "      <th>Date</th>\n",
       "      <th>confirmed_daily_normalized</th>\n",
       "      <th>deaths_daily_normalized</th>\n",
       "    </tr>\n",
       "  </thead>\n",
       "  <tbody>\n",
       "    <tr>\n",
       "      <th>0</th>\n",
       "      <td>2020-01-26</td>\n",
       "      <td>0.000000</td>\n",
       "      <td>0.000000</td>\n",
       "    </tr>\n",
       "    <tr>\n",
       "      <th>1</th>\n",
       "      <td>2020-02-02</td>\n",
       "      <td>0.000000</td>\n",
       "      <td>0.000000</td>\n",
       "    </tr>\n",
       "    <tr>\n",
       "      <th>2</th>\n",
       "      <td>2020-02-09</td>\n",
       "      <td>0.000000</td>\n",
       "      <td>0.000000</td>\n",
       "    </tr>\n",
       "    <tr>\n",
       "      <th>3</th>\n",
       "      <td>2020-02-16</td>\n",
       "      <td>0.000000</td>\n",
       "      <td>0.000000</td>\n",
       "    </tr>\n",
       "    <tr>\n",
       "      <th>4</th>\n",
       "      <td>2020-02-23</td>\n",
       "      <td>0.000000</td>\n",
       "      <td>0.000000</td>\n",
       "    </tr>\n",
       "    <tr>\n",
       "      <th>...</th>\n",
       "      <td>...</td>\n",
       "      <td>...</td>\n",
       "      <td>...</td>\n",
       "    </tr>\n",
       "    <tr>\n",
       "      <th>103</th>\n",
       "      <td>2022-01-16</td>\n",
       "      <td>161879.451476</td>\n",
       "      <td>268.087146</td>\n",
       "    </tr>\n",
       "    <tr>\n",
       "      <th>104</th>\n",
       "      <td>2022-01-23</td>\n",
       "      <td>149291.265699</td>\n",
       "      <td>202.878124</td>\n",
       "    </tr>\n",
       "    <tr>\n",
       "      <th>105</th>\n",
       "      <td>2022-01-30</td>\n",
       "      <td>187785.720435</td>\n",
       "      <td>553.800324</td>\n",
       "    </tr>\n",
       "    <tr>\n",
       "      <th>106</th>\n",
       "      <td>2022-02-06</td>\n",
       "      <td>90723.973032</td>\n",
       "      <td>570.655326</td>\n",
       "    </tr>\n",
       "    <tr>\n",
       "      <th>107</th>\n",
       "      <td>2022-02-13</td>\n",
       "      <td>23556.077942</td>\n",
       "      <td>202.230979</td>\n",
       "    </tr>\n",
       "  </tbody>\n",
       "</table>\n",
       "<p>108 rows × 3 columns</p>\n",
       "</div>"
      ],
      "text/plain": [
       "          Date  confirmed_daily_normalized  deaths_daily_normalized\n",
       "0   2020-01-26                    0.000000                 0.000000\n",
       "1   2020-02-02                    0.000000                 0.000000\n",
       "2   2020-02-09                    0.000000                 0.000000\n",
       "3   2020-02-16                    0.000000                 0.000000\n",
       "4   2020-02-23                    0.000000                 0.000000\n",
       "..         ...                         ...                      ...\n",
       "103 2022-01-16               161879.451476               268.087146\n",
       "104 2022-01-23               149291.265699               202.878124\n",
       "105 2022-01-30               187785.720435               553.800324\n",
       "106 2022-02-06                90723.973032               570.655326\n",
       "107 2022-02-13                23556.077942               202.230979\n",
       "\n",
       "[108 rows x 3 columns]"
      ]
     },
     "execution_count": 19,
     "metadata": {},
     "output_type": "execute_result"
    }
   ],
   "source": [
    "nc"
   ]
  },
  {
   "cell_type": "code",
   "execution_count": 20,
   "id": "a9c9609d",
   "metadata": {
    "scrolled": false
   },
   "outputs": [
    {
     "data": {
      "text/html": [
       "<div>\n",
       "<style scoped>\n",
       "    .dataframe tbody tr th:only-of-type {\n",
       "        vertical-align: middle;\n",
       "    }\n",
       "\n",
       "    .dataframe tbody tr th {\n",
       "        vertical-align: top;\n",
       "    }\n",
       "\n",
       "    .dataframe thead th {\n",
       "        text-align: right;\n",
       "    }\n",
       "</style>\n",
       "<table border=\"1\" class=\"dataframe\">\n",
       "  <thead>\n",
       "    <tr style=\"text-align: right;\">\n",
       "      <th></th>\n",
       "      <th>Date</th>\n",
       "      <th>confirmed_daily_normalized</th>\n",
       "      <th>deaths_daily_normalized</th>\n",
       "    </tr>\n",
       "  </thead>\n",
       "  <tbody>\n",
       "    <tr>\n",
       "      <th>0</th>\n",
       "      <td>2020-01-26</td>\n",
       "      <td>0.000000</td>\n",
       "      <td>0.000000</td>\n",
       "    </tr>\n",
       "    <tr>\n",
       "      <th>1</th>\n",
       "      <td>2020-02-02</td>\n",
       "      <td>0.000000</td>\n",
       "      <td>0.000000</td>\n",
       "    </tr>\n",
       "    <tr>\n",
       "      <th>2</th>\n",
       "      <td>2020-02-09</td>\n",
       "      <td>0.000000</td>\n",
       "      <td>0.000000</td>\n",
       "    </tr>\n",
       "    <tr>\n",
       "      <th>3</th>\n",
       "      <td>2020-02-16</td>\n",
       "      <td>0.000000</td>\n",
       "      <td>0.000000</td>\n",
       "    </tr>\n",
       "    <tr>\n",
       "      <th>4</th>\n",
       "      <td>2020-02-23</td>\n",
       "      <td>0.000000</td>\n",
       "      <td>0.000000</td>\n",
       "    </tr>\n",
       "    <tr>\n",
       "      <th>...</th>\n",
       "      <td>...</td>\n",
       "      <td>...</td>\n",
       "      <td>...</td>\n",
       "    </tr>\n",
       "    <tr>\n",
       "      <th>103</th>\n",
       "      <td>2022-01-16</td>\n",
       "      <td>58069.459695</td>\n",
       "      <td>87.048827</td>\n",
       "    </tr>\n",
       "    <tr>\n",
       "      <th>104</th>\n",
       "      <td>2022-01-23</td>\n",
       "      <td>157607.827943</td>\n",
       "      <td>262.076920</td>\n",
       "    </tr>\n",
       "    <tr>\n",
       "      <th>105</th>\n",
       "      <td>2022-01-30</td>\n",
       "      <td>44985.027036</td>\n",
       "      <td>0.484015</td>\n",
       "    </tr>\n",
       "    <tr>\n",
       "      <th>106</th>\n",
       "      <td>2022-02-06</td>\n",
       "      <td>120608.520553</td>\n",
       "      <td>823.299054</td>\n",
       "    </tr>\n",
       "    <tr>\n",
       "      <th>107</th>\n",
       "      <td>2022-02-13</td>\n",
       "      <td>7209.403653</td>\n",
       "      <td>15.265404</td>\n",
       "    </tr>\n",
       "  </tbody>\n",
       "</table>\n",
       "<p>108 rows × 3 columns</p>\n",
       "</div>"
      ],
      "text/plain": [
       "          Date  confirmed_daily_normalized  deaths_daily_normalized\n",
       "0   2020-01-26                    0.000000                 0.000000\n",
       "1   2020-02-02                    0.000000                 0.000000\n",
       "2   2020-02-09                    0.000000                 0.000000\n",
       "3   2020-02-16                    0.000000                 0.000000\n",
       "4   2020-02-23                    0.000000                 0.000000\n",
       "..         ...                         ...                      ...\n",
       "103 2022-01-16                58069.459695                87.048827\n",
       "104 2022-01-23               157607.827943               262.076920\n",
       "105 2022-01-30                44985.027036                 0.484015\n",
       "106 2022-02-06               120608.520553               823.299054\n",
       "107 2022-02-13                 7209.403653                15.265404\n",
       "\n",
       "[108 rows x 3 columns]"
      ]
     },
     "execution_count": 20,
     "metadata": {},
     "output_type": "execute_result"
    }
   ],
   "source": [
    "# ALabama\n",
    "al = data[data['State'] == 'AL']\n",
    "al = al[['State', 'Date', 'Confirmed', 'Deaths', 'population','confirmed_daily', 'deaths_daily']]\n",
    "al['confirmed_daily_normalized'] = (al['confirmed_daily']/al['population'])*100000\n",
    "al['deaths_daily_normalized'] = (al['deaths_daily']/al['population'])*100000\n",
    "al['Date'] =  pd.to_datetime(al['Date'], format='%Y-%m-%d')\n",
    "al = al.groupby([pd.Grouper(key='Date', freq='w')])[['confirmed_daily_normalized','deaths_daily_normalized']].agg({'confirmed_daily_normalized':'sum','deaths_daily_normalized' :'sum'}).reset_index()\n",
    "al"
   ]
  },
  {
   "cell_type": "code",
   "execution_count": 21,
   "id": "f69598f9",
   "metadata": {},
   "outputs": [
    {
     "data": {
      "text/html": [
       "<div>\n",
       "<style scoped>\n",
       "    .dataframe tbody tr th:only-of-type {\n",
       "        vertical-align: middle;\n",
       "    }\n",
       "\n",
       "    .dataframe tbody tr th {\n",
       "        vertical-align: top;\n",
       "    }\n",
       "\n",
       "    .dataframe thead th {\n",
       "        text-align: right;\n",
       "    }\n",
       "</style>\n",
       "<table border=\"1\" class=\"dataframe\">\n",
       "  <thead>\n",
       "    <tr style=\"text-align: right;\">\n",
       "      <th></th>\n",
       "      <th>Date</th>\n",
       "      <th>confirmed_daily_normalized</th>\n",
       "      <th>deaths_daily_normalized</th>\n",
       "    </tr>\n",
       "  </thead>\n",
       "  <tbody>\n",
       "    <tr>\n",
       "      <th>0</th>\n",
       "      <td>2020-01-26</td>\n",
       "      <td>9.751485</td>\n",
       "      <td>0.000000</td>\n",
       "    </tr>\n",
       "    <tr>\n",
       "      <th>1</th>\n",
       "      <td>2020-02-02</td>\n",
       "      <td>-135.517690</td>\n",
       "      <td>0.000000</td>\n",
       "    </tr>\n",
       "    <tr>\n",
       "      <th>2</th>\n",
       "      <td>2020-02-09</td>\n",
       "      <td>4.232717</td>\n",
       "      <td>0.051871</td>\n",
       "    </tr>\n",
       "    <tr>\n",
       "      <th>3</th>\n",
       "      <td>2020-02-16</td>\n",
       "      <td>3.102005</td>\n",
       "      <td>0.000000</td>\n",
       "    </tr>\n",
       "    <tr>\n",
       "      <th>4</th>\n",
       "      <td>2020-02-23</td>\n",
       "      <td>9.559049</td>\n",
       "      <td>0.051871</td>\n",
       "    </tr>\n",
       "    <tr>\n",
       "      <th>...</th>\n",
       "      <td>...</td>\n",
       "      <td>...</td>\n",
       "      <td>...</td>\n",
       "    </tr>\n",
       "    <tr>\n",
       "      <th>103</th>\n",
       "      <td>2022-01-16</td>\n",
       "      <td>72771.187221</td>\n",
       "      <td>80.945294</td>\n",
       "    </tr>\n",
       "    <tr>\n",
       "      <th>104</th>\n",
       "      <td>2022-01-23</td>\n",
       "      <td>72601.747649</td>\n",
       "      <td>81.515256</td>\n",
       "    </tr>\n",
       "    <tr>\n",
       "      <th>105</th>\n",
       "      <td>2022-01-30</td>\n",
       "      <td>50722.980811</td>\n",
       "      <td>127.159358</td>\n",
       "    </tr>\n",
       "    <tr>\n",
       "      <th>106</th>\n",
       "      <td>2022-02-06</td>\n",
       "      <td>17200.514270</td>\n",
       "      <td>93.032791</td>\n",
       "    </tr>\n",
       "    <tr>\n",
       "      <th>107</th>\n",
       "      <td>2022-02-13</td>\n",
       "      <td>0.000000</td>\n",
       "      <td>0.000000</td>\n",
       "    </tr>\n",
       "  </tbody>\n",
       "</table>\n",
       "<p>108 rows × 3 columns</p>\n",
       "</div>"
      ],
      "text/plain": [
       "          Date  confirmed_daily_normalized  deaths_daily_normalized\n",
       "0   2020-01-26                    9.751485                 0.000000\n",
       "1   2020-02-02                 -135.517690                 0.000000\n",
       "2   2020-02-09                    4.232717                 0.051871\n",
       "3   2020-02-16                    3.102005                 0.000000\n",
       "4   2020-02-23                    9.559049                 0.051871\n",
       "..         ...                         ...                      ...\n",
       "103 2022-01-16                72771.187221                80.945294\n",
       "104 2022-01-23                72601.747649                81.515256\n",
       "105 2022-01-30                50722.980811               127.159358\n",
       "106 2022-02-06                17200.514270                93.032791\n",
       "107 2022-02-13                    0.000000                 0.000000\n",
       "\n",
       "[108 rows x 3 columns]"
      ]
     },
     "execution_count": 21,
     "metadata": {},
     "output_type": "execute_result"
    }
   ],
   "source": [
    "# California\n",
    "ca = data[data['State'] == 'CA']\n",
    "ca = ca[['State', 'Date', 'Confirmed', 'Deaths', 'population','confirmed_daily', 'deaths_daily']]\n",
    "ca['confirmed_daily_normalized'] = (ca['confirmed_daily']/ca['population'])*100000\n",
    "ca['deaths_daily_normalized'] = (ca['deaths_daily']/ca['population'])*100000\n",
    "ca['Date'] =  pd.to_datetime(ca['Date'], format='%Y-%m-%d')\n",
    "ca = ca.groupby([pd.Grouper(key='Date', freq='w')])[['confirmed_daily_normalized','deaths_daily_normalized']].agg({'confirmed_daily_normalized':'sum','deaths_daily_normalized' :'sum'}).reset_index()\n",
    "ca"
   ]
  },
  {
   "cell_type": "code",
   "execution_count": 22,
   "id": "348c3ed7",
   "metadata": {},
   "outputs": [
    {
     "data": {
      "text/html": [
       "<div>\n",
       "<style scoped>\n",
       "    .dataframe tbody tr th:only-of-type {\n",
       "        vertical-align: middle;\n",
       "    }\n",
       "\n",
       "    .dataframe tbody tr th {\n",
       "        vertical-align: top;\n",
       "    }\n",
       "\n",
       "    .dataframe thead th {\n",
       "        text-align: right;\n",
       "    }\n",
       "</style>\n",
       "<table border=\"1\" class=\"dataframe\">\n",
       "  <thead>\n",
       "    <tr style=\"text-align: right;\">\n",
       "      <th></th>\n",
       "      <th>Date</th>\n",
       "      <th>confirmed_daily_normalized</th>\n",
       "      <th>deaths_daily_normalized</th>\n",
       "    </tr>\n",
       "  </thead>\n",
       "  <tbody>\n",
       "    <tr>\n",
       "      <th>0</th>\n",
       "      <td>2020-01-26</td>\n",
       "      <td>0.000000</td>\n",
       "      <td>0.0</td>\n",
       "    </tr>\n",
       "    <tr>\n",
       "      <th>1</th>\n",
       "      <td>2020-02-02</td>\n",
       "      <td>0.000000</td>\n",
       "      <td>0.0</td>\n",
       "    </tr>\n",
       "    <tr>\n",
       "      <th>2</th>\n",
       "      <td>2020-02-09</td>\n",
       "      <td>0.000000</td>\n",
       "      <td>0.0</td>\n",
       "    </tr>\n",
       "    <tr>\n",
       "      <th>3</th>\n",
       "      <td>2020-02-16</td>\n",
       "      <td>0.000000</td>\n",
       "      <td>0.0</td>\n",
       "    </tr>\n",
       "    <tr>\n",
       "      <th>4</th>\n",
       "      <td>2020-02-23</td>\n",
       "      <td>0.000000</td>\n",
       "      <td>0.0</td>\n",
       "    </tr>\n",
       "    <tr>\n",
       "      <th>...</th>\n",
       "      <td>...</td>\n",
       "      <td>...</td>\n",
       "      <td>...</td>\n",
       "    </tr>\n",
       "    <tr>\n",
       "      <th>103</th>\n",
       "      <td>2022-01-16</td>\n",
       "      <td>110075.000845</td>\n",
       "      <td>0.0</td>\n",
       "    </tr>\n",
       "    <tr>\n",
       "      <th>104</th>\n",
       "      <td>2022-01-23</td>\n",
       "      <td>96412.756599</td>\n",
       "      <td>0.0</td>\n",
       "    </tr>\n",
       "    <tr>\n",
       "      <th>105</th>\n",
       "      <td>2022-01-30</td>\n",
       "      <td>79730.557600</td>\n",
       "      <td>0.0</td>\n",
       "    </tr>\n",
       "    <tr>\n",
       "      <th>106</th>\n",
       "      <td>2022-02-06</td>\n",
       "      <td>50443.032521</td>\n",
       "      <td>0.0</td>\n",
       "    </tr>\n",
       "    <tr>\n",
       "      <th>107</th>\n",
       "      <td>2022-02-13</td>\n",
       "      <td>0.000000</td>\n",
       "      <td>0.0</td>\n",
       "    </tr>\n",
       "  </tbody>\n",
       "</table>\n",
       "<p>108 rows × 3 columns</p>\n",
       "</div>"
      ],
      "text/plain": [
       "          Date  confirmed_daily_normalized  deaths_daily_normalized\n",
       "0   2020-01-26                    0.000000                      0.0\n",
       "1   2020-02-02                    0.000000                      0.0\n",
       "2   2020-02-09                    0.000000                      0.0\n",
       "3   2020-02-16                    0.000000                      0.0\n",
       "4   2020-02-23                    0.000000                      0.0\n",
       "..         ...                         ...                      ...\n",
       "103 2022-01-16               110075.000845                      0.0\n",
       "104 2022-01-23                96412.756599                      0.0\n",
       "105 2022-01-30                79730.557600                      0.0\n",
       "106 2022-02-06                50443.032521                      0.0\n",
       "107 2022-02-13                    0.000000                      0.0\n",
       "\n",
       "[108 rows x 3 columns]"
      ]
     },
     "execution_count": 22,
     "metadata": {},
     "output_type": "execute_result"
    }
   ],
   "source": [
    "# Florida\n",
    "fl = data[data['State'] == 'FL']\n",
    "fl = fl[['State', 'Date', 'Confirmed', 'Deaths', 'population','confirmed_daily', 'deaths_daily']]\n",
    "fl['confirmed_daily_normalized'] = (fl['confirmed_daily']/fl['population'])*100000\n",
    "fl['deaths_daily_normalized'] = (fl['deaths_daily']/fl['population'])*100000\n",
    "fl['Date'] =  pd.to_datetime(fl['Date'], format='%Y-%m-%d')\n",
    "fl = fl.groupby([pd.Grouper(key='Date', freq='w')])[['confirmed_daily_normalized','deaths_daily_normalized']].agg({'confirmed_daily_normalized':'sum','deaths_daily_normalized' :'sum'}).reset_index()\n",
    "fl"
   ]
  },
  {
   "cell_type": "code",
   "execution_count": 23,
   "id": "cef092c6",
   "metadata": {},
   "outputs": [
    {
     "data": {
      "text/html": [
       "<div>\n",
       "<style scoped>\n",
       "    .dataframe tbody tr th:only-of-type {\n",
       "        vertical-align: middle;\n",
       "    }\n",
       "\n",
       "    .dataframe tbody tr th {\n",
       "        vertical-align: top;\n",
       "    }\n",
       "\n",
       "    .dataframe thead th {\n",
       "        text-align: right;\n",
       "    }\n",
       "</style>\n",
       "<table border=\"1\" class=\"dataframe\">\n",
       "  <thead>\n",
       "    <tr style=\"text-align: right;\">\n",
       "      <th></th>\n",
       "      <th>Date</th>\n",
       "      <th>confirmed_daily_normalized</th>\n",
       "      <th>deaths_daily_normalized</th>\n",
       "    </tr>\n",
       "  </thead>\n",
       "  <tbody>\n",
       "    <tr>\n",
       "      <th>0</th>\n",
       "      <td>2020-01-26</td>\n",
       "      <td>0.019417</td>\n",
       "      <td>0.000000</td>\n",
       "    </tr>\n",
       "    <tr>\n",
       "      <th>1</th>\n",
       "      <td>2020-02-02</td>\n",
       "      <td>0.019417</td>\n",
       "      <td>0.000000</td>\n",
       "    </tr>\n",
       "    <tr>\n",
       "      <th>2</th>\n",
       "      <td>2020-02-09</td>\n",
       "      <td>0.000000</td>\n",
       "      <td>0.000000</td>\n",
       "    </tr>\n",
       "    <tr>\n",
       "      <th>3</th>\n",
       "      <td>2020-02-16</td>\n",
       "      <td>0.000000</td>\n",
       "      <td>0.000000</td>\n",
       "    </tr>\n",
       "    <tr>\n",
       "      <th>4</th>\n",
       "      <td>2020-02-23</td>\n",
       "      <td>0.000000</td>\n",
       "      <td>0.000000</td>\n",
       "    </tr>\n",
       "    <tr>\n",
       "      <th>...</th>\n",
       "      <td>...</td>\n",
       "      <td>...</td>\n",
       "      <td>...</td>\n",
       "    </tr>\n",
       "    <tr>\n",
       "      <th>103</th>\n",
       "      <td>2022-01-16</td>\n",
       "      <td>205505.684334</td>\n",
       "      <td>691.018887</td>\n",
       "    </tr>\n",
       "    <tr>\n",
       "      <th>104</th>\n",
       "      <td>2022-01-23</td>\n",
       "      <td>206741.886235</td>\n",
       "      <td>636.665087</td>\n",
       "    </tr>\n",
       "    <tr>\n",
       "      <th>105</th>\n",
       "      <td>2022-01-30</td>\n",
       "      <td>133480.422274</td>\n",
       "      <td>715.847442</td>\n",
       "    </tr>\n",
       "    <tr>\n",
       "      <th>106</th>\n",
       "      <td>2022-02-06</td>\n",
       "      <td>64245.702982</td>\n",
       "      <td>489.771612</td>\n",
       "    </tr>\n",
       "    <tr>\n",
       "      <th>107</th>\n",
       "      <td>2022-02-13</td>\n",
       "      <td>4203.693913</td>\n",
       "      <td>53.589111</td>\n",
       "    </tr>\n",
       "  </tbody>\n",
       "</table>\n",
       "<p>108 rows × 3 columns</p>\n",
       "</div>"
      ],
      "text/plain": [
       "          Date  confirmed_daily_normalized  deaths_daily_normalized\n",
       "0   2020-01-26                    0.019417                 0.000000\n",
       "1   2020-02-02                    0.019417                 0.000000\n",
       "2   2020-02-09                    0.000000                 0.000000\n",
       "3   2020-02-16                    0.000000                 0.000000\n",
       "4   2020-02-23                    0.000000                 0.000000\n",
       "..         ...                         ...                      ...\n",
       "103 2022-01-16               205505.684334               691.018887\n",
       "104 2022-01-23               206741.886235               636.665087\n",
       "105 2022-01-30               133480.422274               715.847442\n",
       "106 2022-02-06                64245.702982               489.771612\n",
       "107 2022-02-13                 4203.693913                53.589111\n",
       "\n",
       "[108 rows x 3 columns]"
      ]
     },
     "execution_count": 23,
     "metadata": {},
     "output_type": "execute_result"
    }
   ],
   "source": [
    "# Illinois\n",
    "il = data[data['State'] == 'IL']\n",
    "il = il[['State', 'Date', 'Confirmed', 'Deaths', 'population','confirmed_daily', 'deaths_daily']]\n",
    "il['confirmed_daily_normalized'] = (il['confirmed_daily']/il['population'])*100000\n",
    "il['deaths_daily_normalized'] = (il['deaths_daily']/il['population'])*100000\n",
    "il['Date'] =  pd.to_datetime(il['Date'], format='%Y-%m-%d')\n",
    "il = il.groupby([pd.Grouper(key='Date', freq='w')])[['confirmed_daily_normalized','deaths_daily_normalized']].agg({'confirmed_daily_normalized':'sum','deaths_daily_normalized' :'sum'}).reset_index()\n",
    "il"
   ]
  },
  {
   "cell_type": "code",
   "execution_count": 24,
   "id": "9ecdc6e8",
   "metadata": {
    "scrolled": false
   },
   "outputs": [
    {
     "data": {
      "text/html": [
       "<div>\n",
       "<style scoped>\n",
       "    .dataframe tbody tr th:only-of-type {\n",
       "        vertical-align: middle;\n",
       "    }\n",
       "\n",
       "    .dataframe tbody tr th {\n",
       "        vertical-align: top;\n",
       "    }\n",
       "\n",
       "    .dataframe thead th {\n",
       "        text-align: right;\n",
       "    }\n",
       "</style>\n",
       "<table border=\"1\" class=\"dataframe\">\n",
       "  <thead>\n",
       "    <tr style=\"text-align: right;\">\n",
       "      <th></th>\n",
       "      <th>Date</th>\n",
       "      <th>confirmed_daily_normalized</th>\n",
       "      <th>deaths_daily_normalized</th>\n",
       "    </tr>\n",
       "  </thead>\n",
       "  <tbody>\n",
       "    <tr>\n",
       "      <th>0</th>\n",
       "      <td>2020-01-26</td>\n",
       "      <td>0.000000</td>\n",
       "      <td>0.000000</td>\n",
       "    </tr>\n",
       "    <tr>\n",
       "      <th>1</th>\n",
       "      <td>2020-02-02</td>\n",
       "      <td>0.000000</td>\n",
       "      <td>0.000000</td>\n",
       "    </tr>\n",
       "    <tr>\n",
       "      <th>2</th>\n",
       "      <td>2020-02-09</td>\n",
       "      <td>0.000000</td>\n",
       "      <td>0.000000</td>\n",
       "    </tr>\n",
       "    <tr>\n",
       "      <th>3</th>\n",
       "      <td>2020-02-16</td>\n",
       "      <td>0.000000</td>\n",
       "      <td>0.000000</td>\n",
       "    </tr>\n",
       "    <tr>\n",
       "      <th>4</th>\n",
       "      <td>2020-02-23</td>\n",
       "      <td>0.000000</td>\n",
       "      <td>0.000000</td>\n",
       "    </tr>\n",
       "    <tr>\n",
       "      <th>...</th>\n",
       "      <td>...</td>\n",
       "      <td>...</td>\n",
       "      <td>...</td>\n",
       "    </tr>\n",
       "    <tr>\n",
       "      <th>103</th>\n",
       "      <td>2022-01-16</td>\n",
       "      <td>110683.560707</td>\n",
       "      <td>105.179005</td>\n",
       "    </tr>\n",
       "    <tr>\n",
       "      <th>104</th>\n",
       "      <td>2022-01-23</td>\n",
       "      <td>88531.520199</td>\n",
       "      <td>272.431130</td>\n",
       "    </tr>\n",
       "    <tr>\n",
       "      <th>105</th>\n",
       "      <td>2022-01-30</td>\n",
       "      <td>146923.791744</td>\n",
       "      <td>402.996667</td>\n",
       "    </tr>\n",
       "    <tr>\n",
       "      <th>106</th>\n",
       "      <td>2022-02-06</td>\n",
       "      <td>48491.536267</td>\n",
       "      <td>440.788087</td>\n",
       "    </tr>\n",
       "    <tr>\n",
       "      <th>107</th>\n",
       "      <td>2022-02-13</td>\n",
       "      <td>10153.166129</td>\n",
       "      <td>75.693771</td>\n",
       "    </tr>\n",
       "  </tbody>\n",
       "</table>\n",
       "<p>108 rows × 3 columns</p>\n",
       "</div>"
      ],
      "text/plain": [
       "          Date  confirmed_daily_normalized  deaths_daily_normalized\n",
       "0   2020-01-26                    0.000000                 0.000000\n",
       "1   2020-02-02                    0.000000                 0.000000\n",
       "2   2020-02-09                    0.000000                 0.000000\n",
       "3   2020-02-16                    0.000000                 0.000000\n",
       "4   2020-02-23                    0.000000                 0.000000\n",
       "..         ...                         ...                      ...\n",
       "103 2022-01-16               110683.560707               105.179005\n",
       "104 2022-01-23                88531.520199               272.431130\n",
       "105 2022-01-30               146923.791744               402.996667\n",
       "106 2022-02-06                48491.536267               440.788087\n",
       "107 2022-02-13                10153.166129                75.693771\n",
       "\n",
       "[108 rows x 3 columns]"
      ]
     },
     "execution_count": 24,
     "metadata": {},
     "output_type": "execute_result"
    }
   ],
   "source": [
    "# Louisiana\n",
    "la = data[data['State'] == 'LA']\n",
    "la = la[['State', 'Date', 'Confirmed', 'Deaths', 'population','confirmed_daily', 'deaths_daily']]\n",
    "la['confirmed_daily_normalized'] = (la['confirmed_daily']/la['population'])*100000\n",
    "la['deaths_daily_normalized'] = (la['deaths_daily']/la['population'])*100000\n",
    "la['Date'] =  pd.to_datetime(la['Date'], format='%Y-%m-%d')\n",
    "la = la.groupby([pd.Grouper(key='Date', freq='w')])[['confirmed_daily_normalized','deaths_daily_normalized']].agg({'confirmed_daily_normalized':'sum','deaths_daily_normalized' :'sum'}).reset_index()\n",
    "la"
   ]
  },
  {
   "cell_type": "markdown",
   "id": "88dcbf94",
   "metadata": {},
   "source": [
    "## Task 1\n",
    "### Part 2 - 3:\n",
    "* Describe the type of distribution (modality) and its statistics (moments of a distribution - center, variance, skewness, kurtosis) in the report and the notebook.\n",
    "Compare the distribution and its statistics to 5 other states of your choosing. Describe if the distributions look different and what does that imply."
   ]
  },
  {
   "cell_type": "code",
   "execution_count": 25,
   "id": "3f4dae8f",
   "metadata": {},
   "outputs": [],
   "source": [
    "#Distribution for NC"
   ]
  },
  {
   "cell_type": "code",
   "execution_count": 26,
   "id": "cac5fc21",
   "metadata": {
    "scrolled": false
   },
   "outputs": [
    {
     "data": {
      "text/plain": [
       "<AxesSubplot:>"
      ]
     },
     "execution_count": 26,
     "metadata": {},
     "output_type": "execute_result"
    },
    {
     "data": {
      "image/png": "[encoded data removed]",
      "text/plain": [
       "<Figure size 576x360 with 1 Axes>"
      ]
     },
     "metadata": {
      "needs_background": "light"
     },
     "output_type": "display_data"
    }
   ],
   "source": [
    "nc[\"confirmed_daily_normalized\"].hist(bins=10, ec='blue', figsize=(8,5))"
   ]
  },
  {
   "cell_type": "markdown",
   "id": "d2428abc",
   "metadata": {},
   "source": [
    "**Description:**\n",
    "* From the histogram, it can be seen that North Carolina have very high number of cases initially which starts decreasing eventually and becomes very low in the end.\n",
    "* It is a positive skew type distribution because it has skew to the right side.\n",
    "* It is unimodal distribution\n",
    "* It is exponential distribution as the random variable is taking values after performing normalization."
   ]
  },
  {
   "cell_type": "code",
   "execution_count": 27,
   "id": "83f5806f",
   "metadata": {},
   "outputs": [],
   "source": [
    "#Distribution for AL"
   ]
  },
  {
   "cell_type": "code",
   "execution_count": 28,
   "id": "c0ea55e8",
   "metadata": {
    "scrolled": true
   },
   "outputs": [
    {
     "data": {
      "text/plain": [
       "<AxesSubplot:>"
      ]
     },
     "execution_count": 28,
     "metadata": {},
     "output_type": "execute_result"
    },
    {
     "data": {
      "image/png": "[encoded data removed]",
      "text/plain": [
       "<Figure size 576x360 with 1 Axes>"
      ]
     },
     "metadata": {
      "needs_background": "light"
     },
     "output_type": "display_data"
    }
   ],
   "source": [
    "al[\"confirmed_daily_normalized\"].hist(bins=10, ec='blue', figsize=(8,5))"
   ]
  },
  {
   "cell_type": "markdown",
   "id": "0f745101",
   "metadata": {},
   "source": [
    "**Description:**\n",
    "* From the histogram, it can be seen that Alabama have very high number of cases initially which starts decreasing eventually,  becomes zero and then start increasing again.\n",
    "* It is a positive skew type distribution because it has skew to the right side.\n",
    "* It is unimodal distribution\n",
    "* It is exponential distribution as the random variable is taking values after performing normalization."
   ]
  },
  {
   "cell_type": "code",
   "execution_count": 29,
   "id": "f8d92e0d",
   "metadata": {},
   "outputs": [],
   "source": [
    "#Distribution for CA"
   ]
  },
  {
   "cell_type": "code",
   "execution_count": 30,
   "id": "77372e34",
   "metadata": {
    "scrolled": true
   },
   "outputs": [
    {
     "data": {
      "text/plain": [
       "<AxesSubplot:>"
      ]
     },
     "execution_count": 30,
     "metadata": {},
     "output_type": "execute_result"
    },
    {
     "data": {
      "image/png": "[encoded data removed]",
      "text/plain": [
       "<Figure size 576x360 with 1 Axes>"
      ]
     },
     "metadata": {
      "needs_background": "light"
     },
     "output_type": "display_data"
    }
   ],
   "source": [
    "ca[\"confirmed_daily_normalized\"].hist(bins=10, ec='blue', figsize=(8,5))"
   ]
  },
  {
   "cell_type": "markdown",
   "id": "7c8a67ad",
   "metadata": {},
   "source": [
    "**Description:**\n",
    "* From the histogram, it can be seen that California have very high number of cases initially which starts decreasing eventually, becomes zero and then start increasing again.\n",
    "* It is a positive skew type distribution because it has skew to the right side.\n",
    "* It is unimodal distribution\n",
    "* It is exponential distribution as the random variable is taking values after performing normalization."
   ]
  },
  {
   "cell_type": "code",
   "execution_count": 31,
   "id": "060ebdcc",
   "metadata": {},
   "outputs": [],
   "source": [
    "#Distribution for FL"
   ]
  },
  {
   "cell_type": "code",
   "execution_count": 32,
   "id": "40ba3a5e",
   "metadata": {
    "scrolled": true
   },
   "outputs": [
    {
     "data": {
      "text/plain": [
       "<AxesSubplot:>"
      ]
     },
     "execution_count": 32,
     "metadata": {},
     "output_type": "execute_result"
    },
    {
     "data": {
      "image/png": "[encoded data removed]",
      "text/plain": [
       "<Figure size 576x360 with 1 Axes>"
      ]
     },
     "metadata": {
      "needs_background": "light"
     },
     "output_type": "display_data"
    }
   ],
   "source": [
    "fl[\"confirmed_daily_normalized\"].hist(bins=10, ec='blue', figsize=(8,5))"
   ]
  },
  {
   "cell_type": "markdown",
   "id": "5ac3bf00",
   "metadata": {},
   "source": [
    "**Description:**\n",
    "* From the histogram, it can be seen that Florida have very high number of cases initially which starts decreasing eventually, becomes zero and then start increasing again.\n",
    "* It is a positive skew type distribution because it has skew to the right side.\n",
    "* It is unimodal distribution\n",
    "* It is exponential distribution as the random variable is taking values after performing normalization."
   ]
  },
  {
   "cell_type": "code",
   "execution_count": 33,
   "id": "bb99629d",
   "metadata": {},
   "outputs": [],
   "source": [
    "#Distribution for IL"
   ]
  },
  {
   "cell_type": "code",
   "execution_count": 34,
   "id": "6c1927ee",
   "metadata": {
    "scrolled": true
   },
   "outputs": [
    {
     "data": {
      "text/plain": [
       "<AxesSubplot:>"
      ]
     },
     "execution_count": 34,
     "metadata": {},
     "output_type": "execute_result"
    },
    {
     "data": {
      "image/png": "[encoded data removed]",
      "text/plain": [
       "<Figure size 576x360 with 1 Axes>"
      ]
     },
     "metadata": {
      "needs_background": "light"
     },
     "output_type": "display_data"
    }
   ],
   "source": [
    "il[\"confirmed_daily_normalized\"].hist(bins=10, ec='blue', figsize=(8,5))"
   ]
  },
  {
   "cell_type": "markdown",
   "id": "d1170a39",
   "metadata": {},
   "source": [
    "**Description:**\n",
    "* From the histogram, it can be seen that Illinois have very high number of cases initially which starts decreasing eventually, becomes zero and then start increasing again.\n",
    "* It is a positive skew type distribution because it has skew to the right side.\n",
    "* It is unimodal distribution\n",
    "* It is exponential distribution as the random variable is taking values after performing normalization."
   ]
  },
  {
   "cell_type": "code",
   "execution_count": 35,
   "id": "84db527b",
   "metadata": {},
   "outputs": [],
   "source": [
    "#Distribution for LA"
   ]
  },
  {
   "cell_type": "code",
   "execution_count": 36,
   "id": "c5d821d9",
   "metadata": {
    "scrolled": true
   },
   "outputs": [
    {
     "data": {
      "text/plain": [
       "<AxesSubplot:>"
      ]
     },
     "execution_count": 36,
     "metadata": {},
     "output_type": "execute_result"
    },
    {
     "data": {
      "image/png": "[encoded data removed]",
      "text/plain": [
       "<Figure size 576x360 with 1 Axes>"
      ]
     },
     "metadata": {
      "needs_background": "light"
     },
     "output_type": "display_data"
    }
   ],
   "source": [
    "la[\"confirmed_daily_normalized\"].hist(bins=10, ec='blue', figsize=(8,5))"
   ]
  },
  {
   "cell_type": "markdown",
   "id": "67c22a5e",
   "metadata": {},
   "source": [
    "**Description:**\n",
    "* From the histogram, it can be seen that Louisiana have very high number of cases initially which starts decreasing eventually, becomes zero and then start increasing again.\n",
    "* It is a positive skew type distribution because it has skew to the right side.\n",
    "* It is unimodal distribution\n",
    "* It is exponential distribution as the random variable is taking values after performing normalization."
   ]
  },
  {
   "cell_type": "code",
   "execution_count": 37,
   "id": "9b6c16a7",
   "metadata": {},
   "outputs": [],
   "source": [
    "#mean calculation"
   ]
  },
  {
   "cell_type": "code",
   "execution_count": 38,
   "id": "9636a495",
   "metadata": {},
   "outputs": [],
   "source": [
    "#cases"
   ]
  },
  {
   "cell_type": "code",
   "execution_count": 39,
   "id": "961080d7",
   "metadata": {},
   "outputs": [
    {
     "data": {
      "text/plain": [
       "21773"
      ]
     },
     "execution_count": 39,
     "metadata": {},
     "output_type": "execute_result"
    }
   ],
   "source": [
    "nc_mean  = nc[\"confirmed_daily_normalized\"].mean()\n",
    "round(nc_mean)"
   ]
  },
  {
   "cell_type": "code",
   "execution_count": 40,
   "id": "dec212e5",
   "metadata": {},
   "outputs": [
    {
     "data": {
      "text/plain": [
       "15476"
      ]
     },
     "execution_count": 40,
     "metadata": {},
     "output_type": "execute_result"
    }
   ],
   "source": [
    "al_mean  = al[\"confirmed_daily_normalized\"].mean()\n",
    "round(al_mean)"
   ]
  },
  {
   "cell_type": "code",
   "execution_count": 41,
   "id": "3c6658ab",
   "metadata": {},
   "outputs": [
    {
     "data": {
      "text/plain": [
       "9209"
      ]
     },
     "execution_count": 41,
     "metadata": {},
     "output_type": "execute_result"
    }
   ],
   "source": [
    "ca_mean  = ca[\"confirmed_daily_normalized\"].mean()\n",
    "round(ca_mean)"
   ]
  },
  {
   "cell_type": "code",
   "execution_count": 42,
   "id": "2f126238",
   "metadata": {},
   "outputs": [
    {
     "data": {
      "text/plain": [
       "15153"
      ]
     },
     "execution_count": 42,
     "metadata": {},
     "output_type": "execute_result"
    }
   ],
   "source": [
    "fl_mean  = fl[\"confirmed_daily_normalized\"].mean()\n",
    "round(fl_mean)"
   ]
  },
  {
   "cell_type": "code",
   "execution_count": 43,
   "id": "cfdfe2c2",
   "metadata": {},
   "outputs": [
    {
     "data": {
      "text/plain": [
       "26015"
      ]
     },
     "execution_count": 43,
     "metadata": {},
     "output_type": "execute_result"
    }
   ],
   "source": [
    "il_mean  = il[\"confirmed_daily_normalized\"].mean()\n",
    "round(il_mean)"
   ]
  },
  {
   "cell_type": "code",
   "execution_count": 44,
   "id": "9328f164",
   "metadata": {},
   "outputs": [
    {
     "data": {
      "text/plain": [
       "15303"
      ]
     },
     "execution_count": 44,
     "metadata": {},
     "output_type": "execute_result"
    }
   ],
   "source": [
    "la_mean  = la[\"confirmed_daily_normalized\"].mean()\n",
    "round(la_mean)"
   ]
  },
  {
   "cell_type": "code",
   "execution_count": 45,
   "id": "bdd7512c",
   "metadata": {},
   "outputs": [],
   "source": [
    "#deaths"
   ]
  },
  {
   "cell_type": "code",
   "execution_count": 46,
   "id": "3c3471c5",
   "metadata": {},
   "outputs": [
    {
     "data": {
      "text/plain": [
       "234"
      ]
     },
     "execution_count": 46,
     "metadata": {},
     "output_type": "execute_result"
    }
   ],
   "source": [
    "nc_mean_deaths  = nc['deaths_daily_normalized'].mean()\n",
    "round(nc_mean_deaths)"
   ]
  },
  {
   "cell_type": "code",
   "execution_count": 47,
   "id": "2682cd16",
   "metadata": {},
   "outputs": [
    {
     "data": {
      "text/plain": [
       "260"
      ]
     },
     "execution_count": 47,
     "metadata": {},
     "output_type": "execute_result"
    }
   ],
   "source": [
    "al_mean_deaths  = al['deaths_daily_normalized'].mean()\n",
    "round(al_mean_deaths)"
   ]
  },
  {
   "cell_type": "code",
   "execution_count": 48,
   "id": "078bceba",
   "metadata": {},
   "outputs": [
    {
     "data": {
      "text/plain": [
       "84"
      ]
     },
     "execution_count": 48,
     "metadata": {},
     "output_type": "execute_result"
    }
   ],
   "source": [
    "ca_mean_deaths  = ca['deaths_daily_normalized'].mean()\n",
    "round(ca_mean_deaths)"
   ]
  },
  {
   "cell_type": "code",
   "execution_count": 49,
   "id": "c8284614",
   "metadata": {},
   "outputs": [
    {
     "data": {
      "text/plain": [
       "122"
      ]
     },
     "execution_count": 49,
     "metadata": {},
     "output_type": "execute_result"
    }
   ],
   "source": [
    "fl_mean_deaths  = fl['deaths_daily_normalized'].mean()\n",
    "round(fl_mean_deaths)"
   ]
  },
  {
   "cell_type": "code",
   "execution_count": 50,
   "id": "62b9bcf2",
   "metadata": {},
   "outputs": [
    {
     "data": {
      "text/plain": [
       "330"
      ]
     },
     "execution_count": 50,
     "metadata": {},
     "output_type": "execute_result"
    }
   ],
   "source": [
    "il_mean_deaths  = il['deaths_daily_normalized'].mean()\n",
    "round(il_mean_deaths)"
   ]
  },
  {
   "cell_type": "code",
   "execution_count": 51,
   "id": "cad0e834",
   "metadata": {},
   "outputs": [
    {
     "data": {
      "text/plain": [
       "234"
      ]
     },
     "execution_count": 51,
     "metadata": {},
     "output_type": "execute_result"
    }
   ],
   "source": [
    "la_mean_deaths  = la['deaths_daily_normalized'].mean()\n",
    "round(la_mean_deaths)"
   ]
  },
  {
   "cell_type": "code",
   "execution_count": 52,
   "id": "da8bd113",
   "metadata": {},
   "outputs": [],
   "source": [
    "#variance calculation"
   ]
  },
  {
   "cell_type": "code",
   "execution_count": 53,
   "id": "11878e75",
   "metadata": {},
   "outputs": [
    {
     "data": {
      "text/plain": [
       "982267196.1566926"
      ]
     },
     "execution_count": 53,
     "metadata": {},
     "output_type": "execute_result"
    }
   ],
   "source": [
    "nc_var  = nc[\"confirmed_daily_normalized\"].var()\n",
    "nc_var"
   ]
  },
  {
   "cell_type": "code",
   "execution_count": 54,
   "id": "2d0babd0",
   "metadata": {},
   "outputs": [
    {
     "data": {
      "text/plain": [
       "475530219.7905452"
      ]
     },
     "execution_count": 54,
     "metadata": {},
     "output_type": "execute_result"
    }
   ],
   "source": [
    "al_var  = al[\"confirmed_daily_normalized\"].var()\n",
    "al_var"
   ]
  },
  {
   "cell_type": "code",
   "execution_count": 55,
   "id": "8e9c56de",
   "metadata": {},
   "outputs": [
    {
     "data": {
      "text/plain": [
       "179599711.20938087"
      ]
     },
     "execution_count": 55,
     "metadata": {},
     "output_type": "execute_result"
    }
   ],
   "source": [
    "ca_var  = ca[\"confirmed_daily_normalized\"].var()\n",
    "ca_var"
   ]
  },
  {
   "cell_type": "code",
   "execution_count": 56,
   "id": "7ed9743f",
   "metadata": {},
   "outputs": [
    {
     "data": {
      "text/plain": [
       "415175947.68177265"
      ]
     },
     "execution_count": 56,
     "metadata": {},
     "output_type": "execute_result"
    }
   ],
   "source": [
    "fl_var  = fl[\"confirmed_daily_normalized\"].var()\n",
    "fl_var"
   ]
  },
  {
   "cell_type": "code",
   "execution_count": 57,
   "id": "3ccf209f",
   "metadata": {},
   "outputs": [
    {
     "data": {
      "text/plain": [
       "1380148472.299737"
      ]
     },
     "execution_count": 57,
     "metadata": {},
     "output_type": "execute_result"
    }
   ],
   "source": [
    "il_var  = il[\"confirmed_daily_normalized\"].var()\n",
    "il_var"
   ]
  },
  {
   "cell_type": "code",
   "execution_count": 58,
   "id": "c75fd612",
   "metadata": {},
   "outputs": [
    {
     "data": {
      "text/plain": [
       "505261145.90029436"
      ]
     },
     "execution_count": 58,
     "metadata": {},
     "output_type": "execute_result"
    }
   ],
   "source": [
    "la_var  = la[\"confirmed_daily_normalized\"].var()\n",
    "la_var"
   ]
  },
  {
   "cell_type": "code",
   "execution_count": 59,
   "id": "b5b3156b",
   "metadata": {},
   "outputs": [],
   "source": [
    "#skewness calculation"
   ]
  },
  {
   "cell_type": "code",
   "execution_count": 60,
   "id": "92fc7ea9",
   "metadata": {},
   "outputs": [
    {
     "data": {
      "text/plain": [
       "3.319234715061097"
      ]
     },
     "execution_count": 60,
     "metadata": {},
     "output_type": "execute_result"
    }
   ],
   "source": [
    "nc_skew  = nc[\"confirmed_daily_normalized\"].skew()\n",
    "nc_skew"
   ]
  },
  {
   "cell_type": "code",
   "execution_count": 61,
   "id": "6723c5c3",
   "metadata": {},
   "outputs": [
    {
     "data": {
      "text/plain": [
       "3.9983361783762095"
      ]
     },
     "execution_count": 61,
     "metadata": {},
     "output_type": "execute_result"
    }
   ],
   "source": [
    "al_skew  = al[\"confirmed_daily_normalized\"].skew()\n",
    "al_skew"
   ]
  },
  {
   "cell_type": "code",
   "execution_count": 62,
   "id": "4c5da5a5",
   "metadata": {},
   "outputs": [
    {
     "data": {
      "text/plain": [
       "3.120498009716973"
      ]
     },
     "execution_count": 62,
     "metadata": {},
     "output_type": "execute_result"
    }
   ],
   "source": [
    "ca_skew  = ca[\"confirmed_daily_normalized\"].skew()\n",
    "ca_skew"
   ]
  },
  {
   "cell_type": "code",
   "execution_count": 63,
   "id": "2ff76b9e",
   "metadata": {},
   "outputs": [
    {
     "data": {
      "text/plain": [
       "2.421748461234236"
      ]
     },
     "execution_count": 63,
     "metadata": {},
     "output_type": "execute_result"
    }
   ],
   "source": [
    "fl_skew  = fl[\"confirmed_daily_normalized\"].skew()\n",
    "fl_skew"
   ]
  },
  {
   "cell_type": "code",
   "execution_count": 64,
   "id": "d793504b",
   "metadata": {},
   "outputs": [
    {
     "data": {
      "text/plain": [
       "3.0350599046728486"
      ]
     },
     "execution_count": 64,
     "metadata": {},
     "output_type": "execute_result"
    }
   ],
   "source": [
    "il_skew  = il[\"confirmed_daily_normalized\"].skew()\n",
    "il_skew"
   ]
  },
  {
   "cell_type": "code",
   "execution_count": 65,
   "id": "3d14edb7",
   "metadata": {},
   "outputs": [
    {
     "data": {
      "text/plain": [
       "3.428304090029175"
      ]
     },
     "execution_count": 65,
     "metadata": {},
     "output_type": "execute_result"
    }
   ],
   "source": [
    "la_skew  = la[\"confirmed_daily_normalized\"].skew()\n",
    "la_skew"
   ]
  },
  {
   "cell_type": "code",
   "execution_count": 66,
   "id": "04925aa9",
   "metadata": {},
   "outputs": [],
   "source": [
    "#kutosis caculation"
   ]
  },
  {
   "cell_type": "code",
   "execution_count": 67,
   "id": "5e2e6224",
   "metadata": {},
   "outputs": [
    {
     "data": {
      "text/plain": [
       "12.68782960871529"
      ]
     },
     "execution_count": 67,
     "metadata": {},
     "output_type": "execute_result"
    }
   ],
   "source": [
    "nc_kurt  = nc[\"confirmed_daily_normalized\"].kurtosis()\n",
    "nc_kurt"
   ]
  },
  {
   "cell_type": "code",
   "execution_count": 68,
   "id": "5bf0f5c9",
   "metadata": {},
   "outputs": [
    {
     "data": {
      "text/plain": [
       "20.948549511750667"
      ]
     },
     "execution_count": 68,
     "metadata": {},
     "output_type": "execute_result"
    }
   ],
   "source": [
    "al_kurt  = al[\"confirmed_daily_normalized\"].kurtosis()\n",
    "al_kurt"
   ]
  },
  {
   "cell_type": "code",
   "execution_count": 69,
   "id": "26d3a6a1",
   "metadata": {},
   "outputs": [
    {
     "data": {
      "text/plain": [
       "11.161163900685484"
      ]
     },
     "execution_count": 69,
     "metadata": {},
     "output_type": "execute_result"
    }
   ],
   "source": [
    "ca_kurt  = ca[\"confirmed_daily_normalized\"].kurtosis()\n",
    "ca_kurt"
   ]
  },
  {
   "cell_type": "code",
   "execution_count": 70,
   "id": "ffb79409",
   "metadata": {},
   "outputs": [
    {
     "data": {
      "text/plain": [
       "6.7486887316609465"
      ]
     },
     "execution_count": 70,
     "metadata": {},
     "output_type": "execute_result"
    }
   ],
   "source": [
    "fl_kurt  = fl[\"confirmed_daily_normalized\"].kurtosis()\n",
    "fl_kurt"
   ]
  },
  {
   "cell_type": "code",
   "execution_count": 71,
   "id": "e98613d5",
   "metadata": {},
   "outputs": [
    {
     "data": {
      "text/plain": [
       "11.058040490419375"
      ]
     },
     "execution_count": 71,
     "metadata": {},
     "output_type": "execute_result"
    }
   ],
   "source": [
    "il_kurt  = il[\"confirmed_daily_normalized\"].kurtosis()\n",
    "il_kurt"
   ]
  },
  {
   "cell_type": "code",
   "execution_count": 72,
   "id": "6e957738",
   "metadata": {},
   "outputs": [
    {
     "data": {
      "text/plain": [
       "14.364807769618462"
      ]
     },
     "execution_count": 72,
     "metadata": {},
     "output_type": "execute_result"
    }
   ],
   "source": [
    "la_kurt  = la[\"confirmed_daily_normalized\"].kurtosis()\n",
    "la_kurt"
   ]
  },
  {
   "cell_type": "markdown",
   "id": "f094c2ac",
   "metadata": {},
   "source": [
    "#### North Carolina: \n",
    "* **Mean:** 21773\n",
    "* **Variance:** 982267196.1566926\n",
    "* **Skewness:** 3.319234715061097\n",
    "* **Kurtosis:** 12.68782960871529\n",
    "\n",
    "#### Alabama: \n",
    "* **Mean:** 15476\n",
    "* **Variance:** 475530219.7905452\n",
    "* **Skewness:** 3.9983361783762095\n",
    "* **Kurtosis:** 20.948549511750667\n",
    "\n",
    "#### California: \n",
    "* **Mean:** 9209\n",
    "* **Variance:** 179599711.20938087\n",
    "* **Skewness:** 3.120498009716973\n",
    "* **Kurtosis:** 11.161163900685484\n",
    "\n",
    "#### Florida: \n",
    "* **Mean:** 15153\n",
    "* **Variance:** 415175947.68177265\n",
    "* **Skewness:** 2.421748461234236\n",
    "* **Kurtosis:** 6.7486887316609465\n",
    "\n",
    "#### Illinois: \n",
    "* **Mean:** 26015\n",
    "* **Variance:** 1380148472.299737\n",
    "* **Skewness:** 3.0350599046728486\n",
    "* **Kurtosis:** 11.058040490419375\n",
    "\n",
    "#### Louisiana: \n",
    "* **Mean:** 15303\n",
    "* **Variance:** 505261145.90029436\n",
    "* **Skewness:** 3.428304090029175\n",
    "* **Kurtosis:** 14.364807769618462"
   ]
  },
  {
   "cell_type": "markdown",
   "id": "71978225",
   "metadata": {},
   "source": [
    "### Task 2: \n",
    "* Model a poission distribution of COVID-19 cases and deaths of a state and compare to other 5 states. For example, number of new cases and deaths per 100,000 population. Hint - the parameter for a poission's distribution will be its mean value. Then for the minimum and maximum range of covid cases you are calculating probability mass function to observe the probability at different points."
   ]
  },
  {
   "cell_type": "code",
   "execution_count": 73,
   "id": "24f863f4",
   "metadata": {},
   "outputs": [
    {
     "data": {
      "image/png": "[encoded data removed]",
      "text/plain": [
       "<Figure size 432x288 with 1 Axes>"
      ]
     },
     "metadata": {
      "needs_background": "light"
     },
     "output_type": "display_data"
    }
   ],
   "source": [
    "nc = stats.poisson.rvs(size = 1000, mu = 21773)\n",
    "plt.hist(nc)\n",
    "plt.title(\"NC confirmed cases normalized\") \n",
    "plt.show()"
   ]
  },
  {
   "cell_type": "code",
   "execution_count": 74,
   "id": "fcf8d908",
   "metadata": {},
   "outputs": [
    {
     "data": {
      "image/png": "[encoded data removed]",
      "text/plain": [
       "<Figure size 432x288 with 1 Axes>"
      ]
     },
     "metadata": {
      "needs_background": "light"
     },
     "output_type": "display_data"
    }
   ],
   "source": [
    "al = stats.poisson.rvs(size = 1000, mu = 15476)\n",
    "plt.hist(al)\n",
    "plt.title(\"AL confirmed cases normalized\") \n",
    "plt.show()"
   ]
  },
  {
   "cell_type": "code",
   "execution_count": 75,
   "id": "27c17431",
   "metadata": {},
   "outputs": [
    {
     "data": {
      "image/png": "[encoded data removed]",
      "text/plain": [
       "<Figure size 432x288 with 1 Axes>"
      ]
     },
     "metadata": {
      "needs_background": "light"
     },
     "output_type": "display_data"
    }
   ],
   "source": [
    "ca = stats.poisson.rvs(size = 1000, mu = 9209)\n",
    "plt.hist(ca)\n",
    "plt.title(\"CA confirmed cases normalized\") \n",
    "plt.show()"
   ]
  },
  {
   "cell_type": "code",
   "execution_count": 76,
   "id": "e7d78782",
   "metadata": {},
   "outputs": [
    {
     "data": {
      "image/png": "[encoded data removed]",
      "text/plain": [
       "<Figure size 432x288 with 1 Axes>"
      ]
     },
     "metadata": {
      "needs_background": "light"
     },
     "output_type": "display_data"
    }
   ],
   "source": [
    "fl = stats.poisson.rvs(size = 1000, mu = 15153)\n",
    "plt.hist(fl)\n",
    "plt.title(\"FL confirmed cases normalized\") \n",
    "plt.show()"
   ]
  },
  {
   "cell_type": "code",
   "execution_count": 77,
   "id": "7902cd39",
   "metadata": {},
   "outputs": [
    {
     "data": {
      "image/png": "[encoded data removed]",
      "text/plain": [
       "<Figure size 432x288 with 1 Axes>"
      ]
     },
     "metadata": {
      "needs_background": "light"
     },
     "output_type": "display_data"
    }
   ],
   "source": [
    "il = stats.poisson.rvs(size = 1000, mu = 26015)\n",
    "plt.hist(il)\n",
    "plt.title(\"IL confirmed cases normalized\") \n",
    "plt.show()"
   ]
  },
  {
   "cell_type": "code",
   "execution_count": 78,
   "id": "de2a4caa",
   "metadata": {},
   "outputs": [
    {
     "data": {
      "image/png": "[encoded data removed]",
      "text/plain": [
       "<Figure size 432x288 with 1 Axes>"
      ]
     },
     "metadata": {
      "needs_background": "light"
     },
     "output_type": "display_data"
    }
   ],
   "source": [
    "la = stats.poisson.rvs(size = 1000, mu = 15303)\n",
    "plt.hist(la)\n",
    "plt.title(\"LA confirmed cases normalized\") \n",
    "plt.show()"
   ]
  },
  {
   "cell_type": "code",
   "execution_count": 79,
   "id": "a8cbeb3e",
   "metadata": {},
   "outputs": [],
   "source": [
    "# Poission's distribution of Deaths weekly"
   ]
  },
  {
   "cell_type": "code",
   "execution_count": 80,
   "id": "1ecb61a1",
   "metadata": {},
   "outputs": [
    {
     "data": {
      "image/png": "[encoded data removed]",
      "text/plain": [
       "<Figure size 432x288 with 1 Axes>"
      ]
     },
     "metadata": {
      "needs_background": "light"
     },
     "output_type": "display_data"
    }
   ],
   "source": [
    "nc = stats.poisson.rvs(size = 1000, mu = 234)\n",
    "plt.hist(nc)\n",
    "plt.title(\"NC deaths normalized\") \n",
    "plt.show()"
   ]
  },
  {
   "cell_type": "code",
   "execution_count": 81,
   "id": "6362f7ed",
   "metadata": {},
   "outputs": [
    {
     "data": {
      "image/png": "[encoded data removed]",
      "text/plain": [
       "<Figure size 432x288 with 1 Axes>"
      ]
     },
     "metadata": {
      "needs_background": "light"
     },
     "output_type": "display_data"
    }
   ],
   "source": [
    "al = stats.poisson.rvs(size = 1000, mu = 260)\n",
    "plt.hist(al)\n",
    "plt.title(\"AL deaths normalized\") \n",
    "plt.show()"
   ]
  },
  {
   "cell_type": "code",
   "execution_count": 82,
   "id": "a45ea28c",
   "metadata": {},
   "outputs": [
    {
     "data": {
      "image/png": "[encoded data removed]",
      "text/plain": [
       "<Figure size 432x288 with 1 Axes>"
      ]
     },
     "metadata": {
      "needs_background": "light"
     },
     "output_type": "display_data"
    }
   ],
   "source": [
    "ca = stats.poisson.rvs(size = 1000, mu = 84)\n",
    "plt.hist(ca)\n",
    "plt.title(\"CA deaths normalized\") \n",
    "plt.show()"
   ]
  },
  {
   "cell_type": "code",
   "execution_count": 83,
   "id": "170d35d2",
   "metadata": {},
   "outputs": [
    {
     "data": {
      "image/png": "[encoded data removed]",
      "text/plain": [
       "<Figure size 432x288 with 1 Axes>"
      ]
     },
     "metadata": {
      "needs_background": "light"
     },
     "output_type": "display_data"
    }
   ],
   "source": [
    "fl = stats.poisson.rvs(size = 1000, mu = 122)\n",
    "plt.hist(fl)\n",
    "plt.title(\"FL deaths normalized\") \n",
    "plt.show()"
   ]
  },
  {
   "cell_type": "code",
   "execution_count": 84,
   "id": "186835eb",
   "metadata": {},
   "outputs": [
    {
     "data": {
      "image/png": "[encoded data removed]",
      "text/plain": [
       "<Figure size 432x288 with 1 Axes>"
      ]
     },
     "metadata": {
      "needs_background": "light"
     },
     "output_type": "display_data"
    }
   ],
   "source": [
    "il = stats.poisson.rvs(size = 1000, mu = 330)\n",
    "plt.hist(il)\n",
    "plt.title(\"IL deaths normalized\") \n",
    "plt.show()"
   ]
  },
  {
   "cell_type": "code",
   "execution_count": 85,
   "id": "f0515f32",
   "metadata": {},
   "outputs": [
    {
     "data": {
      "image/png": "[encoded data removed]",
      "text/plain": [
       "<Figure size 432x288 with 1 Axes>"
      ]
     },
     "metadata": {
      "needs_background": "light"
     },
     "output_type": "display_data"
    }
   ],
   "source": [
    "la = stats.poisson.rvs(size = 1000, mu = 234)\n",
    "plt.hist(la)\n",
    "plt.title(\"LA deaths normalized\") \n",
    "plt.show()"
   ]
  },
  {
   "cell_type": "markdown",
   "id": "24f9b130",
   "metadata": {},
   "source": [
    "# Task 3:\n",
    "* Perform corelation between Enrichment data valiables and COVID-19 cases to observe any patterns."
   ]
  },
  {
   "cell_type": "markdown",
   "id": "0f9dd4f3",
   "metadata": {},
   "source": [
    "* My enrichment dataset is **ACS demographic dataset.** It contains census information about population, population divided by age, sex, age range, race in a countywise fashion.  "
   ]
  },
  {
   "cell_type": "code",
   "execution_count": 86,
   "id": "cfc7805b",
   "metadata": {},
   "outputs": [
    {
     "data": {
      "text/html": [
       "<div>\n",
       "<style scoped>\n",
       "    .dataframe tbody tr th:only-of-type {\n",
       "        vertical-align: middle;\n",
       "    }\n",
       "\n",
       "    .dataframe tbody tr th {\n",
       "        vertical-align: top;\n",
       "    }\n",
       "\n",
       "    .dataframe thead th {\n",
       "        text-align: right;\n",
       "    }\n",
       "</style>\n",
       "<table border=\"1\" class=\"dataframe\">\n",
       "  <thead>\n",
       "    <tr style=\"text-align: right;\">\n",
       "      <th></th>\n",
       "      <th>countyFIPS</th>\n",
       "      <th>County_Name</th>\n",
       "      <th>State</th>\n",
       "      <th>Date</th>\n",
       "      <th>Confirmed</th>\n",
       "      <th>Deaths</th>\n",
       "      <th>population</th>\n",
       "      <th>Total_pop</th>\n",
       "      <th>Male_total_population</th>\n",
       "      <th>Female_total_population</th>\n",
       "      <th>...</th>\n",
       "      <th>Population 15 to 19 Years old</th>\n",
       "      <th>Population 20 to 24 years old</th>\n",
       "      <th>Population 25 to 34 years old</th>\n",
       "      <th>Population 35 to 44 years old</th>\n",
       "      <th>Population 45 to 54 years old</th>\n",
       "      <th>Population 55 to 59 years old</th>\n",
       "      <th>Population 60 to 64 years old</th>\n",
       "      <th>Population 65 to 74 years old</th>\n",
       "      <th>Population 75 to 84 years old</th>\n",
       "      <th>Population 85 years and older</th>\n",
       "    </tr>\n",
       "  </thead>\n",
       "  <tbody>\n",
       "    <tr>\n",
       "      <th>0</th>\n",
       "      <td>1003</td>\n",
       "      <td>baldwin county</td>\n",
       "      <td>AL</td>\n",
       "      <td>2020-01-22</td>\n",
       "      <td>0</td>\n",
       "      <td>0</td>\n",
       "      <td>223234</td>\n",
       "      <td>218022</td>\n",
       "      <td>105437</td>\n",
       "      <td>112585</td>\n",
       "      <td>...</td>\n",
       "      <td>13489</td>\n",
       "      <td>10426</td>\n",
       "      <td>23498</td>\n",
       "      <td>25990</td>\n",
       "      <td>30117</td>\n",
       "      <td>16569</td>\n",
       "      <td>15074</td>\n",
       "      <td>27152</td>\n",
       "      <td>13464</td>\n",
       "      <td>3827</td>\n",
       "    </tr>\n",
       "    <tr>\n",
       "      <th>1</th>\n",
       "      <td>1003</td>\n",
       "      <td>baldwin county</td>\n",
       "      <td>AL</td>\n",
       "      <td>2020-01-23</td>\n",
       "      <td>0</td>\n",
       "      <td>0</td>\n",
       "      <td>223234</td>\n",
       "      <td>218022</td>\n",
       "      <td>105437</td>\n",
       "      <td>112585</td>\n",
       "      <td>...</td>\n",
       "      <td>13489</td>\n",
       "      <td>10426</td>\n",
       "      <td>23498</td>\n",
       "      <td>25990</td>\n",
       "      <td>30117</td>\n",
       "      <td>16569</td>\n",
       "      <td>15074</td>\n",
       "      <td>27152</td>\n",
       "      <td>13464</td>\n",
       "      <td>3827</td>\n",
       "    </tr>\n",
       "    <tr>\n",
       "      <th>2</th>\n",
       "      <td>1003</td>\n",
       "      <td>baldwin county</td>\n",
       "      <td>AL</td>\n",
       "      <td>2020-01-24</td>\n",
       "      <td>0</td>\n",
       "      <td>0</td>\n",
       "      <td>223234</td>\n",
       "      <td>218022</td>\n",
       "      <td>105437</td>\n",
       "      <td>112585</td>\n",
       "      <td>...</td>\n",
       "      <td>13489</td>\n",
       "      <td>10426</td>\n",
       "      <td>23498</td>\n",
       "      <td>25990</td>\n",
       "      <td>30117</td>\n",
       "      <td>16569</td>\n",
       "      <td>15074</td>\n",
       "      <td>27152</td>\n",
       "      <td>13464</td>\n",
       "      <td>3827</td>\n",
       "    </tr>\n",
       "    <tr>\n",
       "      <th>3</th>\n",
       "      <td>1003</td>\n",
       "      <td>baldwin county</td>\n",
       "      <td>AL</td>\n",
       "      <td>2020-01-25</td>\n",
       "      <td>0</td>\n",
       "      <td>0</td>\n",
       "      <td>223234</td>\n",
       "      <td>218022</td>\n",
       "      <td>105437</td>\n",
       "      <td>112585</td>\n",
       "      <td>...</td>\n",
       "      <td>13489</td>\n",
       "      <td>10426</td>\n",
       "      <td>23498</td>\n",
       "      <td>25990</td>\n",
       "      <td>30117</td>\n",
       "      <td>16569</td>\n",
       "      <td>15074</td>\n",
       "      <td>27152</td>\n",
       "      <td>13464</td>\n",
       "      <td>3827</td>\n",
       "    </tr>\n",
       "    <tr>\n",
       "      <th>4</th>\n",
       "      <td>1003</td>\n",
       "      <td>baldwin county</td>\n",
       "      <td>AL</td>\n",
       "      <td>2020-01-26</td>\n",
       "      <td>0</td>\n",
       "      <td>0</td>\n",
       "      <td>223234</td>\n",
       "      <td>218022</td>\n",
       "      <td>105437</td>\n",
       "      <td>112585</td>\n",
       "      <td>...</td>\n",
       "      <td>13489</td>\n",
       "      <td>10426</td>\n",
       "      <td>23498</td>\n",
       "      <td>25990</td>\n",
       "      <td>30117</td>\n",
       "      <td>16569</td>\n",
       "      <td>15074</td>\n",
       "      <td>27152</td>\n",
       "      <td>13464</td>\n",
       "      <td>3827</td>\n",
       "    </tr>\n",
       "  </tbody>\n",
       "</table>\n",
       "<p>5 rows × 23 columns</p>\n",
       "</div>"
      ],
      "text/plain": [
       "   countyFIPS     County_Name State        Date  Confirmed  Deaths  \\\n",
       "0        1003  baldwin county    AL  2020-01-22          0       0   \n",
       "1        1003  baldwin county    AL  2020-01-23          0       0   \n",
       "2        1003  baldwin county    AL  2020-01-24          0       0   \n",
       "3        1003  baldwin county    AL  2020-01-25          0       0   \n",
       "4        1003  baldwin county    AL  2020-01-26          0       0   \n",
       "\n",
       "   population  Total_pop  Male_total_population  Female_total_population  ...  \\\n",
       "0      223234     218022                 105437                   112585  ...   \n",
       "1      223234     218022                 105437                   112585  ...   \n",
       "2      223234     218022                 105437                   112585  ...   \n",
       "3      223234     218022                 105437                   112585  ...   \n",
       "4      223234     218022                 105437                   112585  ...   \n",
       "\n",
       "   Population 15 to 19 Years old  Population 20 to 24 years old  \\\n",
       "0                          13489                          10426   \n",
       "1                          13489                          10426   \n",
       "2                          13489                          10426   \n",
       "3                          13489                          10426   \n",
       "4                          13489                          10426   \n",
       "\n",
       "   Population 25 to 34 years old  Population 35 to 44 years old  \\\n",
       "0                          23498                          25990   \n",
       "1                          23498                          25990   \n",
       "2                          23498                          25990   \n",
       "3                          23498                          25990   \n",
       "4                          23498                          25990   \n",
       "\n",
       "   Population 45 to 54 years old  Population 55 to 59 years old  \\\n",
       "0                          30117                          16569   \n",
       "1                          30117                          16569   \n",
       "2                          30117                          16569   \n",
       "3                          30117                          16569   \n",
       "4                          30117                          16569   \n",
       "\n",
       "   Population 60 to 64 years old  Population 65 to 74 years old  \\\n",
       "0                          15074                          27152   \n",
       "1                          15074                          27152   \n",
       "2                          15074                          27152   \n",
       "3                          15074                          27152   \n",
       "4                          15074                          27152   \n",
       "\n",
       "   Population 75 to 84 years old  Population 85 years and older  \n",
       "0                          13464                           3827  \n",
       "1                          13464                           3827  \n",
       "2                          13464                           3827  \n",
       "3                          13464                           3827  \n",
       "4                          13464                           3827  \n",
       "\n",
       "[5 rows x 23 columns]"
      ]
     },
     "execution_count": 86,
     "metadata": {},
     "output_type": "execute_result"
    }
   ],
   "source": [
    "#demographic_dataset = pd.read_csv(\"census_merged.csv\")\n",
    "demographic_dataset = pd.read_csv(\"../../../../data/stage_3/census_merged.csv\")\n",
    "demographic_dataset.head()"
   ]
  },
  {
   "cell_type": "code",
   "execution_count": 87,
   "id": "dbb82c19",
   "metadata": {},
   "outputs": [
    {
     "data": {
      "text/html": [
       "<div>\n",
       "<style scoped>\n",
       "    .dataframe tbody tr th:only-of-type {\n",
       "        vertical-align: middle;\n",
       "    }\n",
       "\n",
       "    .dataframe tbody tr th {\n",
       "        vertical-align: top;\n",
       "    }\n",
       "\n",
       "    .dataframe thead th {\n",
       "        text-align: right;\n",
       "    }\n",
       "</style>\n",
       "<table border=\"1\" class=\"dataframe\">\n",
       "  <thead>\n",
       "    <tr style=\"text-align: right;\">\n",
       "      <th></th>\n",
       "      <th>countyFIPS</th>\n",
       "      <th>County_Name</th>\n",
       "      <th>State</th>\n",
       "      <th>Date</th>\n",
       "      <th>Confirmed</th>\n",
       "      <th>Deaths</th>\n",
       "      <th>population</th>\n",
       "      <th>Total_pop</th>\n",
       "      <th>Male_total_population</th>\n",
       "      <th>Female_total_population</th>\n",
       "      <th>...</th>\n",
       "      <th>Population 15 to 19 Years old</th>\n",
       "      <th>Population 20 to 24 years old</th>\n",
       "      <th>Population 25 to 34 years old</th>\n",
       "      <th>Population 35 to 44 years old</th>\n",
       "      <th>Population 45 to 54 years old</th>\n",
       "      <th>Population 55 to 59 years old</th>\n",
       "      <th>Population 60 to 64 years old</th>\n",
       "      <th>Population 65 to 74 years old</th>\n",
       "      <th>Population 75 to 84 years old</th>\n",
       "      <th>Population 85 years and older</th>\n",
       "    </tr>\n",
       "  </thead>\n",
       "  <tbody>\n",
       "    <tr>\n",
       "      <th>356048</th>\n",
       "      <td>37001</td>\n",
       "      <td>alamance county</td>\n",
       "      <td>NC</td>\n",
       "      <td>2020-01-22</td>\n",
       "      <td>0</td>\n",
       "      <td>0</td>\n",
       "      <td>169509</td>\n",
       "      <td>166436</td>\n",
       "      <td>78955</td>\n",
       "      <td>87481</td>\n",
       "      <td>...</td>\n",
       "      <td>13908</td>\n",
       "      <td>10860</td>\n",
       "      <td>19797</td>\n",
       "      <td>19543</td>\n",
       "      <td>21867</td>\n",
       "      <td>11259</td>\n",
       "      <td>10541</td>\n",
       "      <td>16087</td>\n",
       "      <td>8933</td>\n",
       "      <td>3361</td>\n",
       "    </tr>\n",
       "    <tr>\n",
       "      <th>356049</th>\n",
       "      <td>37001</td>\n",
       "      <td>alamance county</td>\n",
       "      <td>NC</td>\n",
       "      <td>2020-01-23</td>\n",
       "      <td>0</td>\n",
       "      <td>0</td>\n",
       "      <td>169509</td>\n",
       "      <td>166436</td>\n",
       "      <td>78955</td>\n",
       "      <td>87481</td>\n",
       "      <td>...</td>\n",
       "      <td>13908</td>\n",
       "      <td>10860</td>\n",
       "      <td>19797</td>\n",
       "      <td>19543</td>\n",
       "      <td>21867</td>\n",
       "      <td>11259</td>\n",
       "      <td>10541</td>\n",
       "      <td>16087</td>\n",
       "      <td>8933</td>\n",
       "      <td>3361</td>\n",
       "    </tr>\n",
       "    <tr>\n",
       "      <th>356050</th>\n",
       "      <td>37001</td>\n",
       "      <td>alamance county</td>\n",
       "      <td>NC</td>\n",
       "      <td>2020-01-24</td>\n",
       "      <td>0</td>\n",
       "      <td>0</td>\n",
       "      <td>169509</td>\n",
       "      <td>166436</td>\n",
       "      <td>78955</td>\n",
       "      <td>87481</td>\n",
       "      <td>...</td>\n",
       "      <td>13908</td>\n",
       "      <td>10860</td>\n",
       "      <td>19797</td>\n",
       "      <td>19543</td>\n",
       "      <td>21867</td>\n",
       "      <td>11259</td>\n",
       "      <td>10541</td>\n",
       "      <td>16087</td>\n",
       "      <td>8933</td>\n",
       "      <td>3361</td>\n",
       "    </tr>\n",
       "    <tr>\n",
       "      <th>356051</th>\n",
       "      <td>37001</td>\n",
       "      <td>alamance county</td>\n",
       "      <td>NC</td>\n",
       "      <td>2020-01-25</td>\n",
       "      <td>0</td>\n",
       "      <td>0</td>\n",
       "      <td>169509</td>\n",
       "      <td>166436</td>\n",
       "      <td>78955</td>\n",
       "      <td>87481</td>\n",
       "      <td>...</td>\n",
       "      <td>13908</td>\n",
       "      <td>10860</td>\n",
       "      <td>19797</td>\n",
       "      <td>19543</td>\n",
       "      <td>21867</td>\n",
       "      <td>11259</td>\n",
       "      <td>10541</td>\n",
       "      <td>16087</td>\n",
       "      <td>8933</td>\n",
       "      <td>3361</td>\n",
       "    </tr>\n",
       "    <tr>\n",
       "      <th>356052</th>\n",
       "      <td>37001</td>\n",
       "      <td>alamance county</td>\n",
       "      <td>NC</td>\n",
       "      <td>2020-01-26</td>\n",
       "      <td>0</td>\n",
       "      <td>0</td>\n",
       "      <td>169509</td>\n",
       "      <td>166436</td>\n",
       "      <td>78955</td>\n",
       "      <td>87481</td>\n",
       "      <td>...</td>\n",
       "      <td>13908</td>\n",
       "      <td>10860</td>\n",
       "      <td>19797</td>\n",
       "      <td>19543</td>\n",
       "      <td>21867</td>\n",
       "      <td>11259</td>\n",
       "      <td>10541</td>\n",
       "      <td>16087</td>\n",
       "      <td>8933</td>\n",
       "      <td>3361</td>\n",
       "    </tr>\n",
       "  </tbody>\n",
       "</table>\n",
       "<p>5 rows × 23 columns</p>\n",
       "</div>"
      ],
      "text/plain": [
       "        countyFIPS      County_Name State        Date  Confirmed  Deaths  \\\n",
       "356048       37001  alamance county    NC  2020-01-22          0       0   \n",
       "356049       37001  alamance county    NC  2020-01-23          0       0   \n",
       "356050       37001  alamance county    NC  2020-01-24          0       0   \n",
       "356051       37001  alamance county    NC  2020-01-25          0       0   \n",
       "356052       37001  alamance county    NC  2020-01-26          0       0   \n",
       "\n",
       "        population  Total_pop  Male_total_population  Female_total_population  \\\n",
       "356048      169509     166436                  78955                    87481   \n",
       "356049      169509     166436                  78955                    87481   \n",
       "356050      169509     166436                  78955                    87481   \n",
       "356051      169509     166436                  78955                    87481   \n",
       "356052      169509     166436                  78955                    87481   \n",
       "\n",
       "        ...  Population 15 to 19 Years old  Population 20 to 24 years old  \\\n",
       "356048  ...                          13908                          10860   \n",
       "356049  ...                          13908                          10860   \n",
       "356050  ...                          13908                          10860   \n",
       "356051  ...                          13908                          10860   \n",
       "356052  ...                          13908                          10860   \n",
       "\n",
       "        Population 25 to 34 years old  Population 35 to 44 years old  \\\n",
       "356048                          19797                          19543   \n",
       "356049                          19797                          19543   \n",
       "356050                          19797                          19543   \n",
       "356051                          19797                          19543   \n",
       "356052                          19797                          19543   \n",
       "\n",
       "        Population 45 to 54 years old  Population 55 to 59 years old  \\\n",
       "356048                          21867                          11259   \n",
       "356049                          21867                          11259   \n",
       "356050                          21867                          11259   \n",
       "356051                          21867                          11259   \n",
       "356052                          21867                          11259   \n",
       "\n",
       "        Population 60 to 64 years old  Population 65 to 74 years old  \\\n",
       "356048                          10541                          16087   \n",
       "356049                          10541                          16087   \n",
       "356050                          10541                          16087   \n",
       "356051                          10541                          16087   \n",
       "356052                          10541                          16087   \n",
       "\n",
       "        Population 75 to 84 years old  Population 85 years and older  \n",
       "356048                           8933                           3361  \n",
       "356049                           8933                           3361  \n",
       "356050                           8933                           3361  \n",
       "356051                           8933                           3361  \n",
       "356052                           8933                           3361  \n",
       "\n",
       "[5 rows x 23 columns]"
      ]
     },
     "execution_count": 87,
     "metadata": {},
     "output_type": "execute_result"
    }
   ],
   "source": [
    "nc_demo = demographic_dataset[demographic_dataset['State'] == 'NC']\n",
    "nc_demo.head()"
   ]
  },
  {
   "cell_type": "code",
   "execution_count": 88,
   "id": "00ebf667",
   "metadata": {},
   "outputs": [],
   "source": [
    "demographic_dataset['confirmed_daily'] = demographic_dataset['Confirmed'].diff()\n",
    "demographic_dataset['deaths_daily'] = demographic_dataset['Deaths'].diff()"
   ]
  },
  {
   "cell_type": "code",
   "execution_count": 89,
   "id": "df6e5f67",
   "metadata": {},
   "outputs": [],
   "source": [
    "demographic_dataset['confirmed_daily_normalized']= round((demographic_dataset['confirmed_daily']/demographic_dataset['population'])*100000)\n",
    "demographic_dataset['deaths_daily_normalized']= round((demographic_dataset['deaths_daily']/demographic_dataset['population'])*100000)"
   ]
  },
  {
   "cell_type": "code",
   "execution_count": 90,
   "id": "e49bef38",
   "metadata": {},
   "outputs": [],
   "source": [
    "x = demographic_dataset[(demographic_dataset['Date'] == '2020-01-22')].index\n",
    "demographic_dataset.drop(x, inplace=True)"
   ]
  },
  {
   "cell_type": "code",
   "execution_count": 91,
   "id": "ac2f4b2c",
   "metadata": {},
   "outputs": [],
   "source": [
    "demographic_dataset['Date'] = demographic_dataset.Date.apply(lambda d: datetime.strptime(d, '%Y-%m-%d'))"
   ]
  },
  {
   "cell_type": "code",
   "execution_count": 92,
   "id": "f16e78cb",
   "metadata": {},
   "outputs": [
    {
     "data": {
      "text/html": [
       "<div>\n",
       "<style scoped>\n",
       "    .dataframe tbody tr th:only-of-type {\n",
       "        vertical-align: middle;\n",
       "    }\n",
       "\n",
       "    .dataframe tbody tr th {\n",
       "        vertical-align: top;\n",
       "    }\n",
       "\n",
       "    .dataframe thead th {\n",
       "        text-align: right;\n",
       "    }\n",
       "</style>\n",
       "<table border=\"1\" class=\"dataframe\">\n",
       "  <thead>\n",
       "    <tr style=\"text-align: right;\">\n",
       "      <th></th>\n",
       "      <th>countyFIPS</th>\n",
       "      <th>County_Name</th>\n",
       "      <th>State</th>\n",
       "      <th>Date</th>\n",
       "      <th>Confirmed</th>\n",
       "      <th>Deaths</th>\n",
       "      <th>population</th>\n",
       "      <th>Total_pop</th>\n",
       "      <th>Male_total_population</th>\n",
       "      <th>Female_total_population</th>\n",
       "      <th>...</th>\n",
       "      <th>Population 45 to 54 years old</th>\n",
       "      <th>Population 55 to 59 years old</th>\n",
       "      <th>Population 60 to 64 years old</th>\n",
       "      <th>Population 65 to 74 years old</th>\n",
       "      <th>Population 75 to 84 years old</th>\n",
       "      <th>Population 85 years and older</th>\n",
       "      <th>confirmed_daily</th>\n",
       "      <th>deaths_daily</th>\n",
       "      <th>confirmed_daily_normalized</th>\n",
       "      <th>deaths_daily_normalized</th>\n",
       "    </tr>\n",
       "  </thead>\n",
       "  <tbody>\n",
       "    <tr>\n",
       "      <th>1</th>\n",
       "      <td>1003</td>\n",
       "      <td>baldwin county</td>\n",
       "      <td>AL</td>\n",
       "      <td>2020-01-23</td>\n",
       "      <td>0</td>\n",
       "      <td>0</td>\n",
       "      <td>223234</td>\n",
       "      <td>218022</td>\n",
       "      <td>105437</td>\n",
       "      <td>112585</td>\n",
       "      <td>...</td>\n",
       "      <td>30117</td>\n",
       "      <td>16569</td>\n",
       "      <td>15074</td>\n",
       "      <td>27152</td>\n",
       "      <td>13464</td>\n",
       "      <td>3827</td>\n",
       "      <td>0.0</td>\n",
       "      <td>0.0</td>\n",
       "      <td>0.0</td>\n",
       "      <td>0.0</td>\n",
       "    </tr>\n",
       "    <tr>\n",
       "      <th>2</th>\n",
       "      <td>1003</td>\n",
       "      <td>baldwin county</td>\n",
       "      <td>AL</td>\n",
       "      <td>2020-01-24</td>\n",
       "      <td>0</td>\n",
       "      <td>0</td>\n",
       "      <td>223234</td>\n",
       "      <td>218022</td>\n",
       "      <td>105437</td>\n",
       "      <td>112585</td>\n",
       "      <td>...</td>\n",
       "      <td>30117</td>\n",
       "      <td>16569</td>\n",
       "      <td>15074</td>\n",
       "      <td>27152</td>\n",
       "      <td>13464</td>\n",
       "      <td>3827</td>\n",
       "      <td>0.0</td>\n",
       "      <td>0.0</td>\n",
       "      <td>0.0</td>\n",
       "      <td>0.0</td>\n",
       "    </tr>\n",
       "    <tr>\n",
       "      <th>3</th>\n",
       "      <td>1003</td>\n",
       "      <td>baldwin county</td>\n",
       "      <td>AL</td>\n",
       "      <td>2020-01-25</td>\n",
       "      <td>0</td>\n",
       "      <td>0</td>\n",
       "      <td>223234</td>\n",
       "      <td>218022</td>\n",
       "      <td>105437</td>\n",
       "      <td>112585</td>\n",
       "      <td>...</td>\n",
       "      <td>30117</td>\n",
       "      <td>16569</td>\n",
       "      <td>15074</td>\n",
       "      <td>27152</td>\n",
       "      <td>13464</td>\n",
       "      <td>3827</td>\n",
       "      <td>0.0</td>\n",
       "      <td>0.0</td>\n",
       "      <td>0.0</td>\n",
       "      <td>0.0</td>\n",
       "    </tr>\n",
       "    <tr>\n",
       "      <th>4</th>\n",
       "      <td>1003</td>\n",
       "      <td>baldwin county</td>\n",
       "      <td>AL</td>\n",
       "      <td>2020-01-26</td>\n",
       "      <td>0</td>\n",
       "      <td>0</td>\n",
       "      <td>223234</td>\n",
       "      <td>218022</td>\n",
       "      <td>105437</td>\n",
       "      <td>112585</td>\n",
       "      <td>...</td>\n",
       "      <td>30117</td>\n",
       "      <td>16569</td>\n",
       "      <td>15074</td>\n",
       "      <td>27152</td>\n",
       "      <td>13464</td>\n",
       "      <td>3827</td>\n",
       "      <td>0.0</td>\n",
       "      <td>0.0</td>\n",
       "      <td>0.0</td>\n",
       "      <td>0.0</td>\n",
       "    </tr>\n",
       "    <tr>\n",
       "      <th>5</th>\n",
       "      <td>1003</td>\n",
       "      <td>baldwin county</td>\n",
       "      <td>AL</td>\n",
       "      <td>2020-01-27</td>\n",
       "      <td>0</td>\n",
       "      <td>0</td>\n",
       "      <td>223234</td>\n",
       "      <td>218022</td>\n",
       "      <td>105437</td>\n",
       "      <td>112585</td>\n",
       "      <td>...</td>\n",
       "      <td>30117</td>\n",
       "      <td>16569</td>\n",
       "      <td>15074</td>\n",
       "      <td>27152</td>\n",
       "      <td>13464</td>\n",
       "      <td>3827</td>\n",
       "      <td>0.0</td>\n",
       "      <td>0.0</td>\n",
       "      <td>0.0</td>\n",
       "      <td>0.0</td>\n",
       "    </tr>\n",
       "  </tbody>\n",
       "</table>\n",
       "<p>5 rows × 27 columns</p>\n",
       "</div>"
      ],
      "text/plain": [
       "   countyFIPS     County_Name State       Date  Confirmed  Deaths  population  \\\n",
       "1        1003  baldwin county    AL 2020-01-23          0       0      223234   \n",
       "2        1003  baldwin county    AL 2020-01-24          0       0      223234   \n",
       "3        1003  baldwin county    AL 2020-01-25          0       0      223234   \n",
       "4        1003  baldwin county    AL 2020-01-26          0       0      223234   \n",
       "5        1003  baldwin county    AL 2020-01-27          0       0      223234   \n",
       "\n",
       "   Total_pop  Male_total_population  Female_total_population  ...  \\\n",
       "1     218022                 105437                   112585  ...   \n",
       "2     218022                 105437                   112585  ...   \n",
       "3     218022                 105437                   112585  ...   \n",
       "4     218022                 105437                   112585  ...   \n",
       "5     218022                 105437                   112585  ...   \n",
       "\n",
       "   Population 45 to 54 years old  Population 55 to 59 years old  \\\n",
       "1                          30117                          16569   \n",
       "2                          30117                          16569   \n",
       "3                          30117                          16569   \n",
       "4                          30117                          16569   \n",
       "5                          30117                          16569   \n",
       "\n",
       "   Population 60 to 64 years old  Population 65 to 74 years old  \\\n",
       "1                          15074                          27152   \n",
       "2                          15074                          27152   \n",
       "3                          15074                          27152   \n",
       "4                          15074                          27152   \n",
       "5                          15074                          27152   \n",
       "\n",
       "   Population 75 to 84 years old  Population 85 years and older  \\\n",
       "1                          13464                           3827   \n",
       "2                          13464                           3827   \n",
       "3                          13464                           3827   \n",
       "4                          13464                           3827   \n",
       "5                          13464                           3827   \n",
       "\n",
       "   confirmed_daily  deaths_daily  confirmed_daily_normalized  \\\n",
       "1              0.0           0.0                         0.0   \n",
       "2              0.0           0.0                         0.0   \n",
       "3              0.0           0.0                         0.0   \n",
       "4              0.0           0.0                         0.0   \n",
       "5              0.0           0.0                         0.0   \n",
       "\n",
       "   deaths_daily_normalized  \n",
       "1                      0.0  \n",
       "2                      0.0  \n",
       "3                      0.0  \n",
       "4                      0.0  \n",
       "5                      0.0  \n",
       "\n",
       "[5 rows x 27 columns]"
      ]
     },
     "execution_count": 92,
     "metadata": {},
     "output_type": "execute_result"
    }
   ],
   "source": [
    "demographic_dataset = demographic_dataset[demographic_dataset.countyFIPS != 0]\n",
    "demographic_dataset.head()"
   ]
  },
  {
   "cell_type": "markdown",
   "id": "889577c5",
   "metadata": {},
   "source": [
    "## *County based encrichment and covid data correlation*\n"
   ]
  },
  {
   "cell_type": "code",
   "execution_count": 93,
   "id": "c3efbf36",
   "metadata": {},
   "outputs": [],
   "source": [
    "set1 = demographic_dataset[['confirmed_daily','Total_pop','Male_total_population','Female_total_population','Population 25 to 34 years old','Population 45 to 54 years old']]"
   ]
  },
  {
   "cell_type": "code",
   "execution_count": 94,
   "id": "db0379b2",
   "metadata": {},
   "outputs": [
    {
     "data": {
      "text/html": [
       "<div>\n",
       "<style scoped>\n",
       "    .dataframe tbody tr th:only-of-type {\n",
       "        vertical-align: middle;\n",
       "    }\n",
       "\n",
       "    .dataframe tbody tr th {\n",
       "        vertical-align: top;\n",
       "    }\n",
       "\n",
       "    .dataframe thead th {\n",
       "        text-align: right;\n",
       "    }\n",
       "</style>\n",
       "<table border=\"1\" class=\"dataframe\">\n",
       "  <thead>\n",
       "    <tr style=\"text-align: right;\">\n",
       "      <th></th>\n",
       "      <th>confirmed_daily</th>\n",
       "      <th>Total_pop</th>\n",
       "      <th>Male_total_population</th>\n",
       "      <th>Female_total_population</th>\n",
       "      <th>Population 25 to 34 years old</th>\n",
       "      <th>Population 45 to 54 years old</th>\n",
       "    </tr>\n",
       "  </thead>\n",
       "  <tbody>\n",
       "    <tr>\n",
       "      <th>confirmed_daily</th>\n",
       "      <td>1.000000</td>\n",
       "      <td>0.280175</td>\n",
       "      <td>0.279979</td>\n",
       "      <td>0.280291</td>\n",
       "      <td>0.277584</td>\n",
       "      <td>0.279976</td>\n",
       "    </tr>\n",
       "    <tr>\n",
       "      <th>Total_pop</th>\n",
       "      <td>0.280175</td>\n",
       "      <td>1.000000</td>\n",
       "      <td>0.999861</td>\n",
       "      <td>0.999870</td>\n",
       "      <td>0.993191</td>\n",
       "      <td>0.997378</td>\n",
       "    </tr>\n",
       "    <tr>\n",
       "      <th>Male_total_population</th>\n",
       "      <td>0.279979</td>\n",
       "      <td>0.999861</td>\n",
       "      <td>1.000000</td>\n",
       "      <td>0.999463</td>\n",
       "      <td>0.993006</td>\n",
       "      <td>0.997248</td>\n",
       "    </tr>\n",
       "    <tr>\n",
       "      <th>Female_total_population</th>\n",
       "      <td>0.280291</td>\n",
       "      <td>0.999870</td>\n",
       "      <td>0.999463</td>\n",
       "      <td>1.000000</td>\n",
       "      <td>0.993108</td>\n",
       "      <td>0.997241</td>\n",
       "    </tr>\n",
       "    <tr>\n",
       "      <th>Population 25 to 34 years old</th>\n",
       "      <td>0.277584</td>\n",
       "      <td>0.993191</td>\n",
       "      <td>0.993006</td>\n",
       "      <td>0.993108</td>\n",
       "      <td>1.000000</td>\n",
       "      <td>0.987229</td>\n",
       "    </tr>\n",
       "    <tr>\n",
       "      <th>Population 45 to 54 years old</th>\n",
       "      <td>0.279976</td>\n",
       "      <td>0.997378</td>\n",
       "      <td>0.997248</td>\n",
       "      <td>0.997241</td>\n",
       "      <td>0.987229</td>\n",
       "      <td>1.000000</td>\n",
       "    </tr>\n",
       "  </tbody>\n",
       "</table>\n",
       "</div>"
      ],
      "text/plain": [
       "                               confirmed_daily  Total_pop  \\\n",
       "confirmed_daily                       1.000000   0.280175   \n",
       "Total_pop                             0.280175   1.000000   \n",
       "Male_total_population                 0.279979   0.999861   \n",
       "Female_total_population               0.280291   0.999870   \n",
       "Population 25 to 34 years old         0.277584   0.993191   \n",
       "Population 45 to 54 years old         0.279976   0.997378   \n",
       "\n",
       "                               Male_total_population  Female_total_population  \\\n",
       "confirmed_daily                             0.279979                 0.280291   \n",
       "Total_pop                                   0.999861                 0.999870   \n",
       "Male_total_population                       1.000000                 0.999463   \n",
       "Female_total_population                     0.999463                 1.000000   \n",
       "Population 25 to 34 years old               0.993006                 0.993108   \n",
       "Population 45 to 54 years old               0.997248                 0.997241   \n",
       "\n",
       "                               Population 25 to 34 years old  \\\n",
       "confirmed_daily                                     0.277584   \n",
       "Total_pop                                           0.993191   \n",
       "Male_total_population                               0.993006   \n",
       "Female_total_population                             0.993108   \n",
       "Population 25 to 34 years old                       1.000000   \n",
       "Population 45 to 54 years old                       0.987229   \n",
       "\n",
       "                               Population 45 to 54 years old  \n",
       "confirmed_daily                                     0.279976  \n",
       "Total_pop                                           0.997378  \n",
       "Male_total_population                               0.997248  \n",
       "Female_total_population                             0.997241  \n",
       "Population 25 to 34 years old                       0.987229  \n",
       "Population 45 to 54 years old                       1.000000  "
      ]
     },
     "execution_count": 94,
     "metadata": {},
     "output_type": "execute_result"
    }
   ],
   "source": [
    "set1.corr()"
   ]
  },
  {
   "cell_type": "markdown",
   "id": "d66e74bf",
   "metadata": {},
   "source": [
    "## *State based enrichment and covid data correlation*\n",
    "### *North Carolina State*"
   ]
  },
  {
   "cell_type": "code",
   "execution_count": 95,
   "id": "c7aebcc9",
   "metadata": {},
   "outputs": [
    {
     "data": {
      "text/html": [
       "<div>\n",
       "<style scoped>\n",
       "    .dataframe tbody tr th:only-of-type {\n",
       "        vertical-align: middle;\n",
       "    }\n",
       "\n",
       "    .dataframe tbody tr th {\n",
       "        vertical-align: top;\n",
       "    }\n",
       "\n",
       "    .dataframe thead th {\n",
       "        text-align: right;\n",
       "    }\n",
       "</style>\n",
       "<table border=\"1\" class=\"dataframe\">\n",
       "  <thead>\n",
       "    <tr style=\"text-align: right;\">\n",
       "      <th></th>\n",
       "      <th>State</th>\n",
       "      <th>Date</th>\n",
       "      <th>Confirmed</th>\n",
       "      <th>Deaths</th>\n",
       "      <th>population</th>\n",
       "      <th>Total_pop</th>\n",
       "      <th>Male_total_population</th>\n",
       "      <th>Female_total_population</th>\n",
       "      <th>Population under 5 years of age</th>\n",
       "      <th>Population 5 to 9 years old</th>\n",
       "      <th>...</th>\n",
       "      <th>Population 45 to 54 years old</th>\n",
       "      <th>Population 55 to 59 years old</th>\n",
       "      <th>Population 60 to 64 years old</th>\n",
       "      <th>Population 65 to 74 years old</th>\n",
       "      <th>Population 75 to 84 years old</th>\n",
       "      <th>Population 85 years and older</th>\n",
       "      <th>confirmed_daily</th>\n",
       "      <th>deaths_daily</th>\n",
       "      <th>confirmed_daily_normalized</th>\n",
       "      <th>deaths_daily_normalized</th>\n",
       "    </tr>\n",
       "  </thead>\n",
       "  <tbody>\n",
       "    <tr>\n",
       "      <th>356049</th>\n",
       "      <td>NC</td>\n",
       "      <td>2020-01-23</td>\n",
       "      <td>0</td>\n",
       "      <td>0</td>\n",
       "      <td>169509</td>\n",
       "      <td>166436</td>\n",
       "      <td>78955</td>\n",
       "      <td>87481</td>\n",
       "      <td>9419</td>\n",
       "      <td>10702</td>\n",
       "      <td>...</td>\n",
       "      <td>21867</td>\n",
       "      <td>11259</td>\n",
       "      <td>10541</td>\n",
       "      <td>16087</td>\n",
       "      <td>8933</td>\n",
       "      <td>3361</td>\n",
       "      <td>0.0</td>\n",
       "      <td>0.0</td>\n",
       "      <td>0.0</td>\n",
       "      <td>0.0</td>\n",
       "    </tr>\n",
       "    <tr>\n",
       "      <th>356050</th>\n",
       "      <td>NC</td>\n",
       "      <td>2020-01-24</td>\n",
       "      <td>0</td>\n",
       "      <td>0</td>\n",
       "      <td>169509</td>\n",
       "      <td>166436</td>\n",
       "      <td>78955</td>\n",
       "      <td>87481</td>\n",
       "      <td>9419</td>\n",
       "      <td>10702</td>\n",
       "      <td>...</td>\n",
       "      <td>21867</td>\n",
       "      <td>11259</td>\n",
       "      <td>10541</td>\n",
       "      <td>16087</td>\n",
       "      <td>8933</td>\n",
       "      <td>3361</td>\n",
       "      <td>0.0</td>\n",
       "      <td>0.0</td>\n",
       "      <td>0.0</td>\n",
       "      <td>0.0</td>\n",
       "    </tr>\n",
       "    <tr>\n",
       "      <th>356051</th>\n",
       "      <td>NC</td>\n",
       "      <td>2020-01-25</td>\n",
       "      <td>0</td>\n",
       "      <td>0</td>\n",
       "      <td>169509</td>\n",
       "      <td>166436</td>\n",
       "      <td>78955</td>\n",
       "      <td>87481</td>\n",
       "      <td>9419</td>\n",
       "      <td>10702</td>\n",
       "      <td>...</td>\n",
       "      <td>21867</td>\n",
       "      <td>11259</td>\n",
       "      <td>10541</td>\n",
       "      <td>16087</td>\n",
       "      <td>8933</td>\n",
       "      <td>3361</td>\n",
       "      <td>0.0</td>\n",
       "      <td>0.0</td>\n",
       "      <td>0.0</td>\n",
       "      <td>0.0</td>\n",
       "    </tr>\n",
       "    <tr>\n",
       "      <th>356052</th>\n",
       "      <td>NC</td>\n",
       "      <td>2020-01-26</td>\n",
       "      <td>0</td>\n",
       "      <td>0</td>\n",
       "      <td>169509</td>\n",
       "      <td>166436</td>\n",
       "      <td>78955</td>\n",
       "      <td>87481</td>\n",
       "      <td>9419</td>\n",
       "      <td>10702</td>\n",
       "      <td>...</td>\n",
       "      <td>21867</td>\n",
       "      <td>11259</td>\n",
       "      <td>10541</td>\n",
       "      <td>16087</td>\n",
       "      <td>8933</td>\n",
       "      <td>3361</td>\n",
       "      <td>0.0</td>\n",
       "      <td>0.0</td>\n",
       "      <td>0.0</td>\n",
       "      <td>0.0</td>\n",
       "    </tr>\n",
       "    <tr>\n",
       "      <th>356053</th>\n",
       "      <td>NC</td>\n",
       "      <td>2020-01-27</td>\n",
       "      <td>0</td>\n",
       "      <td>0</td>\n",
       "      <td>169509</td>\n",
       "      <td>166436</td>\n",
       "      <td>78955</td>\n",
       "      <td>87481</td>\n",
       "      <td>9419</td>\n",
       "      <td>10702</td>\n",
       "      <td>...</td>\n",
       "      <td>21867</td>\n",
       "      <td>11259</td>\n",
       "      <td>10541</td>\n",
       "      <td>16087</td>\n",
       "      <td>8933</td>\n",
       "      <td>3361</td>\n",
       "      <td>0.0</td>\n",
       "      <td>0.0</td>\n",
       "      <td>0.0</td>\n",
       "      <td>0.0</td>\n",
       "    </tr>\n",
       "  </tbody>\n",
       "</table>\n",
       "<p>5 rows × 25 columns</p>\n",
       "</div>"
      ],
      "text/plain": [
       "       State       Date  Confirmed  Deaths  population  Total_pop  \\\n",
       "356049    NC 2020-01-23          0       0      169509     166436   \n",
       "356050    NC 2020-01-24          0       0      169509     166436   \n",
       "356051    NC 2020-01-25          0       0      169509     166436   \n",
       "356052    NC 2020-01-26          0       0      169509     166436   \n",
       "356053    NC 2020-01-27          0       0      169509     166436   \n",
       "\n",
       "        Male_total_population  Female_total_population  \\\n",
       "356049                  78955                    87481   \n",
       "356050                  78955                    87481   \n",
       "356051                  78955                    87481   \n",
       "356052                  78955                    87481   \n",
       "356053                  78955                    87481   \n",
       "\n",
       "        Population under 5 years of age  Population 5 to 9 years old  ...  \\\n",
       "356049                             9419                        10702  ...   \n",
       "356050                             9419                        10702  ...   \n",
       "356051                             9419                        10702  ...   \n",
       "356052                             9419                        10702  ...   \n",
       "356053                             9419                        10702  ...   \n",
       "\n",
       "        Population 45 to 54 years old  Population 55 to 59 years old  \\\n",
       "356049                          21867                          11259   \n",
       "356050                          21867                          11259   \n",
       "356051                          21867                          11259   \n",
       "356052                          21867                          11259   \n",
       "356053                          21867                          11259   \n",
       "\n",
       "        Population 60 to 64 years old  Population 65 to 74 years old  \\\n",
       "356049                          10541                          16087   \n",
       "356050                          10541                          16087   \n",
       "356051                          10541                          16087   \n",
       "356052                          10541                          16087   \n",
       "356053                          10541                          16087   \n",
       "\n",
       "        Population 75 to 84 years old  Population 85 years and older  \\\n",
       "356049                           8933                           3361   \n",
       "356050                           8933                           3361   \n",
       "356051                           8933                           3361   \n",
       "356052                           8933                           3361   \n",
       "356053                           8933                           3361   \n",
       "\n",
       "        confirmed_daily  deaths_daily  confirmed_daily_normalized  \\\n",
       "356049              0.0           0.0                         0.0   \n",
       "356050              0.0           0.0                         0.0   \n",
       "356051              0.0           0.0                         0.0   \n",
       "356052              0.0           0.0                         0.0   \n",
       "356053              0.0           0.0                         0.0   \n",
       "\n",
       "        deaths_daily_normalized  \n",
       "356049                      0.0  \n",
       "356050                      0.0  \n",
       "356051                      0.0  \n",
       "356052                      0.0  \n",
       "356053                      0.0  \n",
       "\n",
       "[5 rows x 25 columns]"
      ]
     },
     "execution_count": 95,
     "metadata": {},
     "output_type": "execute_result"
    }
   ],
   "source": [
    "super_nc_dataset = demographic_dataset[demographic_dataset['State'] == 'NC']\n",
    "super_nc_dataset=super_nc_dataset.drop(['countyFIPS','County_Name'],axis=1)\n",
    "super_nc_dataset.head()"
   ]
  },
  {
   "cell_type": "code",
   "execution_count": 96,
   "id": "16e2e8a2",
   "metadata": {},
   "outputs": [],
   "source": [
    "super_nc_dataset = super_nc_dataset[['confirmed_daily','Total_pop','Male_total_population','Female_total_population','Population 35 to 44 years old','Population 45 to 54 years old','Population 55 to 59 years old']]"
   ]
  },
  {
   "cell_type": "markdown",
   "id": "b392b94d",
   "metadata": {},
   "source": [
    "### **Correlation** "
   ]
  },
  {
   "cell_type": "code",
   "execution_count": 97,
   "id": "d538bac0",
   "metadata": {},
   "outputs": [
    {
     "data": {
      "text/html": [
       "<div>\n",
       "<style scoped>\n",
       "    .dataframe tbody tr th:only-of-type {\n",
       "        vertical-align: middle;\n",
       "    }\n",
       "\n",
       "    .dataframe tbody tr th {\n",
       "        vertical-align: top;\n",
       "    }\n",
       "\n",
       "    .dataframe thead th {\n",
       "        text-align: right;\n",
       "    }\n",
       "</style>\n",
       "<table border=\"1\" class=\"dataframe\">\n",
       "  <thead>\n",
       "    <tr style=\"text-align: right;\">\n",
       "      <th></th>\n",
       "      <th>confirmed_daily</th>\n",
       "      <th>Total_pop</th>\n",
       "      <th>Male_total_population</th>\n",
       "      <th>Female_total_population</th>\n",
       "      <th>Population 35 to 44 years old</th>\n",
       "      <th>Population 45 to 54 years old</th>\n",
       "      <th>Population 55 to 59 years old</th>\n",
       "    </tr>\n",
       "  </thead>\n",
       "  <tbody>\n",
       "    <tr>\n",
       "      <th>confirmed_daily</th>\n",
       "      <td>1.000000</td>\n",
       "      <td>0.243831</td>\n",
       "      <td>0.243983</td>\n",
       "      <td>0.243547</td>\n",
       "      <td>0.244108</td>\n",
       "      <td>0.243578</td>\n",
       "      <td>0.242424</td>\n",
       "    </tr>\n",
       "    <tr>\n",
       "      <th>Total_pop</th>\n",
       "      <td>0.243831</td>\n",
       "      <td>1.000000</td>\n",
       "      <td>0.999675</td>\n",
       "      <td>0.999717</td>\n",
       "      <td>0.996406</td>\n",
       "      <td>0.994961</td>\n",
       "      <td>0.993920</td>\n",
       "    </tr>\n",
       "    <tr>\n",
       "      <th>Male_total_population</th>\n",
       "      <td>0.243983</td>\n",
       "      <td>0.999675</td>\n",
       "      <td>1.000000</td>\n",
       "      <td>0.998785</td>\n",
       "      <td>0.996285</td>\n",
       "      <td>0.994124</td>\n",
       "      <td>0.992936</td>\n",
       "    </tr>\n",
       "    <tr>\n",
       "      <th>Female_total_population</th>\n",
       "      <td>0.243547</td>\n",
       "      <td>0.999717</td>\n",
       "      <td>0.998785</td>\n",
       "      <td>1.000000</td>\n",
       "      <td>0.995935</td>\n",
       "      <td>0.995159</td>\n",
       "      <td>0.994254</td>\n",
       "    </tr>\n",
       "    <tr>\n",
       "      <th>Population 35 to 44 years old</th>\n",
       "      <td>0.244108</td>\n",
       "      <td>0.996406</td>\n",
       "      <td>0.996285</td>\n",
       "      <td>0.995935</td>\n",
       "      <td>1.000000</td>\n",
       "      <td>0.996272</td>\n",
       "      <td>0.991303</td>\n",
       "    </tr>\n",
       "    <tr>\n",
       "      <th>Population 45 to 54 years old</th>\n",
       "      <td>0.243578</td>\n",
       "      <td>0.994961</td>\n",
       "      <td>0.994124</td>\n",
       "      <td>0.995159</td>\n",
       "      <td>0.996272</td>\n",
       "      <td>1.000000</td>\n",
       "      <td>0.996244</td>\n",
       "    </tr>\n",
       "    <tr>\n",
       "      <th>Population 55 to 59 years old</th>\n",
       "      <td>0.242424</td>\n",
       "      <td>0.993920</td>\n",
       "      <td>0.992936</td>\n",
       "      <td>0.994254</td>\n",
       "      <td>0.991303</td>\n",
       "      <td>0.996244</td>\n",
       "      <td>1.000000</td>\n",
       "    </tr>\n",
       "  </tbody>\n",
       "</table>\n",
       "</div>"
      ],
      "text/plain": [
       "                               confirmed_daily  Total_pop  \\\n",
       "confirmed_daily                       1.000000   0.243831   \n",
       "Total_pop                             0.243831   1.000000   \n",
       "Male_total_population                 0.243983   0.999675   \n",
       "Female_total_population               0.243547   0.999717   \n",
       "Population 35 to 44 years old         0.244108   0.996406   \n",
       "Population 45 to 54 years old         0.243578   0.994961   \n",
       "Population 55 to 59 years old         0.242424   0.993920   \n",
       "\n",
       "                               Male_total_population  Female_total_population  \\\n",
       "confirmed_daily                             0.243983                 0.243547   \n",
       "Total_pop                                   0.999675                 0.999717   \n",
       "Male_total_population                       1.000000                 0.998785   \n",
       "Female_total_population                     0.998785                 1.000000   \n",
       "Population 35 to 44 years old               0.996285                 0.995935   \n",
       "Population 45 to 54 years old               0.994124                 0.995159   \n",
       "Population 55 to 59 years old               0.992936                 0.994254   \n",
       "\n",
       "                               Population 35 to 44 years old  \\\n",
       "confirmed_daily                                     0.244108   \n",
       "Total_pop                                           0.996406   \n",
       "Male_total_population                               0.996285   \n",
       "Female_total_population                             0.995935   \n",
       "Population 35 to 44 years old                       1.000000   \n",
       "Population 45 to 54 years old                       0.996272   \n",
       "Population 55 to 59 years old                       0.991303   \n",
       "\n",
       "                               Population 45 to 54 years old  \\\n",
       "confirmed_daily                                     0.243578   \n",
       "Total_pop                                           0.994961   \n",
       "Male_total_population                               0.994124   \n",
       "Female_total_population                             0.995159   \n",
       "Population 35 to 44 years old                       0.996272   \n",
       "Population 45 to 54 years old                       1.000000   \n",
       "Population 55 to 59 years old                       0.996244   \n",
       "\n",
       "                               Population 55 to 59 years old  \n",
       "confirmed_daily                                     0.242424  \n",
       "Total_pop                                           0.993920  \n",
       "Male_total_population                               0.992936  \n",
       "Female_total_population                             0.994254  \n",
       "Population 35 to 44 years old                       0.991303  \n",
       "Population 45 to 54 years old                       0.996244  \n",
       "Population 55 to 59 years old                       1.000000  "
      ]
     },
     "execution_count": 97,
     "metadata": {},
     "output_type": "execute_result"
    }
   ],
   "source": [
    "super_nc_dataset.corr()"
   ]
  },
  {
   "cell_type": "markdown",
   "id": "c5245b6b",
   "metadata": {},
   "source": [
    "### *Florida State*"
   ]
  },
  {
   "cell_type": "code",
   "execution_count": 98,
   "id": "9901f572",
   "metadata": {},
   "outputs": [
    {
     "data": {
      "text/html": [
       "<div>\n",
       "<style scoped>\n",
       "    .dataframe tbody tr th:only-of-type {\n",
       "        vertical-align: middle;\n",
       "    }\n",
       "\n",
       "    .dataframe tbody tr th {\n",
       "        vertical-align: top;\n",
       "    }\n",
       "\n",
       "    .dataframe thead th {\n",
       "        text-align: right;\n",
       "    }\n",
       "</style>\n",
       "<table border=\"1\" class=\"dataframe\">\n",
       "  <thead>\n",
       "    <tr style=\"text-align: right;\">\n",
       "      <th></th>\n",
       "      <th>State</th>\n",
       "      <th>Date</th>\n",
       "      <th>Confirmed</th>\n",
       "      <th>Deaths</th>\n",
       "      <th>population</th>\n",
       "      <th>Total_pop</th>\n",
       "      <th>Male_total_population</th>\n",
       "      <th>Female_total_population</th>\n",
       "      <th>Population under 5 years of age</th>\n",
       "      <th>Population 5 to 9 years old</th>\n",
       "      <th>...</th>\n",
       "      <th>Population 45 to 54 years old</th>\n",
       "      <th>Population 55 to 59 years old</th>\n",
       "      <th>Population 60 to 64 years old</th>\n",
       "      <th>Population 65 to 74 years old</th>\n",
       "      <th>Population 75 to 84 years old</th>\n",
       "      <th>Population 85 years and older</th>\n",
       "      <th>confirmed_daily</th>\n",
       "      <th>deaths_daily</th>\n",
       "      <th>confirmed_daily_normalized</th>\n",
       "      <th>deaths_daily_normalized</th>\n",
       "    </tr>\n",
       "  </thead>\n",
       "  <tbody>\n",
       "    <tr>\n",
       "      <th>77793</th>\n",
       "      <td>FL</td>\n",
       "      <td>2020-01-23</td>\n",
       "      <td>0</td>\n",
       "      <td>0</td>\n",
       "      <td>269043</td>\n",
       "      <td>269956</td>\n",
       "      <td>131429</td>\n",
       "      <td>138527</td>\n",
       "      <td>13669</td>\n",
       "      <td>15311</td>\n",
       "      <td>...</td>\n",
       "      <td>24784</td>\n",
       "      <td>15551</td>\n",
       "      <td>13767</td>\n",
       "      <td>22670</td>\n",
       "      <td>10292</td>\n",
       "      <td>4765</td>\n",
       "      <td>0.0</td>\n",
       "      <td>0.0</td>\n",
       "      <td>0.0</td>\n",
       "      <td>0.0</td>\n",
       "    </tr>\n",
       "    <tr>\n",
       "      <th>77794</th>\n",
       "      <td>FL</td>\n",
       "      <td>2020-01-24</td>\n",
       "      <td>0</td>\n",
       "      <td>0</td>\n",
       "      <td>269043</td>\n",
       "      <td>269956</td>\n",
       "      <td>131429</td>\n",
       "      <td>138527</td>\n",
       "      <td>13669</td>\n",
       "      <td>15311</td>\n",
       "      <td>...</td>\n",
       "      <td>24784</td>\n",
       "      <td>15551</td>\n",
       "      <td>13767</td>\n",
       "      <td>22670</td>\n",
       "      <td>10292</td>\n",
       "      <td>4765</td>\n",
       "      <td>0.0</td>\n",
       "      <td>0.0</td>\n",
       "      <td>0.0</td>\n",
       "      <td>0.0</td>\n",
       "    </tr>\n",
       "    <tr>\n",
       "      <th>77795</th>\n",
       "      <td>FL</td>\n",
       "      <td>2020-01-25</td>\n",
       "      <td>0</td>\n",
       "      <td>0</td>\n",
       "      <td>269043</td>\n",
       "      <td>269956</td>\n",
       "      <td>131429</td>\n",
       "      <td>138527</td>\n",
       "      <td>13669</td>\n",
       "      <td>15311</td>\n",
       "      <td>...</td>\n",
       "      <td>24784</td>\n",
       "      <td>15551</td>\n",
       "      <td>13767</td>\n",
       "      <td>22670</td>\n",
       "      <td>10292</td>\n",
       "      <td>4765</td>\n",
       "      <td>0.0</td>\n",
       "      <td>0.0</td>\n",
       "      <td>0.0</td>\n",
       "      <td>0.0</td>\n",
       "    </tr>\n",
       "    <tr>\n",
       "      <th>77796</th>\n",
       "      <td>FL</td>\n",
       "      <td>2020-01-26</td>\n",
       "      <td>0</td>\n",
       "      <td>0</td>\n",
       "      <td>269043</td>\n",
       "      <td>269956</td>\n",
       "      <td>131429</td>\n",
       "      <td>138527</td>\n",
       "      <td>13669</td>\n",
       "      <td>15311</td>\n",
       "      <td>...</td>\n",
       "      <td>24784</td>\n",
       "      <td>15551</td>\n",
       "      <td>13767</td>\n",
       "      <td>22670</td>\n",
       "      <td>10292</td>\n",
       "      <td>4765</td>\n",
       "      <td>0.0</td>\n",
       "      <td>0.0</td>\n",
       "      <td>0.0</td>\n",
       "      <td>0.0</td>\n",
       "    </tr>\n",
       "    <tr>\n",
       "      <th>77797</th>\n",
       "      <td>FL</td>\n",
       "      <td>2020-01-27</td>\n",
       "      <td>0</td>\n",
       "      <td>0</td>\n",
       "      <td>269043</td>\n",
       "      <td>269956</td>\n",
       "      <td>131429</td>\n",
       "      <td>138527</td>\n",
       "      <td>13669</td>\n",
       "      <td>15311</td>\n",
       "      <td>...</td>\n",
       "      <td>24784</td>\n",
       "      <td>15551</td>\n",
       "      <td>13767</td>\n",
       "      <td>22670</td>\n",
       "      <td>10292</td>\n",
       "      <td>4765</td>\n",
       "      <td>0.0</td>\n",
       "      <td>0.0</td>\n",
       "      <td>0.0</td>\n",
       "      <td>0.0</td>\n",
       "    </tr>\n",
       "  </tbody>\n",
       "</table>\n",
       "<p>5 rows × 25 columns</p>\n",
       "</div>"
      ],
      "text/plain": [
       "      State       Date  Confirmed  Deaths  population  Total_pop  \\\n",
       "77793    FL 2020-01-23          0       0      269043     269956   \n",
       "77794    FL 2020-01-24          0       0      269043     269956   \n",
       "77795    FL 2020-01-25          0       0      269043     269956   \n",
       "77796    FL 2020-01-26          0       0      269043     269956   \n",
       "77797    FL 2020-01-27          0       0      269043     269956   \n",
       "\n",
       "       Male_total_population  Female_total_population  \\\n",
       "77793                 131429                   138527   \n",
       "77794                 131429                   138527   \n",
       "77795                 131429                   138527   \n",
       "77796                 131429                   138527   \n",
       "77797                 131429                   138527   \n",
       "\n",
       "       Population under 5 years of age  Population 5 to 9 years old  ...  \\\n",
       "77793                            13669                        15311  ...   \n",
       "77794                            13669                        15311  ...   \n",
       "77795                            13669                        15311  ...   \n",
       "77796                            13669                        15311  ...   \n",
       "77797                            13669                        15311  ...   \n",
       "\n",
       "       Population 45 to 54 years old  Population 55 to 59 years old  \\\n",
       "77793                          24784                          15551   \n",
       "77794                          24784                          15551   \n",
       "77795                          24784                          15551   \n",
       "77796                          24784                          15551   \n",
       "77797                          24784                          15551   \n",
       "\n",
       "       Population 60 to 64 years old  Population 65 to 74 years old  \\\n",
       "77793                          13767                          22670   \n",
       "77794                          13767                          22670   \n",
       "77795                          13767                          22670   \n",
       "77796                          13767                          22670   \n",
       "77797                          13767                          22670   \n",
       "\n",
       "       Population 75 to 84 years old  Population 85 years and older  \\\n",
       "77793                          10292                           4765   \n",
       "77794                          10292                           4765   \n",
       "77795                          10292                           4765   \n",
       "77796                          10292                           4765   \n",
       "77797                          10292                           4765   \n",
       "\n",
       "       confirmed_daily  deaths_daily  confirmed_daily_normalized  \\\n",
       "77793              0.0           0.0                         0.0   \n",
       "77794              0.0           0.0                         0.0   \n",
       "77795              0.0           0.0                         0.0   \n",
       "77796              0.0           0.0                         0.0   \n",
       "77797              0.0           0.0                         0.0   \n",
       "\n",
       "       deaths_daily_normalized  \n",
       "77793                      0.0  \n",
       "77794                      0.0  \n",
       "77795                      0.0  \n",
       "77796                      0.0  \n",
       "77797                      0.0  \n",
       "\n",
       "[5 rows x 25 columns]"
      ]
     },
     "execution_count": 98,
     "metadata": {},
     "output_type": "execute_result"
    }
   ],
   "source": [
    "super_fl_dataset = demographic_dataset[demographic_dataset['State'] == 'FL']\n",
    "super_fl_dataset=super_fl_dataset.drop(['countyFIPS','County_Name'],axis=1)\n",
    "super_fl_dataset.head()"
   ]
  },
  {
   "cell_type": "code",
   "execution_count": 99,
   "id": "d38c7c1b",
   "metadata": {},
   "outputs": [],
   "source": [
    "super_fl_dataset = super_fl_dataset[['confirmed_daily','Total_pop','Male_total_population','Female_total_population','Population 35 to 44 years old','Population 45 to 54 years old','Population 55 to 59 years old']]"
   ]
  },
  {
   "cell_type": "markdown",
   "id": "52ac6feb",
   "metadata": {},
   "source": [
    "### **Correlation** "
   ]
  },
  {
   "cell_type": "code",
   "execution_count": 100,
   "id": "7f0445a7",
   "metadata": {
    "scrolled": false
   },
   "outputs": [
    {
     "data": {
      "text/html": [
       "<div>\n",
       "<style scoped>\n",
       "    .dataframe tbody tr th:only-of-type {\n",
       "        vertical-align: middle;\n",
       "    }\n",
       "\n",
       "    .dataframe tbody tr th {\n",
       "        vertical-align: top;\n",
       "    }\n",
       "\n",
       "    .dataframe thead th {\n",
       "        text-align: right;\n",
       "    }\n",
       "</style>\n",
       "<table border=\"1\" class=\"dataframe\">\n",
       "  <thead>\n",
       "    <tr style=\"text-align: right;\">\n",
       "      <th></th>\n",
       "      <th>confirmed_daily</th>\n",
       "      <th>Total_pop</th>\n",
       "      <th>Male_total_population</th>\n",
       "      <th>Female_total_population</th>\n",
       "      <th>Population 35 to 44 years old</th>\n",
       "      <th>Population 45 to 54 years old</th>\n",
       "      <th>Population 55 to 59 years old</th>\n",
       "    </tr>\n",
       "  </thead>\n",
       "  <tbody>\n",
       "    <tr>\n",
       "      <th>confirmed_daily</th>\n",
       "      <td>1.000000</td>\n",
       "      <td>0.173217</td>\n",
       "      <td>0.173184</td>\n",
       "      <td>0.173236</td>\n",
       "      <td>0.174698</td>\n",
       "      <td>0.175518</td>\n",
       "      <td>0.171845</td>\n",
       "    </tr>\n",
       "    <tr>\n",
       "      <th>Total_pop</th>\n",
       "      <td>0.173217</td>\n",
       "      <td>1.000000</td>\n",
       "      <td>0.999957</td>\n",
       "      <td>0.999962</td>\n",
       "      <td>0.993884</td>\n",
       "      <td>0.996861</td>\n",
       "      <td>0.994796</td>\n",
       "    </tr>\n",
       "    <tr>\n",
       "      <th>Male_total_population</th>\n",
       "      <td>0.173184</td>\n",
       "      <td>0.999957</td>\n",
       "      <td>1.000000</td>\n",
       "      <td>0.999837</td>\n",
       "      <td>0.994298</td>\n",
       "      <td>0.996804</td>\n",
       "      <td>0.994293</td>\n",
       "    </tr>\n",
       "    <tr>\n",
       "      <th>Female_total_population</th>\n",
       "      <td>0.173236</td>\n",
       "      <td>0.999962</td>\n",
       "      <td>0.999837</td>\n",
       "      <td>1.000000</td>\n",
       "      <td>0.993414</td>\n",
       "      <td>0.996835</td>\n",
       "      <td>0.995192</td>\n",
       "    </tr>\n",
       "    <tr>\n",
       "      <th>Population 35 to 44 years old</th>\n",
       "      <td>0.174698</td>\n",
       "      <td>0.993884</td>\n",
       "      <td>0.994298</td>\n",
       "      <td>0.993414</td>\n",
       "      <td>1.000000</td>\n",
       "      <td>0.996032</td>\n",
       "      <td>0.981871</td>\n",
       "    </tr>\n",
       "    <tr>\n",
       "      <th>Population 45 to 54 years old</th>\n",
       "      <td>0.175518</td>\n",
       "      <td>0.996861</td>\n",
       "      <td>0.996804</td>\n",
       "      <td>0.996835</td>\n",
       "      <td>0.996032</td>\n",
       "      <td>1.000000</td>\n",
       "      <td>0.992447</td>\n",
       "    </tr>\n",
       "    <tr>\n",
       "      <th>Population 55 to 59 years old</th>\n",
       "      <td>0.171845</td>\n",
       "      <td>0.994796</td>\n",
       "      <td>0.994293</td>\n",
       "      <td>0.995192</td>\n",
       "      <td>0.981871</td>\n",
       "      <td>0.992447</td>\n",
       "      <td>1.000000</td>\n",
       "    </tr>\n",
       "  </tbody>\n",
       "</table>\n",
       "</div>"
      ],
      "text/plain": [
       "                               confirmed_daily  Total_pop  \\\n",
       "confirmed_daily                       1.000000   0.173217   \n",
       "Total_pop                             0.173217   1.000000   \n",
       "Male_total_population                 0.173184   0.999957   \n",
       "Female_total_population               0.173236   0.999962   \n",
       "Population 35 to 44 years old         0.174698   0.993884   \n",
       "Population 45 to 54 years old         0.175518   0.996861   \n",
       "Population 55 to 59 years old         0.171845   0.994796   \n",
       "\n",
       "                               Male_total_population  Female_total_population  \\\n",
       "confirmed_daily                             0.173184                 0.173236   \n",
       "Total_pop                                   0.999957                 0.999962   \n",
       "Male_total_population                       1.000000                 0.999837   \n",
       "Female_total_population                     0.999837                 1.000000   \n",
       "Population 35 to 44 years old               0.994298                 0.993414   \n",
       "Population 45 to 54 years old               0.996804                 0.996835   \n",
       "Population 55 to 59 years old               0.994293                 0.995192   \n",
       "\n",
       "                               Population 35 to 44 years old  \\\n",
       "confirmed_daily                                     0.174698   \n",
       "Total_pop                                           0.993884   \n",
       "Male_total_population                               0.994298   \n",
       "Female_total_population                             0.993414   \n",
       "Population 35 to 44 years old                       1.000000   \n",
       "Population 45 to 54 years old                       0.996032   \n",
       "Population 55 to 59 years old                       0.981871   \n",
       "\n",
       "                               Population 45 to 54 years old  \\\n",
       "confirmed_daily                                     0.175518   \n",
       "Total_pop                                           0.996861   \n",
       "Male_total_population                               0.996804   \n",
       "Female_total_population                             0.996835   \n",
       "Population 35 to 44 years old                       0.996032   \n",
       "Population 45 to 54 years old                       1.000000   \n",
       "Population 55 to 59 years old                       0.992447   \n",
       "\n",
       "                               Population 55 to 59 years old  \n",
       "confirmed_daily                                     0.171845  \n",
       "Total_pop                                           0.994796  \n",
       "Male_total_population                               0.994293  \n",
       "Female_total_population                             0.995192  \n",
       "Population 35 to 44 years old                       0.981871  \n",
       "Population 45 to 54 years old                       0.992447  \n",
       "Population 55 to 59 years old                       1.000000  "
      ]
     },
     "execution_count": 100,
     "metadata": {},
     "output_type": "execute_result"
    }
   ],
   "source": [
    "super_fl_dataset.corr()"
   ]
  },
  {
   "cell_type": "markdown",
   "id": "ceeeb4d7",
   "metadata": {},
   "source": [
    "**Observation:**\n",
    "* From above correlations it can be observed that there exists a positive correlations between non normalized cases with the demographic data.\n",
    "* Positive correlations implies that there is a linear relationship among the variables. As one value increase, the other value also increases"
   ]
  },
  {
   "cell_type": "markdown",
   "id": "8b6486e2",
   "metadata": {},
   "source": [
    "### Normalized Data correlation"
   ]
  },
  {
   "cell_type": "code",
   "execution_count": 101,
   "id": "c352ef65",
   "metadata": {},
   "outputs": [],
   "source": [
    "#North carolina normalized"
   ]
  },
  {
   "cell_type": "code",
   "execution_count": 102,
   "id": "9ff4f60c",
   "metadata": {},
   "outputs": [],
   "source": [
    "super_nc_dataset = demographic_dataset[demographic_dataset['State'] == 'NC']\n",
    "super_nc_dataset=super_nc_dataset.drop(['countyFIPS','County_Name'],axis=1)\n",
    "super_nc_dataset = super_nc_dataset[['confirmed_daily_normalized','Total_pop','Male_total_population','Female_total_population','Population 35 to 44 years old','Population 45 to 54 years old','Population 55 to 59 years old']]"
   ]
  },
  {
   "cell_type": "code",
   "execution_count": 103,
   "id": "72b90d67",
   "metadata": {},
   "outputs": [
    {
     "data": {
      "text/html": [
       "<div>\n",
       "<style scoped>\n",
       "    .dataframe tbody tr th:only-of-type {\n",
       "        vertical-align: middle;\n",
       "    }\n",
       "\n",
       "    .dataframe tbody tr th {\n",
       "        vertical-align: top;\n",
       "    }\n",
       "\n",
       "    .dataframe thead th {\n",
       "        text-align: right;\n",
       "    }\n",
       "</style>\n",
       "<table border=\"1\" class=\"dataframe\">\n",
       "  <thead>\n",
       "    <tr style=\"text-align: right;\">\n",
       "      <th></th>\n",
       "      <th>confirmed_daily_normalized</th>\n",
       "      <th>Total_pop</th>\n",
       "      <th>Male_total_population</th>\n",
       "      <th>Female_total_population</th>\n",
       "      <th>Population 35 to 44 years old</th>\n",
       "      <th>Population 45 to 54 years old</th>\n",
       "      <th>Population 55 to 59 years old</th>\n",
       "    </tr>\n",
       "  </thead>\n",
       "  <tbody>\n",
       "    <tr>\n",
       "      <th>confirmed_daily_normalized</th>\n",
       "      <td>1.000000</td>\n",
       "      <td>-0.003092</td>\n",
       "      <td>-0.002838</td>\n",
       "      <td>-0.003327</td>\n",
       "      <td>-0.001779</td>\n",
       "      <td>-0.002078</td>\n",
       "      <td>-0.003094</td>\n",
       "    </tr>\n",
       "    <tr>\n",
       "      <th>Total_pop</th>\n",
       "      <td>-0.003092</td>\n",
       "      <td>1.000000</td>\n",
       "      <td>0.999675</td>\n",
       "      <td>0.999717</td>\n",
       "      <td>0.996406</td>\n",
       "      <td>0.994961</td>\n",
       "      <td>0.993920</td>\n",
       "    </tr>\n",
       "    <tr>\n",
       "      <th>Male_total_population</th>\n",
       "      <td>-0.002838</td>\n",
       "      <td>0.999675</td>\n",
       "      <td>1.000000</td>\n",
       "      <td>0.998785</td>\n",
       "      <td>0.996285</td>\n",
       "      <td>0.994124</td>\n",
       "      <td>0.992936</td>\n",
       "    </tr>\n",
       "    <tr>\n",
       "      <th>Female_total_population</th>\n",
       "      <td>-0.003327</td>\n",
       "      <td>0.999717</td>\n",
       "      <td>0.998785</td>\n",
       "      <td>1.000000</td>\n",
       "      <td>0.995935</td>\n",
       "      <td>0.995159</td>\n",
       "      <td>0.994254</td>\n",
       "    </tr>\n",
       "    <tr>\n",
       "      <th>Population 35 to 44 years old</th>\n",
       "      <td>-0.001779</td>\n",
       "      <td>0.996406</td>\n",
       "      <td>0.996285</td>\n",
       "      <td>0.995935</td>\n",
       "      <td>1.000000</td>\n",
       "      <td>0.996272</td>\n",
       "      <td>0.991303</td>\n",
       "    </tr>\n",
       "    <tr>\n",
       "      <th>Population 45 to 54 years old</th>\n",
       "      <td>-0.002078</td>\n",
       "      <td>0.994961</td>\n",
       "      <td>0.994124</td>\n",
       "      <td>0.995159</td>\n",
       "      <td>0.996272</td>\n",
       "      <td>1.000000</td>\n",
       "      <td>0.996244</td>\n",
       "    </tr>\n",
       "    <tr>\n",
       "      <th>Population 55 to 59 years old</th>\n",
       "      <td>-0.003094</td>\n",
       "      <td>0.993920</td>\n",
       "      <td>0.992936</td>\n",
       "      <td>0.994254</td>\n",
       "      <td>0.991303</td>\n",
       "      <td>0.996244</td>\n",
       "      <td>1.000000</td>\n",
       "    </tr>\n",
       "  </tbody>\n",
       "</table>\n",
       "</div>"
      ],
      "text/plain": [
       "                               confirmed_daily_normalized  Total_pop  \\\n",
       "confirmed_daily_normalized                       1.000000  -0.003092   \n",
       "Total_pop                                       -0.003092   1.000000   \n",
       "Male_total_population                           -0.002838   0.999675   \n",
       "Female_total_population                         -0.003327   0.999717   \n",
       "Population 35 to 44 years old                   -0.001779   0.996406   \n",
       "Population 45 to 54 years old                   -0.002078   0.994961   \n",
       "Population 55 to 59 years old                   -0.003094   0.993920   \n",
       "\n",
       "                               Male_total_population  Female_total_population  \\\n",
       "confirmed_daily_normalized                 -0.002838                -0.003327   \n",
       "Total_pop                                   0.999675                 0.999717   \n",
       "Male_total_population                       1.000000                 0.998785   \n",
       "Female_total_population                     0.998785                 1.000000   \n",
       "Population 35 to 44 years old               0.996285                 0.995935   \n",
       "Population 45 to 54 years old               0.994124                 0.995159   \n",
       "Population 55 to 59 years old               0.992936                 0.994254   \n",
       "\n",
       "                               Population 35 to 44 years old  \\\n",
       "confirmed_daily_normalized                         -0.001779   \n",
       "Total_pop                                           0.996406   \n",
       "Male_total_population                               0.996285   \n",
       "Female_total_population                             0.995935   \n",
       "Population 35 to 44 years old                       1.000000   \n",
       "Population 45 to 54 years old                       0.996272   \n",
       "Population 55 to 59 years old                       0.991303   \n",
       "\n",
       "                               Population 45 to 54 years old  \\\n",
       "confirmed_daily_normalized                         -0.002078   \n",
       "Total_pop                                           0.994961   \n",
       "Male_total_population                               0.994124   \n",
       "Female_total_population                             0.995159   \n",
       "Population 35 to 44 years old                       0.996272   \n",
       "Population 45 to 54 years old                       1.000000   \n",
       "Population 55 to 59 years old                       0.996244   \n",
       "\n",
       "                               Population 55 to 59 years old  \n",
       "confirmed_daily_normalized                         -0.003094  \n",
       "Total_pop                                           0.993920  \n",
       "Male_total_population                               0.992936  \n",
       "Female_total_population                             0.994254  \n",
       "Population 35 to 44 years old                       0.991303  \n",
       "Population 45 to 54 years old                       0.996244  \n",
       "Population 55 to 59 years old                       1.000000  "
      ]
     },
     "execution_count": 103,
     "metadata": {},
     "output_type": "execute_result"
    }
   ],
   "source": [
    "super_nc_dataset.corr()"
   ]
  },
  {
   "cell_type": "code",
   "execution_count": 104,
   "id": "9a60027f",
   "metadata": {},
   "outputs": [],
   "source": [
    "#Florida normalized"
   ]
  },
  {
   "cell_type": "code",
   "execution_count": 105,
   "id": "950f13d7",
   "metadata": {},
   "outputs": [],
   "source": [
    "super_fl_dataset = demographic_dataset[demographic_dataset['State'] == 'AL']\n",
    "super_fl_dataset=super_fl_dataset.drop(['countyFIPS','County_Name'],axis=1)\n",
    "super_fl_dataset = super_fl_dataset[['confirmed_daily_normalized','Total_pop','Male_total_population','Female_total_population','Population 35 to 44 years old','Population 45 to 54 years old','Population 55 to 59 years old']]"
   ]
  },
  {
   "cell_type": "code",
   "execution_count": 106,
   "id": "d7b8d22b",
   "metadata": {
    "scrolled": true
   },
   "outputs": [
    {
     "data": {
      "text/html": [
       "<div>\n",
       "<style scoped>\n",
       "    .dataframe tbody tr th:only-of-type {\n",
       "        vertical-align: middle;\n",
       "    }\n",
       "\n",
       "    .dataframe tbody tr th {\n",
       "        vertical-align: top;\n",
       "    }\n",
       "\n",
       "    .dataframe thead th {\n",
       "        text-align: right;\n",
       "    }\n",
       "</style>\n",
       "<table border=\"1\" class=\"dataframe\">\n",
       "  <thead>\n",
       "    <tr style=\"text-align: right;\">\n",
       "      <th></th>\n",
       "      <th>confirmed_daily_normalized</th>\n",
       "      <th>Total_pop</th>\n",
       "      <th>Male_total_population</th>\n",
       "      <th>Female_total_population</th>\n",
       "      <th>Population 35 to 44 years old</th>\n",
       "      <th>Population 45 to 54 years old</th>\n",
       "      <th>Population 55 to 59 years old</th>\n",
       "    </tr>\n",
       "  </thead>\n",
       "  <tbody>\n",
       "    <tr>\n",
       "      <th>confirmed_daily_normalized</th>\n",
       "      <td>1.000000</td>\n",
       "      <td>-0.003759</td>\n",
       "      <td>-0.003918</td>\n",
       "      <td>-0.003615</td>\n",
       "      <td>-0.003431</td>\n",
       "      <td>-0.003862</td>\n",
       "      <td>-0.004390</td>\n",
       "    </tr>\n",
       "    <tr>\n",
       "      <th>Total_pop</th>\n",
       "      <td>-0.003759</td>\n",
       "      <td>1.000000</td>\n",
       "      <td>0.999800</td>\n",
       "      <td>0.999839</td>\n",
       "      <td>0.997195</td>\n",
       "      <td>0.996866</td>\n",
       "      <td>0.983308</td>\n",
       "    </tr>\n",
       "    <tr>\n",
       "      <th>Male_total_population</th>\n",
       "      <td>-0.003918</td>\n",
       "      <td>0.999800</td>\n",
       "      <td>1.000000</td>\n",
       "      <td>0.999281</td>\n",
       "      <td>0.997274</td>\n",
       "      <td>0.997629</td>\n",
       "      <td>0.985068</td>\n",
       "    </tr>\n",
       "    <tr>\n",
       "      <th>Female_total_population</th>\n",
       "      <td>-0.003615</td>\n",
       "      <td>0.999839</td>\n",
       "      <td>0.999281</td>\n",
       "      <td>1.000000</td>\n",
       "      <td>0.996785</td>\n",
       "      <td>0.995842</td>\n",
       "      <td>0.981392</td>\n",
       "    </tr>\n",
       "    <tr>\n",
       "      <th>Population 35 to 44 years old</th>\n",
       "      <td>-0.003431</td>\n",
       "      <td>0.997195</td>\n",
       "      <td>0.997274</td>\n",
       "      <td>0.996785</td>\n",
       "      <td>1.000000</td>\n",
       "      <td>0.996720</td>\n",
       "      <td>0.978378</td>\n",
       "    </tr>\n",
       "    <tr>\n",
       "      <th>Population 45 to 54 years old</th>\n",
       "      <td>-0.003862</td>\n",
       "      <td>0.996866</td>\n",
       "      <td>0.997629</td>\n",
       "      <td>0.995842</td>\n",
       "      <td>0.996720</td>\n",
       "      <td>1.000000</td>\n",
       "      <td>0.988993</td>\n",
       "    </tr>\n",
       "    <tr>\n",
       "      <th>Population 55 to 59 years old</th>\n",
       "      <td>-0.004390</td>\n",
       "      <td>0.983308</td>\n",
       "      <td>0.985068</td>\n",
       "      <td>0.981392</td>\n",
       "      <td>0.978378</td>\n",
       "      <td>0.988993</td>\n",
       "      <td>1.000000</td>\n",
       "    </tr>\n",
       "  </tbody>\n",
       "</table>\n",
       "</div>"
      ],
      "text/plain": [
       "                               confirmed_daily_normalized  Total_pop  \\\n",
       "confirmed_daily_normalized                       1.000000  -0.003759   \n",
       "Total_pop                                       -0.003759   1.000000   \n",
       "Male_total_population                           -0.003918   0.999800   \n",
       "Female_total_population                         -0.003615   0.999839   \n",
       "Population 35 to 44 years old                   -0.003431   0.997195   \n",
       "Population 45 to 54 years old                   -0.003862   0.996866   \n",
       "Population 55 to 59 years old                   -0.004390   0.983308   \n",
       "\n",
       "                               Male_total_population  Female_total_population  \\\n",
       "confirmed_daily_normalized                 -0.003918                -0.003615   \n",
       "Total_pop                                   0.999800                 0.999839   \n",
       "Male_total_population                       1.000000                 0.999281   \n",
       "Female_total_population                     0.999281                 1.000000   \n",
       "Population 35 to 44 years old               0.997274                 0.996785   \n",
       "Population 45 to 54 years old               0.997629                 0.995842   \n",
       "Population 55 to 59 years old               0.985068                 0.981392   \n",
       "\n",
       "                               Population 35 to 44 years old  \\\n",
       "confirmed_daily_normalized                         -0.003431   \n",
       "Total_pop                                           0.997195   \n",
       "Male_total_population                               0.997274   \n",
       "Female_total_population                             0.996785   \n",
       "Population 35 to 44 years old                       1.000000   \n",
       "Population 45 to 54 years old                       0.996720   \n",
       "Population 55 to 59 years old                       0.978378   \n",
       "\n",
       "                               Population 45 to 54 years old  \\\n",
       "confirmed_daily_normalized                         -0.003862   \n",
       "Total_pop                                           0.996866   \n",
       "Male_total_population                               0.997629   \n",
       "Female_total_population                             0.995842   \n",
       "Population 35 to 44 years old                       0.996720   \n",
       "Population 45 to 54 years old                       1.000000   \n",
       "Population 55 to 59 years old                       0.988993   \n",
       "\n",
       "                               Population 55 to 59 years old  \n",
       "confirmed_daily_normalized                         -0.004390  \n",
       "Total_pop                                           0.983308  \n",
       "Male_total_population                               0.985068  \n",
       "Female_total_population                             0.981392  \n",
       "Population 35 to 44 years old                       0.978378  \n",
       "Population 45 to 54 years old                       0.988993  \n",
       "Population 55 to 59 years old                       1.000000  "
      ]
     },
     "execution_count": 106,
     "metadata": {},
     "output_type": "execute_result"
    }
   ],
   "source": [
    "super_fl_dataset.corr()"
   ]
  },
  {
   "cell_type": "markdown",
   "id": "ada3c0b5",
   "metadata": {},
   "source": [
    "**Observation:**\n",
    "* After normalizing the data for a population of 100000, it is observed there exists a negative correlation between confirmed cases normalized with the total population, Male_total_population, Female_total_population, Population 35 to 44 years old, Population 45 to 54 years old, Population 55 to 59 years old.\n",
    "* This imply that when normalized cases increases, the other factors decreases. There exists an inverse relationship among them."
   ]
  },
  {
   "cell_type": "markdown",
   "id": "d8cc2a4f",
   "metadata": {},
   "source": [
    "### Task 4\n",
    "* Formulate hypothesis between Enrichment data and number of cases to be compared against states. Choose 3 different variables to compare against.\n",
    " For example: Does higher employment data lead to higher covid case numbers or more rapid increase in covid cases."
   ]
  },
  {
   "cell_type": "markdown",
   "id": "fcfac6eb",
   "metadata": {},
   "source": [
    "**Hypothesis:**\n",
    "* States with higher **Total Population** will lead to higher number of covid cases and increase in number of covid cases.\n",
    "\n",
    "* This implies that states with higher **Male Population** will lead to higher number of covid cases and increase in number of covid cases.\n",
    "\n",
    "* It also implies that states with higher **Female Population** will lead to higher number of covid cases and increase in number of covid cases.\n",
    "\n",
    "* States with higher **Middle aged Population** will lead to higher number of covid cases and increase in number of covid cases."
   ]
  }
 ],
 "metadata": {
  "kernelspec": {
   "display_name": "Python 3 (ipykernel)",
   "language": "python",
   "name": "python3"
  },
  "language_info": {
   "codemirror_mode": {
    "name": "ipython",
    "version": 3
   },
   "file_extension": ".py",
   "mimetype": "text/x-python",
   "name": "python",
   "nbconvert_exporter": "python",
   "pygments_lexer": "ipython3",
   "version": "3.8.8"
  }
 },
 "nbformat": 4,
 "nbformat_minor": 5
}
