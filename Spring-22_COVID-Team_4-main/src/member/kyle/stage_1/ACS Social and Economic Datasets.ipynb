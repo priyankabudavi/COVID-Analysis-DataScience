{
 "cells": [
  {
   "cell_type": "code",
   "execution_count": 2,
   "id": "30d62bbf",
   "metadata": {},
   "outputs": [],
   "source": [
    "import matplotlib.pyplot as plt\n",
    "import pandas as pd\n",
    "import numpy as np\n",
    "\n",
    "pd.set_option('notebook_repr_html',False)\n",
    "pd.set_option('max_columns',30)\n",
    "pd.set_option('max_rows',20)"
   ]
  },
  {
   "cell_type": "markdown",
   "id": "6b9aaa44",
   "metadata": {},
   "source": [
    "We first need to clean up the ACS Social csv file before merging with COVID data."
   ]
  },
  {
   "cell_type": "code",
   "execution_count": 4,
   "id": "f0be3d84",
   "metadata": {},
   "outputs": [
    {
     "data": {
      "text/plain": [
       "     countyFIPS                           County Name  No Diploma  \\\n",
       "0          1003               Baldwin County, Alabama     12068.0   \n",
       "1          1015               Calhoun County, Alabama      8871.0   \n",
       "2          1043               Cullman County, Alabama      8365.0   \n",
       "3          1049                DeKalb County, Alabama      5375.0   \n",
       "4          1051                Elmore County, Alabama      3853.0   \n",
       "..          ...                                   ...         ...   \n",
       "835       72113          Ponce Municipio, Puerto Rico         NaN   \n",
       "836       72127       San Juan Municipio, Puerto Rico         NaN   \n",
       "837       72135       Toa Alta Municipio, Puerto Rico         NaN   \n",
       "838       72137       Toa Baja Municipio, Puerto Rico         NaN   \n",
       "839       72139  Trujillo Alto Municipio, Puerto Rico         NaN   \n",
       "\n",
       "     High School  Associate's  Bachelor's  Graduate  Foreign Born  \n",
       "0        41884.0      16170.0     32781.0   18690.0       11002.0  \n",
       "1        27277.0       7112.0      9082.0    6175.0        1906.0  \n",
       "2        17924.0       6783.0      5935.0    3306.0        2196.0  \n",
       "3        17881.0       4433.0      3693.0    2306.0        5018.0  \n",
       "4        19992.0       5821.0      9418.0    4892.0        2356.0  \n",
       "..           ...          ...         ...       ...           ...  \n",
       "835          NaN          NaN         NaN       NaN           NaN  \n",
       "836          NaN          NaN         NaN       NaN           NaN  \n",
       "837          NaN          NaN         NaN       NaN           NaN  \n",
       "838          NaN          NaN         NaN       NaN           NaN  \n",
       "839          NaN          NaN         NaN       NaN           NaN  \n",
       "\n",
       "[840 rows x 8 columns]"
      ]
     },
     "execution_count": 4,
     "metadata": {},
     "output_type": "execute_result"
    }
   ],
   "source": [
    "social=pd.read_csv(\"../../../../data/stage_1/ACS Social.csv\")\n",
    "\n",
    "#countyFIPS in COVID data only goes up to 5 numbers, so we only need the last 5 characters\n",
    "social['countyFIPS']=social['countyFIPS'].str[-5:]\n",
    "\n",
    "#Changing it to numeric removes the leading zeros, which aren't in the COVID data\n",
    "social['countyFIPS'] = pd.to_numeric(social['countyFIPS'])\n",
    "\n",
    "social"
   ]
  },
  {
   "cell_type": "markdown",
   "id": "a9ee182b",
   "metadata": {},
   "source": [
    "Now let's do the same for Economic data"
   ]
  },
  {
   "cell_type": "code",
   "execution_count": 5,
   "id": "e83df630",
   "metadata": {},
   "outputs": [
    {
     "data": {
      "text/plain": [
       "     countyFIPS                           County Name  Less than $10,000  \\\n",
       "0          1003               Baldwin County, Alabama               4068   \n",
       "1          1015               Calhoun County, Alabama               4307   \n",
       "2          1043               Cullman County, Alabama               1410   \n",
       "3          1049                DeKalb County, Alabama               1790   \n",
       "4          1051                Elmore County, Alabama                877   \n",
       "..          ...                                   ...                ...   \n",
       "835       72113          Ponce Municipio, Puerto Rico              19155   \n",
       "836       72127       San Juan Municipio, Puerto Rico              40451   \n",
       "837       72135       Toa Alta Municipio, Puerto Rico               4554   \n",
       "838       72137       Toa Baja Municipio, Puerto Rico               6318   \n",
       "839       72139  Trujillo Alto Municipio, Puerto Rico               3795   \n",
       "\n",
       "     $10,000 to $14,999  $15,000 to $24,999  $25,000 to $34,999  \\\n",
       "0                  3189                7760                8552   \n",
       "1                  3273                3768                5842   \n",
       "2                  1719                3517                4241   \n",
       "3                  2095                3888                1880   \n",
       "4                   577                4064                3303   \n",
       "..                  ...                 ...                 ...   \n",
       "835                7131                8456                5207   \n",
       "836               12149               20568               14096   \n",
       "837                1850                3814                2891   \n",
       "838                2864                5617                3913   \n",
       "839                2204                3752                2380   \n",
       "\n",
       "     $35,000 to $49,999  $50,000 to $74,999  $75,000 to $99,999  \\\n",
       "0                 13600               11589               10969   \n",
       "1                  5696                8345                5439   \n",
       "2                  4768                7054                4921   \n",
       "3                  4202                4713                2659   \n",
       "4                  3172                6435                3511   \n",
       "..                  ...                 ...                 ...   \n",
       "835                5214                3528                1524   \n",
       "836               16046               13711                7991   \n",
       "837                3702                3065                1523   \n",
       "838                3469                3645                1752   \n",
       "839                3343                3624                1529   \n",
       "\n",
       "     $100,000 to $149,999  $150,000 to $199,999  $200,000 or more  \\\n",
       "0                   13141                  4064              5393   \n",
       "1                    5758                  1229               979   \n",
       "2                    2748                   929               783   \n",
       "3                    2725                   755               173   \n",
       "4                    5015                  1971              1787   \n",
       "..                    ...                   ...               ...   \n",
       "835                  1467                   632               523   \n",
       "836                  7051                  2383              4354   \n",
       "837                  1002                   180                69   \n",
       "838                   582                    81                50   \n",
       "839                  1756                   266               614   \n",
       "\n",
       "     Below Poverty Level  \n",
       "0                   10.1  \n",
       "1                   17.3  \n",
       "2                   10.6  \n",
       "3                   19.6  \n",
       "4                   11.6  \n",
       "..                   ...  \n",
       "835                 53.2  \n",
       "836                 40.0  \n",
       "837                 31.1  \n",
       "838                 38.4  \n",
       "839                 27.5  \n",
       "\n",
       "[840 rows x 13 columns]"
      ]
     },
     "execution_count": 5,
     "metadata": {},
     "output_type": "execute_result"
    }
   ],
   "source": [
    "economic=pd.read_csv(\"../../../../data/stage_1/ACS Economic.csv\")\n",
    "\n",
    "#countyFIPS in COVID data only goes up to 5 numbers, so we only need the last 5 characters\n",
    "economic['countyFIPS']=economic['countyFIPS'].str[-5:]\n",
    "\n",
    "#Changing it to numeric removes the leading zeros, which aren't in the COVID data\n",
    "economic['countyFIPS'] = pd.to_numeric(economic['countyFIPS'])\n",
    "\n",
    "economic"
   ]
  },
  {
   "cell_type": "markdown",
   "id": "7bf3dbd4",
   "metadata": {},
   "source": [
    "Time to pull in the previously merged COVID data from the team task"
   ]
  },
  {
   "cell_type": "code",
   "execution_count": 6,
   "id": "081c63ef",
   "metadata": {},
   "outputs": [
    {
     "data": {
      "text/plain": [
       "         countyFIPS            County_Name State        Date  Confirmed  \\\n",
       "0                 0  statewide unallocated    AL  2020-01-22          0   \n",
       "1                 0  statewide unallocated    AL  2020-01-23          0   \n",
       "2                 0  statewide unallocated    AL  2020-01-24          0   \n",
       "3                 0  statewide unallocated    AL  2020-01-25          0   \n",
       "4                 0  statewide unallocated    AL  2020-01-26          0   \n",
       "...             ...                    ...   ...         ...        ...   \n",
       "2346471       56045          weston county    WY  2022-02-03       1491   \n",
       "2346472       56045          weston county    WY  2022-02-04       1496   \n",
       "2346473       56045          weston county    WY  2022-02-05       1496   \n",
       "2346474       56045          weston county    WY  2022-02-06       1496   \n",
       "2346475       56045          weston county    WY  2022-02-07       1508   \n",
       "\n",
       "         Deaths  population  \n",
       "0             0           0  \n",
       "1             0           0  \n",
       "2             0           0  \n",
       "3             0           0  \n",
       "4             0           0  \n",
       "...         ...         ...  \n",
       "2346471      17        6927  \n",
       "2346472      17        6927  \n",
       "2346473      17        6927  \n",
       "2346474      17        6927  \n",
       "2346475      17        6927  \n",
       "\n",
       "[2346476 rows x 7 columns]"
      ]
     },
     "execution_count": 6,
     "metadata": {},
     "output_type": "execute_result"
    }
   ],
   "source": [
    "covid_data=pd.read_csv(\"../../../../data/stage_1/superdataset.csv\")\n",
    "covid_data"
   ]
  },
  {
   "cell_type": "markdown",
   "id": "68011762",
   "metadata": {},
   "source": [
    "Before merging with the social and economic data sets, let's first see how Indiana is doing regarding COVID cases."
   ]
  },
  {
   "cell_type": "code",
   "execution_count": 7,
   "id": "676d69c8",
   "metadata": {},
   "outputs": [
    {
     "data": {
      "text/plain": [
       "        countyFIPS            County_Name State        Date  Confirmed  \\\n",
       "522852           0  statewide unallocated    IN  2020-01-22          0   \n",
       "522853           0  statewide unallocated    IN  2020-01-23          0   \n",
       "522854           0  statewide unallocated    IN  2020-01-24          0   \n",
       "522855           0  statewide unallocated    IN  2020-01-25          0   \n",
       "522856           0  statewide unallocated    IN  2020-01-26          0   \n",
       "\n",
       "        Deaths  population  \n",
       "522852       0           0  \n",
       "522853       0           0  \n",
       "522854       0           0  \n",
       "522855       0           0  \n",
       "522856       0           0  "
      ]
     },
     "execution_count": 7,
     "metadata": {},
     "output_type": "execute_result"
    }
   ],
   "source": [
    "indiana_covid = covid_data[covid_data[\"State\"].isin([\"IN\"])]\n",
    "indiana_covid.head()"
   ]
  },
  {
   "cell_type": "markdown",
   "id": "29737b22",
   "metadata": {},
   "source": [
    "We use the datetime function to ensure that the dates are in the right format in the file."
   ]
  },
  {
   "cell_type": "code",
   "execution_count": 8,
   "id": "273d95ae",
   "metadata": {},
   "outputs": [
    {
     "data": {
      "text/plain": [
       "522852   2020-01-22\n",
       "522853   2020-01-23\n",
       "522854   2020-01-24\n",
       "522855   2020-01-25\n",
       "522856   2020-01-26\n",
       "            ...    \n",
       "592411   2022-02-03\n",
       "592412   2022-02-04\n",
       "592413   2022-02-05\n",
       "592414   2022-02-06\n",
       "592415   2022-02-07\n",
       "Name: Date, Length: 69564, dtype: datetime64[ns]"
      ]
     },
     "execution_count": 8,
     "metadata": {},
     "output_type": "execute_result"
    }
   ],
   "source": [
    "from datetime import datetime\n",
    "pd.to_datetime(indiana_covid.Date)"
   ]
  },
  {
   "cell_type": "markdown",
   "id": "452dc470",
   "metadata": {},
   "source": [
    "This is grabbing the COVID-19 cases for each of the last 7 days of the data. "
   ]
  },
  {
   "cell_type": "code",
   "execution_count": 9,
   "id": "9af75bb7",
   "metadata": {},
   "outputs": [
    {
     "data": {
      "text/plain": [
       "        countyFIPS            County_Name State        Date  Confirmed  \\\n",
       "523599           0  statewide unallocated    IN  2022-02-07          0   \n",
       "524347       18001           adams county    IN  2022-02-07       7509   \n",
       "525095       18003           allen county    IN  2022-02-07     101761   \n",
       "525843       18005     bartholomew county    IN  2022-02-07      20773   \n",
       "526591       18007          benton county    IN  2022-02-07       2410   \n",
       "\n",
       "        Deaths  population  \n",
       "523599       0           0  \n",
       "524347     107       35777  \n",
       "525095    1094      379299  \n",
       "525843     233       83779  \n",
       "526591      21        8748  "
      ]
     },
     "execution_count": 9,
     "metadata": {},
     "output_type": "execute_result"
    }
   ],
   "source": [
    "first_day=indiana_covid.loc[indiana_covid['Date'] ==\"2022-02-01\"]\n",
    "first_day.head()\n",
    "second_day=indiana_covid.loc[indiana_covid['Date'] ==\"2022-02-02\"]\n",
    "third_day=indiana_covid.loc[indiana_covid['Date'] ==\"2022-02-03\"]\n",
    "fourth_day=indiana_covid.loc[indiana_covid['Date'] ==\"2022-02-04\"]\n",
    "fifth_day=indiana_covid.loc[indiana_covid['Date'] ==\"2022-02-05\"]\n",
    "sixth_day=indiana_covid.loc[indiana_covid['Date'] ==\"2022-02-06\"]\n",
    "seventh_day=indiana_covid.loc[indiana_covid['Date'] ==\"2022-02-07\"]\n",
    "seventh_day.head()"
   ]
  },
  {
   "cell_type": "markdown",
   "id": "4b99e16e",
   "metadata": {},
   "source": [
    "This is summing all of the data for each day."
   ]
  },
  {
   "cell_type": "code",
   "execution_count": 15,
   "id": "d545b39f",
   "metadata": {},
   "outputs": [
    {
     "data": {
      "text/plain": [
       "  2022-02-01 2022-02-02 2022-02-03 2022-02-04 2022-02-05 2022-02-06 2022-02-07\n",
       "0    1633264    1640178    1646804    1651124    1651124    1651124    1656178"
      ]
     },
     "execution_count": 15,
     "metadata": {},
     "output_type": "execute_result"
    }
   ],
   "source": [
    "indiana_sums=pd.DataFrame(columns=['2022-02-01','2022-02-02','2022-02-03','2022-02-04','2022-02-05','2022-02-06','2022-02-07'])\n",
    "indiana_sums=indiana_sums.append({\"2022-02-01\":first_day[\"Confirmed\"].sum(),\"2022-02-02\":second_day[\"Confirmed\"].sum(),\"2022-02-03\":third_day[\"Confirmed\"].sum(),\"2022-02-04\":fourth_day[\"Confirmed\"].sum(),\"2022-02-05\":fifth_day[\"Confirmed\"].sum(),\"2022-02-06\":sixth_day[\"Confirmed\"].sum(),\"2022-02-07\":seventh_day[\"Confirmed\"].sum()},ignore_index=True)\n",
    "indiana_sums"
   ]
  },
  {
   "cell_type": "markdown",
   "id": "ad9ee1b3",
   "metadata": {},
   "source": [
    "Now let's plot our data in a line graph."
   ]
  },
  {
   "cell_type": "code",
   "execution_count": 11,
   "id": "7f561b2f",
   "metadata": {},
   "outputs": [
    {
     "data": {
      "image/png": "[encoded data removed]",
      "text/plain": [
       "<Figure size 432x288 with 1 Axes>"
      ]
     },
     "metadata": {
      "needs_background": "light"
     },
     "output_type": "display_data"
    }
   ],
   "source": [
    "dates=pd.Series(['02-01','02-02','02-03','02-04','02-05','02-06','02-07'])\n",
    "cases=pd.Series([1633264,1640178,1646804,1651124,1651124,1651124,1656178])\n",
    "plt.title(\"Indiana COVID-19 Cases for the First Week of February\")\n",
    "plt.xlabel(\"Date\")\n",
    "plt.ylabel(\"COVID-19 Cases\")\n",
    "plt.plot(dates,cases, color =\"red\")\n",
    "plt.show()"
   ]
  },
  {
   "cell_type": "markdown",
   "id": "ca35f9fa",
   "metadata": {},
   "source": [
    "The graph above is showing that COVID-19 cases are increasing in a uniform manner. While 02-04 to 02-06 show no increases in cases, those days also fall on a weekend, so we cannot rule out underreporting for those days. As such, I would say that COVID-19 cases in Indiana are increasing. But what about deaths?"
   ]
  },
  {
   "cell_type": "code",
   "execution_count": 16,
   "id": "6e212cf1",
   "metadata": {},
   "outputs": [
    {
     "data": {
      "text/plain": [
       "  2022-02-01 2022-02-02 2022-02-03 2022-02-04 2022-02-05 2022-02-06 2022-02-07\n",
       "0      21487      21598      21666      21712      21712      21712      21812"
      ]
     },
     "execution_count": 16,
     "metadata": {},
     "output_type": "execute_result"
    }
   ],
   "source": [
    "indiana_death_sums=pd.DataFrame(columns=['2022-02-01','2022-02-02','2022-02-03','2022-02-04','2022-02-05','2022-02-06','2022-02-07'])\n",
    "indiana_death_sums=indiana_death_sums.append({\"2022-02-01\":first_day[\"Deaths\"].sum(),\"2022-02-02\":second_day[\"Deaths\"].sum(),\"2022-02-03\":third_day[\"Deaths\"].sum(),\"2022-02-04\":fourth_day[\"Deaths\"].sum(),\"2022-02-05\":fifth_day[\"Deaths\"].sum(),\"2022-02-06\":sixth_day[\"Deaths\"].sum(),\"2022-02-07\":seventh_day[\"Deaths\"].sum()},ignore_index=True)\n",
    "indiana_death_sums"
   ]
  },
  {
   "cell_type": "code",
   "execution_count": 17,
   "id": "eae94602",
   "metadata": {},
   "outputs": [
    {
     "data": {
      "image/png": "[encoded data removed]",
      "text/plain": [
       "<Figure size 432x288 with 1 Axes>"
      ]
     },
     "metadata": {
      "needs_background": "light"
     },
     "output_type": "display_data"
    }
   ],
   "source": [
    "dates=pd.Series(['02-01','02-02','02-03','02-04','02-05','02-06','02-07'])\n",
    "cases=pd.Series([21487,21598,21666,21712,21712,21712,21812])\n",
    "plt.title(\"Indiana COVID-19 Deaths for the First Week of February\")\n",
    "plt.xlabel(\"Date\")\n",
    "plt.ylabel(\"COVID-19 Deaths\")\n",
    "plt.plot(dates,cases, color =\"red\")\n",
    "plt.show()"
   ]
  },
  {
   "cell_type": "markdown",
   "id": "3dab71fa",
   "metadata": {},
   "source": [
    "As you can see, the trend is essentially identical to the confirmed cases, just with far lower numbers. "
   ]
  },
  {
   "cell_type": "markdown",
   "id": "ae55b903",
   "metadata": {},
   "source": [
    "Now let's try merging the Social and Economic data with the COVID data."
   ]
  },
  {
   "cell_type": "code",
   "execution_count": 12,
   "id": "d37d0e71",
   "metadata": {},
   "outputs": [
    {
     "data": {
      "text/plain": [
       "        countyFIPS     County_Name State        Date  Confirmed  Deaths  \\\n",
       "0             1003  baldwin county    AL  2020-01-22          0       0   \n",
       "1             1003  baldwin county    AL  2020-01-23          0       0   \n",
       "2             1003  baldwin county    AL  2020-01-24          0       0   \n",
       "3             1003  baldwin county    AL  2020-01-25          0       0   \n",
       "4             1003  baldwin county    AL  2020-01-26          0       0   \n",
       "...            ...             ...   ...         ...        ...     ...   \n",
       "606623       56025  natrona county    WY  2022-02-03      21413     255   \n",
       "606624       56025  natrona county    WY  2022-02-04      21501     255   \n",
       "606625       56025  natrona county    WY  2022-02-05      21501     255   \n",
       "606626       56025  natrona county    WY  2022-02-06      21501     255   \n",
       "606627       56025  natrona county    WY  2022-02-07      21596     255   \n",
       "\n",
       "        population  No Diploma  High School  Associate's  Bachelor's  \\\n",
       "0           223234     12068.0      41884.0      16170.0     32781.0   \n",
       "1           223234     12068.0      41884.0      16170.0     32781.0   \n",
       "2           223234     12068.0      41884.0      16170.0     32781.0   \n",
       "3           223234     12068.0      41884.0      16170.0     32781.0   \n",
       "4           223234     12068.0      41884.0      16170.0     32781.0   \n",
       "...            ...         ...          ...          ...         ...   \n",
       "606623       79858      3034.0      18647.0       6541.0      7628.0   \n",
       "606624       79858      3034.0      18647.0       6541.0      7628.0   \n",
       "606625       79858      3034.0      18647.0       6541.0      7628.0   \n",
       "606626       79858      3034.0      18647.0       6541.0      7628.0   \n",
       "606627       79858      3034.0      18647.0       6541.0      7628.0   \n",
       "\n",
       "        Graduate  Foreign Born  Less than $10,000  $10,000 to $14,999  \\\n",
       "0        18690.0       11002.0               4068                3189   \n",
       "1        18690.0       11002.0               4068                3189   \n",
       "2        18690.0       11002.0               4068                3189   \n",
       "3        18690.0       11002.0               4068                3189   \n",
       "4        18690.0       11002.0               4068                3189   \n",
       "...          ...           ...                ...                 ...   \n",
       "606623    3593.0        1500.0               1528                 913   \n",
       "606624    3593.0        1500.0               1528                 913   \n",
       "606625    3593.0        1500.0               1528                 913   \n",
       "606626    3593.0        1500.0               1528                 913   \n",
       "606627    3593.0        1500.0               1528                 913   \n",
       "\n",
       "        $15,000 to $24,999  $25,000 to $34,999  $35,000 to $49,999  \\\n",
       "0                     7760                8552               13600   \n",
       "1                     7760                8552               13600   \n",
       "2                     7760                8552               13600   \n",
       "3                     7760                8552               13600   \n",
       "4                     7760                8552               13600   \n",
       "...                    ...                 ...                 ...   \n",
       "606623                3048                3383                3368   \n",
       "606624                3048                3383                3368   \n",
       "606625                3048                3383                3368   \n",
       "606626                3048                3383                3368   \n",
       "606627                3048                3383                3368   \n",
       "\n",
       "        $50,000 to $74,999  $75,000 to $99,999  $100,000 to $149,999  \\\n",
       "0                    11589               10969                 13141   \n",
       "1                    11589               10969                 13141   \n",
       "2                    11589               10969                 13141   \n",
       "3                    11589               10969                 13141   \n",
       "4                    11589               10969                 13141   \n",
       "...                    ...                 ...                   ...   \n",
       "606623                6777                5368                  5099   \n",
       "606624                6777                5368                  5099   \n",
       "606625                6777                5368                  5099   \n",
       "606626                6777                5368                  5099   \n",
       "606627                6777                5368                  5099   \n",
       "\n",
       "        $150,000 to $199,999  $200,000 or more  Below Poverty Level  \n",
       "0                       4064              5393                 10.1  \n",
       "1                       4064              5393                 10.1  \n",
       "2                       4064              5393                 10.1  \n",
       "3                       4064              5393                 10.1  \n",
       "4                       4064              5393                 10.1  \n",
       "...                      ...               ...                  ...  \n",
       "606623                  1930              1630                  8.6  \n",
       "606624                  1930              1630                  8.6  \n",
       "606625                  1930              1630                  8.6  \n",
       "606626                  1930              1630                  8.6  \n",
       "606627                  1930              1630                  8.6  \n",
       "\n",
       "[606628 rows x 24 columns]"
      ]
     },
     "execution_count": 12,
     "metadata": {},
     "output_type": "execute_result"
    }
   ],
   "source": [
    "social_covid=pd.merge(covid_data,social)\n",
    "complete_data=pd.merge(social_covid,economic)\n",
    "#Removing County Name because it is a duplicate column\n",
    "complete_data=complete_data.drop([\"County Name\"], axis=1)\n",
    "complete_data"
   ]
  },
  {
   "cell_type": "markdown",
   "id": "ca162c9a",
   "metadata": {},
   "source": [
    "As we can see, we have far fewer rows than before. This is because the inner join removed all of the \"Statewide unallocated\" rows that we did not want in the complete dataset anyway. The data from all three sources has now been merged into one large enrichment data source."
   ]
  },
  {
   "cell_type": "code",
   "execution_count": null,
   "id": "c466c9e4",
   "metadata": {},
   "outputs": [],
   "source": [
    "complete_data.to_csv('../../../../data/stage_1/ACS_Economic_Social_Merged.csv',index = False)"
   ]
  },
  {
   "cell_type": "markdown",
   "id": "28100f6c",
   "metadata": {},
   "source": [
    "We have saved the data as a CSV file."
   ]
  }
 ],
 "metadata": {
  "kernelspec": {
   "display_name": "Python 3 (ipykernel)",
   "language": "python",
   "name": "python3"
  },
  "language_info": {
   "codemirror_mode": {
    "name": "ipython",
    "version": 3
   },
   "file_extension": ".py",
   "mimetype": "text/x-python",
   "name": "python",
   "nbconvert_exporter": "python",
   "pygments_lexer": "ipython3",
   "version": "3.9.7"
  }
 },
 "nbformat": 4,
 "nbformat_minor": 5
}
