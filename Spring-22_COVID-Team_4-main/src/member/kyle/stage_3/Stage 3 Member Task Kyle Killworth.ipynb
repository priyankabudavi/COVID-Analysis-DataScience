{
 "cells": [
  {
   "cell_type": "code",
   "execution_count": 1,
   "id": "2b6d21cc",
   "metadata": {},
   "outputs": [],
   "source": [
    "import pandas as pd\n",
    "import numpy as np\n",
    "import time\n",
    "import plotly.express as px\n",
    "import os\n",
    "import matplotlib.pyplot as plt\n",
    "import seaborn as sns\n",
    "import scipy.stats as stats\n",
    "from IPython.display import Image\n",
    "import warnings\n",
    "warnings.filterwarnings('ignore')"
   ]
  },
  {
   "cell_type": "markdown",
   "id": "a8a9bff5",
   "metadata": {},
   "source": [
    "Like with Stage 2, I'm going to need state data on covid new cases. I'm simply re-running my code from Stage 2, so I won't be included any new markdown comments. "
   ]
  },
  {
   "cell_type": "code",
   "execution_count": 2,
   "id": "31296d5d",
   "metadata": {},
   "outputs": [
    {
     "data": {
      "text/html": [
       "<div>\n",
       "<style scoped>\n",
       "    .dataframe tbody tr th:only-of-type {\n",
       "        vertical-align: middle;\n",
       "    }\n",
       "\n",
       "    .dataframe tbody tr th {\n",
       "        vertical-align: top;\n",
       "    }\n",
       "\n",
       "    .dataframe thead th {\n",
       "        text-align: right;\n",
       "    }\n",
       "</style>\n",
       "<table border=\"1\" class=\"dataframe\">\n",
       "  <thead>\n",
       "    <tr style=\"text-align: right;\">\n",
       "      <th></th>\n",
       "      <th>countyFIPS</th>\n",
       "      <th>County_Name</th>\n",
       "      <th>State</th>\n",
       "      <th>Date</th>\n",
       "      <th>Confirmed</th>\n",
       "      <th>Deaths</th>\n",
       "      <th>population</th>\n",
       "    </tr>\n",
       "  </thead>\n",
       "  <tbody>\n",
       "    <tr>\n",
       "      <th>748</th>\n",
       "      <td>1001</td>\n",
       "      <td>autauga county</td>\n",
       "      <td>AL</td>\n",
       "      <td>2020-01-22</td>\n",
       "      <td>0</td>\n",
       "      <td>0</td>\n",
       "      <td>55869</td>\n",
       "    </tr>\n",
       "    <tr>\n",
       "      <th>749</th>\n",
       "      <td>1001</td>\n",
       "      <td>autauga county</td>\n",
       "      <td>AL</td>\n",
       "      <td>2020-01-23</td>\n",
       "      <td>0</td>\n",
       "      <td>0</td>\n",
       "      <td>55869</td>\n",
       "    </tr>\n",
       "    <tr>\n",
       "      <th>750</th>\n",
       "      <td>1001</td>\n",
       "      <td>autauga county</td>\n",
       "      <td>AL</td>\n",
       "      <td>2020-01-24</td>\n",
       "      <td>0</td>\n",
       "      <td>0</td>\n",
       "      <td>55869</td>\n",
       "    </tr>\n",
       "    <tr>\n",
       "      <th>751</th>\n",
       "      <td>1001</td>\n",
       "      <td>autauga county</td>\n",
       "      <td>AL</td>\n",
       "      <td>2020-01-25</td>\n",
       "      <td>0</td>\n",
       "      <td>0</td>\n",
       "      <td>55869</td>\n",
       "    </tr>\n",
       "    <tr>\n",
       "      <th>752</th>\n",
       "      <td>1001</td>\n",
       "      <td>autauga county</td>\n",
       "      <td>AL</td>\n",
       "      <td>2020-01-26</td>\n",
       "      <td>0</td>\n",
       "      <td>0</td>\n",
       "      <td>55869</td>\n",
       "    </tr>\n",
       "    <tr>\n",
       "      <th>...</th>\n",
       "      <td>...</td>\n",
       "      <td>...</td>\n",
       "      <td>...</td>\n",
       "      <td>...</td>\n",
       "      <td>...</td>\n",
       "      <td>...</td>\n",
       "      <td>...</td>\n",
       "    </tr>\n",
       "    <tr>\n",
       "      <th>2346471</th>\n",
       "      <td>56045</td>\n",
       "      <td>weston county</td>\n",
       "      <td>WY</td>\n",
       "      <td>2022-02-03</td>\n",
       "      <td>1491</td>\n",
       "      <td>17</td>\n",
       "      <td>6927</td>\n",
       "    </tr>\n",
       "    <tr>\n",
       "      <th>2346472</th>\n",
       "      <td>56045</td>\n",
       "      <td>weston county</td>\n",
       "      <td>WY</td>\n",
       "      <td>2022-02-04</td>\n",
       "      <td>1496</td>\n",
       "      <td>17</td>\n",
       "      <td>6927</td>\n",
       "    </tr>\n",
       "    <tr>\n",
       "      <th>2346473</th>\n",
       "      <td>56045</td>\n",
       "      <td>weston county</td>\n",
       "      <td>WY</td>\n",
       "      <td>2022-02-05</td>\n",
       "      <td>1496</td>\n",
       "      <td>17</td>\n",
       "      <td>6927</td>\n",
       "    </tr>\n",
       "    <tr>\n",
       "      <th>2346474</th>\n",
       "      <td>56045</td>\n",
       "      <td>weston county</td>\n",
       "      <td>WY</td>\n",
       "      <td>2022-02-06</td>\n",
       "      <td>1496</td>\n",
       "      <td>17</td>\n",
       "      <td>6927</td>\n",
       "    </tr>\n",
       "    <tr>\n",
       "      <th>2346475</th>\n",
       "      <td>56045</td>\n",
       "      <td>weston county</td>\n",
       "      <td>WY</td>\n",
       "      <td>2022-02-07</td>\n",
       "      <td>1508</td>\n",
       "      <td>17</td>\n",
       "      <td>6927</td>\n",
       "    </tr>\n",
       "  </tbody>\n",
       "</table>\n",
       "<p>2309076 rows × 7 columns</p>\n",
       "</div>"
      ],
      "text/plain": [
       "         countyFIPS     County_Name State       Date  Confirmed  Deaths  \\\n",
       "748            1001  autauga county    AL 2020-01-22          0       0   \n",
       "749            1001  autauga county    AL 2020-01-23          0       0   \n",
       "750            1001  autauga county    AL 2020-01-24          0       0   \n",
       "751            1001  autauga county    AL 2020-01-25          0       0   \n",
       "752            1001  autauga county    AL 2020-01-26          0       0   \n",
       "...             ...             ...   ...        ...        ...     ...   \n",
       "2346471       56045   weston county    WY 2022-02-03       1491      17   \n",
       "2346472       56045   weston county    WY 2022-02-04       1496      17   \n",
       "2346473       56045   weston county    WY 2022-02-05       1496      17   \n",
       "2346474       56045   weston county    WY 2022-02-06       1496      17   \n",
       "2346475       56045   weston county    WY 2022-02-07       1508      17   \n",
       "\n",
       "         population  \n",
       "748           55869  \n",
       "749           55869  \n",
       "750           55869  \n",
       "751           55869  \n",
       "752           55869  \n",
       "...             ...  \n",
       "2346471        6927  \n",
       "2346472        6927  \n",
       "2346473        6927  \n",
       "2346474        6927  \n",
       "2346475        6927  \n",
       "\n",
       "[2309076 rows x 7 columns]"
      ]
     },
     "execution_count": 2,
     "metadata": {},
     "output_type": "execute_result"
    }
   ],
   "source": [
    "data=pd.read_csv(\"../../../../data/stage_1/superdataset.csv\")\n",
    "\n",
    "#Removing statewide unallocated\n",
    "data = data[data.County_Name != 'statewide unallocated']\n",
    "\n",
    "#Ensuring data is datetime\n",
    "data['Date']=pd.to_datetime(data['Date'])\n",
    "data"
   ]
  },
  {
   "cell_type": "code",
   "execution_count": 3,
   "id": "c464d840",
   "metadata": {},
   "outputs": [
    {
     "data": {
      "text/html": [
       "<div>\n",
       "<style scoped>\n",
       "    .dataframe tbody tr th:only-of-type {\n",
       "        vertical-align: middle;\n",
       "    }\n",
       "\n",
       "    .dataframe tbody tr th {\n",
       "        vertical-align: top;\n",
       "    }\n",
       "\n",
       "    .dataframe thead th {\n",
       "        text-align: right;\n",
       "    }\n",
       "</style>\n",
       "<table border=\"1\" class=\"dataframe\">\n",
       "  <thead>\n",
       "    <tr style=\"text-align: right;\">\n",
       "      <th></th>\n",
       "      <th>Confirmed</th>\n",
       "      <th>Deaths</th>\n",
       "    </tr>\n",
       "    <tr>\n",
       "      <th>Date</th>\n",
       "      <th></th>\n",
       "      <th></th>\n",
       "    </tr>\n",
       "  </thead>\n",
       "  <tbody>\n",
       "    <tr>\n",
       "      <th>2020-01-22</th>\n",
       "      <td>0</td>\n",
       "      <td>0</td>\n",
       "    </tr>\n",
       "    <tr>\n",
       "      <th>2020-01-23</th>\n",
       "      <td>0</td>\n",
       "      <td>0</td>\n",
       "    </tr>\n",
       "    <tr>\n",
       "      <th>2020-01-24</th>\n",
       "      <td>0</td>\n",
       "      <td>0</td>\n",
       "    </tr>\n",
       "    <tr>\n",
       "      <th>2020-01-25</th>\n",
       "      <td>0</td>\n",
       "      <td>0</td>\n",
       "    </tr>\n",
       "    <tr>\n",
       "      <th>2020-01-26</th>\n",
       "      <td>0</td>\n",
       "      <td>0</td>\n",
       "    </tr>\n",
       "    <tr>\n",
       "      <th>...</th>\n",
       "      <td>...</td>\n",
       "      <td>...</td>\n",
       "    </tr>\n",
       "    <tr>\n",
       "      <th>2022-02-03</th>\n",
       "      <td>1646804</td>\n",
       "      <td>21666</td>\n",
       "    </tr>\n",
       "    <tr>\n",
       "      <th>2022-02-04</th>\n",
       "      <td>1651124</td>\n",
       "      <td>21712</td>\n",
       "    </tr>\n",
       "    <tr>\n",
       "      <th>2022-02-05</th>\n",
       "      <td>1651124</td>\n",
       "      <td>21712</td>\n",
       "    </tr>\n",
       "    <tr>\n",
       "      <th>2022-02-06</th>\n",
       "      <td>1651124</td>\n",
       "      <td>21712</td>\n",
       "    </tr>\n",
       "    <tr>\n",
       "      <th>2022-02-07</th>\n",
       "      <td>1656178</td>\n",
       "      <td>21812</td>\n",
       "    </tr>\n",
       "  </tbody>\n",
       "</table>\n",
       "<p>748 rows × 2 columns</p>\n",
       "</div>"
      ],
      "text/plain": [
       "            Confirmed  Deaths\n",
       "Date                         \n",
       "2020-01-22          0       0\n",
       "2020-01-23          0       0\n",
       "2020-01-24          0       0\n",
       "2020-01-25          0       0\n",
       "2020-01-26          0       0\n",
       "...               ...     ...\n",
       "2022-02-03    1646804   21666\n",
       "2022-02-04    1651124   21712\n",
       "2022-02-05    1651124   21712\n",
       "2022-02-06    1651124   21712\n",
       "2022-02-07    1656178   21812\n",
       "\n",
       "[748 rows x 2 columns]"
      ]
     },
     "execution_count": 3,
     "metadata": {},
     "output_type": "execute_result"
    }
   ],
   "source": [
    "indiana_covid = data[data[\"State\"].isin([\"IN\"])].reset_index(drop=True)\n",
    "indiana_covid_agg=indiana_covid.drop(columns=['countyFIPS','County_Name','State','population'])\n",
    "indiana_covid_agg=indiana_covid_agg.groupby('Date').agg('sum')\n",
    "indiana_covid_agg"
   ]
  },
  {
   "cell_type": "code",
   "execution_count": 4,
   "id": "78871bab",
   "metadata": {},
   "outputs": [
    {
     "data": {
      "text/plain": [
       "6732219"
      ]
     },
     "execution_count": 4,
     "metadata": {},
     "output_type": "execute_result"
    }
   ],
   "source": [
    "#Summing unique population values in Indiana\n",
    "indiana_pop=indiana_covid.population.drop_duplicates().sum()\n",
    "indiana_pop"
   ]
  },
  {
   "cell_type": "code",
   "execution_count": 5,
   "id": "fcef449a",
   "metadata": {},
   "outputs": [
    {
     "data": {
      "text/html": [
       "<div>\n",
       "<style scoped>\n",
       "    .dataframe tbody tr th:only-of-type {\n",
       "        vertical-align: middle;\n",
       "    }\n",
       "\n",
       "    .dataframe tbody tr th {\n",
       "        vertical-align: top;\n",
       "    }\n",
       "\n",
       "    .dataframe thead th {\n",
       "        text-align: right;\n",
       "    }\n",
       "</style>\n",
       "<table border=\"1\" class=\"dataframe\">\n",
       "  <thead>\n",
       "    <tr style=\"text-align: right;\">\n",
       "      <th></th>\n",
       "      <th>New_Confirmed</th>\n",
       "      <th>New_Deaths</th>\n",
       "    </tr>\n",
       "    <tr>\n",
       "      <th>Date</th>\n",
       "      <th></th>\n",
       "      <th></th>\n",
       "    </tr>\n",
       "  </thead>\n",
       "  <tbody>\n",
       "    <tr>\n",
       "      <th>2020-01-22</th>\n",
       "      <td>NaN</td>\n",
       "      <td>NaN</td>\n",
       "    </tr>\n",
       "    <tr>\n",
       "      <th>2020-01-23</th>\n",
       "      <td>0.0</td>\n",
       "      <td>0.0</td>\n",
       "    </tr>\n",
       "    <tr>\n",
       "      <th>2020-01-24</th>\n",
       "      <td>0.0</td>\n",
       "      <td>0.0</td>\n",
       "    </tr>\n",
       "    <tr>\n",
       "      <th>2020-01-25</th>\n",
       "      <td>0.0</td>\n",
       "      <td>0.0</td>\n",
       "    </tr>\n",
       "    <tr>\n",
       "      <th>2020-01-26</th>\n",
       "      <td>0.0</td>\n",
       "      <td>0.0</td>\n",
       "    </tr>\n",
       "    <tr>\n",
       "      <th>...</th>\n",
       "      <td>...</td>\n",
       "      <td>...</td>\n",
       "    </tr>\n",
       "    <tr>\n",
       "      <th>2022-02-03</th>\n",
       "      <td>6626.0</td>\n",
       "      <td>68.0</td>\n",
       "    </tr>\n",
       "    <tr>\n",
       "      <th>2022-02-04</th>\n",
       "      <td>4320.0</td>\n",
       "      <td>46.0</td>\n",
       "    </tr>\n",
       "    <tr>\n",
       "      <th>2022-02-05</th>\n",
       "      <td>0.0</td>\n",
       "      <td>0.0</td>\n",
       "    </tr>\n",
       "    <tr>\n",
       "      <th>2022-02-06</th>\n",
       "      <td>0.0</td>\n",
       "      <td>0.0</td>\n",
       "    </tr>\n",
       "    <tr>\n",
       "      <th>2022-02-07</th>\n",
       "      <td>5054.0</td>\n",
       "      <td>100.0</td>\n",
       "    </tr>\n",
       "  </tbody>\n",
       "</table>\n",
       "<p>748 rows × 2 columns</p>\n",
       "</div>"
      ],
      "text/plain": [
       "            New_Confirmed  New_Deaths\n",
       "Date                                 \n",
       "2020-01-22            NaN         NaN\n",
       "2020-01-23            0.0         0.0\n",
       "2020-01-24            0.0         0.0\n",
       "2020-01-25            0.0         0.0\n",
       "2020-01-26            0.0         0.0\n",
       "...                   ...         ...\n",
       "2022-02-03         6626.0        68.0\n",
       "2022-02-04         4320.0        46.0\n",
       "2022-02-05            0.0         0.0\n",
       "2022-02-06            0.0         0.0\n",
       "2022-02-07         5054.0       100.0\n",
       "\n",
       "[748 rows x 2 columns]"
      ]
     },
     "execution_count": 5,
     "metadata": {},
     "output_type": "execute_result"
    }
   ],
   "source": [
    "#New Cases\n",
    "indiana_covid_agg['New_Confirmed']=indiana_covid_agg['Confirmed'].diff()\n",
    "\n",
    "#New Deaths\n",
    "indiana_covid_agg['New_Deaths']=indiana_covid_agg['Deaths'].diff()\n",
    "\n",
    "#Removing Unneeded columns\n",
    "indiana_covid_agg=indiana_covid_agg.drop(columns=[\"Confirmed\",'Deaths'])\n",
    "indiana_covid_agg"
   ]
  },
  {
   "cell_type": "code",
   "execution_count": 6,
   "id": "3a1c7cbf",
   "metadata": {},
   "outputs": [
    {
     "data": {
      "text/html": [
       "<div>\n",
       "<style scoped>\n",
       "    .dataframe tbody tr th:only-of-type {\n",
       "        vertical-align: middle;\n",
       "    }\n",
       "\n",
       "    .dataframe tbody tr th {\n",
       "        vertical-align: top;\n",
       "    }\n",
       "\n",
       "    .dataframe thead th {\n",
       "        text-align: right;\n",
       "    }\n",
       "</style>\n",
       "<table border=\"1\" class=\"dataframe\">\n",
       "  <thead>\n",
       "    <tr style=\"text-align: right;\">\n",
       "      <th></th>\n",
       "      <th>New_Confirmed</th>\n",
       "      <th>New_Deaths</th>\n",
       "    </tr>\n",
       "    <tr>\n",
       "      <th>Date</th>\n",
       "      <th></th>\n",
       "      <th></th>\n",
       "    </tr>\n",
       "  </thead>\n",
       "  <tbody>\n",
       "    <tr>\n",
       "      <th>2020-01-26</th>\n",
       "      <td>0.0</td>\n",
       "      <td>0.0</td>\n",
       "    </tr>\n",
       "    <tr>\n",
       "      <th>2020-01-27</th>\n",
       "      <td>0.0</td>\n",
       "      <td>0.0</td>\n",
       "    </tr>\n",
       "    <tr>\n",
       "      <th>2020-01-28</th>\n",
       "      <td>0.0</td>\n",
       "      <td>0.0</td>\n",
       "    </tr>\n",
       "    <tr>\n",
       "      <th>2020-01-29</th>\n",
       "      <td>0.0</td>\n",
       "      <td>0.0</td>\n",
       "    </tr>\n",
       "    <tr>\n",
       "      <th>2020-01-30</th>\n",
       "      <td>0.0</td>\n",
       "      <td>0.0</td>\n",
       "    </tr>\n",
       "    <tr>\n",
       "      <th>...</th>\n",
       "      <td>...</td>\n",
       "      <td>...</td>\n",
       "    </tr>\n",
       "    <tr>\n",
       "      <th>2022-02-03</th>\n",
       "      <td>6626.0</td>\n",
       "      <td>68.0</td>\n",
       "    </tr>\n",
       "    <tr>\n",
       "      <th>2022-02-04</th>\n",
       "      <td>4320.0</td>\n",
       "      <td>46.0</td>\n",
       "    </tr>\n",
       "    <tr>\n",
       "      <th>2022-02-05</th>\n",
       "      <td>0.0</td>\n",
       "      <td>0.0</td>\n",
       "    </tr>\n",
       "    <tr>\n",
       "      <th>2022-02-06</th>\n",
       "      <td>0.0</td>\n",
       "      <td>0.0</td>\n",
       "    </tr>\n",
       "    <tr>\n",
       "      <th>2022-02-07</th>\n",
       "      <td>5054.0</td>\n",
       "      <td>100.0</td>\n",
       "    </tr>\n",
       "  </tbody>\n",
       "</table>\n",
       "<p>744 rows × 2 columns</p>\n",
       "</div>"
      ],
      "text/plain": [
       "            New_Confirmed  New_Deaths\n",
       "Date                                 \n",
       "2020-01-26            0.0         0.0\n",
       "2020-01-27            0.0         0.0\n",
       "2020-01-28            0.0         0.0\n",
       "2020-01-29            0.0         0.0\n",
       "2020-01-30            0.0         0.0\n",
       "...                   ...         ...\n",
       "2022-02-03         6626.0        68.0\n",
       "2022-02-04         4320.0        46.0\n",
       "2022-02-05            0.0         0.0\n",
       "2022-02-06            0.0         0.0\n",
       "2022-02-07         5054.0       100.0\n",
       "\n",
       "[744 rows x 2 columns]"
      ]
     },
     "execution_count": 6,
     "metadata": {},
     "output_type": "execute_result"
    }
   ],
   "source": [
    "indiana_covid_agg = indiana_covid_agg.drop(['2020-01-22','2020-01-23','2020-01-24','2020-01-25'])\n",
    "indiana_covid_agg"
   ]
  },
  {
   "cell_type": "code",
   "execution_count": 7,
   "id": "c089a3fb",
   "metadata": {},
   "outputs": [
    {
     "data": {
      "text/html": [
       "<div>\n",
       "<style scoped>\n",
       "    .dataframe tbody tr th:only-of-type {\n",
       "        vertical-align: middle;\n",
       "    }\n",
       "\n",
       "    .dataframe tbody tr th {\n",
       "        vertical-align: top;\n",
       "    }\n",
       "\n",
       "    .dataframe thead th {\n",
       "        text-align: right;\n",
       "    }\n",
       "</style>\n",
       "<table border=\"1\" class=\"dataframe\">\n",
       "  <thead>\n",
       "    <tr style=\"text-align: right;\">\n",
       "      <th></th>\n",
       "      <th>New_Confirmed</th>\n",
       "      <th>New_Deaths</th>\n",
       "    </tr>\n",
       "    <tr>\n",
       "      <th>Date</th>\n",
       "      <th></th>\n",
       "      <th></th>\n",
       "    </tr>\n",
       "  </thead>\n",
       "  <tbody>\n",
       "    <tr>\n",
       "      <th>2020-01-26</th>\n",
       "      <td>0.0</td>\n",
       "      <td>0.0</td>\n",
       "    </tr>\n",
       "    <tr>\n",
       "      <th>2020-02-02</th>\n",
       "      <td>0.0</td>\n",
       "      <td>0.0</td>\n",
       "    </tr>\n",
       "    <tr>\n",
       "      <th>2020-02-09</th>\n",
       "      <td>0.0</td>\n",
       "      <td>0.0</td>\n",
       "    </tr>\n",
       "    <tr>\n",
       "      <th>2020-02-16</th>\n",
       "      <td>0.0</td>\n",
       "      <td>0.0</td>\n",
       "    </tr>\n",
       "    <tr>\n",
       "      <th>2020-02-23</th>\n",
       "      <td>0.0</td>\n",
       "      <td>0.0</td>\n",
       "    </tr>\n",
       "    <tr>\n",
       "      <th>...</th>\n",
       "      <td>...</td>\n",
       "      <td>...</td>\n",
       "    </tr>\n",
       "    <tr>\n",
       "      <th>2022-01-09</th>\n",
       "      <td>13791.0</td>\n",
       "      <td>87.0</td>\n",
       "    </tr>\n",
       "    <tr>\n",
       "      <th>2022-01-16</th>\n",
       "      <td>14098.0</td>\n",
       "      <td>75.0</td>\n",
       "    </tr>\n",
       "    <tr>\n",
       "      <th>2022-01-23</th>\n",
       "      <td>11369.0</td>\n",
       "      <td>79.0</td>\n",
       "    </tr>\n",
       "    <tr>\n",
       "      <th>2022-01-30</th>\n",
       "      <td>6129.0</td>\n",
       "      <td>59.0</td>\n",
       "    </tr>\n",
       "    <tr>\n",
       "      <th>2022-02-06</th>\n",
       "      <td>2527.0</td>\n",
       "      <td>50.0</td>\n",
       "    </tr>\n",
       "  </tbody>\n",
       "</table>\n",
       "<p>107 rows × 2 columns</p>\n",
       "</div>"
      ],
      "text/plain": [
       "            New_Confirmed  New_Deaths\n",
       "Date                                 \n",
       "2020-01-26            0.0         0.0\n",
       "2020-02-02            0.0         0.0\n",
       "2020-02-09            0.0         0.0\n",
       "2020-02-16            0.0         0.0\n",
       "2020-02-23            0.0         0.0\n",
       "...                   ...         ...\n",
       "2022-01-09        13791.0        87.0\n",
       "2022-01-16        14098.0        75.0\n",
       "2022-01-23        11369.0        79.0\n",
       "2022-01-30         6129.0        59.0\n",
       "2022-02-06         2527.0        50.0\n",
       "\n",
       "[107 rows x 2 columns]"
      ]
     },
     "execution_count": 7,
     "metadata": {},
     "output_type": "execute_result"
    }
   ],
   "source": [
    "indiana_weekly_avg = indiana_covid_agg\n",
    "indiana_weekly_avg.reset_index(inplace=True)\n",
    "\n",
    "#Using resample to aggregate daily to weekly\n",
    "indiana_weekly_avg = indiana_weekly_avg.resample('W-Sun',on='Date',label='left',closed='left').mean()\n",
    "\n",
    "#Rounding to nearest integer, per instructions\n",
    "indiana_weekly_avg.New_Confirmed = indiana_weekly_avg.New_Confirmed.round()\n",
    "indiana_weekly_avg.New_Deaths = indiana_weekly_avg.New_Deaths.round()\n",
    "indiana_weekly_avg"
   ]
  },
  {
   "cell_type": "code",
   "execution_count": 8,
   "id": "aec3dd8d",
   "metadata": {},
   "outputs": [
    {
     "data": {
      "text/html": [
       "<div>\n",
       "<style scoped>\n",
       "    .dataframe tbody tr th:only-of-type {\n",
       "        vertical-align: middle;\n",
       "    }\n",
       "\n",
       "    .dataframe tbody tr th {\n",
       "        vertical-align: top;\n",
       "    }\n",
       "\n",
       "    .dataframe thead th {\n",
       "        text-align: right;\n",
       "    }\n",
       "</style>\n",
       "<table border=\"1\" class=\"dataframe\">\n",
       "  <thead>\n",
       "    <tr style=\"text-align: right;\">\n",
       "      <th></th>\n",
       "      <th>New_Confirmed</th>\n",
       "      <th>New_Deaths</th>\n",
       "    </tr>\n",
       "  </thead>\n",
       "  <tbody>\n",
       "    <tr>\n",
       "      <th>count</th>\n",
       "      <td>107.000000</td>\n",
       "      <td>107.000000</td>\n",
       "    </tr>\n",
       "    <tr>\n",
       "      <th>mean</th>\n",
       "      <td>2228.056075</td>\n",
       "      <td>29.495327</td>\n",
       "    </tr>\n",
       "    <tr>\n",
       "      <th>std</th>\n",
       "      <td>2746.507531</td>\n",
       "      <td>32.089019</td>\n",
       "    </tr>\n",
       "    <tr>\n",
       "      <th>min</th>\n",
       "      <td>0.000000</td>\n",
       "      <td>0.000000</td>\n",
       "    </tr>\n",
       "    <tr>\n",
       "      <th>25%</th>\n",
       "      <td>518.500000</td>\n",
       "      <td>10.000000</td>\n",
       "    </tr>\n",
       "    <tr>\n",
       "      <th>50%</th>\n",
       "      <td>1001.000000</td>\n",
       "      <td>20.000000</td>\n",
       "    </tr>\n",
       "    <tr>\n",
       "      <th>75%</th>\n",
       "      <td>2878.000000</td>\n",
       "      <td>42.000000</td>\n",
       "    </tr>\n",
       "    <tr>\n",
       "      <th>max</th>\n",
       "      <td>14098.000000</td>\n",
       "      <td>255.000000</td>\n",
       "    </tr>\n",
       "  </tbody>\n",
       "</table>\n",
       "</div>"
      ],
      "text/plain": [
       "       New_Confirmed  New_Deaths\n",
       "count     107.000000  107.000000\n",
       "mean     2228.056075   29.495327\n",
       "std      2746.507531   32.089019\n",
       "min         0.000000    0.000000\n",
       "25%       518.500000   10.000000\n",
       "50%      1001.000000   20.000000\n",
       "75%      2878.000000   42.000000\n",
       "max     14098.000000  255.000000"
      ]
     },
     "execution_count": 8,
     "metadata": {},
     "output_type": "execute_result"
    }
   ],
   "source": [
    "indiana_weekly_avg.describe()"
   ]
  },
  {
   "cell_type": "code",
   "execution_count": 9,
   "id": "d3ee8fe4",
   "metadata": {},
   "outputs": [
    {
     "data": {
      "text/html": [
       "<div>\n",
       "<style scoped>\n",
       "    .dataframe tbody tr th:only-of-type {\n",
       "        vertical-align: middle;\n",
       "    }\n",
       "\n",
       "    .dataframe tbody tr th {\n",
       "        vertical-align: top;\n",
       "    }\n",
       "\n",
       "    .dataframe thead th {\n",
       "        text-align: right;\n",
       "    }\n",
       "</style>\n",
       "<table border=\"1\" class=\"dataframe\">\n",
       "  <thead>\n",
       "    <tr style=\"text-align: right;\">\n",
       "      <th></th>\n",
       "      <th>New_Confirmed</th>\n",
       "      <th>New_Deaths</th>\n",
       "      <th>New_Confirmed_per_100000</th>\n",
       "      <th>New_Deaths_per_100000</th>\n",
       "      <th>lognormal_Confirmed</th>\n",
       "      <th>lognormal_Deaths</th>\n",
       "    </tr>\n",
       "    <tr>\n",
       "      <th>Date</th>\n",
       "      <th></th>\n",
       "      <th></th>\n",
       "      <th></th>\n",
       "      <th></th>\n",
       "      <th></th>\n",
       "      <th></th>\n",
       "    </tr>\n",
       "  </thead>\n",
       "  <tbody>\n",
       "    <tr>\n",
       "      <th>2020-01-26</th>\n",
       "      <td>0.0</td>\n",
       "      <td>0.0</td>\n",
       "      <td>0.100000</td>\n",
       "      <td>0.100000</td>\n",
       "      <td>-1.000000</td>\n",
       "      <td>-1.000000</td>\n",
       "    </tr>\n",
       "    <tr>\n",
       "      <th>2020-02-02</th>\n",
       "      <td>0.0</td>\n",
       "      <td>0.0</td>\n",
       "      <td>0.100000</td>\n",
       "      <td>0.100000</td>\n",
       "      <td>-1.000000</td>\n",
       "      <td>-1.000000</td>\n",
       "    </tr>\n",
       "    <tr>\n",
       "      <th>2020-02-09</th>\n",
       "      <td>0.0</td>\n",
       "      <td>0.0</td>\n",
       "      <td>0.100000</td>\n",
       "      <td>0.100000</td>\n",
       "      <td>-1.000000</td>\n",
       "      <td>-1.000000</td>\n",
       "    </tr>\n",
       "    <tr>\n",
       "      <th>2020-02-16</th>\n",
       "      <td>0.0</td>\n",
       "      <td>0.0</td>\n",
       "      <td>0.100000</td>\n",
       "      <td>0.100000</td>\n",
       "      <td>-1.000000</td>\n",
       "      <td>-1.000000</td>\n",
       "    </tr>\n",
       "    <tr>\n",
       "      <th>2020-02-23</th>\n",
       "      <td>0.0</td>\n",
       "      <td>0.0</td>\n",
       "      <td>0.100000</td>\n",
       "      <td>0.100000</td>\n",
       "      <td>-1.000000</td>\n",
       "      <td>-1.000000</td>\n",
       "    </tr>\n",
       "    <tr>\n",
       "      <th>...</th>\n",
       "      <td>...</td>\n",
       "      <td>...</td>\n",
       "      <td>...</td>\n",
       "      <td>...</td>\n",
       "      <td>...</td>\n",
       "      <td>...</td>\n",
       "    </tr>\n",
       "    <tr>\n",
       "      <th>2022-01-09</th>\n",
       "      <td>13791.0</td>\n",
       "      <td>87.0</td>\n",
       "      <td>204.850733</td>\n",
       "      <td>1.292293</td>\n",
       "      <td>2.311438</td>\n",
       "      <td>0.111361</td>\n",
       "    </tr>\n",
       "    <tr>\n",
       "      <th>2022-01-16</th>\n",
       "      <td>14098.0</td>\n",
       "      <td>75.0</td>\n",
       "      <td>209.410894</td>\n",
       "      <td>1.114046</td>\n",
       "      <td>2.320999</td>\n",
       "      <td>0.046903</td>\n",
       "    </tr>\n",
       "    <tr>\n",
       "      <th>2022-01-23</th>\n",
       "      <td>11369.0</td>\n",
       "      <td>79.0</td>\n",
       "      <td>168.874483</td>\n",
       "      <td>1.173462</td>\n",
       "      <td>2.227564</td>\n",
       "      <td>0.069469</td>\n",
       "    </tr>\n",
       "    <tr>\n",
       "      <th>2022-01-30</th>\n",
       "      <td>6129.0</td>\n",
       "      <td>59.0</td>\n",
       "      <td>91.039819</td>\n",
       "      <td>0.876383</td>\n",
       "      <td>1.959231</td>\n",
       "      <td>-0.057306</td>\n",
       "    </tr>\n",
       "    <tr>\n",
       "      <th>2022-02-06</th>\n",
       "      <td>2527.0</td>\n",
       "      <td>50.0</td>\n",
       "      <td>37.535915</td>\n",
       "      <td>0.742697</td>\n",
       "      <td>1.574447</td>\n",
       "      <td>-0.129188</td>\n",
       "    </tr>\n",
       "  </tbody>\n",
       "</table>\n",
       "<p>107 rows × 6 columns</p>\n",
       "</div>"
      ],
      "text/plain": [
       "            New_Confirmed  New_Deaths  New_Confirmed_per_100000  \\\n",
       "Date                                                              \n",
       "2020-01-26            0.0         0.0                  0.100000   \n",
       "2020-02-02            0.0         0.0                  0.100000   \n",
       "2020-02-09            0.0         0.0                  0.100000   \n",
       "2020-02-16            0.0         0.0                  0.100000   \n",
       "2020-02-23            0.0         0.0                  0.100000   \n",
       "...                   ...         ...                       ...   \n",
       "2022-01-09        13791.0        87.0                204.850733   \n",
       "2022-01-16        14098.0        75.0                209.410894   \n",
       "2022-01-23        11369.0        79.0                168.874483   \n",
       "2022-01-30         6129.0        59.0                 91.039819   \n",
       "2022-02-06         2527.0        50.0                 37.535915   \n",
       "\n",
       "            New_Deaths_per_100000  lognormal_Confirmed  lognormal_Deaths  \n",
       "Date                                                                      \n",
       "2020-01-26               0.100000            -1.000000         -1.000000  \n",
       "2020-02-02               0.100000            -1.000000         -1.000000  \n",
       "2020-02-09               0.100000            -1.000000         -1.000000  \n",
       "2020-02-16               0.100000            -1.000000         -1.000000  \n",
       "2020-02-23               0.100000            -1.000000         -1.000000  \n",
       "...                           ...                  ...               ...  \n",
       "2022-01-09               1.292293             2.311438          0.111361  \n",
       "2022-01-16               1.114046             2.320999          0.046903  \n",
       "2022-01-23               1.173462             2.227564          0.069469  \n",
       "2022-01-30               0.876383             1.959231         -0.057306  \n",
       "2022-02-06               0.742697             1.574447         -0.129188  \n",
       "\n",
       "[107 rows x 6 columns]"
      ]
     },
     "execution_count": 9,
     "metadata": {},
     "output_type": "execute_result"
    }
   ],
   "source": [
    "indiana_weekly_avg['New_Confirmed_per_100000'] = indiana_weekly_avg.New_Confirmed/indiana_pop *100000\n",
    "indiana_weekly_avg['New_Deaths_per_100000'] = indiana_weekly_avg.New_Deaths/indiana_pop *100000\n",
    "x=len(indiana_weekly_avg.New_Confirmed_per_100000)\n",
    "\n",
    "#Since log values of 0 will be negative infinity, transforming 0.000000 to 0.100000\n",
    "for i in range(x):\n",
    "    if indiana_weekly_avg.New_Confirmed_per_100000[i]==0.000000:\n",
    "        indiana_weekly_avg.New_Confirmed_per_100000[i] =0.100000\n",
    "    if indiana_weekly_avg.New_Deaths_per_100000[i]==0.000000:\n",
    "        indiana_weekly_avg.New_Deaths_per_100000[i] =0.100000\n",
    "        \n",
    "#log normalized values (base 10 log)\n",
    "indiana_weekly_avg['lognormal_Confirmed'] = np.log10(indiana_weekly_avg.New_Confirmed_per_100000)\n",
    "indiana_weekly_avg['lognormal_Deaths'] = np.log10(indiana_weekly_avg.New_Deaths_per_100000)\n",
    "indiana_weekly_avg"
   ]
  },
  {
   "cell_type": "markdown",
   "id": "72532264",
   "metadata": {},
   "source": [
    "Ohio:"
   ]
  },
  {
   "cell_type": "code",
   "execution_count": 10,
   "id": "14e1b885",
   "metadata": {},
   "outputs": [
    {
     "data": {
      "text/html": [
       "<div>\n",
       "<style scoped>\n",
       "    .dataframe tbody tr th:only-of-type {\n",
       "        vertical-align: middle;\n",
       "    }\n",
       "\n",
       "    .dataframe tbody tr th {\n",
       "        vertical-align: top;\n",
       "    }\n",
       "\n",
       "    .dataframe thead th {\n",
       "        text-align: right;\n",
       "    }\n",
       "</style>\n",
       "<table border=\"1\" class=\"dataframe\">\n",
       "  <thead>\n",
       "    <tr style=\"text-align: right;\">\n",
       "      <th></th>\n",
       "      <th>New_Confirmed</th>\n",
       "      <th>New_Deaths</th>\n",
       "      <th>New_Confirmed_per_100000</th>\n",
       "      <th>New_Deaths_per_100000</th>\n",
       "      <th>lognormal_Confirmed</th>\n",
       "      <th>lognormal_Deaths</th>\n",
       "    </tr>\n",
       "    <tr>\n",
       "      <th>Date</th>\n",
       "      <th></th>\n",
       "      <th></th>\n",
       "      <th></th>\n",
       "      <th></th>\n",
       "      <th></th>\n",
       "      <th></th>\n",
       "    </tr>\n",
       "  </thead>\n",
       "  <tbody>\n",
       "    <tr>\n",
       "      <th>2020-01-26</th>\n",
       "      <td>0.0</td>\n",
       "      <td>0.0</td>\n",
       "      <td>0.100000</td>\n",
       "      <td>0.100000</td>\n",
       "      <td>-1.000000</td>\n",
       "      <td>-1.000000</td>\n",
       "    </tr>\n",
       "    <tr>\n",
       "      <th>2020-02-02</th>\n",
       "      <td>0.0</td>\n",
       "      <td>0.0</td>\n",
       "      <td>0.100000</td>\n",
       "      <td>0.100000</td>\n",
       "      <td>-1.000000</td>\n",
       "      <td>-1.000000</td>\n",
       "    </tr>\n",
       "    <tr>\n",
       "      <th>2020-02-09</th>\n",
       "      <td>0.0</td>\n",
       "      <td>0.0</td>\n",
       "      <td>0.100000</td>\n",
       "      <td>0.100000</td>\n",
       "      <td>-1.000000</td>\n",
       "      <td>-1.000000</td>\n",
       "    </tr>\n",
       "    <tr>\n",
       "      <th>2020-02-16</th>\n",
       "      <td>0.0</td>\n",
       "      <td>0.0</td>\n",
       "      <td>0.100000</td>\n",
       "      <td>0.100000</td>\n",
       "      <td>-1.000000</td>\n",
       "      <td>-1.000000</td>\n",
       "    </tr>\n",
       "    <tr>\n",
       "      <th>2020-02-23</th>\n",
       "      <td>0.0</td>\n",
       "      <td>0.0</td>\n",
       "      <td>0.100000</td>\n",
       "      <td>0.100000</td>\n",
       "      <td>-1.000000</td>\n",
       "      <td>-1.000000</td>\n",
       "    </tr>\n",
       "    <tr>\n",
       "      <th>...</th>\n",
       "      <td>...</td>\n",
       "      <td>...</td>\n",
       "      <td>...</td>\n",
       "      <td>...</td>\n",
       "      <td>...</td>\n",
       "      <td>...</td>\n",
       "    </tr>\n",
       "    <tr>\n",
       "      <th>2022-01-09</th>\n",
       "      <td>22266.0</td>\n",
       "      <td>121.0</td>\n",
       "      <td>190.485153</td>\n",
       "      <td>1.035152</td>\n",
       "      <td>2.279861</td>\n",
       "      <td>0.015004</td>\n",
       "    </tr>\n",
       "    <tr>\n",
       "      <th>2022-01-16</th>\n",
       "      <td>24696.0</td>\n",
       "      <td>152.0</td>\n",
       "      <td>211.273751</td>\n",
       "      <td>1.300357</td>\n",
       "      <td>2.324846</td>\n",
       "      <td>0.114063</td>\n",
       "    </tr>\n",
       "    <tr>\n",
       "      <th>2022-01-23</th>\n",
       "      <td>11692.0</td>\n",
       "      <td>155.0</td>\n",
       "      <td>100.024809</td>\n",
       "      <td>1.326022</td>\n",
       "      <td>2.000108</td>\n",
       "      <td>0.122551</td>\n",
       "    </tr>\n",
       "    <tr>\n",
       "      <th>2022-01-30</th>\n",
       "      <td>6119.0</td>\n",
       "      <td>164.0</td>\n",
       "      <td>52.347914</td>\n",
       "      <td>1.403016</td>\n",
       "      <td>1.718899</td>\n",
       "      <td>0.147063</td>\n",
       "    </tr>\n",
       "    <tr>\n",
       "      <th>2022-02-06</th>\n",
       "      <td>3737.0</td>\n",
       "      <td>0.0</td>\n",
       "      <td>31.969955</td>\n",
       "      <td>0.100000</td>\n",
       "      <td>1.504742</td>\n",
       "      <td>-1.000000</td>\n",
       "    </tr>\n",
       "  </tbody>\n",
       "</table>\n",
       "<p>107 rows × 6 columns</p>\n",
       "</div>"
      ],
      "text/plain": [
       "            New_Confirmed  New_Deaths  New_Confirmed_per_100000  \\\n",
       "Date                                                              \n",
       "2020-01-26            0.0         0.0                  0.100000   \n",
       "2020-02-02            0.0         0.0                  0.100000   \n",
       "2020-02-09            0.0         0.0                  0.100000   \n",
       "2020-02-16            0.0         0.0                  0.100000   \n",
       "2020-02-23            0.0         0.0                  0.100000   \n",
       "...                   ...         ...                       ...   \n",
       "2022-01-09        22266.0       121.0                190.485153   \n",
       "2022-01-16        24696.0       152.0                211.273751   \n",
       "2022-01-23        11692.0       155.0                100.024809   \n",
       "2022-01-30         6119.0       164.0                 52.347914   \n",
       "2022-02-06         3737.0         0.0                 31.969955   \n",
       "\n",
       "            New_Deaths_per_100000  lognormal_Confirmed  lognormal_Deaths  \n",
       "Date                                                                      \n",
       "2020-01-26               0.100000            -1.000000         -1.000000  \n",
       "2020-02-02               0.100000            -1.000000         -1.000000  \n",
       "2020-02-09               0.100000            -1.000000         -1.000000  \n",
       "2020-02-16               0.100000            -1.000000         -1.000000  \n",
       "2020-02-23               0.100000            -1.000000         -1.000000  \n",
       "...                           ...                  ...               ...  \n",
       "2022-01-09               1.035152             2.279861          0.015004  \n",
       "2022-01-16               1.300357             2.324846          0.114063  \n",
       "2022-01-23               1.326022             2.000108          0.122551  \n",
       "2022-01-30               1.403016             1.718899          0.147063  \n",
       "2022-02-06               0.100000             1.504742         -1.000000  \n",
       "\n",
       "[107 rows x 6 columns]"
      ]
     },
     "execution_count": 10,
     "metadata": {},
     "output_type": "execute_result"
    }
   ],
   "source": [
    "ohio_covid = data[data[\"State\"].isin([\"OH\"])].reset_index(drop=True)\n",
    "ohio_pop=ohio_covid.population.drop_duplicates().sum()\n",
    "ohio_covid_agg=ohio_covid.drop(columns=['countyFIPS','County_Name','State','population'])\n",
    "ohio_covid_agg=ohio_covid_agg.groupby('Date').agg('sum')\n",
    "\n",
    "#New Cases\n",
    "ohio_covid_agg['New_Confirmed']=ohio_covid_agg['Confirmed'].diff()\n",
    "\n",
    "#New Deaths\n",
    "ohio_covid_agg['New_Deaths']=ohio_covid_agg['Deaths'].diff()\n",
    "\n",
    "#Removing Unneeded columns\n",
    "ohio_covid_agg=ohio_covid_agg.drop(columns=[\"Confirmed\",'Deaths'])\n",
    "ohio_covid_agg = ohio_covid_agg.drop(['2020-01-22','2020-01-23','2020-01-24','2020-01-25'])\n",
    "ohio_weekly_avg = ohio_covid_agg\n",
    "ohio_weekly_avg.reset_index(inplace=True)\n",
    "\n",
    "#Resampling\n",
    "ohio_weekly_avg = ohio_weekly_avg.resample('W-Sun',on='Date',label='left',closed='left').mean()\n",
    "\n",
    "#Rounding to nearest integer, per instructions\n",
    "ohio_weekly_avg.New_Confirmed = ohio_weekly_avg.New_Confirmed.round()\n",
    "ohio_weekly_avg.New_Deaths = ohio_weekly_avg.New_Deaths.round()\n",
    "ohio_weekly_avg['New_Confirmed_per_100000'] = ohio_weekly_avg.New_Confirmed/ohio_pop *100000\n",
    "ohio_weekly_avg['New_Deaths_per_100000'] = ohio_weekly_avg.New_Deaths/ohio_pop *100000\n",
    "x=len(ohio_weekly_avg.New_Confirmed_per_100000)\n",
    "\n",
    "#Since log values of 0 will be negative infinity, transforming 0.000000 to 0.100000\n",
    "for i in range(x):\n",
    "    if ohio_weekly_avg.New_Confirmed_per_100000[i]==0.000000:\n",
    "        ohio_weekly_avg.New_Confirmed_per_100000[i] =0.100000\n",
    "    if ohio_weekly_avg.New_Deaths_per_100000[i]==0.000000:\n",
    "        ohio_weekly_avg.New_Deaths_per_100000[i] =0.100000\n",
    "        \n",
    "#log normalized values (base 10 log)\n",
    "ohio_weekly_avg['lognormal_Confirmed'] = np.log10(ohio_weekly_avg.New_Confirmed_per_100000)\n",
    "ohio_weekly_avg['lognormal_Deaths'] = np.log10(ohio_weekly_avg.New_Deaths_per_100000)\n",
    "ohio_weekly_avg"
   ]
  },
  {
   "cell_type": "markdown",
   "id": "6418706f",
   "metadata": {},
   "source": [
    "Illinois:"
   ]
  },
  {
   "cell_type": "code",
   "execution_count": 11,
   "id": "fca3cb97",
   "metadata": {},
   "outputs": [
    {
     "data": {
      "text/html": [
       "<div>\n",
       "<style scoped>\n",
       "    .dataframe tbody tr th:only-of-type {\n",
       "        vertical-align: middle;\n",
       "    }\n",
       "\n",
       "    .dataframe tbody tr th {\n",
       "        vertical-align: top;\n",
       "    }\n",
       "\n",
       "    .dataframe thead th {\n",
       "        text-align: right;\n",
       "    }\n",
       "</style>\n",
       "<table border=\"1\" class=\"dataframe\">\n",
       "  <thead>\n",
       "    <tr style=\"text-align: right;\">\n",
       "      <th></th>\n",
       "      <th>New_Confirmed</th>\n",
       "      <th>New_Deaths</th>\n",
       "      <th>New_Confirmed_per_100000</th>\n",
       "      <th>New_Deaths_per_100000</th>\n",
       "      <th>lognormal_Confirmed</th>\n",
       "      <th>lognormal_Deaths</th>\n",
       "    </tr>\n",
       "    <tr>\n",
       "      <th>Date</th>\n",
       "      <th></th>\n",
       "      <th></th>\n",
       "      <th></th>\n",
       "      <th></th>\n",
       "      <th></th>\n",
       "      <th></th>\n",
       "    </tr>\n",
       "  </thead>\n",
       "  <tbody>\n",
       "    <tr>\n",
       "      <th>2020-01-26</th>\n",
       "      <td>0.0</td>\n",
       "      <td>0.0</td>\n",
       "      <td>0.100000</td>\n",
       "      <td>0.100000</td>\n",
       "      <td>-1.000000</td>\n",
       "      <td>-1.000000</td>\n",
       "    </tr>\n",
       "    <tr>\n",
       "      <th>2020-02-02</th>\n",
       "      <td>0.0</td>\n",
       "      <td>0.0</td>\n",
       "      <td>0.100000</td>\n",
       "      <td>0.100000</td>\n",
       "      <td>-1.000000</td>\n",
       "      <td>-1.000000</td>\n",
       "    </tr>\n",
       "    <tr>\n",
       "      <th>2020-02-09</th>\n",
       "      <td>0.0</td>\n",
       "      <td>0.0</td>\n",
       "      <td>0.100000</td>\n",
       "      <td>0.100000</td>\n",
       "      <td>-1.000000</td>\n",
       "      <td>-1.000000</td>\n",
       "    </tr>\n",
       "    <tr>\n",
       "      <th>2020-02-16</th>\n",
       "      <td>0.0</td>\n",
       "      <td>0.0</td>\n",
       "      <td>0.100000</td>\n",
       "      <td>0.100000</td>\n",
       "      <td>-1.000000</td>\n",
       "      <td>-1.000000</td>\n",
       "    </tr>\n",
       "    <tr>\n",
       "      <th>2020-02-23</th>\n",
       "      <td>0.0</td>\n",
       "      <td>0.0</td>\n",
       "      <td>0.100000</td>\n",
       "      <td>0.100000</td>\n",
       "      <td>-1.000000</td>\n",
       "      <td>-1.000000</td>\n",
       "    </tr>\n",
       "    <tr>\n",
       "      <th>...</th>\n",
       "      <td>...</td>\n",
       "      <td>...</td>\n",
       "      <td>...</td>\n",
       "      <td>...</td>\n",
       "      <td>...</td>\n",
       "      <td>...</td>\n",
       "    </tr>\n",
       "    <tr>\n",
       "      <th>2022-01-09</th>\n",
       "      <td>29973.0</td>\n",
       "      <td>107.0</td>\n",
       "      <td>236.532697</td>\n",
       "      <td>0.844393</td>\n",
       "      <td>2.373891</td>\n",
       "      <td>-0.073455</td>\n",
       "    </tr>\n",
       "    <tr>\n",
       "      <th>2022-01-16</th>\n",
       "      <td>27590.0</td>\n",
       "      <td>110.0</td>\n",
       "      <td>217.727192</td>\n",
       "      <td>0.868068</td>\n",
       "      <td>2.337913</td>\n",
       "      <td>-0.061446</td>\n",
       "    </tr>\n",
       "    <tr>\n",
       "      <th>2022-01-23</th>\n",
       "      <td>13236.0</td>\n",
       "      <td>120.0</td>\n",
       "      <td>104.452233</td>\n",
       "      <td>0.946983</td>\n",
       "      <td>2.018918</td>\n",
       "      <td>-0.023658</td>\n",
       "    </tr>\n",
       "    <tr>\n",
       "      <th>2022-01-30</th>\n",
       "      <td>8017.0</td>\n",
       "      <td>81.0</td>\n",
       "      <td>63.266361</td>\n",
       "      <td>0.639214</td>\n",
       "      <td>1.801173</td>\n",
       "      <td>-0.194354</td>\n",
       "    </tr>\n",
       "    <tr>\n",
       "      <th>2022-02-06</th>\n",
       "      <td>4197.0</td>\n",
       "      <td>49.0</td>\n",
       "      <td>33.120733</td>\n",
       "      <td>0.386685</td>\n",
       "      <td>1.520100</td>\n",
       "      <td>-0.412643</td>\n",
       "    </tr>\n",
       "  </tbody>\n",
       "</table>\n",
       "<p>107 rows × 6 columns</p>\n",
       "</div>"
      ],
      "text/plain": [
       "            New_Confirmed  New_Deaths  New_Confirmed_per_100000  \\\n",
       "Date                                                              \n",
       "2020-01-26            0.0         0.0                  0.100000   \n",
       "2020-02-02            0.0         0.0                  0.100000   \n",
       "2020-02-09            0.0         0.0                  0.100000   \n",
       "2020-02-16            0.0         0.0                  0.100000   \n",
       "2020-02-23            0.0         0.0                  0.100000   \n",
       "...                   ...         ...                       ...   \n",
       "2022-01-09        29973.0       107.0                236.532697   \n",
       "2022-01-16        27590.0       110.0                217.727192   \n",
       "2022-01-23        13236.0       120.0                104.452233   \n",
       "2022-01-30         8017.0        81.0                 63.266361   \n",
       "2022-02-06         4197.0        49.0                 33.120733   \n",
       "\n",
       "            New_Deaths_per_100000  lognormal_Confirmed  lognormal_Deaths  \n",
       "Date                                                                      \n",
       "2020-01-26               0.100000            -1.000000         -1.000000  \n",
       "2020-02-02               0.100000            -1.000000         -1.000000  \n",
       "2020-02-09               0.100000            -1.000000         -1.000000  \n",
       "2020-02-16               0.100000            -1.000000         -1.000000  \n",
       "2020-02-23               0.100000            -1.000000         -1.000000  \n",
       "...                           ...                  ...               ...  \n",
       "2022-01-09               0.844393             2.373891         -0.073455  \n",
       "2022-01-16               0.868068             2.337913         -0.061446  \n",
       "2022-01-23               0.946983             2.018918         -0.023658  \n",
       "2022-01-30               0.639214             1.801173         -0.194354  \n",
       "2022-02-06               0.386685             1.520100         -0.412643  \n",
       "\n",
       "[107 rows x 6 columns]"
      ]
     },
     "execution_count": 11,
     "metadata": {},
     "output_type": "execute_result"
    }
   ],
   "source": [
    "illinois_covid = data[data[\"State\"].isin([\"IL\"])].reset_index(drop=True)\n",
    "illinois_pop=illinois_covid.population.drop_duplicates().sum()\n",
    "illinois_covid_agg=illinois_covid.drop(columns=['countyFIPS','County_Name','State','population'])\n",
    "illinois_covid_agg=illinois_covid_agg.groupby('Date').agg('sum')\n",
    "\n",
    "#New Cases\n",
    "illinois_covid_agg['New_Confirmed']=illinois_covid_agg['Confirmed'].diff()\n",
    "\n",
    "#New Deaths\n",
    "illinois_covid_agg['New_Deaths']=illinois_covid_agg['Deaths'].diff()\n",
    "\n",
    "#Removing Unneeded columns\n",
    "illinois_covid_agg=illinois_covid_agg.drop(columns=[\"Confirmed\",'Deaths'])\n",
    "illinois_covid_agg = illinois_covid_agg.drop(['2020-01-22','2020-01-23','2020-01-24','2020-01-25'])\n",
    "illinois_weekly_avg = illinois_covid_agg\n",
    "illinois_weekly_avg.reset_index(inplace=True)\n",
    "\n",
    "#Resampling\n",
    "illinois_weekly_avg = illinois_weekly_avg.resample('W-Sun',on='Date',label='left',closed='left').mean()\n",
    "\n",
    "#Rounding to nearest integer, per instructions\n",
    "illinois_weekly_avg.New_Confirmed = illinois_weekly_avg.New_Confirmed.round()\n",
    "illinois_weekly_avg.New_Deaths = illinois_weekly_avg.New_Deaths.round()\n",
    "illinois_weekly_avg['New_Confirmed_per_100000'] = illinois_weekly_avg.New_Confirmed/illinois_pop *100000\n",
    "illinois_weekly_avg['New_Deaths_per_100000'] = illinois_weekly_avg.New_Deaths/illinois_pop *100000\n",
    "x=len(illinois_weekly_avg.New_Confirmed_per_100000)\n",
    "\n",
    "#Since log values of 0 will be negative infinity, transforming 0.000000 to 0.100000\n",
    "for i in range(x):\n",
    "    if illinois_weekly_avg.New_Confirmed_per_100000[i]==0.000000:\n",
    "        illinois_weekly_avg.New_Confirmed_per_100000[i] =0.100000\n",
    "    if illinois_weekly_avg.New_Deaths_per_100000[i]==0.000000:\n",
    "        illinois_weekly_avg.New_Deaths_per_100000[i] =0.100000\n",
    "        \n",
    "#log normalized values (base 10 log)\n",
    "illinois_weekly_avg['lognormal_Confirmed'] = np.log10(illinois_weekly_avg.New_Confirmed_per_100000)\n",
    "illinois_weekly_avg['lognormal_Deaths'] = np.log10(illinois_weekly_avg.New_Deaths_per_100000)\n",
    "illinois_weekly_avg"
   ]
  },
  {
   "cell_type": "markdown",
   "id": "50350cbd",
   "metadata": {},
   "source": [
    "Michigan:"
   ]
  },
  {
   "cell_type": "code",
   "execution_count": 12,
   "id": "5ef2e82e",
   "metadata": {},
   "outputs": [
    {
     "data": {
      "text/html": [
       "<div>\n",
       "<style scoped>\n",
       "    .dataframe tbody tr th:only-of-type {\n",
       "        vertical-align: middle;\n",
       "    }\n",
       "\n",
       "    .dataframe tbody tr th {\n",
       "        vertical-align: top;\n",
       "    }\n",
       "\n",
       "    .dataframe thead th {\n",
       "        text-align: right;\n",
       "    }\n",
       "</style>\n",
       "<table border=\"1\" class=\"dataframe\">\n",
       "  <thead>\n",
       "    <tr style=\"text-align: right;\">\n",
       "      <th></th>\n",
       "      <th>New_Confirmed</th>\n",
       "      <th>New_Deaths</th>\n",
       "      <th>New_Confirmed_per_100000</th>\n",
       "      <th>New_Deaths_per_100000</th>\n",
       "      <th>lognormal_Confirmed</th>\n",
       "      <th>lognormal_Deaths</th>\n",
       "    </tr>\n",
       "    <tr>\n",
       "      <th>Date</th>\n",
       "      <th></th>\n",
       "      <th></th>\n",
       "      <th></th>\n",
       "      <th></th>\n",
       "      <th></th>\n",
       "      <th></th>\n",
       "    </tr>\n",
       "  </thead>\n",
       "  <tbody>\n",
       "    <tr>\n",
       "      <th>2020-01-26</th>\n",
       "      <td>0.0</td>\n",
       "      <td>0.0</td>\n",
       "      <td>0.100000</td>\n",
       "      <td>0.100000</td>\n",
       "      <td>-1.000000</td>\n",
       "      <td>-1.000000</td>\n",
       "    </tr>\n",
       "    <tr>\n",
       "      <th>2020-02-02</th>\n",
       "      <td>0.0</td>\n",
       "      <td>0.0</td>\n",
       "      <td>0.100000</td>\n",
       "      <td>0.100000</td>\n",
       "      <td>-1.000000</td>\n",
       "      <td>-1.000000</td>\n",
       "    </tr>\n",
       "    <tr>\n",
       "      <th>2020-02-09</th>\n",
       "      <td>0.0</td>\n",
       "      <td>0.0</td>\n",
       "      <td>0.100000</td>\n",
       "      <td>0.100000</td>\n",
       "      <td>-1.000000</td>\n",
       "      <td>-1.000000</td>\n",
       "    </tr>\n",
       "    <tr>\n",
       "      <th>2020-02-16</th>\n",
       "      <td>0.0</td>\n",
       "      <td>0.0</td>\n",
       "      <td>0.100000</td>\n",
       "      <td>0.100000</td>\n",
       "      <td>-1.000000</td>\n",
       "      <td>-1.000000</td>\n",
       "    </tr>\n",
       "    <tr>\n",
       "      <th>2020-02-23</th>\n",
       "      <td>0.0</td>\n",
       "      <td>0.0</td>\n",
       "      <td>0.100000</td>\n",
       "      <td>0.100000</td>\n",
       "      <td>-1.000000</td>\n",
       "      <td>-1.000000</td>\n",
       "    </tr>\n",
       "    <tr>\n",
       "      <th>...</th>\n",
       "      <td>...</td>\n",
       "      <td>...</td>\n",
       "      <td>...</td>\n",
       "      <td>...</td>\n",
       "      <td>...</td>\n",
       "      <td>...</td>\n",
       "    </tr>\n",
       "    <tr>\n",
       "      <th>2022-01-09</th>\n",
       "      <td>18099.0</td>\n",
       "      <td>108.0</td>\n",
       "      <td>181.228188</td>\n",
       "      <td>1.081421</td>\n",
       "      <td>2.258226</td>\n",
       "      <td>0.033995</td>\n",
       "    </tr>\n",
       "    <tr>\n",
       "      <th>2022-01-16</th>\n",
       "      <td>19670.0</td>\n",
       "      <td>113.0</td>\n",
       "      <td>196.958863</td>\n",
       "      <td>1.131487</td>\n",
       "      <td>2.294376</td>\n",
       "      <td>0.053650</td>\n",
       "    </tr>\n",
       "    <tr>\n",
       "      <th>2022-01-23</th>\n",
       "      <td>15532.0</td>\n",
       "      <td>99.0</td>\n",
       "      <td>155.524406</td>\n",
       "      <td>0.991303</td>\n",
       "      <td>2.191799</td>\n",
       "      <td>-0.003794</td>\n",
       "    </tr>\n",
       "    <tr>\n",
       "      <th>2022-01-30</th>\n",
       "      <td>8340.0</td>\n",
       "      <td>96.0</td>\n",
       "      <td>83.509757</td>\n",
       "      <td>0.961263</td>\n",
       "      <td>1.921737</td>\n",
       "      <td>-0.017158</td>\n",
       "    </tr>\n",
       "    <tr>\n",
       "      <th>2022-02-06</th>\n",
       "      <td>5494.0</td>\n",
       "      <td>19.0</td>\n",
       "      <td>55.012303</td>\n",
       "      <td>0.190250</td>\n",
       "      <td>1.740460</td>\n",
       "      <td>-0.720675</td>\n",
       "    </tr>\n",
       "  </tbody>\n",
       "</table>\n",
       "<p>107 rows × 6 columns</p>\n",
       "</div>"
      ],
      "text/plain": [
       "            New_Confirmed  New_Deaths  New_Confirmed_per_100000  \\\n",
       "Date                                                              \n",
       "2020-01-26            0.0         0.0                  0.100000   \n",
       "2020-02-02            0.0         0.0                  0.100000   \n",
       "2020-02-09            0.0         0.0                  0.100000   \n",
       "2020-02-16            0.0         0.0                  0.100000   \n",
       "2020-02-23            0.0         0.0                  0.100000   \n",
       "...                   ...         ...                       ...   \n",
       "2022-01-09        18099.0       108.0                181.228188   \n",
       "2022-01-16        19670.0       113.0                196.958863   \n",
       "2022-01-23        15532.0        99.0                155.524406   \n",
       "2022-01-30         8340.0        96.0                 83.509757   \n",
       "2022-02-06         5494.0        19.0                 55.012303   \n",
       "\n",
       "            New_Deaths_per_100000  lognormal_Confirmed  lognormal_Deaths  \n",
       "Date                                                                      \n",
       "2020-01-26               0.100000            -1.000000         -1.000000  \n",
       "2020-02-02               0.100000            -1.000000         -1.000000  \n",
       "2020-02-09               0.100000            -1.000000         -1.000000  \n",
       "2020-02-16               0.100000            -1.000000         -1.000000  \n",
       "2020-02-23               0.100000            -1.000000         -1.000000  \n",
       "...                           ...                  ...               ...  \n",
       "2022-01-09               1.081421             2.258226          0.033995  \n",
       "2022-01-16               1.131487             2.294376          0.053650  \n",
       "2022-01-23               0.991303             2.191799         -0.003794  \n",
       "2022-01-30               0.961263             1.921737         -0.017158  \n",
       "2022-02-06               0.190250             1.740460         -0.720675  \n",
       "\n",
       "[107 rows x 6 columns]"
      ]
     },
     "execution_count": 12,
     "metadata": {},
     "output_type": "execute_result"
    }
   ],
   "source": [
    "michigan_covid = data[data[\"State\"].isin([\"MI\"])].reset_index(drop=True)\n",
    "michigan_pop=michigan_covid.population.drop_duplicates().sum()\n",
    "michigan_covid_agg=michigan_covid.drop(columns=['countyFIPS','County_Name','State','population'])\n",
    "michigan_covid_agg=michigan_covid_agg.groupby('Date').agg('sum')\n",
    "\n",
    "#New Cases\n",
    "michigan_covid_agg['New_Confirmed']=michigan_covid_agg['Confirmed'].diff()\n",
    "\n",
    "#New Deaths\n",
    "michigan_covid_agg['New_Deaths']=michigan_covid_agg['Deaths'].diff()\n",
    "\n",
    "#Removing Unneeded columns\n",
    "michigan_covid_agg=michigan_covid_agg.drop(columns=[\"Confirmed\",'Deaths'])\n",
    "michigan_covid_agg = michigan_covid_agg.drop(['2020-01-22','2020-01-23','2020-01-24','2020-01-25'])\n",
    "michigan_weekly_avg = michigan_covid_agg\n",
    "michigan_weekly_avg.reset_index(inplace=True)\n",
    "\n",
    "#Resampling\n",
    "michigan_weekly_avg = michigan_weekly_avg.resample('W-Sun',on='Date',label='left',closed='left').mean()\n",
    "\n",
    "#Rounding to nearest integer, per instructions\n",
    "michigan_weekly_avg.New_Confirmed = michigan_weekly_avg.New_Confirmed.round()\n",
    "michigan_weekly_avg.New_Deaths = michigan_weekly_avg.New_Deaths.round()\n",
    "michigan_weekly_avg['New_Confirmed_per_100000'] = michigan_weekly_avg.New_Confirmed/michigan_pop *100000\n",
    "michigan_weekly_avg['New_Deaths_per_100000'] = michigan_weekly_avg.New_Deaths/michigan_pop *100000\n",
    "x=len(michigan_weekly_avg.New_Confirmed_per_100000)\n",
    "\n",
    "#Since log values of 0 will be negative infinity, transforming 0.000000 to 0.100000\n",
    "for i in range(x):\n",
    "    if michigan_weekly_avg.New_Confirmed_per_100000[i]==0.000000:\n",
    "        michigan_weekly_avg.New_Confirmed_per_100000[i] =0.100000\n",
    "    if michigan_weekly_avg.New_Deaths_per_100000[i]==0.000000:\n",
    "        michigan_weekly_avg.New_Deaths_per_100000[i] =0.100000\n",
    "        \n",
    "#log normalized values (base 10 log)\n",
    "michigan_weekly_avg['lognormal_Confirmed'] = np.log10(michigan_weekly_avg.New_Confirmed_per_100000)\n",
    "michigan_weekly_avg['lognormal_Deaths'] = np.log10(michigan_weekly_avg.New_Deaths_per_100000)\n",
    "michigan_weekly_avg"
   ]
  },
  {
   "cell_type": "markdown",
   "id": "2b9a2bc8",
   "metadata": {},
   "source": [
    "Kentucky:"
   ]
  },
  {
   "cell_type": "code",
   "execution_count": 13,
   "id": "e935c2f9",
   "metadata": {},
   "outputs": [
    {
     "data": {
      "text/html": [
       "<div>\n",
       "<style scoped>\n",
       "    .dataframe tbody tr th:only-of-type {\n",
       "        vertical-align: middle;\n",
       "    }\n",
       "\n",
       "    .dataframe tbody tr th {\n",
       "        vertical-align: top;\n",
       "    }\n",
       "\n",
       "    .dataframe thead th {\n",
       "        text-align: right;\n",
       "    }\n",
       "</style>\n",
       "<table border=\"1\" class=\"dataframe\">\n",
       "  <thead>\n",
       "    <tr style=\"text-align: right;\">\n",
       "      <th></th>\n",
       "      <th>New_Confirmed</th>\n",
       "      <th>New_Deaths</th>\n",
       "      <th>New_Confirmed_per_100000</th>\n",
       "      <th>New_Deaths_per_100000</th>\n",
       "      <th>lognormal_Confirmed</th>\n",
       "      <th>lognormal_Deaths</th>\n",
       "    </tr>\n",
       "    <tr>\n",
       "      <th>Date</th>\n",
       "      <th></th>\n",
       "      <th></th>\n",
       "      <th></th>\n",
       "      <th></th>\n",
       "      <th></th>\n",
       "      <th></th>\n",
       "    </tr>\n",
       "  </thead>\n",
       "  <tbody>\n",
       "    <tr>\n",
       "      <th>2020-01-26</th>\n",
       "      <td>0.0</td>\n",
       "      <td>0.0</td>\n",
       "      <td>0.100000</td>\n",
       "      <td>0.100000</td>\n",
       "      <td>-1.000000</td>\n",
       "      <td>-1.000000</td>\n",
       "    </tr>\n",
       "    <tr>\n",
       "      <th>2020-02-02</th>\n",
       "      <td>0.0</td>\n",
       "      <td>0.0</td>\n",
       "      <td>0.100000</td>\n",
       "      <td>0.100000</td>\n",
       "      <td>-1.000000</td>\n",
       "      <td>-1.000000</td>\n",
       "    </tr>\n",
       "    <tr>\n",
       "      <th>2020-02-09</th>\n",
       "      <td>0.0</td>\n",
       "      <td>0.0</td>\n",
       "      <td>0.100000</td>\n",
       "      <td>0.100000</td>\n",
       "      <td>-1.000000</td>\n",
       "      <td>-1.000000</td>\n",
       "    </tr>\n",
       "    <tr>\n",
       "      <th>2020-02-16</th>\n",
       "      <td>0.0</td>\n",
       "      <td>0.0</td>\n",
       "      <td>0.100000</td>\n",
       "      <td>0.100000</td>\n",
       "      <td>-1.000000</td>\n",
       "      <td>-1.000000</td>\n",
       "    </tr>\n",
       "    <tr>\n",
       "      <th>2020-02-23</th>\n",
       "      <td>0.0</td>\n",
       "      <td>0.0</td>\n",
       "      <td>0.100000</td>\n",
       "      <td>0.100000</td>\n",
       "      <td>-1.000000</td>\n",
       "      <td>-1.000000</td>\n",
       "    </tr>\n",
       "    <tr>\n",
       "      <th>...</th>\n",
       "      <td>...</td>\n",
       "      <td>...</td>\n",
       "      <td>...</td>\n",
       "      <td>...</td>\n",
       "      <td>...</td>\n",
       "      <td>...</td>\n",
       "    </tr>\n",
       "    <tr>\n",
       "      <th>2022-01-09</th>\n",
       "      <td>8495.0</td>\n",
       "      <td>23.0</td>\n",
       "      <td>190.143728</td>\n",
       "      <td>0.514809</td>\n",
       "      <td>2.279082</td>\n",
       "      <td>-0.288354</td>\n",
       "    </tr>\n",
       "    <tr>\n",
       "      <th>2022-01-16</th>\n",
       "      <td>11563.0</td>\n",
       "      <td>24.0</td>\n",
       "      <td>258.814824</td>\n",
       "      <td>0.537192</td>\n",
       "      <td>2.412989</td>\n",
       "      <td>-0.269870</td>\n",
       "    </tr>\n",
       "    <tr>\n",
       "      <th>2022-01-23</th>\n",
       "      <td>12086.0</td>\n",
       "      <td>29.0</td>\n",
       "      <td>270.521142</td>\n",
       "      <td>0.649107</td>\n",
       "      <td>2.432201</td>\n",
       "      <td>-0.187683</td>\n",
       "    </tr>\n",
       "    <tr>\n",
       "      <th>2022-01-30</th>\n",
       "      <td>7228.0</td>\n",
       "      <td>25.0</td>\n",
       "      <td>161.784446</td>\n",
       "      <td>0.559575</td>\n",
       "      <td>2.208937</td>\n",
       "      <td>-0.252141</td>\n",
       "    </tr>\n",
       "    <tr>\n",
       "      <th>2022-02-06</th>\n",
       "      <td>3896.0</td>\n",
       "      <td>46.0</td>\n",
       "      <td>87.204234</td>\n",
       "      <td>1.029619</td>\n",
       "      <td>1.940538</td>\n",
       "      <td>0.012676</td>\n",
       "    </tr>\n",
       "  </tbody>\n",
       "</table>\n",
       "<p>107 rows × 6 columns</p>\n",
       "</div>"
      ],
      "text/plain": [
       "            New_Confirmed  New_Deaths  New_Confirmed_per_100000  \\\n",
       "Date                                                              \n",
       "2020-01-26            0.0         0.0                  0.100000   \n",
       "2020-02-02            0.0         0.0                  0.100000   \n",
       "2020-02-09            0.0         0.0                  0.100000   \n",
       "2020-02-16            0.0         0.0                  0.100000   \n",
       "2020-02-23            0.0         0.0                  0.100000   \n",
       "...                   ...         ...                       ...   \n",
       "2022-01-09         8495.0        23.0                190.143728   \n",
       "2022-01-16        11563.0        24.0                258.814824   \n",
       "2022-01-23        12086.0        29.0                270.521142   \n",
       "2022-01-30         7228.0        25.0                161.784446   \n",
       "2022-02-06         3896.0        46.0                 87.204234   \n",
       "\n",
       "            New_Deaths_per_100000  lognormal_Confirmed  lognormal_Deaths  \n",
       "Date                                                                      \n",
       "2020-01-26               0.100000            -1.000000         -1.000000  \n",
       "2020-02-02               0.100000            -1.000000         -1.000000  \n",
       "2020-02-09               0.100000            -1.000000         -1.000000  \n",
       "2020-02-16               0.100000            -1.000000         -1.000000  \n",
       "2020-02-23               0.100000            -1.000000         -1.000000  \n",
       "...                           ...                  ...               ...  \n",
       "2022-01-09               0.514809             2.279082         -0.288354  \n",
       "2022-01-16               0.537192             2.412989         -0.269870  \n",
       "2022-01-23               0.649107             2.432201         -0.187683  \n",
       "2022-01-30               0.559575             2.208937         -0.252141  \n",
       "2022-02-06               1.029619             1.940538          0.012676  \n",
       "\n",
       "[107 rows x 6 columns]"
      ]
     },
     "execution_count": 13,
     "metadata": {},
     "output_type": "execute_result"
    }
   ],
   "source": [
    "kentucky_covid = data[data[\"State\"].isin([\"KY\"])].reset_index(drop=True)\n",
    "kentucky_pop=kentucky_covid.population.drop_duplicates().sum()\n",
    "kentucky_covid_agg=kentucky_covid.drop(columns=['countyFIPS','County_Name','State','population'])\n",
    "kentucky_covid_agg=kentucky_covid_agg.groupby('Date').agg('sum')\n",
    "\n",
    "#New Cases\n",
    "kentucky_covid_agg['New_Confirmed']=kentucky_covid_agg['Confirmed'].diff()\n",
    "\n",
    "#New Deaths\n",
    "kentucky_covid_agg['New_Deaths']=kentucky_covid_agg['Deaths'].diff()\n",
    "\n",
    "#Removing Unneeded columns\n",
    "kentucky_covid_agg=kentucky_covid_agg.drop(columns=[\"Confirmed\",'Deaths'])\n",
    "kentucky_covid_agg = kentucky_covid_agg.drop(['2020-01-22','2020-01-23','2020-01-24','2020-01-25'])\n",
    "kentucky_weekly_avg = kentucky_covid_agg\n",
    "kentucky_weekly_avg.reset_index(inplace=True)\n",
    "\n",
    "#Resampling\n",
    "kentucky_weekly_avg = kentucky_weekly_avg.resample('W-Sun',on='Date',label='left',closed='left').mean()\n",
    "\n",
    "#Rounding to nearest integer, per instructions\n",
    "kentucky_weekly_avg.New_Confirmed = kentucky_weekly_avg.New_Confirmed.round()\n",
    "kentucky_weekly_avg.New_Deaths = kentucky_weekly_avg.New_Deaths.round()\n",
    "kentucky_weekly_avg['New_Confirmed_per_100000'] = kentucky_weekly_avg.New_Confirmed/kentucky_pop *100000\n",
    "kentucky_weekly_avg['New_Deaths_per_100000'] = kentucky_weekly_avg.New_Deaths/kentucky_pop *100000\n",
    "x=len(kentucky_weekly_avg.New_Confirmed_per_100000)\n",
    "\n",
    "#Since log values of 0 will be negative infinity, transforming 0.000000 to 0.100000\n",
    "for i in range(x):\n",
    "    if kentucky_weekly_avg.New_Confirmed_per_100000[i]==0.000000:\n",
    "        kentucky_weekly_avg.New_Confirmed_per_100000[i] =0.100000\n",
    "    if kentucky_weekly_avg.New_Deaths_per_100000[i]==0.000000:\n",
    "        kentucky_weekly_avg.New_Deaths_per_100000[i] =0.100000\n",
    "        \n",
    "#log normalized values (base 10 log)\n",
    "kentucky_weekly_avg['lognormal_Confirmed'] = np.log10(kentucky_weekly_avg.New_Confirmed_per_100000)\n",
    "kentucky_weekly_avg['lognormal_Deaths'] = np.log10(kentucky_weekly_avg.New_Deaths_per_100000)\n",
    "kentucky_weekly_avg"
   ]
  },
  {
   "cell_type": "markdown",
   "id": "5b0b65b6",
   "metadata": {},
   "source": [
    "Wisconsin:"
   ]
  },
  {
   "cell_type": "code",
   "execution_count": 14,
   "id": "9bd7600b",
   "metadata": {},
   "outputs": [
    {
     "data": {
      "text/html": [
       "<div>\n",
       "<style scoped>\n",
       "    .dataframe tbody tr th:only-of-type {\n",
       "        vertical-align: middle;\n",
       "    }\n",
       "\n",
       "    .dataframe tbody tr th {\n",
       "        vertical-align: top;\n",
       "    }\n",
       "\n",
       "    .dataframe thead th {\n",
       "        text-align: right;\n",
       "    }\n",
       "</style>\n",
       "<table border=\"1\" class=\"dataframe\">\n",
       "  <thead>\n",
       "    <tr style=\"text-align: right;\">\n",
       "      <th></th>\n",
       "      <th>New_Confirmed</th>\n",
       "      <th>New_Deaths</th>\n",
       "      <th>New_Confirmed_per_100000</th>\n",
       "      <th>New_Deaths_per_100000</th>\n",
       "      <th>lognormal_Confirmed</th>\n",
       "      <th>lognormal_Deaths</th>\n",
       "    </tr>\n",
       "    <tr>\n",
       "      <th>Date</th>\n",
       "      <th></th>\n",
       "      <th></th>\n",
       "      <th></th>\n",
       "      <th></th>\n",
       "      <th></th>\n",
       "      <th></th>\n",
       "    </tr>\n",
       "  </thead>\n",
       "  <tbody>\n",
       "    <tr>\n",
       "      <th>2020-01-26</th>\n",
       "      <td>0.0</td>\n",
       "      <td>0.0</td>\n",
       "      <td>0.100000</td>\n",
       "      <td>0.100000</td>\n",
       "      <td>-1.000000</td>\n",
       "      <td>-1.000000</td>\n",
       "    </tr>\n",
       "    <tr>\n",
       "      <th>2020-02-02</th>\n",
       "      <td>0.0</td>\n",
       "      <td>0.0</td>\n",
       "      <td>0.100000</td>\n",
       "      <td>0.100000</td>\n",
       "      <td>-1.000000</td>\n",
       "      <td>-1.000000</td>\n",
       "    </tr>\n",
       "    <tr>\n",
       "      <th>2020-02-09</th>\n",
       "      <td>0.0</td>\n",
       "      <td>0.0</td>\n",
       "      <td>0.100000</td>\n",
       "      <td>0.100000</td>\n",
       "      <td>-1.000000</td>\n",
       "      <td>-1.000000</td>\n",
       "    </tr>\n",
       "    <tr>\n",
       "      <th>2020-02-16</th>\n",
       "      <td>0.0</td>\n",
       "      <td>0.0</td>\n",
       "      <td>0.100000</td>\n",
       "      <td>0.100000</td>\n",
       "      <td>-1.000000</td>\n",
       "      <td>-1.000000</td>\n",
       "    </tr>\n",
       "    <tr>\n",
       "      <th>2020-02-23</th>\n",
       "      <td>0.0</td>\n",
       "      <td>0.0</td>\n",
       "      <td>0.100000</td>\n",
       "      <td>0.100000</td>\n",
       "      <td>-1.000000</td>\n",
       "      <td>-1.000000</td>\n",
       "    </tr>\n",
       "    <tr>\n",
       "      <th>...</th>\n",
       "      <td>...</td>\n",
       "      <td>...</td>\n",
       "      <td>...</td>\n",
       "      <td>...</td>\n",
       "      <td>...</td>\n",
       "      <td>...</td>\n",
       "    </tr>\n",
       "    <tr>\n",
       "      <th>2022-01-09</th>\n",
       "      <td>16336.0</td>\n",
       "      <td>34.0</td>\n",
       "      <td>280.569947</td>\n",
       "      <td>0.583948</td>\n",
       "      <td>2.448041</td>\n",
       "      <td>-0.233626</td>\n",
       "    </tr>\n",
       "    <tr>\n",
       "      <th>2022-01-16</th>\n",
       "      <td>19265.0</td>\n",
       "      <td>54.0</td>\n",
       "      <td>330.875369</td>\n",
       "      <td>0.927447</td>\n",
       "      <td>2.519664</td>\n",
       "      <td>-0.032711</td>\n",
       "    </tr>\n",
       "    <tr>\n",
       "      <th>2022-01-23</th>\n",
       "      <td>7461.0</td>\n",
       "      <td>50.0</td>\n",
       "      <td>128.142286</td>\n",
       "      <td>0.858747</td>\n",
       "      <td>2.107692</td>\n",
       "      <td>-0.066135</td>\n",
       "    </tr>\n",
       "    <tr>\n",
       "      <th>2022-01-30</th>\n",
       "      <td>4181.0</td>\n",
       "      <td>32.0</td>\n",
       "      <td>71.808457</td>\n",
       "      <td>0.549598</td>\n",
       "      <td>1.856176</td>\n",
       "      <td>-0.259955</td>\n",
       "    </tr>\n",
       "    <tr>\n",
       "      <th>2022-02-06</th>\n",
       "      <td>1928.0</td>\n",
       "      <td>1.0</td>\n",
       "      <td>33.113299</td>\n",
       "      <td>0.017175</td>\n",
       "      <td>1.520002</td>\n",
       "      <td>-1.765105</td>\n",
       "    </tr>\n",
       "  </tbody>\n",
       "</table>\n",
       "<p>107 rows × 6 columns</p>\n",
       "</div>"
      ],
      "text/plain": [
       "            New_Confirmed  New_Deaths  New_Confirmed_per_100000  \\\n",
       "Date                                                              \n",
       "2020-01-26            0.0         0.0                  0.100000   \n",
       "2020-02-02            0.0         0.0                  0.100000   \n",
       "2020-02-09            0.0         0.0                  0.100000   \n",
       "2020-02-16            0.0         0.0                  0.100000   \n",
       "2020-02-23            0.0         0.0                  0.100000   \n",
       "...                   ...         ...                       ...   \n",
       "2022-01-09        16336.0        34.0                280.569947   \n",
       "2022-01-16        19265.0        54.0                330.875369   \n",
       "2022-01-23         7461.0        50.0                128.142286   \n",
       "2022-01-30         4181.0        32.0                 71.808457   \n",
       "2022-02-06         1928.0         1.0                 33.113299   \n",
       "\n",
       "            New_Deaths_per_100000  lognormal_Confirmed  lognormal_Deaths  \n",
       "Date                                                                      \n",
       "2020-01-26               0.100000            -1.000000         -1.000000  \n",
       "2020-02-02               0.100000            -1.000000         -1.000000  \n",
       "2020-02-09               0.100000            -1.000000         -1.000000  \n",
       "2020-02-16               0.100000            -1.000000         -1.000000  \n",
       "2020-02-23               0.100000            -1.000000         -1.000000  \n",
       "...                           ...                  ...               ...  \n",
       "2022-01-09               0.583948             2.448041         -0.233626  \n",
       "2022-01-16               0.927447             2.519664         -0.032711  \n",
       "2022-01-23               0.858747             2.107692         -0.066135  \n",
       "2022-01-30               0.549598             1.856176         -0.259955  \n",
       "2022-02-06               0.017175             1.520002         -1.765105  \n",
       "\n",
       "[107 rows x 6 columns]"
      ]
     },
     "execution_count": 14,
     "metadata": {},
     "output_type": "execute_result"
    }
   ],
   "source": [
    "wisconsin_covid = data[data[\"State\"].isin([\"WI\"])].reset_index(drop=True)\n",
    "wisconsin_pop=wisconsin_covid.population.drop_duplicates().sum()\n",
    "wisconsin_covid_agg=wisconsin_covid.drop(columns=['countyFIPS','County_Name','State','population'])\n",
    "wisconsin_covid_agg=wisconsin_covid_agg.groupby('Date').agg('sum')\n",
    "\n",
    "#New Cases\n",
    "wisconsin_covid_agg['New_Confirmed']=wisconsin_covid_agg['Confirmed'].diff()\n",
    "\n",
    "#New Deaths\n",
    "wisconsin_covid_agg['New_Deaths']=wisconsin_covid_agg['Deaths'].diff()\n",
    "\n",
    "#Removing Unneeded columns\n",
    "wisconsin_covid_agg=wisconsin_covid_agg.drop(columns=[\"Confirmed\",'Deaths'])\n",
    "wisconsin_covid_agg = wisconsin_covid_agg.drop(['2020-01-22','2020-01-23','2020-01-24','2020-01-25'])\n",
    "wisconsin_weekly_avg = wisconsin_covid_agg\n",
    "wisconsin_weekly_avg.reset_index(inplace=True)\n",
    "\n",
    "#Resampling\n",
    "wisconsin_weekly_avg = wisconsin_weekly_avg.resample('W-Sun',on='Date',label='left',closed='left').mean()\n",
    "\n",
    "#Rounding to nearest integer, per instructions\n",
    "wisconsin_weekly_avg.New_Confirmed = wisconsin_weekly_avg.New_Confirmed.round()\n",
    "wisconsin_weekly_avg.New_Deaths = wisconsin_weekly_avg.New_Deaths.round()\n",
    "wisconsin_weekly_avg['New_Confirmed_per_100000'] = wisconsin_weekly_avg.New_Confirmed/wisconsin_pop *100000\n",
    "wisconsin_weekly_avg['New_Deaths_per_100000'] = wisconsin_weekly_avg.New_Deaths/wisconsin_pop *100000\n",
    "x=len(wisconsin_weekly_avg.New_Confirmed_per_100000)\n",
    "\n",
    "#Since log values of 0 will be negative infinity, transforming 0.000000 to 0.100000\n",
    "for i in range(x):\n",
    "    if wisconsin_weekly_avg.New_Confirmed_per_100000[i]==0.000000:\n",
    "        wisconsin_weekly_avg.New_Confirmed_per_100000[i] =0.100000\n",
    "    if wisconsin_weekly_avg.New_Deaths_per_100000[i]==0.000000:\n",
    "        wisconsin_weekly_avg.New_Deaths_per_100000[i] =0.100000\n",
    "        \n",
    "#log normalized values (base 10 log)\n",
    "wisconsin_weekly_avg['lognormal_Confirmed'] = np.log10(wisconsin_weekly_avg.New_Confirmed_per_100000)\n",
    "wisconsin_weekly_avg['lognormal_Deaths'] = np.log10(wisconsin_weekly_avg.New_Deaths_per_100000)\n",
    "wisconsin_weekly_avg"
   ]
  },
  {
   "cell_type": "code",
   "execution_count": 15,
   "id": "c96ef0f3",
   "metadata": {},
   "outputs": [
    {
     "data": {
      "text/html": [
       "<div>\n",
       "<style scoped>\n",
       "    .dataframe tbody tr th:only-of-type {\n",
       "        vertical-align: middle;\n",
       "    }\n",
       "\n",
       "    .dataframe tbody tr th {\n",
       "        vertical-align: top;\n",
       "    }\n",
       "\n",
       "    .dataframe thead th {\n",
       "        text-align: right;\n",
       "    }\n",
       "</style>\n",
       "<table border=\"1\" class=\"dataframe\">\n",
       "  <thead>\n",
       "    <tr style=\"text-align: right;\">\n",
       "      <th></th>\n",
       "      <th>New_Confirmed_per_100000</th>\n",
       "      <th>New_Deaths_per_100000</th>\n",
       "      <th>State</th>\n",
       "    </tr>\n",
       "    <tr>\n",
       "      <th>Date</th>\n",
       "      <th></th>\n",
       "      <th></th>\n",
       "      <th></th>\n",
       "    </tr>\n",
       "  </thead>\n",
       "  <tbody>\n",
       "    <tr>\n",
       "      <th>2020-01-26</th>\n",
       "      <td>0.100000</td>\n",
       "      <td>0.100000</td>\n",
       "      <td>Wisconsin</td>\n",
       "    </tr>\n",
       "    <tr>\n",
       "      <th>2020-02-02</th>\n",
       "      <td>0.100000</td>\n",
       "      <td>0.100000</td>\n",
       "      <td>Wisconsin</td>\n",
       "    </tr>\n",
       "    <tr>\n",
       "      <th>2020-02-09</th>\n",
       "      <td>0.100000</td>\n",
       "      <td>0.100000</td>\n",
       "      <td>Wisconsin</td>\n",
       "    </tr>\n",
       "    <tr>\n",
       "      <th>2020-02-16</th>\n",
       "      <td>0.100000</td>\n",
       "      <td>0.100000</td>\n",
       "      <td>Wisconsin</td>\n",
       "    </tr>\n",
       "    <tr>\n",
       "      <th>2020-02-23</th>\n",
       "      <td>0.100000</td>\n",
       "      <td>0.100000</td>\n",
       "      <td>Wisconsin</td>\n",
       "    </tr>\n",
       "    <tr>\n",
       "      <th>...</th>\n",
       "      <td>...</td>\n",
       "      <td>...</td>\n",
       "      <td>...</td>\n",
       "    </tr>\n",
       "    <tr>\n",
       "      <th>2022-01-09</th>\n",
       "      <td>280.569947</td>\n",
       "      <td>0.583948</td>\n",
       "      <td>Wisconsin</td>\n",
       "    </tr>\n",
       "    <tr>\n",
       "      <th>2022-01-16</th>\n",
       "      <td>330.875369</td>\n",
       "      <td>0.927447</td>\n",
       "      <td>Wisconsin</td>\n",
       "    </tr>\n",
       "    <tr>\n",
       "      <th>2022-01-23</th>\n",
       "      <td>128.142286</td>\n",
       "      <td>0.858747</td>\n",
       "      <td>Wisconsin</td>\n",
       "    </tr>\n",
       "    <tr>\n",
       "      <th>2022-01-30</th>\n",
       "      <td>71.808457</td>\n",
       "      <td>0.549598</td>\n",
       "      <td>Wisconsin</td>\n",
       "    </tr>\n",
       "    <tr>\n",
       "      <th>2022-02-06</th>\n",
       "      <td>33.113299</td>\n",
       "      <td>0.017175</td>\n",
       "      <td>Wisconsin</td>\n",
       "    </tr>\n",
       "  </tbody>\n",
       "</table>\n",
       "<p>107 rows × 3 columns</p>\n",
       "</div>"
      ],
      "text/plain": [
       "            New_Confirmed_per_100000  New_Deaths_per_100000      State\n",
       "Date                                                                  \n",
       "2020-01-26                  0.100000               0.100000  Wisconsin\n",
       "2020-02-02                  0.100000               0.100000  Wisconsin\n",
       "2020-02-09                  0.100000               0.100000  Wisconsin\n",
       "2020-02-16                  0.100000               0.100000  Wisconsin\n",
       "2020-02-23                  0.100000               0.100000  Wisconsin\n",
       "...                              ...                    ...        ...\n",
       "2022-01-09                280.569947               0.583948  Wisconsin\n",
       "2022-01-16                330.875369               0.927447  Wisconsin\n",
       "2022-01-23                128.142286               0.858747  Wisconsin\n",
       "2022-01-30                 71.808457               0.549598  Wisconsin\n",
       "2022-02-06                 33.113299               0.017175  Wisconsin\n",
       "\n",
       "[107 rows x 3 columns]"
      ]
     },
     "execution_count": 15,
     "metadata": {},
     "output_type": "execute_result"
    }
   ],
   "source": [
    "indiana_confirmed=indiana_weekly_avg[[\"New_Confirmed_per_100000\",\"New_Deaths_per_100000\"]]\n",
    "indiana_confirmed[[\"State\"]]=\"Indiana\"\n",
    "indiana_confirmed\n",
    "\n",
    "ohio_confirmed=ohio_weekly_avg[[\"New_Confirmed_per_100000\",\"New_Deaths_per_100000\"]]\n",
    "ohio_confirmed[[\"State\"]]=\"Ohio\"\n",
    "ohio_confirmed\n",
    "\n",
    "michigan_confirmed=michigan_weekly_avg[[\"New_Confirmed_per_100000\",\"New_Deaths_per_100000\"]]\n",
    "michigan_confirmed[[\"State\"]]=\"Michigan\"\n",
    "michigan_confirmed\n",
    "\n",
    "illinois_confirmed=illinois_weekly_avg[[\"New_Confirmed_per_100000\",\"New_Deaths_per_100000\"]]\n",
    "illinois_confirmed[[\"State\"]]=\"Illinois\"\n",
    "illinois_confirmed\n",
    "\n",
    "kentucky_confirmed=kentucky_weekly_avg[[\"New_Confirmed_per_100000\",\"New_Deaths_per_100000\"]]\n",
    "kentucky_confirmed[[\"State\"]]=\"Kentucky\"\n",
    "kentucky_confirmed\n",
    "\n",
    "wisconsin_confirmed=wisconsin_weekly_avg[[\"New_Confirmed_per_100000\",\"New_Deaths_per_100000\"]]\n",
    "wisconsin_confirmed[[\"State\"]]=\"Wisconsin\"\n",
    "wisconsin_confirmed"
   ]
  },
  {
   "cell_type": "code",
   "execution_count": 16,
   "id": "91dd1036",
   "metadata": {},
   "outputs": [
    {
     "data": {
      "text/html": [
       "<div>\n",
       "<style scoped>\n",
       "    .dataframe tbody tr th:only-of-type {\n",
       "        vertical-align: middle;\n",
       "    }\n",
       "\n",
       "    .dataframe tbody tr th {\n",
       "        vertical-align: top;\n",
       "    }\n",
       "\n",
       "    .dataframe thead th {\n",
       "        text-align: right;\n",
       "    }\n",
       "</style>\n",
       "<table border=\"1\" class=\"dataframe\">\n",
       "  <thead>\n",
       "    <tr style=\"text-align: right;\">\n",
       "      <th></th>\n",
       "      <th>New_Confirmed_per_100000</th>\n",
       "      <th>New_Deaths_per_100000</th>\n",
       "      <th>State</th>\n",
       "    </tr>\n",
       "  </thead>\n",
       "  <tbody>\n",
       "    <tr>\n",
       "      <th>0</th>\n",
       "      <td>0.100000</td>\n",
       "      <td>0.100000</td>\n",
       "      <td>Indiana</td>\n",
       "    </tr>\n",
       "    <tr>\n",
       "      <th>1</th>\n",
       "      <td>0.100000</td>\n",
       "      <td>0.100000</td>\n",
       "      <td>Indiana</td>\n",
       "    </tr>\n",
       "    <tr>\n",
       "      <th>2</th>\n",
       "      <td>0.100000</td>\n",
       "      <td>0.100000</td>\n",
       "      <td>Indiana</td>\n",
       "    </tr>\n",
       "    <tr>\n",
       "      <th>3</th>\n",
       "      <td>0.100000</td>\n",
       "      <td>0.100000</td>\n",
       "      <td>Indiana</td>\n",
       "    </tr>\n",
       "    <tr>\n",
       "      <th>4</th>\n",
       "      <td>0.100000</td>\n",
       "      <td>0.100000</td>\n",
       "      <td>Indiana</td>\n",
       "    </tr>\n",
       "    <tr>\n",
       "      <th>...</th>\n",
       "      <td>...</td>\n",
       "      <td>...</td>\n",
       "      <td>...</td>\n",
       "    </tr>\n",
       "    <tr>\n",
       "      <th>637</th>\n",
       "      <td>280.569947</td>\n",
       "      <td>0.583948</td>\n",
       "      <td>Wisconsin</td>\n",
       "    </tr>\n",
       "    <tr>\n",
       "      <th>638</th>\n",
       "      <td>330.875369</td>\n",
       "      <td>0.927447</td>\n",
       "      <td>Wisconsin</td>\n",
       "    </tr>\n",
       "    <tr>\n",
       "      <th>639</th>\n",
       "      <td>128.142286</td>\n",
       "      <td>0.858747</td>\n",
       "      <td>Wisconsin</td>\n",
       "    </tr>\n",
       "    <tr>\n",
       "      <th>640</th>\n",
       "      <td>71.808457</td>\n",
       "      <td>0.549598</td>\n",
       "      <td>Wisconsin</td>\n",
       "    </tr>\n",
       "    <tr>\n",
       "      <th>641</th>\n",
       "      <td>33.113299</td>\n",
       "      <td>0.017175</td>\n",
       "      <td>Wisconsin</td>\n",
       "    </tr>\n",
       "  </tbody>\n",
       "</table>\n",
       "<p>642 rows × 3 columns</p>\n",
       "</div>"
      ],
      "text/plain": [
       "     New_Confirmed_per_100000  New_Deaths_per_100000      State\n",
       "0                    0.100000               0.100000    Indiana\n",
       "1                    0.100000               0.100000    Indiana\n",
       "2                    0.100000               0.100000    Indiana\n",
       "3                    0.100000               0.100000    Indiana\n",
       "4                    0.100000               0.100000    Indiana\n",
       "..                        ...                    ...        ...\n",
       "637                280.569947               0.583948  Wisconsin\n",
       "638                330.875369               0.927447  Wisconsin\n",
       "639                128.142286               0.858747  Wisconsin\n",
       "640                 71.808457               0.549598  Wisconsin\n",
       "641                 33.113299               0.017175  Wisconsin\n",
       "\n",
       "[642 rows x 3 columns]"
      ]
     },
     "execution_count": 16,
     "metadata": {},
     "output_type": "execute_result"
    }
   ],
   "source": [
    "confirmed=indiana_confirmed.merge(ohio_confirmed,how='outer')\n",
    "confirmed=confirmed.merge(michigan_confirmed,how='outer')\n",
    "confirmed=confirmed.merge(illinois_confirmed,how='outer')\n",
    "confirmed=confirmed.merge(kentucky_confirmed,how='outer')\n",
    "confirmed=confirmed.merge(wisconsin_confirmed,how='outer')\n",
    "confirmed"
   ]
  },
  {
   "cell_type": "code",
   "execution_count": 17,
   "id": "237a1afc",
   "metadata": {},
   "outputs": [
    {
     "data": {
      "text/html": [
       "<div>\n",
       "<style scoped>\n",
       "    .dataframe tbody tr th:only-of-type {\n",
       "        vertical-align: middle;\n",
       "    }\n",
       "\n",
       "    .dataframe tbody tr th {\n",
       "        vertical-align: top;\n",
       "    }\n",
       "\n",
       "    .dataframe thead th {\n",
       "        text-align: right;\n",
       "    }\n",
       "</style>\n",
       "<table border=\"1\" class=\"dataframe\">\n",
       "  <thead>\n",
       "    <tr style=\"text-align: right;\">\n",
       "      <th></th>\n",
       "      <th>New_Confirmed_per_100000</th>\n",
       "      <th>New_Deaths_per_100000</th>\n",
       "      <th>State</th>\n",
       "    </tr>\n",
       "  </thead>\n",
       "  <tbody>\n",
       "    <tr>\n",
       "      <th>2020-01-26</th>\n",
       "      <td>0.0</td>\n",
       "      <td>0.0</td>\n",
       "      <td>Indiana</td>\n",
       "    </tr>\n",
       "    <tr>\n",
       "      <th>2020-02-02</th>\n",
       "      <td>0.0</td>\n",
       "      <td>0.0</td>\n",
       "      <td>Indiana</td>\n",
       "    </tr>\n",
       "    <tr>\n",
       "      <th>2020-02-09</th>\n",
       "      <td>0.0</td>\n",
       "      <td>0.0</td>\n",
       "      <td>Indiana</td>\n",
       "    </tr>\n",
       "    <tr>\n",
       "      <th>2020-02-16</th>\n",
       "      <td>0.0</td>\n",
       "      <td>0.0</td>\n",
       "      <td>Indiana</td>\n",
       "    </tr>\n",
       "    <tr>\n",
       "      <th>2020-02-23</th>\n",
       "      <td>0.0</td>\n",
       "      <td>0.0</td>\n",
       "      <td>Indiana</td>\n",
       "    </tr>\n",
       "    <tr>\n",
       "      <th>...</th>\n",
       "      <td>...</td>\n",
       "      <td>...</td>\n",
       "      <td>...</td>\n",
       "    </tr>\n",
       "    <tr>\n",
       "      <th>2022-01-09</th>\n",
       "      <td>281.0</td>\n",
       "      <td>1.0</td>\n",
       "      <td>Wisconsin</td>\n",
       "    </tr>\n",
       "    <tr>\n",
       "      <th>2022-01-16</th>\n",
       "      <td>331.0</td>\n",
       "      <td>1.0</td>\n",
       "      <td>Wisconsin</td>\n",
       "    </tr>\n",
       "    <tr>\n",
       "      <th>2022-01-23</th>\n",
       "      <td>128.0</td>\n",
       "      <td>1.0</td>\n",
       "      <td>Wisconsin</td>\n",
       "    </tr>\n",
       "    <tr>\n",
       "      <th>2022-01-30</th>\n",
       "      <td>72.0</td>\n",
       "      <td>1.0</td>\n",
       "      <td>Wisconsin</td>\n",
       "    </tr>\n",
       "    <tr>\n",
       "      <th>2022-02-06</th>\n",
       "      <td>33.0</td>\n",
       "      <td>0.0</td>\n",
       "      <td>Wisconsin</td>\n",
       "    </tr>\n",
       "  </tbody>\n",
       "</table>\n",
       "<p>642 rows × 3 columns</p>\n",
       "</div>"
      ],
      "text/plain": [
       "            New_Confirmed_per_100000  New_Deaths_per_100000      State\n",
       "2020-01-26                       0.0                    0.0    Indiana\n",
       "2020-02-02                       0.0                    0.0    Indiana\n",
       "2020-02-09                       0.0                    0.0    Indiana\n",
       "2020-02-16                       0.0                    0.0    Indiana\n",
       "2020-02-23                       0.0                    0.0    Indiana\n",
       "...                              ...                    ...        ...\n",
       "2022-01-09                     281.0                    1.0  Wisconsin\n",
       "2022-01-16                     331.0                    1.0  Wisconsin\n",
       "2022-01-23                     128.0                    1.0  Wisconsin\n",
       "2022-01-30                      72.0                    1.0  Wisconsin\n",
       "2022-02-06                      33.0                    0.0  Wisconsin\n",
       "\n",
       "[642 rows x 3 columns]"
      ]
     },
     "execution_count": 17,
     "metadata": {},
     "output_type": "execute_result"
    }
   ],
   "source": [
    "Dates=indiana_confirmed.index.values\n",
    "Dates1=np.append(Dates,Dates)\n",
    "Dates2=np.append(Dates1,Dates)\n",
    "Dates3=np.append(Dates2,Dates)\n",
    "Dates4=np.append(Dates3,Dates)\n",
    "Dates5=np.append(Dates4,Dates)\n",
    "Dates\n",
    "confirmed.index=Dates5\n",
    "confirmed.New_Confirmed_per_100000=confirmed.New_Confirmed_per_100000.round()\n",
    "confirmed.New_Deaths_per_100000=confirmed.New_Deaths_per_100000.round()\n",
    "confirmed"
   ]
  },
  {
   "cell_type": "markdown",
   "id": "36e99b5c",
   "metadata": {},
   "source": [
    "Now we have our data set up again for Stage 3. For the first part, we will once again use Indiana as the state of choice. Let's graph the new weekly cases for Indiana in a histogram."
   ]
  },
  {
   "cell_type": "code",
   "execution_count": 18,
   "id": "b0320be5",
   "metadata": {},
   "outputs": [
    {
     "data": {
      "text/plain": [
       "<AxesSubplot:>"
      ]
     },
     "execution_count": 18,
     "metadata": {},
     "output_type": "execute_result"
    },
    {
     "data": {
      "image/png": "[encoded data removed]",
      "text/plain": [
       "<Figure size 864x576 with 1 Axes>"
      ]
     },
     "metadata": {
      "needs_background": "light"
     },
     "output_type": "display_data"
    }
   ],
   "source": [
    "indiana_confirmed = confirmed[confirmed[\"State\"].isin([\"Indiana\"])]\n",
    "indiana_confirmed.New_Confirmed_per_100000.hist(bins=20, ec='black', figsize=(12,8))"
   ]
  },
  {
   "cell_type": "markdown",
   "id": "cf7c1fef",
   "metadata": {},
   "source": [
    "Hmm, a histogram doesn't seem to be that useful here, as our new cases are a continuous variable instead of discrete. Let's plot a density plot instead. We are maxing the x axis at 350 because the max value for cases in all states is 330. As such, as we look at multiple states, the line likely will stop prematurely."
   ]
  },
  {
   "cell_type": "code",
   "execution_count": 19,
   "id": "93563c80",
   "metadata": {},
   "outputs": [
    {
     "data": {
      "text/plain": [
       "<AxesSubplot:ylabel='Density'>"
      ]
     },
     "execution_count": 19,
     "metadata": {},
     "output_type": "execute_result"
    },
    {
     "data": {
      "image/png": "[encoded data removed]",
      "text/plain": [
       "<Figure size 648x648 with 1 Axes>"
      ]
     },
     "metadata": {
      "needs_background": "light"
     },
     "output_type": "display_data"
    }
   ],
   "source": [
    "pd.DataFrame(indiana_confirmed.New_Confirmed_per_100000).plot(kind=\"density\",\n",
    "                               figsize=(9,9),\n",
    "                               xlim=(0,350))"
   ]
  },
  {
   "cell_type": "markdown",
   "id": "bad09d5b",
   "metadata": {},
   "source": [
    "Based on the density plot above, Indiana appears to follow a gamma distribution for its new weekly COVID cases. What are its statistics?"
   ]
  },
  {
   "cell_type": "code",
   "execution_count": 20,
   "id": "af260c34",
   "metadata": {},
   "outputs": [
    {
     "data": {
      "text/plain": [
       "33.09345794392523"
      ]
     },
     "execution_count": 20,
     "metadata": {},
     "output_type": "execute_result"
    }
   ],
   "source": [
    "indiana_confirmed.New_Confirmed_per_100000.mean()"
   ]
  },
  {
   "cell_type": "markdown",
   "id": "309fedda",
   "metadata": {},
   "source": [
    "The mean looks to be just over 33."
   ]
  },
  {
   "cell_type": "code",
   "execution_count": 21,
   "id": "14b930cc",
   "metadata": {},
   "outputs": [
    {
     "data": {
      "text/plain": [
       "1663.1043907600067"
      ]
     },
     "execution_count": 21,
     "metadata": {},
     "output_type": "execute_result"
    }
   ],
   "source": [
    "indiana_confirmed.New_Confirmed_per_100000.var()"
   ]
  },
  {
   "cell_type": "markdown",
   "id": "900f7ec7",
   "metadata": {},
   "source": [
    "Variance is nearly 1,664."
   ]
  },
  {
   "cell_type": "code",
   "execution_count": 22,
   "id": "54fe8127",
   "metadata": {},
   "outputs": [
    {
     "data": {
      "text/plain": [
       "2.359975746241423"
      ]
     },
     "execution_count": 22,
     "metadata": {},
     "output_type": "execute_result"
    }
   ],
   "source": [
    "from scipy.stats import skew\n",
    "skew(indiana_confirmed.New_Confirmed_per_100000)"
   ]
  },
  {
   "cell_type": "markdown",
   "id": "d3a4ee58",
   "metadata": {},
   "source": [
    "Our skewness is quite high, but that's not surprising considering what we saw from the density plot above."
   ]
  },
  {
   "cell_type": "code",
   "execution_count": 23,
   "id": "84e43454",
   "metadata": {},
   "outputs": [
    {
     "data": {
      "text/plain": [
       "6.336053135573369"
      ]
     },
     "execution_count": 23,
     "metadata": {},
     "output_type": "execute_result"
    }
   ],
   "source": [
    "from scipy.stats import kurtosis\n",
    "kurtosis(indiana_confirmed.New_Confirmed_per_100000)"
   ]
  },
  {
   "cell_type": "markdown",
   "id": "f3746614",
   "metadata": {},
   "source": [
    "Like with skewness, kurtosis is high, again not surprising considering the density plot. So how do other states look? "
   ]
  },
  {
   "cell_type": "code",
   "execution_count": 24,
   "id": "773435d3",
   "metadata": {},
   "outputs": [
    {
     "data": {
      "text/plain": [
       "<AxesSubplot:ylabel='Density'>"
      ]
     },
     "execution_count": 24,
     "metadata": {},
     "output_type": "execute_result"
    },
    {
     "data": {
      "image/png": "[encoded data removed]",
      "text/plain": [
       "<Figure size 648x648 with 1 Axes>"
      ]
     },
     "metadata": {
      "needs_background": "light"
     },
     "output_type": "display_data"
    }
   ],
   "source": [
    "pd.DataFrame(confirmed[confirmed[\"State\"].isin([\"Ohio\"])]).plot(kind=\"density\",\n",
    "                             y=\"New_Confirmed_per_100000\",\n",
    "                               figsize=(9,9),\n",
    "                               xlim=(0,350))\n",
    "                               "
   ]
  },
  {
   "cell_type": "code",
   "execution_count": 25,
   "id": "d0359ef4",
   "metadata": {
    "scrolled": false
   },
   "outputs": [
    {
     "data": {
      "text/plain": [
       "<AxesSubplot:ylabel='Density'>"
      ]
     },
     "execution_count": 25,
     "metadata": {},
     "output_type": "execute_result"
    },
    {
     "data": {
      "image/png": "[encoded data removed]",
      "text/plain": [
       "<Figure size 648x648 with 1 Axes>"
      ]
     },
     "metadata": {
      "needs_background": "light"
     },
     "output_type": "display_data"
    }
   ],
   "source": [
    "pd.DataFrame(confirmed[confirmed[\"State\"].isin([\"Illinois\"])]).plot(kind=\"density\",\n",
    "                             y=\"New_Confirmed_per_100000\",\n",
    "                               figsize=(9,9),\n",
    "                               xlim=(0,350))\n",
    "                               "
   ]
  },
  {
   "cell_type": "code",
   "execution_count": 26,
   "id": "e43aefe1",
   "metadata": {},
   "outputs": [
    {
     "data": {
      "text/plain": [
       "<AxesSubplot:ylabel='Density'>"
      ]
     },
     "execution_count": 26,
     "metadata": {},
     "output_type": "execute_result"
    },
    {
     "data": {
      "image/png": "[encoded data removed]",
      "text/plain": [
       "<Figure size 648x648 with 1 Axes>"
      ]
     },
     "metadata": {
      "needs_background": "light"
     },
     "output_type": "display_data"
    }
   ],
   "source": [
    "pd.DataFrame(confirmed[confirmed[\"State\"].isin([\"Kentucky\"])]).plot(kind=\"density\",\n",
    "                             y=\"New_Confirmed_per_100000\",\n",
    "                               figsize=(9,9),\n",
    "                               xlim=(0,350))\n",
    "                               "
   ]
  },
  {
   "cell_type": "code",
   "execution_count": 27,
   "id": "fb8f8c22",
   "metadata": {},
   "outputs": [
    {
     "data": {
      "text/plain": [
       "<AxesSubplot:ylabel='Density'>"
      ]
     },
     "execution_count": 27,
     "metadata": {},
     "output_type": "execute_result"
    },
    {
     "data": {
      "image/png": "[encoded data removed]",
      "text/plain": [
       "<Figure size 648x648 with 1 Axes>"
      ]
     },
     "metadata": {
      "needs_background": "light"
     },
     "output_type": "display_data"
    }
   ],
   "source": [
    "pd.DataFrame(confirmed[confirmed[\"State\"].isin([\"Michigan\"])]).plot(kind=\"density\",\n",
    "                             y=\"New_Confirmed_per_100000\",\n",
    "                               figsize=(9,9),\n",
    "                               xlim=(0,350))\n",
    "                               "
   ]
  },
  {
   "cell_type": "code",
   "execution_count": 28,
   "id": "2f0d8fa5",
   "metadata": {},
   "outputs": [
    {
     "data": {
      "text/plain": [
       "<AxesSubplot:ylabel='Density'>"
      ]
     },
     "execution_count": 28,
     "metadata": {},
     "output_type": "execute_result"
    },
    {
     "data": {
      "image/png": "[encoded data removed]",
      "text/plain": [
       "<Figure size 648x648 with 1 Axes>"
      ]
     },
     "metadata": {
      "needs_background": "light"
     },
     "output_type": "display_data"
    }
   ],
   "source": [
    "pd.DataFrame(confirmed[confirmed[\"State\"].isin([\"Wisconsin\"])]).plot(kind=\"density\",\n",
    "                             y=\"New_Confirmed_per_100000\",\n",
    "                               figsize=(9,9),\n",
    "                               xlim=(0,350))\n",
    "                               "
   ]
  },
  {
   "cell_type": "markdown",
   "id": "cb1dca82",
   "metadata": {},
   "source": [
    "As we can see, the distributions are nearly identical for every state. This would indicate that each of the states have similar patterns in regards to weekly average covid cases. This makes sense, since all of these states are geographically close to each other, so their COVID case patterns would be influenced by each other. We now are moving on to poisson distributions for each state."
   ]
  },
  {
   "cell_type": "markdown",
   "id": "6ae86335",
   "metadata": {},
   "source": [
    "We'll use the mean value for indiana cases as our parameter for generating our poisson distribution. In this example we chose to have a sample size of 100,000, since that is what our cases are multiplied by."
   ]
  },
  {
   "cell_type": "code",
   "execution_count": 29,
   "id": "c33f0e0b",
   "metadata": {},
   "outputs": [
    {
     "data": {
      "text/plain": [
       "array([[<AxesSubplot:title={'center':'0'}>]], dtype=object)"
      ]
     },
     "execution_count": 29,
     "metadata": {},
     "output_type": "execute_result"
    },
    {
     "data": {
      "image/png": "[encoded data removed]",
      "text/plain": [
       "<Figure size 432x288 with 1 Axes>"
      ]
     },
     "metadata": {
      "needs_background": "light"
     },
     "output_type": "display_data"
    }
   ],
   "source": [
    "indiana_cases_poisson=stats.poisson.rvs(size=100000, mu=indiana_confirmed.New_Confirmed_per_100000.mean())\n",
    "pd.DataFrame(indiana_cases_poisson).hist(range=(-0.5,max(indiana_cases_poisson)+0.5)\n",
    "                                    , bins=max(indiana_cases_poisson)+1, ec='black')"
   ]
  },
  {
   "cell_type": "markdown",
   "id": "ef4a43ab",
   "metadata": {},
   "source": [
    "Unlike what we saw with our density plots, the poisson plot is much more symmetrical. This is in part due to large sample size, and also due to the nature of poisson distributions. They model the probability of seeing a certain number of successes within a time interval (in this case, one week). It's single parameter is a mean value, which as mentioned before is the mean number of cases per week. So, when sampling, it will be sampling around the mean, so values closest to the mean will be higher. If the average number of cases (successes) is around 33, then the distribution will peak around 33. "
   ]
  },
  {
   "cell_type": "code",
   "execution_count": 30,
   "id": "95a2e04a",
   "metadata": {},
   "outputs": [
    {
     "data": {
      "text/plain": [
       "60"
      ]
     },
     "execution_count": 30,
     "metadata": {},
     "output_type": "execute_result"
    }
   ],
   "source": [
    "indiana_cases_poisson.max()"
   ]
  },
  {
   "cell_type": "markdown",
   "id": "331879c6",
   "metadata": {},
   "source": [
    "This is the max value in our poisson distribution. I wonder what percentage of successes was at this max?"
   ]
  },
  {
   "cell_type": "code",
   "execution_count": 31,
   "id": "49dce29c",
   "metadata": {},
   "outputs": [
    {
     "data": {
      "text/plain": [
       "7.799161667294146e-06"
      ]
     },
     "execution_count": 31,
     "metadata": {},
     "output_type": "execute_result"
    }
   ],
   "source": [
    "stats.poisson.pmf(k=indiana_cases_poisson.max(),mu=indiana_confirmed.New_Confirmed_per_100000.mean())"
   ]
  },
  {
   "cell_type": "markdown",
   "id": "0af127de",
   "metadata": {},
   "source": [
    "Apparently, an extremely low percentage, in the hundred-thousandths of a percent. What about the min?"
   ]
  },
  {
   "cell_type": "code",
   "execution_count": 32,
   "id": "28170ef7",
   "metadata": {},
   "outputs": [
    {
     "data": {
      "text/plain": [
       "11"
      ]
     },
     "execution_count": 32,
     "metadata": {},
     "output_type": "execute_result"
    }
   ],
   "source": [
    "indiana_cases_poisson.min()"
   ]
  },
  {
   "cell_type": "code",
   "execution_count": 33,
   "id": "87d8d9c6",
   "metadata": {},
   "outputs": [
    {
     "data": {
      "text/plain": [
       "5.54244956240871e-06"
      ]
     },
     "execution_count": 33,
     "metadata": {},
     "output_type": "execute_result"
    }
   ],
   "source": [
    "stats.poisson.pmf(k=indiana_cases_poisson.min(),mu=indiana_confirmed.New_Confirmed_per_100000.mean())"
   ]
  },
  {
   "cell_type": "markdown",
   "id": "2904209a",
   "metadata": {},
   "source": [
    "Basically the same thing, it appears. Let's try a couple more numbers. How about 20?"
   ]
  },
  {
   "cell_type": "code",
   "execution_count": 34,
   "id": "a11ad4b9",
   "metadata": {},
   "outputs": [
    {
     "data": {
      "text/plain": [
       "0.004329245283082334"
      ]
     },
     "execution_count": 34,
     "metadata": {},
     "output_type": "execute_result"
    }
   ],
   "source": [
    "stats.poisson.pmf(k=20,mu=indiana_confirmed.New_Confirmed_per_100000.mean())"
   ]
  },
  {
   "cell_type": "markdown",
   "id": "7a4091b5",
   "metadata": {},
   "source": [
    "Even when we bump up to 20, we still only have less than half a percent chance of exactly 20 cases per 100,000 per week. How about about 33, close to the mean?"
   ]
  },
  {
   "cell_type": "code",
   "execution_count": 35,
   "id": "dbbe2ff8",
   "metadata": {},
   "outputs": [
    {
     "data": {
      "text/plain": [
       "0.06926264307789927"
      ]
     },
     "execution_count": 35,
     "metadata": {},
     "output_type": "execute_result"
    }
   ],
   "source": [
    "stats.poisson.pmf(k=33,mu=indiana_confirmed.New_Confirmed_per_100000.mean())"
   ]
  },
  {
   "cell_type": "markdown",
   "id": "3b7407ea",
   "metadata": {},
   "source": [
    "Here we're finally seeing usable percentages. There is essentially a 7% chance of exactly 33 cases per 100,000 in a week. This seems likely, as even though the mean is near 33, there are a lot of numbers that can be selected, so the odds of exactly 33 will still not be particularly high. This percentage increases the lower the mean parameter is. Lastly, just for fun, let's look at 40. "
   ]
  },
  {
   "cell_type": "code",
   "execution_count": 36,
   "id": "190e8e54",
   "metadata": {},
   "outputs": [
    {
     "data": {
      "text/plain": [
       "0.03204311457071284"
      ]
     },
     "execution_count": 36,
     "metadata": {},
     "output_type": "execute_result"
    }
   ],
   "source": [
    "stats.poisson.pmf(k=40,mu=indiana_confirmed.New_Confirmed_per_100000.mean())"
   ]
  },
  {
   "cell_type": "markdown",
   "id": "25bd8605",
   "metadata": {},
   "source": [
    "Just over 3% for exactly 40 cases, to be expected considering its proximity to 33. How do the other states compare?"
   ]
  },
  {
   "cell_type": "markdown",
   "id": "0685e4a1",
   "metadata": {},
   "source": [
    "Michigan:"
   ]
  },
  {
   "cell_type": "code",
   "execution_count": 37,
   "id": "2de6b5f6",
   "metadata": {},
   "outputs": [
    {
     "data": {
      "text/plain": [
       "array([[<AxesSubplot:title={'center':'0'}>]], dtype=object)"
      ]
     },
     "execution_count": 37,
     "metadata": {},
     "output_type": "execute_result"
    },
    {
     "data": {
      "image/png": "[encoded data removed]",
      "text/plain": [
       "<Figure size 432x288 with 1 Axes>"
      ]
     },
     "metadata": {
      "needs_background": "light"
     },
     "output_type": "display_data"
    }
   ],
   "source": [
    "michigan_cases_poisson=stats.poisson.rvs(size=100000, mu=confirmed[confirmed[\"State\"].isin([\"Michigan\"])].New_Confirmed_per_100000.mean())\n",
    "pd.DataFrame(michigan_cases_poisson).hist(range=(-0.5,max(michigan_cases_poisson)+0.5)\n",
    "                                    , bins=max(michigan_cases_poisson)+1, ec='black')"
   ]
  },
  {
   "cell_type": "markdown",
   "id": "e35ac8b5",
   "metadata": {},
   "source": [
    "Ohio:"
   ]
  },
  {
   "cell_type": "code",
   "execution_count": 38,
   "id": "0baf17ff",
   "metadata": {},
   "outputs": [
    {
     "data": {
      "text/plain": [
       "array([[<AxesSubplot:title={'center':'0'}>]], dtype=object)"
      ]
     },
     "execution_count": 38,
     "metadata": {},
     "output_type": "execute_result"
    },
    {
     "data": {
      "image/png": "[encoded data removed]",
      "text/plain": [
       "<Figure size 432x288 with 1 Axes>"
      ]
     },
     "metadata": {
      "needs_background": "light"
     },
     "output_type": "display_data"
    }
   ],
   "source": [
    "ohio_cases_poisson=stats.poisson.rvs(size=100000, mu=confirmed[confirmed[\"State\"].isin([\"Ohio\"])].New_Confirmed_per_100000.mean())\n",
    "pd.DataFrame(ohio_cases_poisson).hist(range=(-0.5,max(ohio_cases_poisson)+0.5)\n",
    "                                    , bins=max(ohio_cases_poisson)+1, ec='black')"
   ]
  },
  {
   "cell_type": "markdown",
   "id": "29bd2b72",
   "metadata": {},
   "source": [
    "Illinois:"
   ]
  },
  {
   "cell_type": "code",
   "execution_count": 39,
   "id": "7d2b918f",
   "metadata": {
    "scrolled": true
   },
   "outputs": [
    {
     "data": {
      "text/plain": [
       "array([[<AxesSubplot:title={'center':'0'}>]], dtype=object)"
      ]
     },
     "execution_count": 39,
     "metadata": {},
     "output_type": "execute_result"
    },
    {
     "data": {
      "image/png": "[encoded data removed]",
      "text/plain": [
       "<Figure size 432x288 with 1 Axes>"
      ]
     },
     "metadata": {
      "needs_background": "light"
     },
     "output_type": "display_data"
    }
   ],
   "source": [
    "illinois_cases_poisson=stats.poisson.rvs(size=100000, mu=confirmed[confirmed[\"State\"].isin([\"Illinois\"])].New_Confirmed_per_100000.mean())\n",
    "pd.DataFrame(illinois_cases_poisson).hist(range=(-0.5,max(illinois_cases_poisson)+0.5)\n",
    "                                    , bins=max(illinois_cases_poisson)+1, ec='black')"
   ]
  },
  {
   "cell_type": "markdown",
   "id": "47918bd8",
   "metadata": {},
   "source": [
    "Kentucky:"
   ]
  },
  {
   "cell_type": "code",
   "execution_count": 40,
   "id": "5a588d92",
   "metadata": {},
   "outputs": [
    {
     "data": {
      "text/plain": [
       "array([[<AxesSubplot:title={'center':'0'}>]], dtype=object)"
      ]
     },
     "execution_count": 40,
     "metadata": {},
     "output_type": "execute_result"
    },
    {
     "data": {
      "image/png": "[encoded data removed]",
      "text/plain": [
       "<Figure size 432x288 with 1 Axes>"
      ]
     },
     "metadata": {
      "needs_background": "light"
     },
     "output_type": "display_data"
    }
   ],
   "source": [
    "kentucky_cases_poisson=stats.poisson.rvs(size=100000, mu=confirmed[confirmed[\"State\"].isin([\"Kentucky\"])].New_Confirmed_per_100000.mean())\n",
    "pd.DataFrame(kentucky_cases_poisson).hist(range=(-0.5,max(kentucky_cases_poisson)+0.5)\n",
    "                                    , bins=max(kentucky_cases_poisson)+1, ec='black')"
   ]
  },
  {
   "cell_type": "markdown",
   "id": "e91e35e5",
   "metadata": {},
   "source": [
    "Wisconsin:"
   ]
  },
  {
   "cell_type": "code",
   "execution_count": 41,
   "id": "bc8fc24c",
   "metadata": {},
   "outputs": [
    {
     "data": {
      "text/plain": [
       "array([[<AxesSubplot:title={'center':'0'}>]], dtype=object)"
      ]
     },
     "execution_count": 41,
     "metadata": {},
     "output_type": "execute_result"
    },
    {
     "data": {
      "image/png": "[encoded data removed]",
      "text/plain": [
       "<Figure size 432x288 with 1 Axes>"
      ]
     },
     "metadata": {
      "needs_background": "light"
     },
     "output_type": "display_data"
    }
   ],
   "source": [
    "wisconsin_cases_poisson=stats.poisson.rvs(size=100000, mu=confirmed[confirmed[\"State\"].isin([\"Wisconsin\"])].New_Confirmed_per_100000.mean())\n",
    "pd.DataFrame(wisconsin_cases_poisson).hist(range=(-0.5,max(wisconsin_cases_poisson)+0.5)\n",
    "                                    , bins=max(wisconsin_cases_poisson)+1, ec='black')"
   ]
  },
  {
   "cell_type": "markdown",
   "id": "f90bba64",
   "metadata": {},
   "source": [
    "Not surprisingly, the other 5 states have distributions near identical to Indiana. The main difference comes from the mean point of the poisson distribution. Illinois is the most similar to Indiana, at around 32. Wisconsin looks to be at 33 as well, but numbers above it don't drop as quickly. Both Michigan and Ohio hover around 30. Interestingly, Kentucky has higher mean near 36 or 37. This data further confirms my previous statement that the 5 states closely mirror each other in Covid cases. How about deaths?"
   ]
  },
  {
   "cell_type": "markdown",
   "id": "fb54f8a8",
   "metadata": {},
   "source": [
    "Indiana:"
   ]
  },
  {
   "cell_type": "code",
   "execution_count": 42,
   "id": "17baa65d",
   "metadata": {},
   "outputs": [
    {
     "data": {
      "text/plain": [
       "array([[<AxesSubplot:title={'center':'0'}>]], dtype=object)"
      ]
     },
     "execution_count": 42,
     "metadata": {},
     "output_type": "execute_result"
    },
    {
     "data": {
      "image/png": "[encoded data removed]",
      "text/plain": [
       "<Figure size 432x288 with 1 Axes>"
      ]
     },
     "metadata": {
      "needs_background": "light"
     },
     "output_type": "display_data"
    }
   ],
   "source": [
    "indiana_deaths_poisson=stats.poisson.rvs(size=100000, mu=confirmed[confirmed[\"State\"].isin([\"Indiana\"])].New_Deaths_per_100000.mean())\n",
    "pd.DataFrame(indiana_deaths_poisson).hist(range=(-0.5,max(indiana_deaths_poisson)+0.5)\n",
    "                                    , bins=max(indiana_deaths_poisson)+1, ec='black')"
   ]
  },
  {
   "cell_type": "markdown",
   "id": "58ff8cc6",
   "metadata": {},
   "source": [
    "This is where my prior point about higher mean parameters for a poisson distribution make sense. Since very few people per 100,000 die per week, the mean is very low, so the data becomes skewed. "
   ]
  },
  {
   "cell_type": "code",
   "execution_count": 43,
   "id": "b494d2cf",
   "metadata": {},
   "outputs": [
    {
     "data": {
      "text/plain": [
       "0.707657971919534"
      ]
     },
     "execution_count": 43,
     "metadata": {},
     "output_type": "execute_result"
    }
   ],
   "source": [
    "stats.poisson.pmf(k=0,mu=confirmed[confirmed[\"State\"].isin([\"Indiana\"])].New_Deaths_per_100000.mean())"
   ]
  },
  {
   "cell_type": "markdown",
   "id": "a34bde2f",
   "metadata": {},
   "source": [
    "This is a prime example. 70% chance that 0 people died per 100,000 per week. What about the other states?"
   ]
  },
  {
   "cell_type": "markdown",
   "id": "5ed9941f",
   "metadata": {},
   "source": [
    "Michigan"
   ]
  },
  {
   "cell_type": "code",
   "execution_count": 44,
   "id": "59fe7fe2",
   "metadata": {},
   "outputs": [
    {
     "data": {
      "text/plain": [
       "array([[<AxesSubplot:title={'center':'0'}>]], dtype=object)"
      ]
     },
     "execution_count": 44,
     "metadata": {},
     "output_type": "execute_result"
    },
    {
     "data": {
      "image/png": "[encoded data removed]",
      "text/plain": [
       "<Figure size 432x288 with 1 Axes>"
      ]
     },
     "metadata": {
      "needs_background": "light"
     },
     "output_type": "display_data"
    }
   ],
   "source": [
    "michigan_cases_poisson=stats.poisson.rvs(size=100000, mu=confirmed[confirmed[\"State\"].isin([\"Michigan\"])].New_Deaths_per_100000.mean())\n",
    "pd.DataFrame(michigan_cases_poisson).hist(range=(-0.5,max(michigan_cases_poisson)+0.5)\n",
    "                                    , bins=max(michigan_cases_poisson)+1, ec='black')"
   ]
  },
  {
   "cell_type": "markdown",
   "id": "9363e2b7",
   "metadata": {},
   "source": [
    "Ohio:"
   ]
  },
  {
   "cell_type": "code",
   "execution_count": 45,
   "id": "b400a0e8",
   "metadata": {},
   "outputs": [
    {
     "data": {
      "text/plain": [
       "array([[<AxesSubplot:title={'center':'0'}>]], dtype=object)"
      ]
     },
     "execution_count": 45,
     "metadata": {},
     "output_type": "execute_result"
    },
    {
     "data": {
      "image/png": "[encoded data removed]",
      "text/plain": [
       "<Figure size 432x288 with 1 Axes>"
      ]
     },
     "metadata": {
      "needs_background": "light"
     },
     "output_type": "display_data"
    }
   ],
   "source": [
    "ohio_cases_poisson=stats.poisson.rvs(size=100000, mu=confirmed[confirmed[\"State\"].isin([\"Ohio\"])].New_Deaths_per_100000.mean())\n",
    "pd.DataFrame(ohio_cases_poisson).hist(range=(-0.5,max(ohio_cases_poisson)+0.5)\n",
    "                                    , bins=max(ohio_cases_poisson)+1, ec='black')"
   ]
  },
  {
   "cell_type": "markdown",
   "id": "aedf3a15",
   "metadata": {},
   "source": [
    "Illinois:"
   ]
  },
  {
   "cell_type": "code",
   "execution_count": 46,
   "id": "c5f67db7",
   "metadata": {},
   "outputs": [
    {
     "data": {
      "text/plain": [
       "array([[<AxesSubplot:title={'center':'0'}>]], dtype=object)"
      ]
     },
     "execution_count": 46,
     "metadata": {},
     "output_type": "execute_result"
    },
    {
     "data": {
      "image/png": "[encoded data removed]",
      "text/plain": [
       "<Figure size 432x288 with 1 Axes>"
      ]
     },
     "metadata": {
      "needs_background": "light"
     },
     "output_type": "display_data"
    }
   ],
   "source": [
    "illinois_cases_poisson=stats.poisson.rvs(size=100000, mu=confirmed[confirmed[\"State\"].isin([\"Illinois\"])].New_Deaths_per_100000.mean())\n",
    "pd.DataFrame(illinois_cases_poisson).hist(range=(-0.5,max(illinois_cases_poisson)+0.5)\n",
    "                                    , bins=max(illinois_cases_poisson)+1, ec='black')"
   ]
  },
  {
   "cell_type": "markdown",
   "id": "5f6b83f7",
   "metadata": {},
   "source": [
    "Kentucky:"
   ]
  },
  {
   "cell_type": "code",
   "execution_count": 47,
   "id": "ee2dd23a",
   "metadata": {},
   "outputs": [
    {
     "data": {
      "text/plain": [
       "array([[<AxesSubplot:title={'center':'0'}>]], dtype=object)"
      ]
     },
     "execution_count": 47,
     "metadata": {},
     "output_type": "execute_result"
    },
    {
     "data": {
      "image/png": "[encoded data removed]",
      "text/plain": [
       "<Figure size 432x288 with 1 Axes>"
      ]
     },
     "metadata": {
      "needs_background": "light"
     },
     "output_type": "display_data"
    }
   ],
   "source": [
    "kentucky_cases_poisson=stats.poisson.rvs(size=100000, mu=confirmed[confirmed[\"State\"].isin([\"Kentucky\"])].New_Deaths_per_100000.mean())\n",
    "pd.DataFrame(kentucky_cases_poisson).hist(range=(-0.5,max(kentucky_cases_poisson)+0.5)\n",
    "                                    , bins=max(kentucky_cases_poisson)+1, ec='black')"
   ]
  },
  {
   "cell_type": "markdown",
   "id": "ba096fe8",
   "metadata": {},
   "source": [
    "Wisconsin:"
   ]
  },
  {
   "cell_type": "code",
   "execution_count": 48,
   "id": "abb0a91b",
   "metadata": {},
   "outputs": [
    {
     "data": {
      "text/plain": [
       "array([[<AxesSubplot:title={'center':'0'}>]], dtype=object)"
      ]
     },
     "execution_count": 48,
     "metadata": {},
     "output_type": "execute_result"
    },
    {
     "data": {
      "image/png": "[encoded data removed]",
      "text/plain": [
       "<Figure size 432x288 with 1 Axes>"
      ]
     },
     "metadata": {
      "needs_background": "light"
     },
     "output_type": "display_data"
    }
   ],
   "source": [
    "wisconsin_cases_poisson=stats.poisson.rvs(size=100000, mu=confirmed[confirmed[\"State\"].isin([\"Wisconsin\"])].New_Deaths_per_100000.mean())\n",
    "pd.DataFrame(wisconsin_cases_poisson).hist(range=(-0.5,max(wisconsin_cases_poisson)+0.5)\n",
    "                                    , bins=max(wisconsin_cases_poisson)+1, ec='black')"
   ]
  },
  {
   "cell_type": "markdown",
   "id": "9b111038",
   "metadata": {},
   "source": [
    "They all follow the same trend, though interestingly Wisconsin is the only one to never generate 3 out of 100,000. "
   ]
  },
  {
   "cell_type": "markdown",
   "id": "e5a5ec82",
   "metadata": {},
   "source": [
    "We now need to pull in our Enrichment data, and aggregate up to state level for analyses. "
   ]
  },
  {
   "cell_type": "code",
   "execution_count": 49,
   "id": "ea9e3a42",
   "metadata": {},
   "outputs": [
    {
     "data": {
      "text/html": [
       "<div>\n",
       "<style scoped>\n",
       "    .dataframe tbody tr th:only-of-type {\n",
       "        vertical-align: middle;\n",
       "    }\n",
       "\n",
       "    .dataframe tbody tr th {\n",
       "        vertical-align: top;\n",
       "    }\n",
       "\n",
       "    .dataframe thead th {\n",
       "        text-align: right;\n",
       "    }\n",
       "</style>\n",
       "<table border=\"1\" class=\"dataframe\">\n",
       "  <thead>\n",
       "    <tr style=\"text-align: right;\">\n",
       "      <th></th>\n",
       "      <th>countyFIPS</th>\n",
       "      <th>County_Name</th>\n",
       "      <th>State</th>\n",
       "      <th>Date</th>\n",
       "      <th>Confirmed</th>\n",
       "      <th>Deaths</th>\n",
       "      <th>population</th>\n",
       "      <th>No_Diploma</th>\n",
       "      <th>High_School</th>\n",
       "      <th>Associates</th>\n",
       "      <th>...</th>\n",
       "      <th>Ten_to_Fifteen</th>\n",
       "      <th>Fifteen_to_TwentyFive</th>\n",
       "      <th>TwentyFive_to_ThirtyFive</th>\n",
       "      <th>ThirtyFive_to_Fifty</th>\n",
       "      <th>Fifty_to_SeventyFive</th>\n",
       "      <th>SeventyFive_to_Hundred</th>\n",
       "      <th>Hundred_to_HundredFifty</th>\n",
       "      <th>HundredFifty_to_TwoHundred</th>\n",
       "      <th>Above_TwoHundred</th>\n",
       "      <th>Below_Poverty_Level</th>\n",
       "    </tr>\n",
       "  </thead>\n",
       "  <tbody>\n",
       "    <tr>\n",
       "      <th>0</th>\n",
       "      <td>1003</td>\n",
       "      <td>baldwin county</td>\n",
       "      <td>AL</td>\n",
       "      <td>1/22/2020</td>\n",
       "      <td>0</td>\n",
       "      <td>0</td>\n",
       "      <td>223234</td>\n",
       "      <td>12068</td>\n",
       "      <td>41884</td>\n",
       "      <td>16170</td>\n",
       "      <td>...</td>\n",
       "      <td>3189</td>\n",
       "      <td>7760</td>\n",
       "      <td>8552</td>\n",
       "      <td>13600</td>\n",
       "      <td>11589</td>\n",
       "      <td>10969</td>\n",
       "      <td>13141</td>\n",
       "      <td>4064</td>\n",
       "      <td>5393</td>\n",
       "      <td>10.1</td>\n",
       "    </tr>\n",
       "    <tr>\n",
       "      <th>1</th>\n",
       "      <td>1003</td>\n",
       "      <td>baldwin county</td>\n",
       "      <td>AL</td>\n",
       "      <td>1/23/2020</td>\n",
       "      <td>0</td>\n",
       "      <td>0</td>\n",
       "      <td>223234</td>\n",
       "      <td>12068</td>\n",
       "      <td>41884</td>\n",
       "      <td>16170</td>\n",
       "      <td>...</td>\n",
       "      <td>3189</td>\n",
       "      <td>7760</td>\n",
       "      <td>8552</td>\n",
       "      <td>13600</td>\n",
       "      <td>11589</td>\n",
       "      <td>10969</td>\n",
       "      <td>13141</td>\n",
       "      <td>4064</td>\n",
       "      <td>5393</td>\n",
       "      <td>10.1</td>\n",
       "    </tr>\n",
       "    <tr>\n",
       "      <th>2</th>\n",
       "      <td>1003</td>\n",
       "      <td>baldwin county</td>\n",
       "      <td>AL</td>\n",
       "      <td>1/24/2020</td>\n",
       "      <td>0</td>\n",
       "      <td>0</td>\n",
       "      <td>223234</td>\n",
       "      <td>12068</td>\n",
       "      <td>41884</td>\n",
       "      <td>16170</td>\n",
       "      <td>...</td>\n",
       "      <td>3189</td>\n",
       "      <td>7760</td>\n",
       "      <td>8552</td>\n",
       "      <td>13600</td>\n",
       "      <td>11589</td>\n",
       "      <td>10969</td>\n",
       "      <td>13141</td>\n",
       "      <td>4064</td>\n",
       "      <td>5393</td>\n",
       "      <td>10.1</td>\n",
       "    </tr>\n",
       "    <tr>\n",
       "      <th>3</th>\n",
       "      <td>1003</td>\n",
       "      <td>baldwin county</td>\n",
       "      <td>AL</td>\n",
       "      <td>1/25/2020</td>\n",
       "      <td>0</td>\n",
       "      <td>0</td>\n",
       "      <td>223234</td>\n",
       "      <td>12068</td>\n",
       "      <td>41884</td>\n",
       "      <td>16170</td>\n",
       "      <td>...</td>\n",
       "      <td>3189</td>\n",
       "      <td>7760</td>\n",
       "      <td>8552</td>\n",
       "      <td>13600</td>\n",
       "      <td>11589</td>\n",
       "      <td>10969</td>\n",
       "      <td>13141</td>\n",
       "      <td>4064</td>\n",
       "      <td>5393</td>\n",
       "      <td>10.1</td>\n",
       "    </tr>\n",
       "    <tr>\n",
       "      <th>4</th>\n",
       "      <td>1003</td>\n",
       "      <td>baldwin county</td>\n",
       "      <td>AL</td>\n",
       "      <td>1/26/2020</td>\n",
       "      <td>0</td>\n",
       "      <td>0</td>\n",
       "      <td>223234</td>\n",
       "      <td>12068</td>\n",
       "      <td>41884</td>\n",
       "      <td>16170</td>\n",
       "      <td>...</td>\n",
       "      <td>3189</td>\n",
       "      <td>7760</td>\n",
       "      <td>8552</td>\n",
       "      <td>13600</td>\n",
       "      <td>11589</td>\n",
       "      <td>10969</td>\n",
       "      <td>13141</td>\n",
       "      <td>4064</td>\n",
       "      <td>5393</td>\n",
       "      <td>10.1</td>\n",
       "    </tr>\n",
       "  </tbody>\n",
       "</table>\n",
       "<p>5 rows × 24 columns</p>\n",
       "</div>"
      ],
      "text/plain": [
       "   countyFIPS     County_Name State       Date  Confirmed  Deaths  population  \\\n",
       "0        1003  baldwin county    AL  1/22/2020          0       0      223234   \n",
       "1        1003  baldwin county    AL  1/23/2020          0       0      223234   \n",
       "2        1003  baldwin county    AL  1/24/2020          0       0      223234   \n",
       "3        1003  baldwin county    AL  1/25/2020          0       0      223234   \n",
       "4        1003  baldwin county    AL  1/26/2020          0       0      223234   \n",
       "\n",
       "   No_Diploma  High_School  Associates  ...  Ten_to_Fifteen  \\\n",
       "0       12068        41884       16170  ...            3189   \n",
       "1       12068        41884       16170  ...            3189   \n",
       "2       12068        41884       16170  ...            3189   \n",
       "3       12068        41884       16170  ...            3189   \n",
       "4       12068        41884       16170  ...            3189   \n",
       "\n",
       "   Fifteen_to_TwentyFive  TwentyFive_to_ThirtyFive  ThirtyFive_to_Fifty  \\\n",
       "0                   7760                      8552                13600   \n",
       "1                   7760                      8552                13600   \n",
       "2                   7760                      8552                13600   \n",
       "3                   7760                      8552                13600   \n",
       "4                   7760                      8552                13600   \n",
       "\n",
       "   Fifty_to_SeventyFive  SeventyFive_to_Hundred  Hundred_to_HundredFifty  \\\n",
       "0                 11589                   10969                    13141   \n",
       "1                 11589                   10969                    13141   \n",
       "2                 11589                   10969                    13141   \n",
       "3                 11589                   10969                    13141   \n",
       "4                 11589                   10969                    13141   \n",
       "\n",
       "   HundredFifty_to_TwoHundred  Above_TwoHundred  Below_Poverty_Level  \n",
       "0                        4064              5393                 10.1  \n",
       "1                        4064              5393                 10.1  \n",
       "2                        4064              5393                 10.1  \n",
       "3                        4064              5393                 10.1  \n",
       "4                        4064              5393                 10.1  \n",
       "\n",
       "[5 rows x 24 columns]"
      ]
     },
     "execution_count": 49,
     "metadata": {},
     "output_type": "execute_result"
    }
   ],
   "source": [
    "enrichment=pd.read_csv(\"../../../../data/stage_1/ACS_Economic_Social_Merged.csv\")\n",
    "enrichment.head()"
   ]
  },
  {
   "cell_type": "markdown",
   "id": "9bf3aeb0",
   "metadata": {},
   "source": [
    "Population will be needed for normalizing the data, but it is being parsed out here because we are using a different aggregate function than what the other columns will have. "
   ]
  },
  {
   "cell_type": "code",
   "execution_count": 50,
   "id": "56ee6a67",
   "metadata": {},
   "outputs": [
    {
     "data": {
      "text/html": [
       "<div>\n",
       "<style scoped>\n",
       "    .dataframe tbody tr th:only-of-type {\n",
       "        vertical-align: middle;\n",
       "    }\n",
       "\n",
       "    .dataframe tbody tr th {\n",
       "        vertical-align: top;\n",
       "    }\n",
       "\n",
       "    .dataframe thead th {\n",
       "        text-align: right;\n",
       "    }\n",
       "</style>\n",
       "<table border=\"1\" class=\"dataframe\">\n",
       "  <thead>\n",
       "    <tr style=\"text-align: right;\">\n",
       "      <th></th>\n",
       "      <th>population</th>\n",
       "    </tr>\n",
       "    <tr>\n",
       "      <th>State</th>\n",
       "      <th></th>\n",
       "    </tr>\n",
       "  </thead>\n",
       "  <tbody>\n",
       "    <tr>\n",
       "      <th>IL</th>\n",
       "      <td>9509270</td>\n",
       "    </tr>\n",
       "    <tr>\n",
       "      <th>IN</th>\n",
       "      <td>3044333</td>\n",
       "    </tr>\n",
       "    <tr>\n",
       "      <th>KY</th>\n",
       "      <td>890301</td>\n",
       "    </tr>\n",
       "    <tr>\n",
       "      <th>MI</th>\n",
       "      <td>5414389</td>\n",
       "    </tr>\n",
       "    <tr>\n",
       "      <th>OH</th>\n",
       "      <td>5151277</td>\n",
       "    </tr>\n",
       "    <tr>\n",
       "      <th>WI</th>\n",
       "      <td>3905965</td>\n",
       "    </tr>\n",
       "  </tbody>\n",
       "</table>\n",
       "</div>"
      ],
      "text/plain": [
       "       population\n",
       "State            \n",
       "IL        9509270\n",
       "IN        3044333\n",
       "KY         890301\n",
       "MI        5414389\n",
       "OH        5151277\n",
       "WI        3905965"
      ]
     },
     "execution_count": 50,
     "metadata": {},
     "output_type": "execute_result"
    }
   ],
   "source": [
    "state_pop=enrichment[['County_Name','State','population']]\n",
    "#Removing duplicates due to dates, since population doesn't change based on date\n",
    "state_pop=state_pop.drop_duplicates(subset=['County_Name'])\n",
    "state_pop=state_pop.groupby(\"State\").agg(\"sum\")\n",
    "#Getting just the states we need\n",
    "needed_pop=state_pop[state_pop.index.isin(['IN','IL','MI','WI','OH','KY'])]\n",
    "needed_pop"
   ]
  },
  {
   "cell_type": "markdown",
   "id": "f5581a0f",
   "metadata": {},
   "source": [
    "We now have the population data we need. We'll be following a similar path for the other columns."
   ]
  },
  {
   "cell_type": "code",
   "execution_count": 51,
   "id": "9ac48e4a",
   "metadata": {},
   "outputs": [
    {
     "data": {
      "text/html": [
       "<div>\n",
       "<style scoped>\n",
       "    .dataframe tbody tr th:only-of-type {\n",
       "        vertical-align: middle;\n",
       "    }\n",
       "\n",
       "    .dataframe tbody tr th {\n",
       "        vertical-align: top;\n",
       "    }\n",
       "\n",
       "    .dataframe thead th {\n",
       "        text-align: right;\n",
       "    }\n",
       "</style>\n",
       "<table border=\"1\" class=\"dataframe\">\n",
       "  <thead>\n",
       "    <tr style=\"text-align: right;\">\n",
       "      <th></th>\n",
       "      <th>No_Diploma</th>\n",
       "      <th>High_School</th>\n",
       "      <th>Associates</th>\n",
       "      <th>Bachelors</th>\n",
       "      <th>Graduate</th>\n",
       "      <th>Foreign_Born</th>\n",
       "      <th>Less_TenK</th>\n",
       "      <th>Ten_to_Fifteen</th>\n",
       "      <th>Fifteen_to_TwentyFive</th>\n",
       "      <th>TwentyFive_to_ThirtyFive</th>\n",
       "      <th>ThirtyFive_to_Fifty</th>\n",
       "      <th>Fifty_to_SeventyFive</th>\n",
       "      <th>SeventyFive_to_Hundred</th>\n",
       "      <th>Hundred_to_HundredFifty</th>\n",
       "      <th>HundredFifty_to_TwoHundred</th>\n",
       "      <th>Above_TwoHundred</th>\n",
       "      <th>Below_Poverty_Level</th>\n",
       "    </tr>\n",
       "    <tr>\n",
       "      <th>State</th>\n",
       "      <th></th>\n",
       "      <th></th>\n",
       "      <th></th>\n",
       "      <th></th>\n",
       "      <th></th>\n",
       "      <th></th>\n",
       "      <th></th>\n",
       "      <th></th>\n",
       "      <th></th>\n",
       "      <th></th>\n",
       "      <th></th>\n",
       "      <th></th>\n",
       "      <th></th>\n",
       "      <th></th>\n",
       "      <th></th>\n",
       "      <th></th>\n",
       "      <th></th>\n",
       "    </tr>\n",
       "  </thead>\n",
       "  <tbody>\n",
       "    <tr>\n",
       "      <th>IL</th>\n",
       "      <td>17790.87</td>\n",
       "      <td>78929.48</td>\n",
       "      <td>24956.83</td>\n",
       "      <td>74823.78</td>\n",
       "      <td>49369.87</td>\n",
       "      <td>75115.52</td>\n",
       "      <td>10642.57</td>\n",
       "      <td>6173.61</td>\n",
       "      <td>13657.74</td>\n",
       "      <td>13750.91</td>\n",
       "      <td>19613.00</td>\n",
       "      <td>28945.35</td>\n",
       "      <td>23006.43</td>\n",
       "      <td>31204.22</td>\n",
       "      <td>15037.70</td>\n",
       "      <td>18028.13</td>\n",
       "      <td>11.86</td>\n",
       "    </tr>\n",
       "    <tr>\n",
       "      <th>IN</th>\n",
       "      <td>8082.96</td>\n",
       "      <td>38955.04</td>\n",
       "      <td>10757.92</td>\n",
       "      <td>24291.35</td>\n",
       "      <td>14008.85</td>\n",
       "      <td>12267.35</td>\n",
       "      <td>4623.73</td>\n",
       "      <td>2829.27</td>\n",
       "      <td>6714.69</td>\n",
       "      <td>6889.38</td>\n",
       "      <td>9844.58</td>\n",
       "      <td>13743.08</td>\n",
       "      <td>9033.31</td>\n",
       "      <td>10844.27</td>\n",
       "      <td>4228.62</td>\n",
       "      <td>3874.73</td>\n",
       "      <td>12.36</td>\n",
       "    </tr>\n",
       "    <tr>\n",
       "      <th>KY</th>\n",
       "      <td>6529.00</td>\n",
       "      <td>31123.54</td>\n",
       "      <td>9965.08</td>\n",
       "      <td>23330.31</td>\n",
       "      <td>15351.46</td>\n",
       "      <td>12234.62</td>\n",
       "      <td>4111.46</td>\n",
       "      <td>2745.46</td>\n",
       "      <td>6332.46</td>\n",
       "      <td>6223.85</td>\n",
       "      <td>8741.62</td>\n",
       "      <td>12756.92</td>\n",
       "      <td>8744.69</td>\n",
       "      <td>9944.54</td>\n",
       "      <td>3896.62</td>\n",
       "      <td>3766.54</td>\n",
       "      <td>12.87</td>\n",
       "    </tr>\n",
       "    <tr>\n",
       "      <th>MI</th>\n",
       "      <td>11593.93</td>\n",
       "      <td>55680.45</td>\n",
       "      <td>18583.83</td>\n",
       "      <td>38749.72</td>\n",
       "      <td>25712.31</td>\n",
       "      <td>23261.48</td>\n",
       "      <td>7128.41</td>\n",
       "      <td>4535.66</td>\n",
       "      <td>9975.79</td>\n",
       "      <td>11013.14</td>\n",
       "      <td>14895.86</td>\n",
       "      <td>21136.41</td>\n",
       "      <td>15320.86</td>\n",
       "      <td>17447.00</td>\n",
       "      <td>7377.55</td>\n",
       "      <td>7258.83</td>\n",
       "      <td>12.30</td>\n",
       "    </tr>\n",
       "    <tr>\n",
       "      <th>OH</th>\n",
       "      <td>10848.82</td>\n",
       "      <td>53499.95</td>\n",
       "      <td>14793.77</td>\n",
       "      <td>33768.38</td>\n",
       "      <td>20755.46</td>\n",
       "      <td>13706.64</td>\n",
       "      <td>6661.15</td>\n",
       "      <td>4413.21</td>\n",
       "      <td>9674.74</td>\n",
       "      <td>9789.00</td>\n",
       "      <td>12993.56</td>\n",
       "      <td>18912.49</td>\n",
       "      <td>13053.28</td>\n",
       "      <td>14917.56</td>\n",
       "      <td>6053.00</td>\n",
       "      <td>6004.74</td>\n",
       "      <td>12.93</td>\n",
       "    </tr>\n",
       "    <tr>\n",
       "      <th>WI</th>\n",
       "      <td>6162.87</td>\n",
       "      <td>37487.30</td>\n",
       "      <td>13820.74</td>\n",
       "      <td>29533.65</td>\n",
       "      <td>15543.83</td>\n",
       "      <td>11488.09</td>\n",
       "      <td>3465.30</td>\n",
       "      <td>3032.91</td>\n",
       "      <td>6388.43</td>\n",
       "      <td>6582.57</td>\n",
       "      <td>10161.61</td>\n",
       "      <td>14565.35</td>\n",
       "      <td>10898.26</td>\n",
       "      <td>13568.22</td>\n",
       "      <td>5246.52</td>\n",
       "      <td>4513.91</td>\n",
       "      <td>9.20</td>\n",
       "    </tr>\n",
       "  </tbody>\n",
       "</table>\n",
       "</div>"
      ],
      "text/plain": [
       "       No_Diploma  High_School  Associates  Bachelors  Graduate  Foreign_Born  \\\n",
       "State                                                                           \n",
       "IL       17790.87     78929.48    24956.83   74823.78  49369.87      75115.52   \n",
       "IN        8082.96     38955.04    10757.92   24291.35  14008.85      12267.35   \n",
       "KY        6529.00     31123.54     9965.08   23330.31  15351.46      12234.62   \n",
       "MI       11593.93     55680.45    18583.83   38749.72  25712.31      23261.48   \n",
       "OH       10848.82     53499.95    14793.77   33768.38  20755.46      13706.64   \n",
       "WI        6162.87     37487.30    13820.74   29533.65  15543.83      11488.09   \n",
       "\n",
       "       Less_TenK  Ten_to_Fifteen  Fifteen_to_TwentyFive  \\\n",
       "State                                                     \n",
       "IL      10642.57         6173.61               13657.74   \n",
       "IN       4623.73         2829.27                6714.69   \n",
       "KY       4111.46         2745.46                6332.46   \n",
       "MI       7128.41         4535.66                9975.79   \n",
       "OH       6661.15         4413.21                9674.74   \n",
       "WI       3465.30         3032.91                6388.43   \n",
       "\n",
       "       TwentyFive_to_ThirtyFive  ThirtyFive_to_Fifty  Fifty_to_SeventyFive  \\\n",
       "State                                                                        \n",
       "IL                     13750.91             19613.00              28945.35   \n",
       "IN                      6889.38              9844.58              13743.08   \n",
       "KY                      6223.85              8741.62              12756.92   \n",
       "MI                     11013.14             14895.86              21136.41   \n",
       "OH                      9789.00             12993.56              18912.49   \n",
       "WI                      6582.57             10161.61              14565.35   \n",
       "\n",
       "       SeventyFive_to_Hundred  Hundred_to_HundredFifty  \\\n",
       "State                                                    \n",
       "IL                   23006.43                 31204.22   \n",
       "IN                    9033.31                 10844.27   \n",
       "KY                    8744.69                  9944.54   \n",
       "MI                   15320.86                 17447.00   \n",
       "OH                   13053.28                 14917.56   \n",
       "WI                   10898.26                 13568.22   \n",
       "\n",
       "       HundredFifty_to_TwoHundred  Above_TwoHundred  Below_Poverty_Level  \n",
       "State                                                                     \n",
       "IL                       15037.70          18028.13                11.86  \n",
       "IN                        4228.62           3874.73                12.36  \n",
       "KY                        3896.62           3766.54                12.87  \n",
       "MI                        7377.55           7258.83                12.30  \n",
       "OH                        6053.00           6004.74                12.93  \n",
       "WI                        5246.52           4513.91                 9.20  "
      ]
     },
     "execution_count": 51,
     "metadata": {},
     "output_type": "execute_result"
    }
   ],
   "source": [
    "#Removing duplicates\n",
    "clean_enrich=enrichment.drop_duplicates(subset=['countyFIPS'])\n",
    "#Dropping unneeded columns\n",
    "clean_enrich=clean_enrich.drop([\"Date\",'Confirmed','Deaths','countyFIPS','County_Name','population'],axis=1)\n",
    "#Aggregating by mean instead of sum\n",
    "clean_enrich=clean_enrich.groupby(\"State\").agg(\"mean\").round(2)\n",
    "#Getting just the states we need\n",
    "needed_enrich=clean_enrich[clean_enrich.index.isin(['IN','IL','MI','WI','OH','KY'])]\n",
    "needed_enrich"
   ]
  },
  {
   "cell_type": "markdown",
   "id": "343a709f",
   "metadata": {},
   "source": [
    "We now have the state averages for each variable. Now we need to merge population back in and normalize the other variables by it."
   ]
  },
  {
   "cell_type": "code",
   "execution_count": 52,
   "id": "8e768ba6",
   "metadata": {},
   "outputs": [
    {
     "data": {
      "text/html": [
       "<div>\n",
       "<style scoped>\n",
       "    .dataframe tbody tr th:only-of-type {\n",
       "        vertical-align: middle;\n",
       "    }\n",
       "\n",
       "    .dataframe tbody tr th {\n",
       "        vertical-align: top;\n",
       "    }\n",
       "\n",
       "    .dataframe thead th {\n",
       "        text-align: right;\n",
       "    }\n",
       "</style>\n",
       "<table border=\"1\" class=\"dataframe\">\n",
       "  <thead>\n",
       "    <tr style=\"text-align: right;\">\n",
       "      <th></th>\n",
       "      <th>No_Diploma</th>\n",
       "      <th>High_School</th>\n",
       "      <th>Associates</th>\n",
       "      <th>Bachelors</th>\n",
       "      <th>Graduate</th>\n",
       "      <th>Foreign_Born</th>\n",
       "      <th>Less_TenK</th>\n",
       "      <th>Ten_to_Fifteen</th>\n",
       "      <th>Fifteen_to_TwentyFive</th>\n",
       "      <th>TwentyFive_to_ThirtyFive</th>\n",
       "      <th>ThirtyFive_to_Fifty</th>\n",
       "      <th>Fifty_to_SeventyFive</th>\n",
       "      <th>SeventyFive_to_Hundred</th>\n",
       "      <th>Hundred_to_HundredFifty</th>\n",
       "      <th>HundredFifty_to_TwoHundred</th>\n",
       "      <th>Above_TwoHundred</th>\n",
       "      <th>Below_Poverty_Level</th>\n",
       "      <th>population</th>\n",
       "    </tr>\n",
       "    <tr>\n",
       "      <th>State</th>\n",
       "      <th></th>\n",
       "      <th></th>\n",
       "      <th></th>\n",
       "      <th></th>\n",
       "      <th></th>\n",
       "      <th></th>\n",
       "      <th></th>\n",
       "      <th></th>\n",
       "      <th></th>\n",
       "      <th></th>\n",
       "      <th></th>\n",
       "      <th></th>\n",
       "      <th></th>\n",
       "      <th></th>\n",
       "      <th></th>\n",
       "      <th></th>\n",
       "      <th></th>\n",
       "      <th></th>\n",
       "    </tr>\n",
       "  </thead>\n",
       "  <tbody>\n",
       "    <tr>\n",
       "      <th>IL</th>\n",
       "      <td>187.089756</td>\n",
       "      <td>830.026700</td>\n",
       "      <td>262.447380</td>\n",
       "      <td>786.850936</td>\n",
       "      <td>519.176235</td>\n",
       "      <td>789.918890</td>\n",
       "      <td>111.917844</td>\n",
       "      <td>64.922018</td>\n",
       "      <td>143.625536</td>\n",
       "      <td>144.605317</td>\n",
       "      <td>206.251374</td>\n",
       "      <td>304.390873</td>\n",
       "      <td>241.936868</td>\n",
       "      <td>328.145273</td>\n",
       "      <td>158.137270</td>\n",
       "      <td>189.584795</td>\n",
       "      <td>0.124720</td>\n",
       "      <td>100000.0</td>\n",
       "    </tr>\n",
       "    <tr>\n",
       "      <th>IN</th>\n",
       "      <td>265.508405</td>\n",
       "      <td>1279.591950</td>\n",
       "      <td>353.375271</td>\n",
       "      <td>797.920267</td>\n",
       "      <td>460.161553</td>\n",
       "      <td>402.956904</td>\n",
       "      <td>151.879903</td>\n",
       "      <td>92.935628</td>\n",
       "      <td>220.563585</td>\n",
       "      <td>226.301788</td>\n",
       "      <td>323.373954</td>\n",
       "      <td>451.431562</td>\n",
       "      <td>296.725424</td>\n",
       "      <td>356.211689</td>\n",
       "      <td>138.901362</td>\n",
       "      <td>127.276812</td>\n",
       "      <td>0.406000</td>\n",
       "      <td>100000.0</td>\n",
       "    </tr>\n",
       "    <tr>\n",
       "      <th>KY</th>\n",
       "      <td>733.347486</td>\n",
       "      <td>3495.844664</td>\n",
       "      <td>1119.293363</td>\n",
       "      <td>2620.496888</td>\n",
       "      <td>1724.299984</td>\n",
       "      <td>1374.211643</td>\n",
       "      <td>461.805614</td>\n",
       "      <td>308.374359</td>\n",
       "      <td>711.271806</td>\n",
       "      <td>699.072561</td>\n",
       "      <td>981.872423</td>\n",
       "      <td>1432.877195</td>\n",
       "      <td>982.217250</td>\n",
       "      <td>1116.986278</td>\n",
       "      <td>437.674449</td>\n",
       "      <td>423.063660</td>\n",
       "      <td>1.445579</td>\n",
       "      <td>100000.0</td>\n",
       "    </tr>\n",
       "    <tr>\n",
       "      <th>MI</th>\n",
       "      <td>214.131825</td>\n",
       "      <td>1028.379195</td>\n",
       "      <td>343.230418</td>\n",
       "      <td>715.680384</td>\n",
       "      <td>474.888487</td>\n",
       "      <td>429.623361</td>\n",
       "      <td>131.656776</td>\n",
       "      <td>83.770486</td>\n",
       "      <td>184.245905</td>\n",
       "      <td>203.405038</td>\n",
       "      <td>275.116177</td>\n",
       "      <td>390.374796</td>\n",
       "      <td>282.965631</td>\n",
       "      <td>322.233958</td>\n",
       "      <td>136.258219</td>\n",
       "      <td>134.065543</td>\n",
       "      <td>0.227172</td>\n",
       "      <td>100000.0</td>\n",
       "    </tr>\n",
       "    <tr>\n",
       "      <th>OH</th>\n",
       "      <td>210.604477</td>\n",
       "      <td>1038.576454</td>\n",
       "      <td>287.186459</td>\n",
       "      <td>655.534152</td>\n",
       "      <td>402.918733</td>\n",
       "      <td>266.082371</td>\n",
       "      <td>129.310654</td>\n",
       "      <td>85.672155</td>\n",
       "      <td>187.812459</td>\n",
       "      <td>190.030550</td>\n",
       "      <td>252.239590</td>\n",
       "      <td>367.141779</td>\n",
       "      <td>253.398914</td>\n",
       "      <td>289.589552</td>\n",
       "      <td>117.504844</td>\n",
       "      <td>116.567989</td>\n",
       "      <td>0.251006</td>\n",
       "      <td>100000.0</td>\n",
       "    </tr>\n",
       "    <tr>\n",
       "      <th>WI</th>\n",
       "      <td>157.780984</td>\n",
       "      <td>959.744903</td>\n",
       "      <td>353.836760</td>\n",
       "      <td>756.116606</td>\n",
       "      <td>397.951083</td>\n",
       "      <td>294.116563</td>\n",
       "      <td>88.718153</td>\n",
       "      <td>77.648161</td>\n",
       "      <td>163.555741</td>\n",
       "      <td>168.526088</td>\n",
       "      <td>260.156197</td>\n",
       "      <td>372.900167</td>\n",
       "      <td>279.015813</td>\n",
       "      <td>347.371776</td>\n",
       "      <td>134.320712</td>\n",
       "      <td>115.564528</td>\n",
       "      <td>0.235537</td>\n",
       "      <td>100000.0</td>\n",
       "    </tr>\n",
       "  </tbody>\n",
       "</table>\n",
       "</div>"
      ],
      "text/plain": [
       "       No_Diploma  High_School   Associates    Bachelors     Graduate  \\\n",
       "State                                                                   \n",
       "IL     187.089756   830.026700   262.447380   786.850936   519.176235   \n",
       "IN     265.508405  1279.591950   353.375271   797.920267   460.161553   \n",
       "KY     733.347486  3495.844664  1119.293363  2620.496888  1724.299984   \n",
       "MI     214.131825  1028.379195   343.230418   715.680384   474.888487   \n",
       "OH     210.604477  1038.576454   287.186459   655.534152   402.918733   \n",
       "WI     157.780984   959.744903   353.836760   756.116606   397.951083   \n",
       "\n",
       "       Foreign_Born   Less_TenK  Ten_to_Fifteen  Fifteen_to_TwentyFive  \\\n",
       "State                                                                    \n",
       "IL       789.918890  111.917844       64.922018             143.625536   \n",
       "IN       402.956904  151.879903       92.935628             220.563585   \n",
       "KY      1374.211643  461.805614      308.374359             711.271806   \n",
       "MI       429.623361  131.656776       83.770486             184.245905   \n",
       "OH       266.082371  129.310654       85.672155             187.812459   \n",
       "WI       294.116563   88.718153       77.648161             163.555741   \n",
       "\n",
       "       TwentyFive_to_ThirtyFive  ThirtyFive_to_Fifty  Fifty_to_SeventyFive  \\\n",
       "State                                                                        \n",
       "IL                   144.605317           206.251374            304.390873   \n",
       "IN                   226.301788           323.373954            451.431562   \n",
       "KY                   699.072561           981.872423           1432.877195   \n",
       "MI                   203.405038           275.116177            390.374796   \n",
       "OH                   190.030550           252.239590            367.141779   \n",
       "WI                   168.526088           260.156197            372.900167   \n",
       "\n",
       "       SeventyFive_to_Hundred  Hundred_to_HundredFifty  \\\n",
       "State                                                    \n",
       "IL                 241.936868               328.145273   \n",
       "IN                 296.725424               356.211689   \n",
       "KY                 982.217250              1116.986278   \n",
       "MI                 282.965631               322.233958   \n",
       "OH                 253.398914               289.589552   \n",
       "WI                 279.015813               347.371776   \n",
       "\n",
       "       HundredFifty_to_TwoHundred  Above_TwoHundred  Below_Poverty_Level  \\\n",
       "State                                                                      \n",
       "IL                     158.137270        189.584795             0.124720   \n",
       "IN                     138.901362        127.276812             0.406000   \n",
       "KY                     437.674449        423.063660             1.445579   \n",
       "MI                     136.258219        134.065543             0.227172   \n",
       "OH                     117.504844        116.567989             0.251006   \n",
       "WI                     134.320712        115.564528             0.235537   \n",
       "\n",
       "       population  \n",
       "State              \n",
       "IL       100000.0  \n",
       "IN       100000.0  \n",
       "KY       100000.0  \n",
       "MI       100000.0  \n",
       "OH       100000.0  \n",
       "WI       100000.0  "
      ]
     },
     "execution_count": 52,
     "metadata": {},
     "output_type": "execute_result"
    }
   ],
   "source": [
    "enrich_with_pop=pd.merge(needed_enrich,needed_pop, on='State')\n",
    "#Normalizing\n",
    "enrich_with_pop=enrich_with_pop.div(enrich_with_pop.population,axis=0)*100000\n",
    "enrich_with_pop"
   ]
  },
  {
   "cell_type": "markdown",
   "id": "f5674006",
   "metadata": {},
   "source": [
    "Lastly, the average weekly cases and deaths are needed for each state."
   ]
  },
  {
   "cell_type": "code",
   "execution_count": 53,
   "id": "7dcb942e",
   "metadata": {
    "scrolled": false
   },
   "outputs": [
    {
     "data": {
      "text/html": [
       "<div>\n",
       "<style scoped>\n",
       "    .dataframe tbody tr th:only-of-type {\n",
       "        vertical-align: middle;\n",
       "    }\n",
       "\n",
       "    .dataframe tbody tr th {\n",
       "        vertical-align: top;\n",
       "    }\n",
       "\n",
       "    .dataframe thead th {\n",
       "        text-align: right;\n",
       "    }\n",
       "</style>\n",
       "<table border=\"1\" class=\"dataframe\">\n",
       "  <thead>\n",
       "    <tr style=\"text-align: right;\">\n",
       "      <th></th>\n",
       "      <th>No_Diploma</th>\n",
       "      <th>High_School</th>\n",
       "      <th>Associates</th>\n",
       "      <th>Bachelors</th>\n",
       "      <th>Graduate</th>\n",
       "      <th>Foreign_Born</th>\n",
       "      <th>Less_TenK</th>\n",
       "      <th>Ten_to_Fifteen</th>\n",
       "      <th>Fifteen_to_TwentyFive</th>\n",
       "      <th>TwentyFive_to_ThirtyFive</th>\n",
       "      <th>ThirtyFive_to_Fifty</th>\n",
       "      <th>Fifty_to_SeventyFive</th>\n",
       "      <th>SeventyFive_to_Hundred</th>\n",
       "      <th>Hundred_to_HundredFifty</th>\n",
       "      <th>HundredFifty_to_TwoHundred</th>\n",
       "      <th>Above_TwoHundred</th>\n",
       "      <th>Below_Poverty_Level</th>\n",
       "      <th>population</th>\n",
       "      <th>Average_Cases</th>\n",
       "    </tr>\n",
       "    <tr>\n",
       "      <th>State</th>\n",
       "      <th></th>\n",
       "      <th></th>\n",
       "      <th></th>\n",
       "      <th></th>\n",
       "      <th></th>\n",
       "      <th></th>\n",
       "      <th></th>\n",
       "      <th></th>\n",
       "      <th></th>\n",
       "      <th></th>\n",
       "      <th></th>\n",
       "      <th></th>\n",
       "      <th></th>\n",
       "      <th></th>\n",
       "      <th></th>\n",
       "      <th></th>\n",
       "      <th></th>\n",
       "      <th></th>\n",
       "      <th></th>\n",
       "    </tr>\n",
       "  </thead>\n",
       "  <tbody>\n",
       "    <tr>\n",
       "      <th>IL</th>\n",
       "      <td>187.089756</td>\n",
       "      <td>830.026700</td>\n",
       "      <td>262.447380</td>\n",
       "      <td>786.850936</td>\n",
       "      <td>519.176235</td>\n",
       "      <td>789.918890</td>\n",
       "      <td>111.917844</td>\n",
       "      <td>64.922018</td>\n",
       "      <td>143.625536</td>\n",
       "      <td>144.605317</td>\n",
       "      <td>206.251374</td>\n",
       "      <td>304.390873</td>\n",
       "      <td>241.936868</td>\n",
       "      <td>328.145273</td>\n",
       "      <td>158.137270</td>\n",
       "      <td>189.584795</td>\n",
       "      <td>0.124720</td>\n",
       "      <td>100000.0</td>\n",
       "      <td>31.551402</td>\n",
       "    </tr>\n",
       "    <tr>\n",
       "      <th>IN</th>\n",
       "      <td>265.508405</td>\n",
       "      <td>1279.591950</td>\n",
       "      <td>353.375271</td>\n",
       "      <td>797.920267</td>\n",
       "      <td>460.161553</td>\n",
       "      <td>402.956904</td>\n",
       "      <td>151.879903</td>\n",
       "      <td>92.935628</td>\n",
       "      <td>220.563585</td>\n",
       "      <td>226.301788</td>\n",
       "      <td>323.373954</td>\n",
       "      <td>451.431562</td>\n",
       "      <td>296.725424</td>\n",
       "      <td>356.211689</td>\n",
       "      <td>138.901362</td>\n",
       "      <td>127.276812</td>\n",
       "      <td>0.406000</td>\n",
       "      <td>100000.0</td>\n",
       "      <td>33.093458</td>\n",
       "    </tr>\n",
       "    <tr>\n",
       "      <th>KY</th>\n",
       "      <td>733.347486</td>\n",
       "      <td>3495.844664</td>\n",
       "      <td>1119.293363</td>\n",
       "      <td>2620.496888</td>\n",
       "      <td>1724.299984</td>\n",
       "      <td>1374.211643</td>\n",
       "      <td>461.805614</td>\n",
       "      <td>308.374359</td>\n",
       "      <td>711.271806</td>\n",
       "      <td>699.072561</td>\n",
       "      <td>981.872423</td>\n",
       "      <td>1432.877195</td>\n",
       "      <td>982.217250</td>\n",
       "      <td>1116.986278</td>\n",
       "      <td>437.674449</td>\n",
       "      <td>423.063660</td>\n",
       "      <td>1.445579</td>\n",
       "      <td>100000.0</td>\n",
       "      <td>36.467290</td>\n",
       "    </tr>\n",
       "    <tr>\n",
       "      <th>MI</th>\n",
       "      <td>214.131825</td>\n",
       "      <td>1028.379195</td>\n",
       "      <td>343.230418</td>\n",
       "      <td>715.680384</td>\n",
       "      <td>474.888487</td>\n",
       "      <td>429.623361</td>\n",
       "      <td>131.656776</td>\n",
       "      <td>83.770486</td>\n",
       "      <td>184.245905</td>\n",
       "      <td>203.405038</td>\n",
       "      <td>275.116177</td>\n",
       "      <td>390.374796</td>\n",
       "      <td>282.965631</td>\n",
       "      <td>322.233958</td>\n",
       "      <td>136.258219</td>\n",
       "      <td>134.065543</td>\n",
       "      <td>0.227172</td>\n",
       "      <td>100000.0</td>\n",
       "      <td>30.635514</td>\n",
       "    </tr>\n",
       "    <tr>\n",
       "      <th>OH</th>\n",
       "      <td>210.604477</td>\n",
       "      <td>1038.576454</td>\n",
       "      <td>287.186459</td>\n",
       "      <td>655.534152</td>\n",
       "      <td>402.918733</td>\n",
       "      <td>266.082371</td>\n",
       "      <td>129.310654</td>\n",
       "      <td>85.672155</td>\n",
       "      <td>187.812459</td>\n",
       "      <td>190.030550</td>\n",
       "      <td>252.239590</td>\n",
       "      <td>367.141779</td>\n",
       "      <td>253.398914</td>\n",
       "      <td>289.589552</td>\n",
       "      <td>117.504844</td>\n",
       "      <td>116.567989</td>\n",
       "      <td>0.251006</td>\n",
       "      <td>100000.0</td>\n",
       "      <td>30.037383</td>\n",
       "    </tr>\n",
       "    <tr>\n",
       "      <th>WI</th>\n",
       "      <td>157.780984</td>\n",
       "      <td>959.744903</td>\n",
       "      <td>353.836760</td>\n",
       "      <td>756.116606</td>\n",
       "      <td>397.951083</td>\n",
       "      <td>294.116563</td>\n",
       "      <td>88.718153</td>\n",
       "      <td>77.648161</td>\n",
       "      <td>163.555741</td>\n",
       "      <td>168.526088</td>\n",
       "      <td>260.156197</td>\n",
       "      <td>372.900167</td>\n",
       "      <td>279.015813</td>\n",
       "      <td>347.371776</td>\n",
       "      <td>134.320712</td>\n",
       "      <td>115.564528</td>\n",
       "      <td>0.235537</td>\n",
       "      <td>100000.0</td>\n",
       "      <td>35.579439</td>\n",
       "    </tr>\n",
       "  </tbody>\n",
       "</table>\n",
       "</div>"
      ],
      "text/plain": [
       "       No_Diploma  High_School   Associates    Bachelors     Graduate  \\\n",
       "State                                                                   \n",
       "IL     187.089756   830.026700   262.447380   786.850936   519.176235   \n",
       "IN     265.508405  1279.591950   353.375271   797.920267   460.161553   \n",
       "KY     733.347486  3495.844664  1119.293363  2620.496888  1724.299984   \n",
       "MI     214.131825  1028.379195   343.230418   715.680384   474.888487   \n",
       "OH     210.604477  1038.576454   287.186459   655.534152   402.918733   \n",
       "WI     157.780984   959.744903   353.836760   756.116606   397.951083   \n",
       "\n",
       "       Foreign_Born   Less_TenK  Ten_to_Fifteen  Fifteen_to_TwentyFive  \\\n",
       "State                                                                    \n",
       "IL       789.918890  111.917844       64.922018             143.625536   \n",
       "IN       402.956904  151.879903       92.935628             220.563585   \n",
       "KY      1374.211643  461.805614      308.374359             711.271806   \n",
       "MI       429.623361  131.656776       83.770486             184.245905   \n",
       "OH       266.082371  129.310654       85.672155             187.812459   \n",
       "WI       294.116563   88.718153       77.648161             163.555741   \n",
       "\n",
       "       TwentyFive_to_ThirtyFive  ThirtyFive_to_Fifty  Fifty_to_SeventyFive  \\\n",
       "State                                                                        \n",
       "IL                   144.605317           206.251374            304.390873   \n",
       "IN                   226.301788           323.373954            451.431562   \n",
       "KY                   699.072561           981.872423           1432.877195   \n",
       "MI                   203.405038           275.116177            390.374796   \n",
       "OH                   190.030550           252.239590            367.141779   \n",
       "WI                   168.526088           260.156197            372.900167   \n",
       "\n",
       "       SeventyFive_to_Hundred  Hundred_to_HundredFifty  \\\n",
       "State                                                    \n",
       "IL                 241.936868               328.145273   \n",
       "IN                 296.725424               356.211689   \n",
       "KY                 982.217250              1116.986278   \n",
       "MI                 282.965631               322.233958   \n",
       "OH                 253.398914               289.589552   \n",
       "WI                 279.015813               347.371776   \n",
       "\n",
       "       HundredFifty_to_TwoHundred  Above_TwoHundred  Below_Poverty_Level  \\\n",
       "State                                                                      \n",
       "IL                     158.137270        189.584795             0.124720   \n",
       "IN                     138.901362        127.276812             0.406000   \n",
       "KY                     437.674449        423.063660             1.445579   \n",
       "MI                     136.258219        134.065543             0.227172   \n",
       "OH                     117.504844        116.567989             0.251006   \n",
       "WI                     134.320712        115.564528             0.235537   \n",
       "\n",
       "       population  Average_Cases  \n",
       "State                             \n",
       "IL       100000.0      31.551402  \n",
       "IN       100000.0      33.093458  \n",
       "KY       100000.0      36.467290  \n",
       "MI       100000.0      30.635514  \n",
       "OH       100000.0      30.037383  \n",
       "WI       100000.0      35.579439  "
      ]
     },
     "execution_count": 53,
     "metadata": {},
     "output_type": "execute_result"
    }
   ],
   "source": [
    "enrich_with_pop['Average_Cases']=[confirmed[confirmed[\"State\"].isin([\"Illinois\"])].New_Confirmed_per_100000.mean(),\n",
    "                                  confirmed[confirmed[\"State\"].isin([\"Indiana\"])].New_Confirmed_per_100000.mean(),\n",
    "                                 confirmed[confirmed[\"State\"].isin([\"Kentucky\"])].New_Confirmed_per_100000.mean(),\n",
    "                                 confirmed[confirmed[\"State\"].isin([\"Michigan\"])].New_Confirmed_per_100000.mean(),\n",
    "                                 confirmed[confirmed[\"State\"].isin([\"Ohio\"])].New_Confirmed_per_100000.mean(),\n",
    "                                 confirmed[confirmed[\"State\"].isin([\"Wisconsin\"])].New_Confirmed_per_100000.mean()]\n",
    "enrich_with_pop"
   ]
  },
  {
   "cell_type": "code",
   "execution_count": 54,
   "id": "06d03157",
   "metadata": {},
   "outputs": [
    {
     "data": {
      "text/html": [
       "<div>\n",
       "<style scoped>\n",
       "    .dataframe tbody tr th:only-of-type {\n",
       "        vertical-align: middle;\n",
       "    }\n",
       "\n",
       "    .dataframe tbody tr th {\n",
       "        vertical-align: top;\n",
       "    }\n",
       "\n",
       "    .dataframe thead th {\n",
       "        text-align: right;\n",
       "    }\n",
       "</style>\n",
       "<table border=\"1\" class=\"dataframe\">\n",
       "  <thead>\n",
       "    <tr style=\"text-align: right;\">\n",
       "      <th></th>\n",
       "      <th>No_Diploma</th>\n",
       "      <th>High_School</th>\n",
       "      <th>Associates</th>\n",
       "      <th>Bachelors</th>\n",
       "      <th>Graduate</th>\n",
       "      <th>Foreign_Born</th>\n",
       "      <th>Less_TenK</th>\n",
       "      <th>Ten_to_Fifteen</th>\n",
       "      <th>Fifteen_to_TwentyFive</th>\n",
       "      <th>TwentyFive_to_ThirtyFive</th>\n",
       "      <th>ThirtyFive_to_Fifty</th>\n",
       "      <th>Fifty_to_SeventyFive</th>\n",
       "      <th>SeventyFive_to_Hundred</th>\n",
       "      <th>Hundred_to_HundredFifty</th>\n",
       "      <th>HundredFifty_to_TwoHundred</th>\n",
       "      <th>Above_TwoHundred</th>\n",
       "      <th>Below_Poverty_Level</th>\n",
       "      <th>population</th>\n",
       "      <th>Average_Cases</th>\n",
       "      <th>Average_Deaths</th>\n",
       "    </tr>\n",
       "    <tr>\n",
       "      <th>State</th>\n",
       "      <th></th>\n",
       "      <th></th>\n",
       "      <th></th>\n",
       "      <th></th>\n",
       "      <th></th>\n",
       "      <th></th>\n",
       "      <th></th>\n",
       "      <th></th>\n",
       "      <th></th>\n",
       "      <th></th>\n",
       "      <th></th>\n",
       "      <th></th>\n",
       "      <th></th>\n",
       "      <th></th>\n",
       "      <th></th>\n",
       "      <th></th>\n",
       "      <th></th>\n",
       "      <th></th>\n",
       "      <th></th>\n",
       "      <th></th>\n",
       "    </tr>\n",
       "  </thead>\n",
       "  <tbody>\n",
       "    <tr>\n",
       "      <th>IL</th>\n",
       "      <td>187.089756</td>\n",
       "      <td>830.026700</td>\n",
       "      <td>262.447380</td>\n",
       "      <td>786.850936</td>\n",
       "      <td>519.176235</td>\n",
       "      <td>789.918890</td>\n",
       "      <td>111.917844</td>\n",
       "      <td>64.922018</td>\n",
       "      <td>143.625536</td>\n",
       "      <td>144.605317</td>\n",
       "      <td>206.251374</td>\n",
       "      <td>304.390873</td>\n",
       "      <td>241.936868</td>\n",
       "      <td>328.145273</td>\n",
       "      <td>158.137270</td>\n",
       "      <td>189.584795</td>\n",
       "      <td>0.124720</td>\n",
       "      <td>100000.0</td>\n",
       "      <td>31.551402</td>\n",
       "      <td>0.252336</td>\n",
       "    </tr>\n",
       "    <tr>\n",
       "      <th>IN</th>\n",
       "      <td>265.508405</td>\n",
       "      <td>1279.591950</td>\n",
       "      <td>353.375271</td>\n",
       "      <td>797.920267</td>\n",
       "      <td>460.161553</td>\n",
       "      <td>402.956904</td>\n",
       "      <td>151.879903</td>\n",
       "      <td>92.935628</td>\n",
       "      <td>220.563585</td>\n",
       "      <td>226.301788</td>\n",
       "      <td>323.373954</td>\n",
       "      <td>451.431562</td>\n",
       "      <td>296.725424</td>\n",
       "      <td>356.211689</td>\n",
       "      <td>138.901362</td>\n",
       "      <td>127.276812</td>\n",
       "      <td>0.406000</td>\n",
       "      <td>100000.0</td>\n",
       "      <td>33.093458</td>\n",
       "      <td>0.345794</td>\n",
       "    </tr>\n",
       "    <tr>\n",
       "      <th>KY</th>\n",
       "      <td>733.347486</td>\n",
       "      <td>3495.844664</td>\n",
       "      <td>1119.293363</td>\n",
       "      <td>2620.496888</td>\n",
       "      <td>1724.299984</td>\n",
       "      <td>1374.211643</td>\n",
       "      <td>461.805614</td>\n",
       "      <td>308.374359</td>\n",
       "      <td>711.271806</td>\n",
       "      <td>699.072561</td>\n",
       "      <td>981.872423</td>\n",
       "      <td>1432.877195</td>\n",
       "      <td>982.217250</td>\n",
       "      <td>1116.986278</td>\n",
       "      <td>437.674449</td>\n",
       "      <td>423.063660</td>\n",
       "      <td>1.445579</td>\n",
       "      <td>100000.0</td>\n",
       "      <td>36.467290</td>\n",
       "      <td>0.392523</td>\n",
       "    </tr>\n",
       "    <tr>\n",
       "      <th>MI</th>\n",
       "      <td>214.131825</td>\n",
       "      <td>1028.379195</td>\n",
       "      <td>343.230418</td>\n",
       "      <td>715.680384</td>\n",
       "      <td>474.888487</td>\n",
       "      <td>429.623361</td>\n",
       "      <td>131.656776</td>\n",
       "      <td>83.770486</td>\n",
       "      <td>184.245905</td>\n",
       "      <td>203.405038</td>\n",
       "      <td>275.116177</td>\n",
       "      <td>390.374796</td>\n",
       "      <td>282.965631</td>\n",
       "      <td>322.233958</td>\n",
       "      <td>136.258219</td>\n",
       "      <td>134.065543</td>\n",
       "      <td>0.227172</td>\n",
       "      <td>100000.0</td>\n",
       "      <td>30.635514</td>\n",
       "      <td>0.355140</td>\n",
       "    </tr>\n",
       "    <tr>\n",
       "      <th>OH</th>\n",
       "      <td>210.604477</td>\n",
       "      <td>1038.576454</td>\n",
       "      <td>287.186459</td>\n",
       "      <td>655.534152</td>\n",
       "      <td>402.918733</td>\n",
       "      <td>266.082371</td>\n",
       "      <td>129.310654</td>\n",
       "      <td>85.672155</td>\n",
       "      <td>187.812459</td>\n",
       "      <td>190.030550</td>\n",
       "      <td>252.239590</td>\n",
       "      <td>367.141779</td>\n",
       "      <td>253.398914</td>\n",
       "      <td>289.589552</td>\n",
       "      <td>117.504844</td>\n",
       "      <td>116.567989</td>\n",
       "      <td>0.251006</td>\n",
       "      <td>100000.0</td>\n",
       "      <td>30.037383</td>\n",
       "      <td>0.355140</td>\n",
       "    </tr>\n",
       "    <tr>\n",
       "      <th>WI</th>\n",
       "      <td>157.780984</td>\n",
       "      <td>959.744903</td>\n",
       "      <td>353.836760</td>\n",
       "      <td>756.116606</td>\n",
       "      <td>397.951083</td>\n",
       "      <td>294.116563</td>\n",
       "      <td>88.718153</td>\n",
       "      <td>77.648161</td>\n",
       "      <td>163.555741</td>\n",
       "      <td>168.526088</td>\n",
       "      <td>260.156197</td>\n",
       "      <td>372.900167</td>\n",
       "      <td>279.015813</td>\n",
       "      <td>347.371776</td>\n",
       "      <td>134.320712</td>\n",
       "      <td>115.564528</td>\n",
       "      <td>0.235537</td>\n",
       "      <td>100000.0</td>\n",
       "      <td>35.579439</td>\n",
       "      <td>0.205607</td>\n",
       "    </tr>\n",
       "  </tbody>\n",
       "</table>\n",
       "</div>"
      ],
      "text/plain": [
       "       No_Diploma  High_School   Associates    Bachelors     Graduate  \\\n",
       "State                                                                   \n",
       "IL     187.089756   830.026700   262.447380   786.850936   519.176235   \n",
       "IN     265.508405  1279.591950   353.375271   797.920267   460.161553   \n",
       "KY     733.347486  3495.844664  1119.293363  2620.496888  1724.299984   \n",
       "MI     214.131825  1028.379195   343.230418   715.680384   474.888487   \n",
       "OH     210.604477  1038.576454   287.186459   655.534152   402.918733   \n",
       "WI     157.780984   959.744903   353.836760   756.116606   397.951083   \n",
       "\n",
       "       Foreign_Born   Less_TenK  Ten_to_Fifteen  Fifteen_to_TwentyFive  \\\n",
       "State                                                                    \n",
       "IL       789.918890  111.917844       64.922018             143.625536   \n",
       "IN       402.956904  151.879903       92.935628             220.563585   \n",
       "KY      1374.211643  461.805614      308.374359             711.271806   \n",
       "MI       429.623361  131.656776       83.770486             184.245905   \n",
       "OH       266.082371  129.310654       85.672155             187.812459   \n",
       "WI       294.116563   88.718153       77.648161             163.555741   \n",
       "\n",
       "       TwentyFive_to_ThirtyFive  ThirtyFive_to_Fifty  Fifty_to_SeventyFive  \\\n",
       "State                                                                        \n",
       "IL                   144.605317           206.251374            304.390873   \n",
       "IN                   226.301788           323.373954            451.431562   \n",
       "KY                   699.072561           981.872423           1432.877195   \n",
       "MI                   203.405038           275.116177            390.374796   \n",
       "OH                   190.030550           252.239590            367.141779   \n",
       "WI                   168.526088           260.156197            372.900167   \n",
       "\n",
       "       SeventyFive_to_Hundred  Hundred_to_HundredFifty  \\\n",
       "State                                                    \n",
       "IL                 241.936868               328.145273   \n",
       "IN                 296.725424               356.211689   \n",
       "KY                 982.217250              1116.986278   \n",
       "MI                 282.965631               322.233958   \n",
       "OH                 253.398914               289.589552   \n",
       "WI                 279.015813               347.371776   \n",
       "\n",
       "       HundredFifty_to_TwoHundred  Above_TwoHundred  Below_Poverty_Level  \\\n",
       "State                                                                      \n",
       "IL                     158.137270        189.584795             0.124720   \n",
       "IN                     138.901362        127.276812             0.406000   \n",
       "KY                     437.674449        423.063660             1.445579   \n",
       "MI                     136.258219        134.065543             0.227172   \n",
       "OH                     117.504844        116.567989             0.251006   \n",
       "WI                     134.320712        115.564528             0.235537   \n",
       "\n",
       "       population  Average_Cases  Average_Deaths  \n",
       "State                                             \n",
       "IL       100000.0      31.551402        0.252336  \n",
       "IN       100000.0      33.093458        0.345794  \n",
       "KY       100000.0      36.467290        0.392523  \n",
       "MI       100000.0      30.635514        0.355140  \n",
       "OH       100000.0      30.037383        0.355140  \n",
       "WI       100000.0      35.579439        0.205607  "
      ]
     },
     "execution_count": 54,
     "metadata": {},
     "output_type": "execute_result"
    }
   ],
   "source": [
    "enrich_with_pop['Average_Deaths']=[confirmed[confirmed[\"State\"].isin([\"Illinois\"])].New_Deaths_per_100000.mean(),\n",
    "                                  confirmed[confirmed[\"State\"].isin([\"Indiana\"])].New_Deaths_per_100000.mean(),\n",
    "                                 confirmed[confirmed[\"State\"].isin([\"Kentucky\"])].New_Deaths_per_100000.mean(),\n",
    "                                 confirmed[confirmed[\"State\"].isin([\"Michigan\"])].New_Deaths_per_100000.mean(),\n",
    "                                 confirmed[confirmed[\"State\"].isin([\"Ohio\"])].New_Deaths_per_100000.mean(),\n",
    "                                 confirmed[confirmed[\"State\"].isin([\"Wisconsin\"])].New_Deaths_per_100000.mean()]\n",
    "enrich_with_pop"
   ]
  },
  {
   "cell_type": "markdown",
   "id": "1aed6f6e",
   "metadata": {},
   "source": [
    "We now have what we need to run correlations between COVID cases and our other variables. "
   ]
  },
  {
   "cell_type": "code",
   "execution_count": 79,
   "id": "f36766ff",
   "metadata": {},
   "outputs": [
    {
     "data": {
      "text/plain": [
       "0.6103630991248872"
      ]
     },
     "execution_count": 79,
     "metadata": {},
     "output_type": "execute_result"
    }
   ],
   "source": [
    "enrich_with_pop.No_Diploma.corr(enrich_with_pop.Average_Cases)"
   ]
  },
  {
   "cell_type": "code",
   "execution_count": 80,
   "id": "8db62a80",
   "metadata": {},
   "outputs": [
    {
     "data": {
      "text/plain": [
       "0.6613117505761615"
      ]
     },
     "execution_count": 80,
     "metadata": {},
     "output_type": "execute_result"
    }
   ],
   "source": [
    "enrich_with_pop.High_School.corr(enrich_with_pop.Average_Cases)"
   ]
  },
  {
   "cell_type": "code",
   "execution_count": 81,
   "id": "eb6d703a",
   "metadata": {},
   "outputs": [
    {
     "data": {
      "text/plain": [
       "0.7061000177989507"
      ]
     },
     "execution_count": 81,
     "metadata": {},
     "output_type": "execute_result"
    }
   ],
   "source": [
    "enrich_with_pop.Associates.corr(enrich_with_pop.Average_Cases)"
   ]
  },
  {
   "cell_type": "code",
   "execution_count": 82,
   "id": "83875caf",
   "metadata": {},
   "outputs": [
    {
     "data": {
      "text/plain": [
       "0.6884897674974262"
      ]
     },
     "execution_count": 82,
     "metadata": {},
     "output_type": "execute_result"
    }
   ],
   "source": [
    "enrich_with_pop.Bachelors.corr(enrich_with_pop.Average_Cases)"
   ]
  },
  {
   "cell_type": "code",
   "execution_count": 83,
   "id": "9cbdc638",
   "metadata": {},
   "outputs": [
    {
     "data": {
      "text/plain": [
       "0.6367917626389843"
      ]
     },
     "execution_count": 83,
     "metadata": {},
     "output_type": "execute_result"
    }
   ],
   "source": [
    "enrich_with_pop.Graduate.corr(enrich_with_pop.Average_Cases)"
   ]
  },
  {
   "cell_type": "code",
   "execution_count": 84,
   "id": "3925494a",
   "metadata": {},
   "outputs": [
    {
     "data": {
      "text/plain": [
       "0.5296340209161198"
      ]
     },
     "execution_count": 84,
     "metadata": {},
     "output_type": "execute_result"
    }
   ],
   "source": [
    "enrich_with_pop.Foreign_Born.corr(enrich_with_pop.Average_Cases)"
   ]
  },
  {
   "cell_type": "code",
   "execution_count": 61,
   "id": "bd11a6c1",
   "metadata": {},
   "outputs": [
    {
     "data": {
      "text/plain": [
       "0.5938844664955983"
      ]
     },
     "execution_count": 61,
     "metadata": {},
     "output_type": "execute_result"
    }
   ],
   "source": [
    "enrich_with_pop.Less_TenK.corr(enrich_with_pop.Average_Cases)"
   ]
  },
  {
   "cell_type": "code",
   "execution_count": 62,
   "id": "bbe3f13b",
   "metadata": {},
   "outputs": [
    {
     "data": {
      "text/plain": [
       "0.6536988872295957"
      ]
     },
     "execution_count": 62,
     "metadata": {},
     "output_type": "execute_result"
    }
   ],
   "source": [
    "enrich_with_pop.Ten_to_Fifteen.corr(enrich_with_pop.Average_Cases)"
   ]
  },
  {
   "cell_type": "code",
   "execution_count": 63,
   "id": "cdf2b8db",
   "metadata": {},
   "outputs": [
    {
     "data": {
      "text/plain": [
       "0.6495671519556262"
      ]
     },
     "execution_count": 63,
     "metadata": {},
     "output_type": "execute_result"
    }
   ],
   "source": [
    "enrich_with_pop.Fifteen_to_TwentyFive.corr(enrich_with_pop.Average_Cases)"
   ]
  },
  {
   "cell_type": "code",
   "execution_count": 64,
   "id": "31e765d4",
   "metadata": {},
   "outputs": [
    {
     "data": {
      "text/plain": [
       "0.6434698179532905"
      ]
     },
     "execution_count": 64,
     "metadata": {},
     "output_type": "execute_result"
    }
   ],
   "source": [
    "enrich_with_pop.TwentyFive_to_ThirtyFive.corr(enrich_with_pop.Average_Cases)"
   ]
  },
  {
   "cell_type": "code",
   "execution_count": 65,
   "id": "7f958d83",
   "metadata": {},
   "outputs": [
    {
     "data": {
      "text/plain": [
       "0.6772579931970261"
      ]
     },
     "execution_count": 65,
     "metadata": {},
     "output_type": "execute_result"
    }
   ],
   "source": [
    "enrich_with_pop.ThirtyFive_to_Fifty.corr(enrich_with_pop.Average_Cases)"
   ]
  },
  {
   "cell_type": "code",
   "execution_count": 66,
   "id": "6180471b",
   "metadata": {},
   "outputs": [
    {
     "data": {
      "text/plain": [
       "0.6743710419959015"
      ]
     },
     "execution_count": 66,
     "metadata": {},
     "output_type": "execute_result"
    }
   ],
   "source": [
    "enrich_with_pop.Fifty_to_SeventyFive.corr(enrich_with_pop.Average_Cases)"
   ]
  },
  {
   "cell_type": "code",
   "execution_count": 67,
   "id": "e97765eb",
   "metadata": {},
   "outputs": [
    {
     "data": {
      "text/plain": [
       "0.6821505961209128"
      ]
     },
     "execution_count": 67,
     "metadata": {},
     "output_type": "execute_result"
    }
   ],
   "source": [
    "enrich_with_pop.SeventyFive_to_Hundred.corr(enrich_with_pop.Average_Cases)"
   ]
  },
  {
   "cell_type": "code",
   "execution_count": 68,
   "id": "ad7214ff",
   "metadata": {},
   "outputs": [
    {
     "data": {
      "text/plain": [
       "0.7019048276548373"
      ]
     },
     "execution_count": 68,
     "metadata": {},
     "output_type": "execute_result"
    }
   ],
   "source": [
    "enrich_with_pop.Hundred_to_HundredFifty.corr(enrich_with_pop.Average_Cases)"
   ]
  },
  {
   "cell_type": "code",
   "execution_count": 69,
   "id": "12842d3e",
   "metadata": {},
   "outputs": [
    {
     "data": {
      "text/plain": [
       "0.6708134185108866"
      ]
     },
     "execution_count": 69,
     "metadata": {},
     "output_type": "execute_result"
    }
   ],
   "source": [
    "enrich_with_pop.HundredFifty_to_TwoHundred.corr(enrich_with_pop.Average_Cases)"
   ]
  },
  {
   "cell_type": "code",
   "execution_count": 70,
   "id": "41750ccb",
   "metadata": {},
   "outputs": [
    {
     "data": {
      "text/plain": [
       "0.6016568374001139"
      ]
     },
     "execution_count": 70,
     "metadata": {},
     "output_type": "execute_result"
    }
   ],
   "source": [
    "enrich_with_pop.Above_TwoHundred.corr(enrich_with_pop.Average_Cases)"
   ]
  },
  {
   "cell_type": "code",
   "execution_count": 71,
   "id": "31d0be64",
   "metadata": {},
   "outputs": [
    {
     "data": {
      "text/plain": [
       "0.6810222004370154"
      ]
     },
     "execution_count": 71,
     "metadata": {},
     "output_type": "execute_result"
    }
   ],
   "source": [
    "enrich_with_pop.Below_Poverty_Level.corr(enrich_with_pop.Average_Cases)"
   ]
  },
  {
   "cell_type": "markdown",
   "id": "68d669fc",
   "metadata": {},
   "source": [
    "There's a lot to look at, but it's unfortunately not that useful. Pretty much every one of these variables has a correlation between 0.6 and 0.7. In particular, it's unfortunate to see that none of the salary ranges provide any meaningful differences from one another. Basically as each variable increases, so do COVID cases in a similar manner. This could potentially be due to how everything is connected to population. More population, more cases. Checking for deaths, the Foreign Born variable does show a bit of a difference:"
   ]
  },
  {
   "cell_type": "code",
   "execution_count": 72,
   "id": "e01040f2",
   "metadata": {},
   "outputs": [
    {
     "data": {
      "text/plain": [
       "0.5296340209161198"
      ]
     },
     "execution_count": 72,
     "metadata": {},
     "output_type": "execute_result"
    }
   ],
   "source": [
    "enrich_with_pop.Foreign_Born.corr(enrich_with_pop.Average_Cases)"
   ]
  },
  {
   "cell_type": "code",
   "execution_count": 73,
   "id": "cf100c51",
   "metadata": {},
   "outputs": [
    {
     "data": {
      "text/plain": [
       "0.360272752798273"
      ]
     },
     "execution_count": 73,
     "metadata": {},
     "output_type": "execute_result"
    }
   ],
   "source": [
    "enrich_with_pop.Foreign_Born.corr(enrich_with_pop.Average_Deaths)"
   ]
  },
  {
   "cell_type": "markdown",
   "id": "e0217bd8",
   "metadata": {},
   "source": [
    "This is the lowest correlation of all the variables with COVID. While still positive, it does indicate that higher number of foreign born residents does not have that much of an impact on COVID deaths. The different degrees being held do have some insights as well, when correlated with deaths:"
   ]
  },
  {
   "cell_type": "code",
   "execution_count": 74,
   "id": "5e2a0acd",
   "metadata": {},
   "outputs": [
    {
     "data": {
      "text/plain": [
       "0.613710273527702"
      ]
     },
     "execution_count": 74,
     "metadata": {},
     "output_type": "execute_result"
    }
   ],
   "source": [
    "enrich_with_pop.No_Diploma.corr(enrich_with_pop.Average_Deaths)"
   ]
  },
  {
   "cell_type": "code",
   "execution_count": 75,
   "id": "acd4ae21",
   "metadata": {},
   "outputs": [
    {
     "data": {
      "text/plain": [
       "0.578636547872905"
      ]
     },
     "execution_count": 75,
     "metadata": {},
     "output_type": "execute_result"
    }
   ],
   "source": [
    "enrich_with_pop.High_School.corr(enrich_with_pop.Average_Deaths)"
   ]
  },
  {
   "cell_type": "code",
   "execution_count": 76,
   "id": "bc6c34b5",
   "metadata": {},
   "outputs": [
    {
     "data": {
      "text/plain": [
       "0.5088994342175779"
      ]
     },
     "execution_count": 76,
     "metadata": {},
     "output_type": "execute_result"
    }
   ],
   "source": [
    "enrich_with_pop.Associates.corr(enrich_with_pop.Average_Deaths)"
   ]
  },
  {
   "cell_type": "code",
   "execution_count": 77,
   "id": "d0efad31",
   "metadata": {},
   "outputs": [
    {
     "data": {
      "text/plain": [
       "0.4807629134785012"
      ]
     },
     "execution_count": 77,
     "metadata": {},
     "output_type": "execute_result"
    }
   ],
   "source": [
    "enrich_with_pop.Bachelors.corr(enrich_with_pop.Average_Deaths)"
   ]
  },
  {
   "cell_type": "code",
   "execution_count": 78,
   "id": "c6916451",
   "metadata": {},
   "outputs": [
    {
     "data": {
      "text/plain": [
       "0.5101905630775523"
      ]
     },
     "execution_count": 78,
     "metadata": {},
     "output_type": "execute_result"
    }
   ],
   "source": [
    "enrich_with_pop.Graduate.corr(enrich_with_pop.Average_Deaths)"
   ]
  },
  {
   "cell_type": "markdown",
   "id": "b7606895",
   "metadata": {},
   "source": [
    "While the correlations are still relatively strongly positive, the strengths definitely decreases as the degree gets more advanced (though graduates go back up a bit). This could be a signal that something can be found here. I think next steps would be to focus on a few variables, and expand the number of states. Adding more states could lead to more relevant and accurate relationships (or lack thereof) between variables and COVID."
   ]
  },
  {
   "cell_type": "markdown",
   "id": "bb158a79",
   "metadata": {},
   "source": [
    "Hypothesis 1: Does an increase in foreign born residents lead to higher counts of COVID cases or deaths?"
   ]
  },
  {
   "cell_type": "markdown",
   "id": "fdbcfb52",
   "metadata": {},
   "source": [
    "Hypothesis 2: Does having a higher number of residents with no diploma lead to higher counts of COVID cases or deaths?"
   ]
  },
  {
   "cell_type": "markdown",
   "id": "2e439cbb",
   "metadata": {},
   "source": [
    "Hypothesis 2: Does having a higher number of residents with a Bachelor's degree lead to higher counts of COVID cases or deaths?"
   ]
  },
  {
   "cell_type": "code",
   "execution_count": null,
   "id": "f3d2a7b3",
   "metadata": {},
   "outputs": [],
   "source": []
  }
 ],
 "metadata": {
  "kernelspec": {
   "display_name": "Python 3 (ipykernel)",
   "language": "python",
   "name": "python3"
  },
  "language_info": {
   "codemirror_mode": {
    "name": "ipython",
    "version": 3
   },
   "file_extension": ".py",
   "mimetype": "text/x-python",
   "name": "python",
   "nbconvert_exporter": "python",
   "pygments_lexer": "ipython3",
   "version": "3.9.7"
  }
 },
 "nbformat": 4,
 "nbformat_minor": 5
}
